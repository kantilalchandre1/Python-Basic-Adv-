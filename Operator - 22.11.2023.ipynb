{
 "cells": [
  {
   "cell_type": "code",
   "execution_count": null,
   "id": "341028e7",
   "metadata": {},
   "outputs": [],
   "source": [
    "Operators in Python:\n",
    "\n",
    "    Operator\n",
    "    \n",
    "    10+56\n",
    "    \n",
    "    symbol -- type of operation on operands\n",
    "    \n",
    "    1.Arithmetic Operators  --> +,-,*,/,//,**,%\n",
    "    2.Conditional/comparision Operators >,<,<=,>=,!=,==\n",
    "    3.logical operator and ,or,not\n",
    "    4.membership operators in, not in\n",
    "    5.assigment operator =,+=,-=,*=......\n",
    "    6.identity operator -->\n",
    "    7.bitwise operator/shift operator\n",
    "    8.ternary operator (after lambda expression)"
   ]
  },
  {
   "cell_type": "code",
   "execution_count": 15,
   "id": "354285f3",
   "metadata": {},
   "outputs": [],
   "source": [
    "Arithmetic Operator\n",
    " \n",
    "+ addition/concat\n",
    "*\n",
    "-\n",
    "\n",
    "/  division\n",
    "\n",
    "% - modulous\n",
    "// - floor division\n",
    "** - exponent"
   ]
  },
  {
   "cell_type": "code",
   "execution_count": null,
   "id": "aea7bbfd",
   "metadata": {},
   "outputs": [],
   "source": [
    "+\n",
    "\n",
    "int/float + int/float -- addition\n",
    "\n",
    "str + str -->concat\n",
    "\n",
    "\n",
    "* \n",
    "\n",
    "str*int --> duplication/repeatation\n",
    "int*int --> multiplication\n"
   ]
  },
  {
   "cell_type": "code",
   "execution_count": 16,
   "id": "5624a7b7",
   "metadata": {},
   "outputs": [
    {
     "data": {
      "text/plain": [
       "20"
      ]
     },
     "execution_count": 16,
     "metadata": {},
     "output_type": "execute_result"
    }
   ],
   "source": [
    "4*5"
   ]
  },
  {
   "cell_type": "code",
   "execution_count": 17,
   "id": "0a8f3101",
   "metadata": {},
   "outputs": [
    {
     "data": {
      "text/plain": [
       "'PythonPython'"
      ]
     },
     "execution_count": 17,
     "metadata": {},
     "output_type": "execute_result"
    }
   ],
   "source": [
    "'Python'*2"
   ]
  },
  {
   "cell_type": "code",
   "execution_count": 18,
   "id": "32f98c67",
   "metadata": {},
   "outputs": [
    {
     "ename": "TypeError",
     "evalue": "can't multiply sequence by non-int of type 'str'",
     "output_type": "error",
     "traceback": [
      "\u001b[1;31m---------------------------------------------------------------------------\u001b[0m",
      "\u001b[1;31mTypeError\u001b[0m                                 Traceback (most recent call last)",
      "\u001b[1;32m<ipython-input-18-31ea0bffafd0>\u001b[0m in \u001b[0;36m<module>\u001b[1;34m\u001b[0m\n\u001b[1;32m----> 1\u001b[1;33m \u001b[1;34m'Python'\u001b[0m\u001b[1;33m*\u001b[0m \u001b[1;34m'Java'\u001b[0m\u001b[1;33m\u001b[0m\u001b[1;33m\u001b[0m\u001b[0m\n\u001b[0m",
      "\u001b[1;31mTypeError\u001b[0m: can't multiply sequence by non-int of type 'str'"
     ]
    }
   ],
   "source": [
    "'Python'* 'Java'"
   ]
  },
  {
   "cell_type": "code",
   "execution_count": null,
   "id": "af83f8aa",
   "metadata": {},
   "outputs": [],
   "source": [
    "RCA --> Issue/Error --> Reason"
   ]
  },
  {
   "cell_type": "code",
   "execution_count": null,
   "id": "69673d98",
   "metadata": {},
   "outputs": [],
   "source": []
  },
  {
   "cell_type": "code",
   "execution_count": 19,
   "id": "cc231ea9",
   "metadata": {},
   "outputs": [
    {
     "data": {
      "text/plain": [
       "1"
      ]
     },
     "execution_count": 19,
     "metadata": {},
     "output_type": "execute_result"
    }
   ],
   "source": [
    "11%2"
   ]
  },
  {
   "cell_type": "code",
   "execution_count": 20,
   "id": "70e8dc66",
   "metadata": {},
   "outputs": [
    {
     "data": {
      "text/plain": [
       "4"
      ]
     },
     "execution_count": 20,
     "metadata": {},
     "output_type": "execute_result"
    }
   ],
   "source": [
    "53%7"
   ]
  },
  {
   "cell_type": "code",
   "execution_count": 21,
   "id": "2080b6e6",
   "metadata": {},
   "outputs": [
    {
     "data": {
      "text/plain": [
       "3.6666666666666665"
      ]
     },
     "execution_count": 21,
     "metadata": {},
     "output_type": "execute_result"
    }
   ],
   "source": [
    "11/3"
   ]
  },
  {
   "cell_type": "code",
   "execution_count": 22,
   "id": "dd167303",
   "metadata": {},
   "outputs": [
    {
     "data": {
      "text/plain": [
       "3"
      ]
     },
     "execution_count": 22,
     "metadata": {},
     "output_type": "execute_result"
    }
   ],
   "source": [
    "11//3"
   ]
  },
  {
   "cell_type": "code",
   "execution_count": 23,
   "id": "2bf40eb6",
   "metadata": {},
   "outputs": [],
   "source": [
    "import math"
   ]
  },
  {
   "cell_type": "code",
   "execution_count": 24,
   "id": "92e37133",
   "metadata": {},
   "outputs": [
    {
     "data": {
      "text/plain": [
       "4"
      ]
     },
     "execution_count": 24,
     "metadata": {},
     "output_type": "execute_result"
    }
   ],
   "source": [
    "math.ceil(11/3)"
   ]
  },
  {
   "cell_type": "code",
   "execution_count": 25,
   "id": "c396d9a3",
   "metadata": {},
   "outputs": [
    {
     "data": {
      "text/plain": [
       "1024"
      ]
     },
     "execution_count": 25,
     "metadata": {},
     "output_type": "execute_result"
    }
   ],
   "source": [
    "2**10"
   ]
  },
  {
   "cell_type": "code",
   "execution_count": 27,
   "id": "e2324064",
   "metadata": {},
   "outputs": [
    {
     "data": {
      "text/plain": [
       "16"
      ]
     },
     "execution_count": 27,
     "metadata": {},
     "output_type": "execute_result"
    }
   ],
   "source": [
    "4**2"
   ]
  },
  {
   "cell_type": "code",
   "execution_count": 28,
   "id": "f8fceb48",
   "metadata": {},
   "outputs": [
    {
     "data": {
      "text/plain": [
       "1"
      ]
     },
     "execution_count": 28,
     "metadata": {},
     "output_type": "execute_result"
    }
   ],
   "source": [
    "5%2"
   ]
  },
  {
   "cell_type": "code",
   "execution_count": 29,
   "id": "952059b1",
   "metadata": {},
   "outputs": [
    {
     "data": {
      "text/plain": [
       "2"
      ]
     },
     "execution_count": 29,
     "metadata": {},
     "output_type": "execute_result"
    }
   ],
   "source": [
    "4//2"
   ]
  },
  {
   "cell_type": "code",
   "execution_count": 30,
   "id": "c5d8e999",
   "metadata": {},
   "outputs": [
    {
     "data": {
      "text/plain": [
       "2"
      ]
     },
     "execution_count": 30,
     "metadata": {},
     "output_type": "execute_result"
    }
   ],
   "source": [
    "math.ceil(4/2)"
   ]
  },
  {
   "cell_type": "code",
   "execution_count": 32,
   "id": "c8647f68",
   "metadata": {},
   "outputs": [
    {
     "data": {
      "text/plain": [
       "2"
      ]
     },
     "execution_count": 32,
     "metadata": {},
     "output_type": "execute_result"
    }
   ],
   "source": [
    "5//2"
   ]
  },
  {
   "cell_type": "code",
   "execution_count": 33,
   "id": "41e30746",
   "metadata": {},
   "outputs": [
    {
     "data": {
      "text/plain": [
       "3"
      ]
     },
     "execution_count": 33,
     "metadata": {},
     "output_type": "execute_result"
    }
   ],
   "source": [
    "math.ceil(5/2)"
   ]
  },
  {
   "cell_type": "code",
   "execution_count": null,
   "id": "3230c6b3",
   "metadata": {},
   "outputs": [],
   "source": [
    "#conditional/comparison Operator --> True/False"
   ]
  },
  {
   "cell_type": "code",
   "execution_count": null,
   "id": "daca51a0",
   "metadata": {},
   "outputs": [],
   "source": [
    ">,< >=,<=,!=,=="
   ]
  },
  {
   "cell_type": "code",
   "execution_count": null,
   "id": "c2786f49",
   "metadata": {},
   "outputs": [],
   "source": [
    "Note : bool"
   ]
  },
  {
   "cell_type": "code",
   "execution_count": 1,
   "id": "4d457c34",
   "metadata": {},
   "outputs": [],
   "source": [
    "a = 10"
   ]
  },
  {
   "cell_type": "code",
   "execution_count": 2,
   "id": "da152ebe",
   "metadata": {},
   "outputs": [],
   "source": [
    "b = 6216"
   ]
  },
  {
   "cell_type": "code",
   "execution_count": 3,
   "id": "fb58c9cb",
   "metadata": {},
   "outputs": [
    {
     "data": {
      "text/plain": [
       "False"
      ]
     },
     "execution_count": 3,
     "metadata": {},
     "output_type": "execute_result"
    }
   ],
   "source": [
    "a>b"
   ]
  },
  {
   "cell_type": "code",
   "execution_count": 4,
   "id": "3e6a0647",
   "metadata": {},
   "outputs": [
    {
     "data": {
      "text/plain": [
       "False"
      ]
     },
     "execution_count": 4,
     "metadata": {},
     "output_type": "execute_result"
    }
   ],
   "source": [
    "a>=b"
   ]
  },
  {
   "cell_type": "code",
   "execution_count": 5,
   "id": "6d08e3de",
   "metadata": {},
   "outputs": [
    {
     "data": {
      "text/plain": [
       "True"
      ]
     },
     "execution_count": 5,
     "metadata": {},
     "output_type": "execute_result"
    }
   ],
   "source": [
    "a<=b  # < or ="
   ]
  },
  {
   "cell_type": "code",
   "execution_count": 6,
   "id": "8f8c5d47",
   "metadata": {},
   "outputs": [
    {
     "data": {
      "text/plain": [
       "True"
      ]
     },
     "execution_count": 6,
     "metadata": {},
     "output_type": "execute_result"
    }
   ],
   "source": [
    "a!=b"
   ]
  },
  {
   "cell_type": "code",
   "execution_count": 7,
   "id": "0a0fe895",
   "metadata": {},
   "outputs": [
    {
     "data": {
      "text/plain": [
       "False"
      ]
     },
     "execution_count": 7,
     "metadata": {},
     "output_type": "execute_result"
    }
   ],
   "source": [
    "a==b"
   ]
  },
  {
   "cell_type": "code",
   "execution_count": null,
   "id": "8268c0d2",
   "metadata": {},
   "outputs": [],
   "source": [
    "= vs =="
   ]
  },
  {
   "cell_type": "code",
   "execution_count": null,
   "id": "983cff3d",
   "metadata": {},
   "outputs": [],
   "source": [
    "= -- assigment operator"
   ]
  },
  {
   "cell_type": "code",
   "execution_count": null,
   "id": "f8b63bb1",
   "metadata": {},
   "outputs": [],
   "source": []
  },
  {
   "cell_type": "code",
   "execution_count": 8,
   "id": "f1fcb7a7",
   "metadata": {},
   "outputs": [],
   "source": [
    "filename = 'copper_432434_22.11.2023.csv'"
   ]
  },
  {
   "cell_type": "code",
   "execution_count": 10,
   "id": "f24efcd2",
   "metadata": {},
   "outputs": [
    {
     "data": {
      "text/plain": [
       "True"
      ]
     },
     "execution_count": 10,
     "metadata": {},
     "output_type": "execute_result"
    }
   ],
   "source": [
    "filename.startswith('copper') and filename.endswith('.csv')"
   ]
  },
  {
   "cell_type": "code",
   "execution_count": 9,
   "id": "f4ad3b23",
   "metadata": {},
   "outputs": [],
   "source": [
    "f = 'copper_43534534534csv'"
   ]
  },
  {
   "cell_type": "code",
   "execution_count": null,
   "id": "119c839f",
   "metadata": {},
   "outputs": [],
   "source": [
    "enduser --"
   ]
  },
  {
   "cell_type": "code",
   "execution_count": 16,
   "id": "1507fb74",
   "metadata": {},
   "outputs": [],
   "source": [
    "a = 10"
   ]
  },
  {
   "cell_type": "code",
   "execution_count": 17,
   "id": "4edb4a40",
   "metadata": {},
   "outputs": [],
   "source": [
    "b = 750"
   ]
  },
  {
   "cell_type": "code",
   "execution_count": 18,
   "id": "3463e8d8",
   "metadata": {},
   "outputs": [
    {
     "data": {
      "text/plain": [
       "True"
      ]
     },
     "execution_count": 18,
     "metadata": {},
     "output_type": "execute_result"
    }
   ],
   "source": [
    "a>b or filename.endswith('.pdf') or len(filename)>5"
   ]
  },
  {
   "cell_type": "code",
   "execution_count": 20,
   "id": "55a5b5b9",
   "metadata": {},
   "outputs": [
    {
     "data": {
      "text/plain": [
       "False"
      ]
     },
     "execution_count": 20,
     "metadata": {},
     "output_type": "execute_result"
    }
   ],
   "source": [
    "True and True and True and True and False"
   ]
  },
  {
   "cell_type": "code",
   "execution_count": 23,
   "id": "ad7a4286",
   "metadata": {},
   "outputs": [
    {
     "data": {
      "text/plain": [
       "True"
      ]
     },
     "execution_count": 23,
     "metadata": {},
     "output_type": "execute_result"
    }
   ],
   "source": [
    "False or False or False or False or True"
   ]
  },
  {
   "cell_type": "code",
   "execution_count": 24,
   "id": "686c99dc",
   "metadata": {},
   "outputs": [
    {
     "data": {
      "text/plain": [
       "False"
      ]
     },
     "execution_count": 24,
     "metadata": {},
     "output_type": "execute_result"
    }
   ],
   "source": [
    "not True"
   ]
  },
  {
   "cell_type": "code",
   "execution_count": null,
   "id": "80c6baee",
   "metadata": {},
   "outputs": [],
   "source": [
    "100 -- 95 \n",
    "\n",
    "100 -- product id --> 35 invalid \n",
    "\n",
    "65 one by one\n",
    "\n",
    "100 product id --> 5 invalid \n",
    "\n",
    "not 5 invalid"
   ]
  },
  {
   "cell_type": "code",
   "execution_count": 25,
   "id": "3611eca0",
   "metadata": {},
   "outputs": [
    {
     "data": {
      "text/plain": [
       "False"
      ]
     },
     "execution_count": 25,
     "metadata": {},
     "output_type": "execute_result"
    }
   ],
   "source": [
    "not filename.startswith('copper')"
   ]
  },
  {
   "cell_type": "code",
   "execution_count": 26,
   "id": "7409d651",
   "metadata": {},
   "outputs": [],
   "source": [
    "#Membership operator"
   ]
  },
  {
   "cell_type": "code",
   "execution_count": null,
   "id": "121dcb42",
   "metadata": {},
   "outputs": [],
   "source": [
    "member --> group"
   ]
  },
  {
   "cell_type": "code",
   "execution_count": null,
   "id": "c0addf7a",
   "metadata": {},
   "outputs": [],
   "source": [
    "element --> group --> list,tuple,set,dict,str,frozenset"
   ]
  },
  {
   "cell_type": "code",
   "execution_count": null,
   "id": "52c52f22",
   "metadata": {},
   "outputs": [],
   "source": [
    "in\n",
    "not in"
   ]
  },
  {
   "cell_type": "code",
   "execution_count": 27,
   "id": "6681d987",
   "metadata": {},
   "outputs": [
    {
     "data": {
      "text/plain": [
       "[23, 64, 25, 23, 6453, 50]"
      ]
     },
     "execution_count": 27,
     "metadata": {},
     "output_type": "execute_result"
    }
   ],
   "source": [
    "p"
   ]
  },
  {
   "cell_type": "code",
   "execution_count": 28,
   "id": "78bd4242",
   "metadata": {},
   "outputs": [
    {
     "data": {
      "text/plain": [
       "False"
      ]
     },
     "execution_count": 28,
     "metadata": {},
     "output_type": "execute_result"
    }
   ],
   "source": [
    "100 in p"
   ]
  },
  {
   "cell_type": "code",
   "execution_count": 29,
   "id": "444fbb07",
   "metadata": {},
   "outputs": [
    {
     "data": {
      "text/plain": [
       "True"
      ]
     },
     "execution_count": 29,
     "metadata": {},
     "output_type": "execute_result"
    }
   ],
   "source": [
    "100 not in p"
   ]
  },
  {
   "cell_type": "code",
   "execution_count": 30,
   "id": "43301819",
   "metadata": {},
   "outputs": [
    {
     "data": {
      "text/plain": [
       "True"
      ]
     },
     "execution_count": 30,
     "metadata": {},
     "output_type": "execute_result"
    }
   ],
   "source": [
    "'th' in 'python'"
   ]
  },
  {
   "cell_type": "code",
   "execution_count": 31,
   "id": "477f7a1b",
   "metadata": {},
   "outputs": [],
   "source": [
    "p = {'a':100,'b':25,'c':96}"
   ]
  },
  {
   "cell_type": "code",
   "execution_count": 32,
   "id": "7902d2e2",
   "metadata": {},
   "outputs": [
    {
     "data": {
      "text/plain": [
       "False"
      ]
     },
     "execution_count": 32,
     "metadata": {},
     "output_type": "execute_result"
    }
   ],
   "source": [
    "25 in p"
   ]
  },
  {
   "cell_type": "code",
   "execution_count": 33,
   "id": "ecd71170",
   "metadata": {},
   "outputs": [
    {
     "data": {
      "text/plain": [
       "True"
      ]
     },
     "execution_count": 33,
     "metadata": {},
     "output_type": "execute_result"
    }
   ],
   "source": [
    "'b' in p"
   ]
  },
  {
   "cell_type": "code",
   "execution_count": 34,
   "id": "e23bfd83",
   "metadata": {},
   "outputs": [
    {
     "data": {
      "text/plain": [
       "True"
      ]
     },
     "execution_count": 34,
     "metadata": {},
     "output_type": "execute_result"
    }
   ],
   "source": [
    "25 in p.values()"
   ]
  },
  {
   "cell_type": "code",
   "execution_count": 35,
   "id": "9076d407",
   "metadata": {},
   "outputs": [],
   "source": [
    "test = 45"
   ]
  },
  {
   "cell_type": "code",
   "execution_count": null,
   "id": "639410b9",
   "metadata": {},
   "outputs": [],
   "source": [
    "c,c++,Java\n",
    "i++ post increment\n",
    "++i  preincrement\n",
    "\n",
    "but in python we dont have these operator"
   ]
  },
  {
   "cell_type": "code",
   "execution_count": 39,
   "id": "befa4728",
   "metadata": {},
   "outputs": [],
   "source": [
    "i = 5"
   ]
  },
  {
   "cell_type": "code",
   "execution_count": 40,
   "id": "d8477a83",
   "metadata": {},
   "outputs": [],
   "source": [
    "i+=1 #i=i+1"
   ]
  },
  {
   "cell_type": "code",
   "execution_count": 41,
   "id": "ab564a51",
   "metadata": {},
   "outputs": [
    {
     "data": {
      "text/plain": [
       "6"
      ]
     },
     "execution_count": 41,
     "metadata": {},
     "output_type": "execute_result"
    }
   ],
   "source": [
    "i"
   ]
  },
  {
   "cell_type": "code",
   "execution_count": 42,
   "id": "8e6ce092",
   "metadata": {},
   "outputs": [],
   "source": [
    " i = 100"
   ]
  },
  {
   "cell_type": "code",
   "execution_count": 55,
   "id": "83e49e0a",
   "metadata": {},
   "outputs": [],
   "source": [
    "i+=10"
   ]
  },
  {
   "cell_type": "code",
   "execution_count": 56,
   "id": "fff2a2c2",
   "metadata": {},
   "outputs": [
    {
     "data": {
      "text/plain": [
       "170"
      ]
     },
     "execution_count": 56,
     "metadata": {},
     "output_type": "execute_result"
    }
   ],
   "source": [
    "i"
   ]
  },
  {
   "cell_type": "code",
   "execution_count": 57,
   "id": "7b91964b",
   "metadata": {},
   "outputs": [
    {
     "data": {
      "text/plain": [
       "170"
      ]
     },
     "execution_count": 57,
     "metadata": {},
     "output_type": "execute_result"
    }
   ],
   "source": [
    "i"
   ]
  },
  {
   "cell_type": "code",
   "execution_count": 72,
   "id": "7059b54f",
   "metadata": {},
   "outputs": [],
   "source": [
    "i-=25"
   ]
  },
  {
   "cell_type": "code",
   "execution_count": 73,
   "id": "d227ea66",
   "metadata": {},
   "outputs": [
    {
     "data": {
      "text/plain": [
       "-30"
      ]
     },
     "execution_count": 73,
     "metadata": {},
     "output_type": "execute_result"
    }
   ],
   "source": [
    "i"
   ]
  },
  {
   "cell_type": "code",
   "execution_count": null,
   "id": "3241ba3a",
   "metadata": {},
   "outputs": [],
   "source": [
    "Identity Operator:\n",
    "    is vs =="
   ]
  },
  {
   "cell_type": "code",
   "execution_count": 74,
   "id": "d6a40403",
   "metadata": {},
   "outputs": [],
   "source": [
    "a = 25"
   ]
  },
  {
   "cell_type": "code",
   "execution_count": 75,
   "id": "b0daf4c3",
   "metadata": {},
   "outputs": [],
   "source": [
    "b = 25"
   ]
  },
  {
   "cell_type": "code",
   "execution_count": 76,
   "id": "dea73e54",
   "metadata": {},
   "outputs": [
    {
     "data": {
      "text/plain": [
       "True"
      ]
     },
     "execution_count": 76,
     "metadata": {},
     "output_type": "execute_result"
    }
   ],
   "source": [
    "a==b"
   ]
  },
  {
   "cell_type": "code",
   "execution_count": 77,
   "id": "dd657886",
   "metadata": {},
   "outputs": [
    {
     "data": {
      "text/plain": [
       "True"
      ]
     },
     "execution_count": 77,
     "metadata": {},
     "output_type": "execute_result"
    }
   ],
   "source": [
    "a is b"
   ]
  },
  {
   "cell_type": "code",
   "execution_count": 78,
   "id": "7638e872",
   "metadata": {},
   "outputs": [
    {
     "data": {
      "text/plain": [
       "140725655120432"
      ]
     },
     "execution_count": 78,
     "metadata": {},
     "output_type": "execute_result"
    }
   ],
   "source": [
    "id(a)"
   ]
  },
  {
   "cell_type": "code",
   "execution_count": 79,
   "id": "9568bee2",
   "metadata": {},
   "outputs": [
    {
     "data": {
      "text/plain": [
       "140725655120432"
      ]
     },
     "execution_count": 79,
     "metadata": {},
     "output_type": "execute_result"
    }
   ],
   "source": [
    "id(b)"
   ]
  },
  {
   "cell_type": "code",
   "execution_count": 80,
   "id": "f7e6e845",
   "metadata": {},
   "outputs": [],
   "source": [
    "a = 50000"
   ]
  },
  {
   "cell_type": "code",
   "execution_count": 81,
   "id": "708d3209",
   "metadata": {},
   "outputs": [],
   "source": [
    "b = 50000"
   ]
  },
  {
   "cell_type": "code",
   "execution_count": 82,
   "id": "d7eee3e4",
   "metadata": {},
   "outputs": [
    {
     "data": {
      "text/plain": [
       "True"
      ]
     },
     "execution_count": 82,
     "metadata": {},
     "output_type": "execute_result"
    }
   ],
   "source": [
    "a==b"
   ]
  },
  {
   "cell_type": "code",
   "execution_count": 83,
   "id": "b1db8464",
   "metadata": {},
   "outputs": [
    {
     "data": {
      "text/plain": [
       "False"
      ]
     },
     "execution_count": 83,
     "metadata": {},
     "output_type": "execute_result"
    }
   ],
   "source": [
    "a is b"
   ]
  },
  {
   "cell_type": "code",
   "execution_count": 84,
   "id": "574630ca",
   "metadata": {},
   "outputs": [
    {
     "data": {
      "text/plain": [
       "1937842654064"
      ]
     },
     "execution_count": 84,
     "metadata": {},
     "output_type": "execute_result"
    }
   ],
   "source": [
    "id(a)"
   ]
  },
  {
   "cell_type": "code",
   "execution_count": 85,
   "id": "cc13c05e",
   "metadata": {},
   "outputs": [
    {
     "data": {
      "text/plain": [
       "1937842653200"
      ]
     },
     "execution_count": 85,
     "metadata": {},
     "output_type": "execute_result"
    }
   ],
   "source": [
    "id(b)"
   ]
  },
  {
   "cell_type": "code",
   "execution_count": 86,
   "id": "39898f12",
   "metadata": {},
   "outputs": [],
   "source": [
    "a = 10"
   ]
  },
  {
   "cell_type": "code",
   "execution_count": 87,
   "id": "e5428c3a",
   "metadata": {},
   "outputs": [],
   "source": [
    "b = 10"
   ]
  },
  {
   "cell_type": "code",
   "execution_count": 88,
   "id": "0a5632ce",
   "metadata": {},
   "outputs": [
    {
     "data": {
      "text/plain": [
       "True"
      ]
     },
     "execution_count": 88,
     "metadata": {},
     "output_type": "execute_result"
    }
   ],
   "source": [
    "a is b"
   ]
  },
  {
   "cell_type": "code",
   "execution_count": 89,
   "id": "4ad2ffe1",
   "metadata": {},
   "outputs": [
    {
     "data": {
      "text/plain": [
       "140725655119952"
      ]
     },
     "execution_count": 89,
     "metadata": {},
     "output_type": "execute_result"
    }
   ],
   "source": [
    "id(a)"
   ]
  },
  {
   "cell_type": "code",
   "execution_count": 90,
   "id": "d9722ccb",
   "metadata": {},
   "outputs": [
    {
     "data": {
      "text/plain": [
       "140725655119952"
      ]
     },
     "execution_count": 90,
     "metadata": {},
     "output_type": "execute_result"
    }
   ],
   "source": [
    "id(b)"
   ]
  },
  {
   "cell_type": "code",
   "execution_count": 91,
   "id": "30f7f642",
   "metadata": {},
   "outputs": [],
   "source": [
    "a = 10000"
   ]
  },
  {
   "cell_type": "code",
   "execution_count": 92,
   "id": "df5e6e4c",
   "metadata": {},
   "outputs": [],
   "source": [
    "b = 10000"
   ]
  },
  {
   "cell_type": "code",
   "execution_count": 93,
   "id": "dc5971ca",
   "metadata": {},
   "outputs": [
    {
     "data": {
      "text/plain": [
       "1937846914640"
      ]
     },
     "execution_count": 93,
     "metadata": {},
     "output_type": "execute_result"
    }
   ],
   "source": [
    "id(a)"
   ]
  },
  {
   "cell_type": "code",
   "execution_count": 94,
   "id": "5daa98bb",
   "metadata": {},
   "outputs": [
    {
     "data": {
      "text/plain": [
       "1937846912496"
      ]
     },
     "execution_count": 94,
     "metadata": {},
     "output_type": "execute_result"
    }
   ],
   "source": [
    "id(b)"
   ]
  },
  {
   "cell_type": "code",
   "execution_count": 95,
   "id": "df26d245",
   "metadata": {},
   "outputs": [],
   "source": [
    "a=b=c=50000"
   ]
  },
  {
   "cell_type": "code",
   "execution_count": 96,
   "id": "6a288e89",
   "metadata": {},
   "outputs": [
    {
     "data": {
      "text/plain": [
       "1937846912144"
      ]
     },
     "execution_count": 96,
     "metadata": {},
     "output_type": "execute_result"
    }
   ],
   "source": [
    "id(a)"
   ]
  },
  {
   "cell_type": "code",
   "execution_count": 97,
   "id": "8d0affe7",
   "metadata": {},
   "outputs": [
    {
     "data": {
      "text/plain": [
       "1937846912144"
      ]
     },
     "execution_count": 97,
     "metadata": {},
     "output_type": "execute_result"
    }
   ],
   "source": [
    "id(b)"
   ]
  },
  {
   "cell_type": "code",
   "execution_count": 98,
   "id": "f2d43220",
   "metadata": {},
   "outputs": [
    {
     "data": {
      "text/plain": [
       "1937846912144"
      ]
     },
     "execution_count": 98,
     "metadata": {},
     "output_type": "execute_result"
    }
   ],
   "source": [
    "id(c)"
   ]
  },
  {
   "cell_type": "code",
   "execution_count": null,
   "id": "5f4d4509",
   "metadata": {},
   "outputs": [],
   "source": [
    "numpy --> a = 10  --> 16 --> 32\n",
    "\n",
    "bits 0,1\n",
    "4 bits --quad\n",
    "8bits -- 1byte\n",
    "1024b  - 1KB\n",
    "1024KB - 1MB\n",
    "1024MB - 1GB\n",
    "1024GB - 1TB\n",
    "1024GB - 1PB\n",
    "1024PB - 1EB\n",
    "1024EB - 1ZB\n",
    "1024ZB - 1YB\n",
    "1024YB - 1BB"
   ]
  },
  {
   "cell_type": "code",
   "execution_count": null,
   "id": "07ac9243",
   "metadata": {},
   "outputs": [],
   "source": [
    "copy\n",
    "\n",
    "deep copy\n",
    "shallow copy"
   ]
  },
  {
   "cell_type": "code",
   "execution_count": 99,
   "id": "6e66227d",
   "metadata": {},
   "outputs": [],
   "source": [
    "a = 10"
   ]
  },
  {
   "cell_type": "code",
   "execution_count": 100,
   "id": "4fd401d0",
   "metadata": {},
   "outputs": [],
   "source": [
    "b = 10"
   ]
  },
  {
   "cell_type": "code",
   "execution_count": 101,
   "id": "d0097689",
   "metadata": {},
   "outputs": [],
   "source": [
    "a+=45"
   ]
  },
  {
   "cell_type": "code",
   "execution_count": 102,
   "id": "d692914b",
   "metadata": {},
   "outputs": [
    {
     "data": {
      "text/plain": [
       "55"
      ]
     },
     "execution_count": 102,
     "metadata": {},
     "output_type": "execute_result"
    }
   ],
   "source": [
    "a"
   ]
  },
  {
   "cell_type": "code",
   "execution_count": 103,
   "id": "357c329b",
   "metadata": {},
   "outputs": [
    {
     "data": {
      "text/plain": [
       "10"
      ]
     },
     "execution_count": 103,
     "metadata": {},
     "output_type": "execute_result"
    }
   ],
   "source": [
    "b"
   ]
  },
  {
   "cell_type": "code",
   "execution_count": 104,
   "id": "86a533f3",
   "metadata": {},
   "outputs": [],
   "source": [
    "a=b=10"
   ]
  },
  {
   "cell_type": "code",
   "execution_count": 105,
   "id": "b92a175c",
   "metadata": {},
   "outputs": [],
   "source": [
    "a+=60"
   ]
  },
  {
   "cell_type": "code",
   "execution_count": 106,
   "id": "e13b0b15",
   "metadata": {},
   "outputs": [
    {
     "data": {
      "text/plain": [
       "70"
      ]
     },
     "execution_count": 106,
     "metadata": {},
     "output_type": "execute_result"
    }
   ],
   "source": [
    "a"
   ]
  },
  {
   "cell_type": "code",
   "execution_count": 107,
   "id": "2c82ae83",
   "metadata": {},
   "outputs": [
    {
     "data": {
      "text/plain": [
       "10"
      ]
     },
     "execution_count": 107,
     "metadata": {},
     "output_type": "execute_result"
    }
   ],
   "source": [
    "b"
   ]
  },
  {
   "cell_type": "code",
   "execution_count": 108,
   "id": "0ab7c0e9",
   "metadata": {},
   "outputs": [],
   "source": [
    "a = 450"
   ]
  },
  {
   "cell_type": "code",
   "execution_count": 109,
   "id": "47418d12",
   "metadata": {},
   "outputs": [],
   "source": [
    "b =a"
   ]
  },
  {
   "cell_type": "code",
   "execution_count": 110,
   "id": "ed27b3a9",
   "metadata": {},
   "outputs": [],
   "source": [
    "b = 100"
   ]
  },
  {
   "cell_type": "code",
   "execution_count": 111,
   "id": "ea08b71f",
   "metadata": {},
   "outputs": [
    {
     "data": {
      "text/plain": [
       "450"
      ]
     },
     "execution_count": 111,
     "metadata": {},
     "output_type": "execute_result"
    }
   ],
   "source": [
    "a"
   ]
  },
  {
   "cell_type": "code",
   "execution_count": 112,
   "id": "632e092b",
   "metadata": {},
   "outputs": [],
   "source": [
    "p = [1,2,3]"
   ]
  },
  {
   "cell_type": "code",
   "execution_count": 113,
   "id": "1c41a619",
   "metadata": {},
   "outputs": [],
   "source": [
    "q = p  # shallow copy"
   ]
  },
  {
   "cell_type": "code",
   "execution_count": 114,
   "id": "bbba9f2f",
   "metadata": {},
   "outputs": [
    {
     "data": {
      "text/plain": [
       "[1, 2, 3]"
      ]
     },
     "execution_count": 114,
     "metadata": {},
     "output_type": "execute_result"
    }
   ],
   "source": [
    "p"
   ]
  },
  {
   "cell_type": "code",
   "execution_count": 115,
   "id": "6771d417",
   "metadata": {},
   "outputs": [
    {
     "data": {
      "text/plain": [
       "[1, 2, 3]"
      ]
     },
     "execution_count": 115,
     "metadata": {},
     "output_type": "execute_result"
    }
   ],
   "source": [
    "q"
   ]
  },
  {
   "cell_type": "code",
   "execution_count": 116,
   "id": "17365c4b",
   "metadata": {},
   "outputs": [],
   "source": [
    "q.append(100)"
   ]
  },
  {
   "cell_type": "code",
   "execution_count": 117,
   "id": "9a100b19",
   "metadata": {},
   "outputs": [
    {
     "data": {
      "text/plain": [
       "[1, 2, 3, 100]"
      ]
     },
     "execution_count": 117,
     "metadata": {},
     "output_type": "execute_result"
    }
   ],
   "source": [
    "q"
   ]
  },
  {
   "cell_type": "code",
   "execution_count": 118,
   "id": "c5492537",
   "metadata": {},
   "outputs": [
    {
     "data": {
      "text/plain": [
       "[1, 2, 3, 100]"
      ]
     },
     "execution_count": 118,
     "metadata": {},
     "output_type": "execute_result"
    }
   ],
   "source": [
    "p"
   ]
  },
  {
   "cell_type": "code",
   "execution_count": null,
   "id": "4e301ca1",
   "metadata": {},
   "outputs": [],
   "source": []
  },
  {
   "cell_type": "code",
   "execution_count": null,
   "id": "e0dc7af5",
   "metadata": {},
   "outputs": [],
   "source": [
    "bitwise operator &,|"
   ]
  },
  {
   "cell_type": "code",
   "execution_count": 119,
   "id": "1686a046",
   "metadata": {},
   "outputs": [
    {
     "data": {
      "text/plain": [
       "8"
      ]
     },
     "execution_count": 119,
     "metadata": {},
     "output_type": "execute_result"
    }
   ],
   "source": [
    "45 & 10"
   ]
  },
  {
   "cell_type": "code",
   "execution_count": 120,
   "id": "733f95cf",
   "metadata": {},
   "outputs": [
    {
     "data": {
      "text/plain": [
       "29"
      ]
     },
     "execution_count": 120,
     "metadata": {},
     "output_type": "execute_result"
    }
   ],
   "source": [
    "25 | 4"
   ]
  },
  {
   "cell_type": "code",
   "execution_count": null,
   "id": "d6df956e",
   "metadata": {},
   "outputs": [],
   "source": [
    "control statement\n",
    "loop statement\n",
    "function"
   ]
  },
  {
   "cell_type": "code",
   "execution_count": null,
   "id": "56e2a147",
   "metadata": {},
   "outputs": [],
   "source": [
    "1 -- True"
   ]
  },
  {
   "cell_type": "code",
   "execution_count": 137,
   "id": "d3536ef0",
   "metadata": {},
   "outputs": [],
   "source": [
    "n = 5"
   ]
  },
  {
   "cell_type": "code",
   "execution_count": 138,
   "id": "02ece5f6",
   "metadata": {},
   "outputs": [
    {
     "name": "stdout",
     "output_type": "stream",
     "text": [
      "in else\n"
     ]
    }
   ],
   "source": [
    "if n & 1==0:\n",
    "    print(\"even\")\n",
    "else:\n",
    "    print(\"odd\")"
   ]
  },
  {
   "cell_type": "code",
   "execution_count": 125,
   "id": "2c1f5893",
   "metadata": {},
   "outputs": [
    {
     "name": "stdout",
     "output_type": "stream",
     "text": [
      "true\n"
     ]
    }
   ],
   "source": [
    "if 1:\n",
    "    print(\"true\")\n",
    "else:\n",
    "    print(\"esle\")"
   ]
  },
  {
   "cell_type": "code",
   "execution_count": null,
   "id": "60d9c509",
   "metadata": {},
   "outputs": [],
   "source": [
    "5 - 0101\n",
    "1   0001\n",
    "     0 0 0 1 --> 1 "
   ]
  },
  {
   "cell_type": "code",
   "execution_count": null,
   "id": "f5976470",
   "metadata": {},
   "outputs": [],
   "source": [
    "6 - 0110\n",
    "1   0001\n",
    "    0000  -- 0 even "
   ]
  },
  {
   "cell_type": "code",
   "execution_count": null,
   "id": "284ca440",
   "metadata": {},
   "outputs": [],
   "source": []
  },
  {
   "cell_type": "code",
   "execution_count": null,
   "id": "f065c08d",
   "metadata": {},
   "outputs": [],
   "source": []
  },
  {
   "cell_type": "code",
   "execution_count": null,
   "id": "b36bcf74",
   "metadata": {},
   "outputs": [],
   "source": [
    "10 - 1010\n",
    "1    0001 -- 0"
   ]
  },
  {
   "cell_type": "code",
   "execution_count": null,
   "id": "fc75916c",
   "metadata": {},
   "outputs": [],
   "source": []
  },
  {
   "cell_type": "code",
   "execution_count": null,
   "id": "3a70e848",
   "metadata": {},
   "outputs": [],
   "source": []
  }
 ],
 "metadata": {
  "kernelspec": {
   "display_name": "Python 3",
   "language": "python",
   "name": "python3"
  },
  "language_info": {
   "codemirror_mode": {
    "name": "ipython",
    "version": 3
   },
   "file_extension": ".py",
   "mimetype": "text/x-python",
   "name": "python",
   "nbconvert_exporter": "python",
   "pygments_lexer": "ipython3",
   "version": "3.8.8"
  }
 },
 "nbformat": 4,
 "nbformat_minor": 5
}
