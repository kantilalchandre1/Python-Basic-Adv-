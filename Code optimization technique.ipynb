{
 "cells": [
  {
   "cell_type": "code",
   "execution_count": 1,
   "id": "be59dc11",
   "metadata": {},
   "outputs": [],
   "source": [
    "#comprehension technique"
   ]
  },
  {
   "cell_type": "code",
   "execution_count": null,
   "id": "68857168",
   "metadata": {},
   "outputs": [],
   "source": [
    "iterate check condition in one line"
   ]
  },
  {
   "cell_type": "code",
   "execution_count": 2,
   "id": "0cbe6cae",
   "metadata": {},
   "outputs": [],
   "source": [
    "1.list comprehension --> list\n",
    "2.dict comprehension\n",
    "3.tuple comprehension -- not possible --> generator object"
   ]
  },
  {
   "cell_type": "code",
   "execution_count": null,
   "id": "61fc44cf",
   "metadata": {},
   "outputs": [],
   "source": [
    "output = [var for var in seq if condition]"
   ]
  },
  {
   "cell_type": "code",
   "execution_count": null,
   "id": "febdc009",
   "metadata": {},
   "outputs": [],
   "source": [
    "loop + single condition check [if -else not allowed] only simple if"
   ]
  },
  {
   "cell_type": "code",
   "execution_count": 3,
   "id": "eafe595f",
   "metadata": {},
   "outputs": [],
   "source": [
    "p = [34,78,634,8,74,5,867,45,876,45,86,45]\n",
    "even = []\n",
    "for i in p:\n",
    "    if i%2==0:\n",
    "        even.append(i)"
   ]
  },
  {
   "cell_type": "code",
   "execution_count": 4,
   "id": "51346a23",
   "metadata": {},
   "outputs": [
    {
     "data": {
      "text/plain": [
       "[34, 78, 634, 8, 74, 876, 86]"
      ]
     },
     "execution_count": 4,
     "metadata": {},
     "output_type": "execute_result"
    }
   ],
   "source": [
    "even"
   ]
  },
  {
   "cell_type": "code",
   "execution_count": 5,
   "id": "e895bfca",
   "metadata": {},
   "outputs": [],
   "source": [
    "even_list_com = [var for var in p if var%2==0]"
   ]
  },
  {
   "cell_type": "code",
   "execution_count": 6,
   "id": "97df70a7",
   "metadata": {},
   "outputs": [
    {
     "data": {
      "text/plain": [
       "[34, 78, 634, 8, 74, 876, 86]"
      ]
     },
     "execution_count": 6,
     "metadata": {},
     "output_type": "execute_result"
    }
   ],
   "source": [
    "even_list_com"
   ]
  },
  {
   "cell_type": "code",
   "execution_count": null,
   "id": "9457f298",
   "metadata": {},
   "outputs": [],
   "source": [
    "even = [i for i in p if i%2==0]        "
   ]
  },
  {
   "cell_type": "code",
   "execution_count": 8,
   "id": "f36560db",
   "metadata": {},
   "outputs": [],
   "source": [
    "p = ['asdfasdf',546456,6546,876,345,876,34,856,'sdfg','fdg','sdgfd',54457546]"
   ]
  },
  {
   "cell_type": "code",
   "execution_count": 9,
   "id": "9366c25a",
   "metadata": {},
   "outputs": [
    {
     "data": {
      "text/plain": [
       "[546456, 6546, 876, 345, 876, 34, 856, 54457546]"
      ]
     },
     "execution_count": 9,
     "metadata": {},
     "output_type": "execute_result"
    }
   ],
   "source": [
    "[i for i in p if type(i)==int]"
   ]
  },
  {
   "cell_type": "code",
   "execution_count": 10,
   "id": "cea29e73",
   "metadata": {},
   "outputs": [
    {
     "data": {
      "text/plain": [
       "[546456, 6546, 876, 345, 876, 34, 856, 54457546]"
      ]
     },
     "execution_count": 10,
     "metadata": {},
     "output_type": "execute_result"
    }
   ],
   "source": [
    "[i for i in p if str(i).isnumeric()]"
   ]
  },
  {
   "cell_type": "code",
   "execution_count": 11,
   "id": "226ac9ec",
   "metadata": {},
   "outputs": [
    {
     "data": {
      "text/plain": [
       "[546456, 6546, 876, 345, 876, 34, 856, 54457546]"
      ]
     },
     "execution_count": 11,
     "metadata": {},
     "output_type": "execute_result"
    }
   ],
   "source": [
    "[i for i in p if isinstance(i,int)]"
   ]
  },
  {
   "cell_type": "code",
   "execution_count": 12,
   "id": "8f8134c0",
   "metadata": {},
   "outputs": [],
   "source": [
    "p = ['python','java','hadoop','pyspark','ml']"
   ]
  },
  {
   "cell_type": "code",
   "execution_count": 13,
   "id": "bffa4b51",
   "metadata": {},
   "outputs": [
    {
     "data": {
      "text/plain": [
       "[6, 4, 6, 7, 2]"
      ]
     },
     "execution_count": 13,
     "metadata": {},
     "output_type": "execute_result"
    }
   ],
   "source": [
    "[len(i) for i in p]"
   ]
  },
  {
   "cell_type": "code",
   "execution_count": 14,
   "id": "f9096099",
   "metadata": {},
   "outputs": [],
   "source": [
    "p_len = []\n",
    "\n",
    "for i in p:\n",
    "    p_len.append(len(i))"
   ]
  },
  {
   "cell_type": "code",
   "execution_count": 15,
   "id": "0b520ae1",
   "metadata": {},
   "outputs": [
    {
     "data": {
      "text/plain": [
       "[6, 4, 6, 7, 2]"
      ]
     },
     "execution_count": 15,
     "metadata": {},
     "output_type": "execute_result"
    }
   ],
   "source": [
    "p_len"
   ]
  },
  {
   "cell_type": "code",
   "execution_count": 16,
   "id": "78e9e69e",
   "metadata": {},
   "outputs": [
    {
     "data": {
      "text/plain": [
       "['python', 'java', 'hadoop', 'pyspark', 'ml']"
      ]
     },
     "execution_count": 16,
     "metadata": {},
     "output_type": "execute_result"
    }
   ],
   "source": [
    "p"
   ]
  },
  {
   "cell_type": "code",
   "execution_count": null,
   "id": "d2dad2c0",
   "metadata": {},
   "outputs": [],
   "source": [
    "{'python':6,'java':4.....}"
   ]
  },
  {
   "cell_type": "code",
   "execution_count": 17,
   "id": "b3c40b5d",
   "metadata": {},
   "outputs": [
    {
     "data": {
      "text/plain": [
       "{'python': 6, 'java': 4, 'hadoop': 6, 'pyspark': 7, 'ml': 2}"
      ]
     },
     "execution_count": 17,
     "metadata": {},
     "output_type": "execute_result"
    }
   ],
   "source": [
    "{i:len(i) for i in p}"
   ]
  },
  {
   "cell_type": "code",
   "execution_count": 18,
   "id": "8573044b",
   "metadata": {},
   "outputs": [
    {
     "data": {
      "text/plain": [
       "<generator object <genexpr> at 0x000001EA003BC0B0>"
      ]
     },
     "execution_count": 18,
     "metadata": {},
     "output_type": "execute_result"
    }
   ],
   "source": [
    "(i for i in p)"
   ]
  },
  {
   "cell_type": "code",
   "execution_count": null,
   "id": "6532a22b",
   "metadata": {},
   "outputs": [],
   "source": [
    "database -- entry -- result [{},{},{}]"
   ]
  },
  {
   "cell_type": "code",
   "execution_count": 20,
   "id": "be2fd6cf",
   "metadata": {},
   "outputs": [],
   "source": [
    "p = [{'name':'keshav','id':101},{'name':'Rakesh','id':205},{'name':'Rahul','id':250}]"
   ]
  },
  {
   "cell_type": "code",
   "execution_count": 21,
   "id": "178722b2",
   "metadata": {},
   "outputs": [],
   "source": [
    "names = [row.get('name') for row in p]"
   ]
  },
  {
   "cell_type": "code",
   "execution_count": 22,
   "id": "1bb4c766",
   "metadata": {},
   "outputs": [
    {
     "data": {
      "text/plain": [
       "['keshav', 'Rakesh', 'Rahul']"
      ]
     },
     "execution_count": 22,
     "metadata": {},
     "output_type": "execute_result"
    }
   ],
   "source": [
    "names"
   ]
  },
  {
   "cell_type": "code",
   "execution_count": null,
   "id": "dc111c5f",
   "metadata": {},
   "outputs": [],
   "source": []
  }
 ],
 "metadata": {
  "kernelspec": {
   "display_name": "Python 3",
   "language": "python",
   "name": "python3"
  },
  "language_info": {
   "codemirror_mode": {
    "name": "ipython",
    "version": 3
   },
   "file_extension": ".py",
   "mimetype": "text/x-python",
   "name": "python",
   "nbconvert_exporter": "python",
   "pygments_lexer": "ipython3",
   "version": "3.8.8"
  }
 },
 "nbformat": 4,
 "nbformat_minor": 5
}
