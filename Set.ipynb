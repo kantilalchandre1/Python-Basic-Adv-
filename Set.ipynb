{
 "cells": [
  {
   "cell_type": "code",
   "execution_count": null,
   "id": "d2a6745d",
   "metadata": {},
   "outputs": [],
   "source": [
    "Set:\n",
    "    it is collection of unique elements/data types \n",
    "    \n",
    "    it is denoted by {at least one element}\n",
    "    \n",
    "    it is unordered Type DS,so indexing will not work\n",
    "    \n",
    "    it is muatable type DS insertion,deletion,updation\n",
    "    \n",
    "    "
   ]
  },
  {
   "cell_type": "code",
   "execution_count": 1,
   "id": "f395b5fc",
   "metadata": {},
   "outputs": [],
   "source": [
    "p = []"
   ]
  },
  {
   "cell_type": "code",
   "execution_count": 2,
   "id": "e2fe82da",
   "metadata": {},
   "outputs": [
    {
     "data": {
      "text/plain": [
       "list"
      ]
     },
     "execution_count": 2,
     "metadata": {},
     "output_type": "execute_result"
    }
   ],
   "source": [
    "type(p)"
   ]
  },
  {
   "cell_type": "code",
   "execution_count": 3,
   "id": "4ea98a1c",
   "metadata": {},
   "outputs": [],
   "source": [
    "p = ()"
   ]
  },
  {
   "cell_type": "code",
   "execution_count": 4,
   "id": "4f0436d9",
   "metadata": {},
   "outputs": [
    {
     "data": {
      "text/plain": [
       "tuple"
      ]
     },
     "execution_count": 4,
     "metadata": {},
     "output_type": "execute_result"
    }
   ],
   "source": [
    "type(p)"
   ]
  },
  {
   "cell_type": "code",
   "execution_count": 5,
   "id": "bbdbfaf8",
   "metadata": {},
   "outputs": [],
   "source": [
    "p = {}"
   ]
  },
  {
   "cell_type": "code",
   "execution_count": 6,
   "id": "38356f5e",
   "metadata": {},
   "outputs": [
    {
     "data": {
      "text/plain": [
       "dict"
      ]
     },
     "execution_count": 6,
     "metadata": {},
     "output_type": "execute_result"
    }
   ],
   "source": [
    "type(p)"
   ]
  },
  {
   "cell_type": "code",
   "execution_count": null,
   "id": "b95b618d",
   "metadata": {},
   "outputs": [],
   "source": [
    "DS :\n",
    "    \n",
    "    list - []\n",
    "    tuple -()\n",
    "    dict - {}\n",
    "    str - '',\" \",''' ''', \"\"\" \"\"\"\n",
    "    \n",
    "    set\n",
    "    frozenset \n",
    "    "
   ]
  },
  {
   "cell_type": "code",
   "execution_count": 7,
   "id": "b8af00c3",
   "metadata": {},
   "outputs": [],
   "source": [
    "py_set = {10,45,8745,765}"
   ]
  },
  {
   "cell_type": "code",
   "execution_count": 8,
   "id": "b5ea3b18",
   "metadata": {},
   "outputs": [
    {
     "data": {
      "text/plain": [
       "set"
      ]
     },
     "execution_count": 8,
     "metadata": {},
     "output_type": "execute_result"
    }
   ],
   "source": [
    "type(py_set)"
   ]
  },
  {
   "cell_type": "code",
   "execution_count": 16,
   "id": "3fa627b6",
   "metadata": {},
   "outputs": [],
   "source": [
    "p = {1,64,23,7,534,756,3,7845,'python','c','Hadoop','Pyhadoop',100}"
   ]
  },
  {
   "cell_type": "code",
   "execution_count": 17,
   "id": "6356c89a",
   "metadata": {},
   "outputs": [
    {
     "data": {
      "text/plain": [
       "{1, 100, 23, 3, 534, 64, 7, 756, 7845, 'Hadoop', 'Pyhadoop', 'c', 'python'}"
      ]
     },
     "execution_count": 17,
     "metadata": {},
     "output_type": "execute_result"
    }
   ],
   "source": [
    "p"
   ]
  },
  {
   "cell_type": "code",
   "execution_count": 13,
   "id": "7039357d",
   "metadata": {},
   "outputs": [
    {
     "ename": "TypeError",
     "evalue": "'set' object is not subscriptable",
     "output_type": "error",
     "traceback": [
      "\u001b[1;31m---------------------------------------------------------------------------\u001b[0m",
      "\u001b[1;31mTypeError\u001b[0m                                 Traceback (most recent call last)",
      "\u001b[1;32m<ipython-input-13-d9911783213f>\u001b[0m in \u001b[0;36m<module>\u001b[1;34m\u001b[0m\n\u001b[1;32m----> 1\u001b[1;33m \u001b[0mp\u001b[0m\u001b[1;33m[\u001b[0m\u001b[1;36m5\u001b[0m\u001b[1;33m]\u001b[0m\u001b[1;33m\u001b[0m\u001b[1;33m\u001b[0m\u001b[0m\n\u001b[0m",
      "\u001b[1;31mTypeError\u001b[0m: 'set' object is not subscriptable"
     ]
    }
   ],
   "source": [
    "p[5]"
   ]
  },
  {
   "cell_type": "code",
   "execution_count": 14,
   "id": "df5a353e",
   "metadata": {},
   "outputs": [],
   "source": [
    "SET :p"
   ]
  },
  {
   "cell_type": "code",
   "execution_count": 15,
   "id": "ab2b6baf",
   "metadata": {},
   "outputs": [
    {
     "data": {
      "text/plain": [
       "{1, 23, 3, 534, 64, 7, 756, 7845, 'Hadoop', 'Pyhadoop', 'c', 'python'}"
      ]
     },
     "execution_count": 15,
     "metadata": {},
     "output_type": "execute_result"
    }
   ],
   "source": [
    "p."
   ]
  },
  {
   "cell_type": "code",
   "execution_count": null,
   "id": "7c0f2ee9",
   "metadata": {},
   "outputs": [],
   "source": [
    "Python DS \n",
    "\n",
    "ordered\n",
    "=======\n",
    "1.list\n",
    "2.tuple\n",
    "3.str\n",
    "\n",
    "unorderd\n",
    "=======\n",
    "1.set\n",
    "2.dict\n",
    "3.frozenset"
   ]
  },
  {
   "cell_type": "code",
   "execution_count": null,
   "id": "7a5402c2",
   "metadata": {},
   "outputs": [],
   "source": [
    "Operation:\n",
    "    Insertion:\n",
    "        add() : to insert single element in set at any location\n",
    "        update()"
   ]
  },
  {
   "cell_type": "code",
   "execution_count": 18,
   "id": "07731926",
   "metadata": {},
   "outputs": [],
   "source": [
    "p = {1,1,1,1,1,54,756,34,75}"
   ]
  },
  {
   "cell_type": "code",
   "execution_count": 19,
   "id": "d94db4a5",
   "metadata": {},
   "outputs": [
    {
     "data": {
      "text/plain": [
       "{1, 34, 54, 75, 756}"
      ]
     },
     "execution_count": 19,
     "metadata": {},
     "output_type": "execute_result"
    }
   ],
   "source": [
    "p"
   ]
  },
  {
   "cell_type": "code",
   "execution_count": 20,
   "id": "095def33",
   "metadata": {},
   "outputs": [
    {
     "data": {
      "text/plain": [
       "{1, 34, 54, 75, 756}"
      ]
     },
     "execution_count": 20,
     "metadata": {},
     "output_type": "execute_result"
    }
   ],
   "source": [
    "p"
   ]
  },
  {
   "cell_type": "code",
   "execution_count": 21,
   "id": "a7c2a9fe",
   "metadata": {},
   "outputs": [],
   "source": [
    "p.add(1)"
   ]
  },
  {
   "cell_type": "code",
   "execution_count": 22,
   "id": "22080519",
   "metadata": {},
   "outputs": [
    {
     "data": {
      "text/plain": [
       "{1, 34, 54, 75, 756}"
      ]
     },
     "execution_count": 22,
     "metadata": {},
     "output_type": "execute_result"
    }
   ],
   "source": [
    "p"
   ]
  },
  {
   "cell_type": "code",
   "execution_count": 1,
   "id": "5ac6282a",
   "metadata": {},
   "outputs": [
    {
     "ename": "SyntaxError",
     "evalue": "invalid syntax (<ipython-input-1-962cd2b70b69>, line 1)",
     "output_type": "error",
     "traceback": [
      "\u001b[1;36m  File \u001b[1;32m\"<ipython-input-1-962cd2b70b69>\"\u001b[1;36m, line \u001b[1;32m1\u001b[0m\n\u001b[1;33m    You can create DS in Python by two ways:\u001b[0m\n\u001b[1;37m        ^\u001b[0m\n\u001b[1;31mSyntaxError\u001b[0m\u001b[1;31m:\u001b[0m invalid syntax\n"
     ]
    }
   ],
   "source": [
    "You can create DS in Python by two ways:\n",
    "    \n",
    "    1.using symbol - [],(),{},\" \",' ',''' ''',\"\"\"\"\"\"\n",
    "    2.using classname"
   ]
  },
  {
   "cell_type": "code",
   "execution_count": 2,
   "id": "3de4c132",
   "metadata": {},
   "outputs": [],
   "source": [
    "p = []"
   ]
  },
  {
   "cell_type": "code",
   "execution_count": 3,
   "id": "8971b73e",
   "metadata": {},
   "outputs": [
    {
     "data": {
      "text/plain": [
       "list"
      ]
     },
     "execution_count": 3,
     "metadata": {},
     "output_type": "execute_result"
    }
   ],
   "source": [
    "type(p)"
   ]
  },
  {
   "cell_type": "code",
   "execution_count": 4,
   "id": "ab78f0ba",
   "metadata": {},
   "outputs": [],
   "source": [
    "p = list()"
   ]
  },
  {
   "cell_type": "code",
   "execution_count": 5,
   "id": "a147824d",
   "metadata": {},
   "outputs": [
    {
     "data": {
      "text/plain": [
       "list"
      ]
     },
     "execution_count": 5,
     "metadata": {},
     "output_type": "execute_result"
    }
   ],
   "source": [
    "type(p)"
   ]
  },
  {
   "cell_type": "code",
   "execution_count": 6,
   "id": "a51e72cf",
   "metadata": {},
   "outputs": [],
   "source": [
    "p1 = ()"
   ]
  },
  {
   "cell_type": "code",
   "execution_count": 7,
   "id": "27799277",
   "metadata": {},
   "outputs": [
    {
     "data": {
      "text/plain": [
       "tuple"
      ]
     },
     "execution_count": 7,
     "metadata": {},
     "output_type": "execute_result"
    }
   ],
   "source": [
    "type(p1)"
   ]
  },
  {
   "cell_type": "code",
   "execution_count": 8,
   "id": "a80c4201",
   "metadata": {},
   "outputs": [],
   "source": [
    "temp = tuple()"
   ]
  },
  {
   "cell_type": "code",
   "execution_count": 9,
   "id": "073ecd04",
   "metadata": {},
   "outputs": [
    {
     "data": {
      "text/plain": [
       "tuple"
      ]
     },
     "execution_count": 9,
     "metadata": {},
     "output_type": "execute_result"
    }
   ],
   "source": [
    "type(temp)"
   ]
  },
  {
   "cell_type": "code",
   "execution_count": 10,
   "id": "4cd6d0cd",
   "metadata": {},
   "outputs": [],
   "source": [
    "t = set()"
   ]
  },
  {
   "cell_type": "code",
   "execution_count": 11,
   "id": "45a7dd7d",
   "metadata": {},
   "outputs": [
    {
     "data": {
      "text/plain": [
       "set"
      ]
     },
     "execution_count": 11,
     "metadata": {},
     "output_type": "execute_result"
    }
   ],
   "source": [
    "type(t)"
   ]
  },
  {
   "cell_type": "code",
   "execution_count": 12,
   "id": "1a9bc0b6",
   "metadata": {},
   "outputs": [],
   "source": [
    "p = ''"
   ]
  },
  {
   "cell_type": "code",
   "execution_count": 13,
   "id": "0840c92d",
   "metadata": {},
   "outputs": [
    {
     "data": {
      "text/plain": [
       "str"
      ]
     },
     "execution_count": 13,
     "metadata": {},
     "output_type": "execute_result"
    }
   ],
   "source": [
    "type(p)"
   ]
  },
  {
   "cell_type": "code",
   "execution_count": null,
   "id": "9e8167fa",
   "metadata": {},
   "outputs": [],
   "source": [
    "DS -- \n",
    "\n",
    "symbol and classname"
   ]
  },
  {
   "cell_type": "code",
   "execution_count": null,
   "id": "bb757caa",
   "metadata": {},
   "outputs": [],
   "source": [
    "Operation:\n",
    "    insertation:\n",
    "        1.add() -- to insert single element into set\n",
    "        2.update()"
   ]
  },
  {
   "cell_type": "code",
   "execution_count": 14,
   "id": "39337220",
   "metadata": {},
   "outputs": [],
   "source": [
    "py_set = {45,23,756,3,86,34,'c',True,True,'Python'}"
   ]
  },
  {
   "cell_type": "code",
   "execution_count": 15,
   "id": "de5cb64e",
   "metadata": {},
   "outputs": [
    {
     "data": {
      "text/plain": [
       "{23, 3, 34, 45, 756, 86, 'Python', True, 'c'}"
      ]
     },
     "execution_count": 15,
     "metadata": {},
     "output_type": "execute_result"
    }
   ],
   "source": [
    "py_set"
   ]
  },
  {
   "cell_type": "code",
   "execution_count": 16,
   "id": "da134f6e",
   "metadata": {},
   "outputs": [],
   "source": [
    "py_set.add(100)"
   ]
  },
  {
   "cell_type": "code",
   "execution_count": 17,
   "id": "00be5e05",
   "metadata": {},
   "outputs": [
    {
     "data": {
      "text/plain": [
       "{100, 23, 3, 34, 45, 756, 86, 'Python', True, 'c'}"
      ]
     },
     "execution_count": 17,
     "metadata": {},
     "output_type": "execute_result"
    }
   ],
   "source": [
    "py_set"
   ]
  },
  {
   "cell_type": "code",
   "execution_count": 18,
   "id": "78cd16e0",
   "metadata": {},
   "outputs": [],
   "source": [
    "py_set.add(450)"
   ]
  },
  {
   "cell_type": "code",
   "execution_count": 19,
   "id": "a4a40b2d",
   "metadata": {},
   "outputs": [
    {
     "data": {
      "text/plain": [
       "{100, 23, 3, 34, 45, 450, 756, 86, 'Python', True, 'c'}"
      ]
     },
     "execution_count": 19,
     "metadata": {},
     "output_type": "execute_result"
    }
   ],
   "source": [
    "py_set"
   ]
  },
  {
   "cell_type": "code",
   "execution_count": 20,
   "id": "3d4c9719",
   "metadata": {},
   "outputs": [
    {
     "ename": "TypeError",
     "evalue": "'set' object is not subscriptable",
     "output_type": "error",
     "traceback": [
      "\u001b[1;31m---------------------------------------------------------------------------\u001b[0m",
      "\u001b[1;31mTypeError\u001b[0m                                 Traceback (most recent call last)",
      "\u001b[1;32m<ipython-input-20-7ec6e112933b>\u001b[0m in \u001b[0;36m<module>\u001b[1;34m\u001b[0m\n\u001b[1;32m----> 1\u001b[1;33m \u001b[0mpy_set\u001b[0m\u001b[1;33m[\u001b[0m\u001b[1;36m5\u001b[0m\u001b[1;33m]\u001b[0m\u001b[1;33m\u001b[0m\u001b[1;33m\u001b[0m\u001b[0m\n\u001b[0m",
      "\u001b[1;31mTypeError\u001b[0m: 'set' object is not subscriptable"
     ]
    }
   ],
   "source": [
    "py_set[5]"
   ]
  },
  {
   "cell_type": "code",
   "execution_count": 22,
   "id": "f75f542e",
   "metadata": {},
   "outputs": [],
   "source": [
    "py_set.add(100)"
   ]
  },
  {
   "cell_type": "code",
   "execution_count": 23,
   "id": "9edaaf87",
   "metadata": {},
   "outputs": [
    {
     "data": {
      "text/plain": [
       "{100, 23, 3, 34, 45, 450, 756, 86, 'Python', True, 'c'}"
      ]
     },
     "execution_count": 23,
     "metadata": {},
     "output_type": "execute_result"
    }
   ],
   "source": [
    "py_set"
   ]
  },
  {
   "cell_type": "code",
   "execution_count": 24,
   "id": "4793fa64",
   "metadata": {},
   "outputs": [],
   "source": [
    "p = set()"
   ]
  },
  {
   "cell_type": "code",
   "execution_count": 25,
   "id": "732b2257",
   "metadata": {},
   "outputs": [
    {
     "data": {
      "text/plain": [
       "set()"
      ]
     },
     "execution_count": 25,
     "metadata": {},
     "output_type": "execute_result"
    }
   ],
   "source": [
    "p"
   ]
  },
  {
   "cell_type": "code",
   "execution_count": 26,
   "id": "d75ce39c",
   "metadata": {},
   "outputs": [],
   "source": [
    "p.add(98)"
   ]
  },
  {
   "cell_type": "code",
   "execution_count": 27,
   "id": "296e4a84",
   "metadata": {},
   "outputs": [
    {
     "data": {
      "text/plain": [
       "{98}"
      ]
     },
     "execution_count": 27,
     "metadata": {},
     "output_type": "execute_result"
    }
   ],
   "source": [
    "p"
   ]
  },
  {
   "cell_type": "code",
   "execution_count": 28,
   "id": "a67d6b3e",
   "metadata": {},
   "outputs": [],
   "source": [
    "#update() - to add multiple element"
   ]
  },
  {
   "cell_type": "code",
   "execution_count": null,
   "id": "517fa8bc",
   "metadata": {},
   "outputs": [],
   "source": [
    "group  -- > []/()/{}"
   ]
  },
  {
   "cell_type": "code",
   "execution_count": 30,
   "id": "bbe6e63c",
   "metadata": {},
   "outputs": [],
   "source": [
    "py_set.update({200,'c',960})"
   ]
  },
  {
   "cell_type": "code",
   "execution_count": 31,
   "id": "a17e8676",
   "metadata": {},
   "outputs": [
    {
     "data": {
      "text/plain": [
       "{100, 200, 23, 3, 34, 45, 450, 756, 86, 960, 'Python', True, 'c'}"
      ]
     },
     "execution_count": 31,
     "metadata": {},
     "output_type": "execute_result"
    }
   ],
   "source": [
    "py_set"
   ]
  },
  {
   "cell_type": "code",
   "execution_count": 32,
   "id": "1e07622f",
   "metadata": {},
   "outputs": [],
   "source": [
    "s = {1,76,34,86,}"
   ]
  },
  {
   "cell_type": "code",
   "execution_count": 33,
   "id": "f6c5c2ae",
   "metadata": {},
   "outputs": [
    {
     "data": {
      "text/plain": [
       "{1, 34, 76, 86}"
      ]
     },
     "execution_count": 33,
     "metadata": {},
     "output_type": "execute_result"
    }
   ],
   "source": [
    "s"
   ]
  },
  {
   "cell_type": "code",
   "execution_count": 34,
   "id": "2ae0fb6b",
   "metadata": {},
   "outputs": [],
   "source": [
    "s.add(45)"
   ]
  },
  {
   "cell_type": "code",
   "execution_count": 35,
   "id": "b9cc2df2",
   "metadata": {},
   "outputs": [
    {
     "data": {
      "text/plain": [
       "{1, 34, 45, 76, 86}"
      ]
     },
     "execution_count": 35,
     "metadata": {},
     "output_type": "execute_result"
    }
   ],
   "source": [
    "s"
   ]
  },
  {
   "cell_type": "code",
   "execution_count": 36,
   "id": "306823a1",
   "metadata": {},
   "outputs": [],
   "source": [
    "s.add('python')"
   ]
  },
  {
   "cell_type": "code",
   "execution_count": 37,
   "id": "bc501030",
   "metadata": {},
   "outputs": [
    {
     "data": {
      "text/plain": [
       "{1, 34, 45, 76, 86, 'python'}"
      ]
     },
     "execution_count": 37,
     "metadata": {},
     "output_type": "execute_result"
    }
   ],
   "source": [
    "s"
   ]
  },
  {
   "cell_type": "code",
   "execution_count": 38,
   "id": "6764ae24",
   "metadata": {},
   "outputs": [],
   "source": [
    "s.add(100)"
   ]
  },
  {
   "cell_type": "code",
   "execution_count": 39,
   "id": "65fc15a6",
   "metadata": {},
   "outputs": [
    {
     "data": {
      "text/plain": [
       "{1, 100, 34, 45, 76, 86, 'python'}"
      ]
     },
     "execution_count": 39,
     "metadata": {},
     "output_type": "execute_result"
    }
   ],
   "source": [
    "s"
   ]
  },
  {
   "cell_type": "code",
   "execution_count": 40,
   "id": "0dae77b3",
   "metadata": {},
   "outputs": [],
   "source": [
    "s.update({34,786,23,86,34,87,34,86,34,57,324,86,34,786,54,756})"
   ]
  },
  {
   "cell_type": "code",
   "execution_count": 41,
   "id": "9607b672",
   "metadata": {},
   "outputs": [
    {
     "data": {
      "text/plain": [
       "{1, 100, 23, 324, 34, 45, 54, 57, 756, 76, 786, 86, 87, 'python'}"
      ]
     },
     "execution_count": 41,
     "metadata": {},
     "output_type": "execute_result"
    }
   ],
   "source": [
    "s"
   ]
  },
  {
   "cell_type": "code",
   "execution_count": null,
   "id": "8e7ea15d",
   "metadata": {},
   "outputs": [],
   "source": [
    "Deletion:\n",
    "    1.remove -- single element if element present then delete,if not then it return KeyError\n",
    "    3.discard -- single if element then delete if not the it will not return any Error\n",
    "    3.pop -- randomly delete element\n",
    "    4.clear"
   ]
  },
  {
   "cell_type": "code",
   "execution_count": 43,
   "id": "2939f862",
   "metadata": {},
   "outputs": [
    {
     "data": {
      "text/plain": [
       "{1, 100, 23, 324, 34, 45, 54, 57, 756, 76, 786, 86, 87, 'python'}"
      ]
     },
     "execution_count": 43,
     "metadata": {},
     "output_type": "execute_result"
    }
   ],
   "source": [
    "s"
   ]
  },
  {
   "cell_type": "code",
   "execution_count": 44,
   "id": "c9bf4e75",
   "metadata": {},
   "outputs": [],
   "source": [
    "s.remove(756)"
   ]
  },
  {
   "cell_type": "code",
   "execution_count": 45,
   "id": "796dfba1",
   "metadata": {},
   "outputs": [
    {
     "data": {
      "text/plain": [
       "{1, 100, 23, 324, 34, 45, 54, 57, 76, 786, 86, 87, 'python'}"
      ]
     },
     "execution_count": 45,
     "metadata": {},
     "output_type": "execute_result"
    }
   ],
   "source": [
    "s"
   ]
  },
  {
   "cell_type": "code",
   "execution_count": 46,
   "id": "018424f3",
   "metadata": {},
   "outputs": [
    {
     "ename": "KeyError",
     "evalue": "15000",
     "output_type": "error",
     "traceback": [
      "\u001b[1;31m---------------------------------------------------------------------------\u001b[0m",
      "\u001b[1;31mKeyError\u001b[0m                                  Traceback (most recent call last)",
      "\u001b[1;32m<ipython-input-46-a5e3092b90ab>\u001b[0m in \u001b[0;36m<module>\u001b[1;34m\u001b[0m\n\u001b[1;32m----> 1\u001b[1;33m \u001b[0ms\u001b[0m\u001b[1;33m.\u001b[0m\u001b[0mremove\u001b[0m\u001b[1;33m(\u001b[0m\u001b[1;36m15000\u001b[0m\u001b[1;33m)\u001b[0m\u001b[1;33m\u001b[0m\u001b[1;33m\u001b[0m\u001b[0m\n\u001b[0m",
      "\u001b[1;31mKeyError\u001b[0m: 15000"
     ]
    }
   ],
   "source": [
    "s.remove(15000)"
   ]
  },
  {
   "cell_type": "code",
   "execution_count": null,
   "id": "3c1f1164",
   "metadata": {},
   "outputs": [],
   "source": [
    " if "
   ]
  },
  {
   "cell_type": "code",
   "execution_count": 48,
   "id": "82874a60",
   "metadata": {},
   "outputs": [],
   "source": [
    "s.discard(76)"
   ]
  },
  {
   "cell_type": "code",
   "execution_count": 49,
   "id": "e13c8138",
   "metadata": {},
   "outputs": [
    {
     "data": {
      "text/plain": [
       "{1, 100, 23, 324, 34, 45, 54, 57, 786, 86, 87, 'python'}"
      ]
     },
     "execution_count": 49,
     "metadata": {},
     "output_type": "execute_result"
    }
   ],
   "source": [
    "s"
   ]
  },
  {
   "cell_type": "code",
   "execution_count": 51,
   "id": "2818b89d",
   "metadata": {},
   "outputs": [
    {
     "data": {
      "text/plain": [
       "{1, 100, 23, 324, 34, 45, 54, 57, 786, 86, 87, 'python'}"
      ]
     },
     "execution_count": 51,
     "metadata": {},
     "output_type": "execute_result"
    }
   ],
   "source": [
    "s"
   ]
  },
  {
   "cell_type": "code",
   "execution_count": 52,
   "id": "dfbbea78",
   "metadata": {},
   "outputs": [
    {
     "data": {
      "text/plain": [
       "1"
      ]
     },
     "execution_count": 52,
     "metadata": {},
     "output_type": "execute_result"
    }
   ],
   "source": [
    "s.pop()"
   ]
  },
  {
   "cell_type": "code",
   "execution_count": 53,
   "id": "1bc9e961",
   "metadata": {},
   "outputs": [
    {
     "data": {
      "text/plain": [
       "34"
      ]
     },
     "execution_count": 53,
     "metadata": {},
     "output_type": "execute_result"
    }
   ],
   "source": [
    "s.pop()"
   ]
  },
  {
   "cell_type": "code",
   "execution_count": 54,
   "id": "7f536518",
   "metadata": {},
   "outputs": [
    {
     "data": {
      "text/plain": [
       "100"
      ]
     },
     "execution_count": 54,
     "metadata": {},
     "output_type": "execute_result"
    }
   ],
   "source": [
    "s.pop()"
   ]
  },
  {
   "cell_type": "code",
   "execution_count": 55,
   "id": "a092cfae",
   "metadata": {},
   "outputs": [
    {
     "data": {
      "text/plain": [
       "324"
      ]
     },
     "execution_count": 55,
     "metadata": {},
     "output_type": "execute_result"
    }
   ],
   "source": [
    "s.pop()"
   ]
  },
  {
   "cell_type": "code",
   "execution_count": 56,
   "id": "27f2773c",
   "metadata": {},
   "outputs": [
    {
     "data": {
      "text/plain": [
       "45"
      ]
     },
     "execution_count": 56,
     "metadata": {},
     "output_type": "execute_result"
    }
   ],
   "source": [
    "s.pop()"
   ]
  },
  {
   "cell_type": "code",
   "execution_count": 57,
   "id": "9bde8b6e",
   "metadata": {},
   "outputs": [
    {
     "data": {
      "text/plain": [
       "786"
      ]
     },
     "execution_count": 57,
     "metadata": {},
     "output_type": "execute_result"
    }
   ],
   "source": [
    "s.pop()"
   ]
  },
  {
   "cell_type": "code",
   "execution_count": 58,
   "id": "4bf4c5fc",
   "metadata": {},
   "outputs": [
    {
     "data": {
      "text/plain": [
       "{23, 54, 57, 86, 87, 'python'}"
      ]
     },
     "execution_count": 58,
     "metadata": {},
     "output_type": "execute_result"
    }
   ],
   "source": [
    "s"
   ]
  },
  {
   "cell_type": "code",
   "execution_count": 60,
   "id": "f1c86a82",
   "metadata": {},
   "outputs": [
    {
     "ename": "TypeError",
     "evalue": "pop() takes no arguments (1 given)",
     "output_type": "error",
     "traceback": [
      "\u001b[1;31m---------------------------------------------------------------------------\u001b[0m",
      "\u001b[1;31mTypeError\u001b[0m                                 Traceback (most recent call last)",
      "\u001b[1;32m<ipython-input-60-a116b4d93e99>\u001b[0m in \u001b[0;36m<module>\u001b[1;34m\u001b[0m\n\u001b[1;32m----> 1\u001b[1;33m \u001b[0ms\u001b[0m\u001b[1;33m.\u001b[0m\u001b[0mpop\u001b[0m\u001b[1;33m(\u001b[0m\u001b[1;36m4\u001b[0m\u001b[1;33m)\u001b[0m\u001b[1;33m\u001b[0m\u001b[1;33m\u001b[0m\u001b[0m\n\u001b[0m",
      "\u001b[1;31mTypeError\u001b[0m: pop() takes no arguments (1 given)"
     ]
    }
   ],
   "source": [
    "s.pop(4)"
   ]
  },
  {
   "cell_type": "code",
   "execution_count": 61,
   "id": "8a27b16d",
   "metadata": {},
   "outputs": [
    {
     "data": {
      "text/plain": [
       "{23, 54, 57, 86, 87, 'python'}"
      ]
     },
     "execution_count": 61,
     "metadata": {},
     "output_type": "execute_result"
    }
   ],
   "source": [
    "s"
   ]
  },
  {
   "cell_type": "code",
   "execution_count": 62,
   "id": "844bd37d",
   "metadata": {},
   "outputs": [],
   "source": [
    "s.clear()"
   ]
  },
  {
   "cell_type": "code",
   "execution_count": 63,
   "id": "b3ae95a0",
   "metadata": {},
   "outputs": [
    {
     "data": {
      "text/plain": [
       "set()"
      ]
     },
     "execution_count": 63,
     "metadata": {},
     "output_type": "execute_result"
    }
   ],
   "source": [
    "s"
   ]
  },
  {
   "cell_type": "code",
   "execution_count": 64,
   "id": "4dba57be",
   "metadata": {},
   "outputs": [
    {
     "ename": "KeyError",
     "evalue": "'pop from an empty set'",
     "output_type": "error",
     "traceback": [
      "\u001b[1;31m---------------------------------------------------------------------------\u001b[0m",
      "\u001b[1;31mKeyError\u001b[0m                                  Traceback (most recent call last)",
      "\u001b[1;32m<ipython-input-64-c88c8c48122b>\u001b[0m in \u001b[0;36m<module>\u001b[1;34m\u001b[0m\n\u001b[1;32m----> 1\u001b[1;33m \u001b[0ms\u001b[0m\u001b[1;33m.\u001b[0m\u001b[0mpop\u001b[0m\u001b[1;33m(\u001b[0m\u001b[1;33m)\u001b[0m\u001b[1;33m\u001b[0m\u001b[1;33m\u001b[0m\u001b[0m\n\u001b[0m",
      "\u001b[1;31mKeyError\u001b[0m: 'pop from an empty set'"
     ]
    }
   ],
   "source": [
    "s.pop()"
   ]
  },
  {
   "cell_type": "code",
   "execution_count": 65,
   "id": "4a019b4e",
   "metadata": {},
   "outputs": [],
   "source": [
    "loan = {'keshav','arun','rahul','vaibhav','jon'}"
   ]
  },
  {
   "cell_type": "code",
   "execution_count": 76,
   "id": "6632c6eb",
   "metadata": {},
   "outputs": [],
   "source": [
    "credit = {'jon','justin','corrin','rushi','keshav','rahul'}"
   ]
  },
  {
   "cell_type": "code",
   "execution_count": 73,
   "id": "70ee96f1",
   "metadata": {},
   "outputs": [
    {
     "data": {
      "text/plain": [
       "{'arun', 'corrin', 'jon', 'justin', 'keshav', 'rahul', 'rushi', 'vaibhav'}"
      ]
     },
     "execution_count": 73,
     "metadata": {},
     "output_type": "execute_result"
    }
   ],
   "source": [
    "loan.union(credit)"
   ]
  },
  {
   "cell_type": "code",
   "execution_count": 69,
   "id": "2f49493e",
   "metadata": {},
   "outputs": [
    {
     "data": {
      "text/plain": [
       "{'jon', 'keshav'}"
      ]
     },
     "execution_count": 69,
     "metadata": {},
     "output_type": "execute_result"
    }
   ],
   "source": [
    "loan.intersection(credit)"
   ]
  },
  {
   "cell_type": "code",
   "execution_count": 70,
   "id": "55692520",
   "metadata": {},
   "outputs": [
    {
     "data": {
      "text/plain": [
       "{'arun', 'rahul', 'vaibhav'}"
      ]
     },
     "execution_count": 70,
     "metadata": {},
     "output_type": "execute_result"
    }
   ],
   "source": [
    "loan.difference(credit)"
   ]
  },
  {
   "cell_type": "code",
   "execution_count": 71,
   "id": "bae54062",
   "metadata": {},
   "outputs": [
    {
     "data": {
      "text/plain": [
       "{'corrin', 'justin', 'rushi'}"
      ]
     },
     "execution_count": 71,
     "metadata": {},
     "output_type": "execute_result"
    }
   ],
   "source": [
    "credit.difference(loan)"
   ]
  },
  {
   "cell_type": "code",
   "execution_count": 72,
   "id": "680b9294",
   "metadata": {},
   "outputs": [
    {
     "data": {
      "text/plain": [
       "{'arun', 'corrin', 'justin', 'rahul', 'rushi', 'vaibhav'}"
      ]
     },
     "execution_count": 72,
     "metadata": {},
     "output_type": "execute_result"
    }
   ],
   "source": [
    "loan.symmetric_difference(credit)"
   ]
  },
  {
   "cell_type": "code",
   "execution_count": 74,
   "id": "4a4230ed",
   "metadata": {},
   "outputs": [],
   "source": [
    "saving = {'rahul','ramesh','ganesh'}"
   ]
  },
  {
   "cell_type": "code",
   "execution_count": 77,
   "id": "eb5cb99e",
   "metadata": {},
   "outputs": [
    {
     "data": {
      "text/plain": [
       "{'rahul'}"
      ]
     },
     "execution_count": 77,
     "metadata": {},
     "output_type": "execute_result"
    }
   ],
   "source": [
    "loan.intersection(credit,saving)"
   ]
  },
  {
   "cell_type": "code",
   "execution_count": 78,
   "id": "60314084",
   "metadata": {},
   "outputs": [],
   "source": [
    "p1 = {43,7634,8,3,876,}"
   ]
  },
  {
   "cell_type": "code",
   "execution_count": 79,
   "id": "869a6966",
   "metadata": {},
   "outputs": [],
   "source": [
    "p2 = {54,8,345,75}"
   ]
  },
  {
   "cell_type": "code",
   "execution_count": 80,
   "id": "46b64647",
   "metadata": {},
   "outputs": [
    {
     "data": {
      "text/plain": [
       "{8}"
      ]
     },
     "execution_count": 80,
     "metadata": {},
     "output_type": "execute_result"
    }
   ],
   "source": [
    "p1.intersection(p2)"
   ]
  },
  {
   "cell_type": "code",
   "execution_count": 89,
   "id": "5536736f",
   "metadata": {},
   "outputs": [
    {
     "data": {
      "text/plain": [
       "{'arun', 'jon', 'keshav', 'rahul', 'vaibhav'}"
      ]
     },
     "execution_count": 89,
     "metadata": {},
     "output_type": "execute_result"
    }
   ],
   "source": [
    "loan"
   ]
  },
  {
   "cell_type": "code",
   "execution_count": 90,
   "id": "c3fd0280",
   "metadata": {},
   "outputs": [
    {
     "data": {
      "text/plain": [
       "{'corrin', 'jon', 'justin', 'keshav', 'rahul', 'rushi'}"
      ]
     },
     "execution_count": 90,
     "metadata": {},
     "output_type": "execute_result"
    }
   ],
   "source": [
    "credit"
   ]
  },
  {
   "cell_type": "code",
   "execution_count": 91,
   "id": "5f4de8b7",
   "metadata": {},
   "outputs": [],
   "source": [
    "p = {65,23,8,6345,78,63,89,5,86}"
   ]
  },
  {
   "cell_type": "code",
   "execution_count": 92,
   "id": "047f6c34",
   "metadata": {},
   "outputs": [],
   "source": [
    "p1 = {23,78,86}"
   ]
  },
  {
   "cell_type": "code",
   "execution_count": 93,
   "id": "823fbed0",
   "metadata": {},
   "outputs": [
    {
     "data": {
      "text/plain": [
       "True"
      ]
     },
     "execution_count": 93,
     "metadata": {},
     "output_type": "execute_result"
    }
   ],
   "source": [
    "p.issuperset(p1)"
   ]
  },
  {
   "cell_type": "code",
   "execution_count": null,
   "id": "eb741983",
   "metadata": {},
   "outputs": [],
   "source": [
    "Note : if method startwith is --> True/False"
   ]
  },
  {
   "cell_type": "code",
   "execution_count": 94,
   "id": "917a76f1",
   "metadata": {},
   "outputs": [
    {
     "data": {
      "text/plain": [
       "True"
      ]
     },
     "execution_count": 94,
     "metadata": {},
     "output_type": "execute_result"
    }
   ],
   "source": [
    "p1.issubset(p)"
   ]
  },
  {
   "cell_type": "code",
   "execution_count": null,
   "id": "d0eaab57",
   "metadata": {},
   "outputs": [],
   "source": [
    "difference_update\n",
    "symmetric_diff_update\n",
    "intersection_update"
   ]
  },
  {
   "cell_type": "code",
   "execution_count": 95,
   "id": "9760f548",
   "metadata": {},
   "outputs": [
    {
     "data": {
      "text/plain": [
       "{5, 8, 23, 63, 65, 78, 86, 89, 6345}"
      ]
     },
     "execution_count": 95,
     "metadata": {},
     "output_type": "execute_result"
    }
   ],
   "source": [
    "p"
   ]
  },
  {
   "cell_type": "code",
   "execution_count": 96,
   "id": "35729fd4",
   "metadata": {},
   "outputs": [
    {
     "data": {
      "text/plain": [
       "{23, 78, 86}"
      ]
     },
     "execution_count": 96,
     "metadata": {},
     "output_type": "execute_result"
    }
   ],
   "source": [
    "p1"
   ]
  },
  {
   "cell_type": "code",
   "execution_count": 97,
   "id": "6bdcd761",
   "metadata": {},
   "outputs": [
    {
     "data": {
      "text/plain": [
       "{'arun', 'jon', 'keshav', 'rahul', 'vaibhav'}"
      ]
     },
     "execution_count": 97,
     "metadata": {},
     "output_type": "execute_result"
    }
   ],
   "source": [
    "loan"
   ]
  },
  {
   "cell_type": "code",
   "execution_count": 98,
   "id": "573df90f",
   "metadata": {},
   "outputs": [
    {
     "data": {
      "text/plain": [
       "True"
      ]
     },
     "execution_count": 98,
     "metadata": {},
     "output_type": "execute_result"
    }
   ],
   "source": [
    "p.isdisjoint(loan)"
   ]
  },
  {
   "cell_type": "code",
   "execution_count": null,
   "id": "e4f89a2c",
   "metadata": {},
   "outputs": [],
   "source": [
    "difference_update\n",
    "symmetric_diff_update\n",
    "intersection_update\n",
    "\n",
    "\n",
    "dict:"
   ]
  },
  {
   "cell_type": "code",
   "execution_count": 1,
   "id": "7e764ffb",
   "metadata": {},
   "outputs": [],
   "source": [
    "p = {45,786,34,86,45,76,}"
   ]
  },
  {
   "cell_type": "code",
   "execution_count": 2,
   "id": "e27ab1de",
   "metadata": {},
   "outputs": [],
   "source": [
    "p1 = {45,86,45,786,4}"
   ]
  },
  {
   "cell_type": "code",
   "execution_count": 4,
   "id": "65cf4ef0",
   "metadata": {},
   "outputs": [],
   "source": [
    "temp = p.intersection(p1)"
   ]
  },
  {
   "cell_type": "code",
   "execution_count": 5,
   "id": "b316aa54",
   "metadata": {},
   "outputs": [
    {
     "data": {
      "text/plain": [
       "{45, 86, 786}"
      ]
     },
     "execution_count": 5,
     "metadata": {},
     "output_type": "execute_result"
    }
   ],
   "source": [
    "temp"
   ]
  },
  {
   "cell_type": "code",
   "execution_count": null,
   "id": "2e72c14f",
   "metadata": {},
   "outputs": [],
   "source": [
    "third variable\n",
    "\n",
    "\n",
    "real time\n",
    "\n",
    "\n",
    "1.time complexity\n",
    "2.sapce complexity -- \n",
    "\n",
    "\n",
    "#dont hardcode varibale"
   ]
  },
  {
   "cell_type": "code",
   "execution_count": 6,
   "id": "2c1d3e6d",
   "metadata": {},
   "outputs": [
    {
     "data": {
      "text/plain": [
       "{34, 45, 76, 86, 786}"
      ]
     },
     "execution_count": 6,
     "metadata": {},
     "output_type": "execute_result"
    }
   ],
   "source": [
    "p"
   ]
  },
  {
   "cell_type": "code",
   "execution_count": 7,
   "id": "46904cb3",
   "metadata": {},
   "outputs": [
    {
     "data": {
      "text/plain": [
       "{4, 45, 86, 786}"
      ]
     },
     "execution_count": 7,
     "metadata": {},
     "output_type": "execute_result"
    }
   ],
   "source": [
    "p1"
   ]
  },
  {
   "cell_type": "code",
   "execution_count": 8,
   "id": "d5c2092c",
   "metadata": {},
   "outputs": [],
   "source": [
    "p.intersection_update(p1) #intersection --> result will updated in left side set"
   ]
  },
  {
   "cell_type": "code",
   "execution_count": 9,
   "id": "ece8850c",
   "metadata": {},
   "outputs": [
    {
     "data": {
      "text/plain": [
       "{45, 86, 786}"
      ]
     },
     "execution_count": 9,
     "metadata": {},
     "output_type": "execute_result"
    }
   ],
   "source": [
    "p"
   ]
  },
  {
   "cell_type": "code",
   "execution_count": 10,
   "id": "d06210c5",
   "metadata": {},
   "outputs": [],
   "source": [
    "t1 = {34,86,34,86,3,97,45}"
   ]
  },
  {
   "cell_type": "code",
   "execution_count": 11,
   "id": "9019eb38",
   "metadata": {},
   "outputs": [],
   "source": [
    "t2 = {8,45,97,45,86,45}"
   ]
  },
  {
   "cell_type": "code",
   "execution_count": 12,
   "id": "367ca0a9",
   "metadata": {},
   "outputs": [
    {
     "data": {
      "text/plain": [
       "{3, 34}"
      ]
     },
     "execution_count": 12,
     "metadata": {},
     "output_type": "execute_result"
    }
   ],
   "source": [
    "t1.difference(t2)"
   ]
  },
  {
   "cell_type": "code",
   "execution_count": 13,
   "id": "e0188dc4",
   "metadata": {},
   "outputs": [
    {
     "data": {
      "text/plain": [
       "{3, 34, 45, 86, 97}"
      ]
     },
     "execution_count": 13,
     "metadata": {},
     "output_type": "execute_result"
    }
   ],
   "source": [
    "t1"
   ]
  },
  {
   "cell_type": "code",
   "execution_count": 14,
   "id": "247dca2e",
   "metadata": {},
   "outputs": [
    {
     "data": {
      "text/plain": [
       "{8, 45, 86, 97}"
      ]
     },
     "execution_count": 14,
     "metadata": {},
     "output_type": "execute_result"
    }
   ],
   "source": [
    "t2"
   ]
  },
  {
   "cell_type": "code",
   "execution_count": 15,
   "id": "d166f893",
   "metadata": {},
   "outputs": [],
   "source": [
    "t1.difference_update(t2)"
   ]
  },
  {
   "cell_type": "code",
   "execution_count": 16,
   "id": "a5991326",
   "metadata": {},
   "outputs": [
    {
     "data": {
      "text/plain": [
       "{3, 34}"
      ]
     },
     "execution_count": 16,
     "metadata": {},
     "output_type": "execute_result"
    }
   ],
   "source": [
    "t1"
   ]
  },
  {
   "cell_type": "code",
   "execution_count": 17,
   "id": "20dc3dec",
   "metadata": {},
   "outputs": [],
   "source": [
    "p.intersection_update(p1)"
   ]
  },
  {
   "cell_type": "code",
   "execution_count": 18,
   "id": "6250560d",
   "metadata": {},
   "outputs": [
    {
     "data": {
      "text/plain": [
       "{45, 86, 786}"
      ]
     },
     "execution_count": 18,
     "metadata": {},
     "output_type": "execute_result"
    }
   ],
   "source": [
    "p"
   ]
  },
  {
   "cell_type": "code",
   "execution_count": null,
   "id": "96395d33",
   "metadata": {},
   "outputs": [],
   "source": [
    "var = 45345345"
   ]
  }
 ],
 "metadata": {
  "kernelspec": {
   "display_name": "Python 3",
   "language": "python",
   "name": "python3"
  },
  "language_info": {
   "codemirror_mode": {
    "name": "ipython",
    "version": 3
   },
   "file_extension": ".py",
   "mimetype": "text/x-python",
   "name": "python",
   "nbconvert_exporter": "python",
   "pygments_lexer": "ipython3",
   "version": "3.8.8"
  }
 },
 "nbformat": 4,
 "nbformat_minor": 5
}
