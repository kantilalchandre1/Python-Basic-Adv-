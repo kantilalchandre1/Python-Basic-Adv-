{
 "cells": [
  {
   "cell_type": "code",
   "execution_count": null,
   "id": "70a66e29",
   "metadata": {},
   "outputs": [],
   "source": [
    "set : \n",
    "    it is collection of unique elements\n",
    "    it is mutable type\n",
    "    \n",
    "fronzenset :\n",
    "    it is also collection of unique elements\n",
    "    it is immutable in nature"
   ]
  },
  {
   "cell_type": "code",
   "execution_count": 1,
   "id": "a9ef31ae",
   "metadata": {},
   "outputs": [],
   "source": [
    "py_set = frozenset([10,20,406,540])"
   ]
  },
  {
   "cell_type": "code",
   "execution_count": 2,
   "id": "22539ac0",
   "metadata": {},
   "outputs": [
    {
     "data": {
      "text/plain": [
       "frozenset"
      ]
     },
     "execution_count": 2,
     "metadata": {},
     "output_type": "execute_result"
    }
   ],
   "source": [
    "type(py_set)"
   ]
  },
  {
   "cell_type": "code",
   "execution_count": null,
   "id": "9b785afc",
   "metadata": {},
   "outputs": [],
   "source": [
    "set :\n",
    "    add\n",
    "    update\n",
    "    pop\n",
    "    discard\n",
    "    remove\n",
    "    clear"
   ]
  },
  {
   "cell_type": "code",
   "execution_count": 6,
   "id": "ab60a449",
   "metadata": {},
   "outputs": [],
   "source": [
    "p1 = frozenset([20,540,60445,6404,540,20,20,20,20])"
   ]
  },
  {
   "cell_type": "code",
   "execution_count": 7,
   "id": "8c126ff2",
   "metadata": {},
   "outputs": [
    {
     "data": {
      "text/plain": [
       "frozenset({10, 20, 406, 540, 6404, 60445})"
      ]
     },
     "execution_count": 7,
     "metadata": {},
     "output_type": "execute_result"
    }
   ],
   "source": [
    "py_set.union(p1)"
   ]
  },
  {
   "cell_type": "code",
   "execution_count": 5,
   "id": "e35786ff",
   "metadata": {},
   "outputs": [
    {
     "data": {
      "text/plain": [
       "frozenset({20, 540})"
      ]
     },
     "execution_count": 5,
     "metadata": {},
     "output_type": "execute_result"
    }
   ],
   "source": [
    "p1.intersection(py_set)"
   ]
  },
  {
   "cell_type": "code",
   "execution_count": null,
   "id": "58a46ccf",
   "metadata": {},
   "outputs": [],
   "source": []
  }
 ],
 "metadata": {
  "kernelspec": {
   "display_name": "Python 3",
   "language": "python",
   "name": "python3"
  },
  "language_info": {
   "codemirror_mode": {
    "name": "ipython",
    "version": 3
   },
   "file_extension": ".py",
   "mimetype": "text/x-python",
   "name": "python",
   "nbconvert_exporter": "python",
   "pygments_lexer": "ipython3",
   "version": "3.8.8"
  }
 },
 "nbformat": 4,
 "nbformat_minor": 5
}
