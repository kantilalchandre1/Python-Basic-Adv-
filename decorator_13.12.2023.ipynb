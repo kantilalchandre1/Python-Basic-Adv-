{
 "cells": [
  {
   "cell_type": "code",
   "execution_count": 4,
   "id": "2c2a9734",
   "metadata": {},
   "outputs": [],
   "source": [
    "def decor(fun):\n",
    "    def inner():\n",
    "        print(\"*\"*10)\n",
    "        fun()\n",
    "        print(\"*\"*10)\n",
    "    return inner\n",
    "\n",
    "@decor\n",
    "def show():\n",
    "    print(\"Welcome\")"
   ]
  },
  {
   "cell_type": "code",
   "execution_count": 5,
   "id": "cc5d7a63",
   "metadata": {},
   "outputs": [
    {
     "name": "stdout",
     "output_type": "stream",
     "text": [
      "**********\n",
      "Welcome\n",
      "**********\n"
     ]
    }
   ],
   "source": [
    "show()"
   ]
  },
  {
   "cell_type": "code",
   "execution_count": 7,
   "id": "9ed65532",
   "metadata": {},
   "outputs": [],
   "source": [
    "@decor\n",
    "def t1():\n",
    "    print(\"normal function\")"
   ]
  },
  {
   "cell_type": "code",
   "execution_count": 8,
   "id": "7cd17735",
   "metadata": {},
   "outputs": [
    {
     "name": "stdout",
     "output_type": "stream",
     "text": [
      "**********\n",
      "normal function\n",
      "**********\n"
     ]
    }
   ],
   "source": [
    "t1()"
   ]
  },
  {
   "cell_type": "code",
   "execution_count": 9,
   "id": "1d05d393",
   "metadata": {},
   "outputs": [],
   "source": [
    "#without decorator\n",
    "def copper():\n",
    "    print(\"connection establishment\")\n",
    "    print(\"Data transfer for copper\")\n",
    "    print(\"connection termination\")\n",
    "def silver():\n",
    "    print(\"connection establishment\")\n",
    "    print(\"Data transfer for silver\")\n",
    "    print(\"connection termination\")\n",
    "def gold():\n",
    "    print(\"connection establishment\")\n",
    "    print(\"Data transfer for gold\")\n",
    "    print(\"connection termination\")\n",
    "def iron():\n",
    "    print(\"connection establishment\")\n",
    "    print(\"Data transfer for iron\")\n",
    "    print(\"connection termination\")"
   ]
  },
  {
   "cell_type": "code",
   "execution_count": 11,
   "id": "aab8485d",
   "metadata": {},
   "outputs": [
    {
     "name": "stdout",
     "output_type": "stream",
     "text": [
      "connection establishment\n",
      "Data transfer for copper\n",
      "connection termination\n",
      "connection establishment\n",
      "Data transfer for silver\n",
      "connection termination\n",
      "connection establishment\n",
      "Data transfer for gold\n",
      "connection termination\n",
      "connection establishment\n",
      "Data transfer for iron\n",
      "connection termination\n"
     ]
    }
   ],
   "source": [
    "copper()\n",
    "silver()\n",
    "gold()\n",
    "iron()"
   ]
  },
  {
   "cell_type": "code",
   "execution_count": 13,
   "id": "ec6e9876",
   "metadata": {},
   "outputs": [],
   "source": [
    "def decor(fun):\n",
    "    def inner():\n",
    "        print(\"connection establishment\")\n",
    "        fun()\n",
    "        print(\"connection termination\")\n",
    "    return inner"
   ]
  },
  {
   "cell_type": "code",
   "execution_count": 14,
   "id": "26be6b1a",
   "metadata": {},
   "outputs": [],
   "source": [
    "@decor\n",
    "def copper():   \n",
    "    print(\"Data transfer for copper\")\n",
    "@decor    \n",
    "def silver():    \n",
    "    print(\"Data transfer for silver\")\n",
    "@decor   \n",
    "def gold():    \n",
    "    print(\"Data transfer for gold\")\n",
    "@decor   \n",
    "def iron(): \n",
    "    print(\"Data transfer for iron\")\n",
    "   "
   ]
  },
  {
   "cell_type": "code",
   "execution_count": 15,
   "id": "72d4fc3a",
   "metadata": {},
   "outputs": [
    {
     "name": "stdout",
     "output_type": "stream",
     "text": [
      "connection establishment\n",
      "Data transfer for copper\n",
      "connection termination\n",
      "connection establishment\n",
      "Data transfer for silver\n",
      "connection termination\n",
      "connection establishment\n",
      "Data transfer for gold\n",
      "connection termination\n",
      "connection establishment\n",
      "Data transfer for iron\n",
      "connection termination\n"
     ]
    }
   ],
   "source": [
    "copper()\n",
    "silver()\n",
    "gold()\n",
    "iron()"
   ]
  },
  {
   "cell_type": "code",
   "execution_count": null,
   "id": "bd9a1808",
   "metadata": {},
   "outputs": [],
   "source": [
    "two types of decorator\n",
    "\n",
    "1.user defined/custom decorator \n",
    "2.inbuilt -- class and objects"
   ]
  },
  {
   "cell_type": "code",
   "execution_count": 20,
   "id": "cf40cd99",
   "metadata": {},
   "outputs": [],
   "source": [
    "def decor(fun):\n",
    "    def inner():\n",
    "        \n",
    "        fun()\n",
    "        print(\"*\"*10)\n",
    "    return inner\n",
    "\n",
    "@decor   # decor(show)\n",
    "def show():\n",
    "    print(\"Welcome\")"
   ]
  },
  {
   "cell_type": "code",
   "execution_count": 21,
   "id": "0ec092b5",
   "metadata": {},
   "outputs": [
    {
     "name": "stdout",
     "output_type": "stream",
     "text": [
      "Welcome\n",
      "**********\n"
     ]
    }
   ],
   "source": [
    "show()"
   ]
  },
  {
   "cell_type": "code",
   "execution_count": null,
   "id": "804f472d",
   "metadata": {},
   "outputs": [],
   "source": [
    "1\n",
    "2\n",
    "3\n",
    "actual \n",
    "4\n",
    "5\n",
    "6"
   ]
  },
  {
   "cell_type": "code",
   "execution_count": 52,
   "id": "4ea73c07",
   "metadata": {},
   "outputs": [],
   "source": [
    "def decor(fun):\n",
    "    def inner(a,b):\n",
    "        if b==0:\n",
    "            return \"Cann't Divide by zero\"\n",
    "        else:\n",
    "            return fun(a,b)\n",
    "    return inner\n",
    "\n",
    "@decor\n",
    "def div(x,y):\n",
    "    return x/y"
   ]
  },
  {
   "cell_type": "code",
   "execution_count": 53,
   "id": "06277a1a",
   "metadata": {},
   "outputs": [],
   "source": [
    "r = div(10,4)"
   ]
  },
  {
   "cell_type": "code",
   "execution_count": 54,
   "id": "54f2ce70",
   "metadata": {},
   "outputs": [
    {
     "data": {
      "text/plain": [
       "2.5"
      ]
     },
     "execution_count": 54,
     "metadata": {},
     "output_type": "execute_result"
    }
   ],
   "source": [
    "r"
   ]
  },
  {
   "cell_type": "code",
   "execution_count": 42,
   "id": "3ca50769",
   "metadata": {},
   "outputs": [],
   "source": [
    "r = div(10,-5)"
   ]
  },
  {
   "cell_type": "code",
   "execution_count": 43,
   "id": "e8f43b09",
   "metadata": {},
   "outputs": [
    {
     "data": {
      "text/plain": [
       "-2.0"
      ]
     },
     "execution_count": 43,
     "metadata": {},
     "output_type": "execute_result"
    }
   ],
   "source": [
    "r"
   ]
  },
  {
   "cell_type": "code",
   "execution_count": null,
   "id": "d811b58d",
   "metadata": {},
   "outputs": [],
   "source": [
    "function --> add functionality -->"
   ]
  },
  {
   "cell_type": "code",
   "execution_count": 45,
   "id": "bf0e01f0",
   "metadata": {},
   "outputs": [],
   "source": [
    "@decor\n",
    "def s(a,b):\n",
    "    return a/b"
   ]
  },
  {
   "cell_type": "code",
   "execution_count": 47,
   "id": "c9efabff",
   "metadata": {},
   "outputs": [
    {
     "data": {
      "text/plain": [
       "\"Cann't Divide by zero\""
      ]
     },
     "execution_count": 47,
     "metadata": {},
     "output_type": "execute_result"
    }
   ],
   "source": [
    "s(10,0)"
   ]
  },
  {
   "cell_type": "code",
   "execution_count": 48,
   "id": "97336a49",
   "metadata": {},
   "outputs": [],
   "source": [
    "def add(a,b):\n",
    "    print(a+b)"
   ]
  },
  {
   "cell_type": "code",
   "execution_count": null,
   "id": "8816cc2d",
   "metadata": {},
   "outputs": [],
   "source": [
    "x= 45\n",
    "y = 90\n",
    "\n",
    "add(x,y)"
   ]
  },
  {
   "cell_type": "code",
   "execution_count": 55,
   "id": "6356979a",
   "metadata": {},
   "outputs": [],
   "source": [
    "#Database connect using python"
   ]
  },
  {
   "cell_type": "code",
   "execution_count": null,
   "id": "ba2a8e96",
   "metadata": {},
   "outputs": [],
   "source": []
  }
 ],
 "metadata": {
  "kernelspec": {
   "display_name": "Python 3",
   "language": "python",
   "name": "python3"
  },
  "language_info": {
   "codemirror_mode": {
    "name": "ipython",
    "version": 3
   },
   "file_extension": ".py",
   "mimetype": "text/x-python",
   "name": "python",
   "nbconvert_exporter": "python",
   "pygments_lexer": "ipython3",
   "version": "3.8.8"
  }
 },
 "nbformat": 4,
 "nbformat_minor": 5
}
