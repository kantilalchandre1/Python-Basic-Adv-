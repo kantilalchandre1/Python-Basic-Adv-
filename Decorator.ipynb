{
 "cells": [
  {
   "cell_type": "code",
   "execution_count": 3,
   "id": "05d924e1",
   "metadata": {},
   "outputs": [],
   "source": [
    "#function Alicing"
   ]
  },
  {
   "cell_type": "code",
   "execution_count": 4,
   "id": "330a9210",
   "metadata": {},
   "outputs": [],
   "source": [
    "def add():\n",
    "    a = 450\n",
    "    b = 500\n",
    "    print(a+b)"
   ]
  },
  {
   "cell_type": "code",
   "execution_count": 2,
   "id": "4a81112f",
   "metadata": {},
   "outputs": [
    {
     "name": "stdout",
     "output_type": "stream",
     "text": [
      "950\n"
     ]
    }
   ],
   "source": [
    "add()"
   ]
  },
  {
   "cell_type": "code",
   "execution_count": 5,
   "id": "e4deef9f",
   "metadata": {},
   "outputs": [],
   "source": [
    "s = add  # alice"
   ]
  },
  {
   "cell_type": "code",
   "execution_count": 7,
   "id": "8ebe390b",
   "metadata": {},
   "outputs": [
    {
     "name": "stdout",
     "output_type": "stream",
     "text": [
      "950\n"
     ]
    }
   ],
   "source": [
    "s()"
   ]
  },
  {
   "cell_type": "code",
   "execution_count": 8,
   "id": "15c6f998",
   "metadata": {},
   "outputs": [],
   "source": [
    "temp = s"
   ]
  },
  {
   "cell_type": "code",
   "execution_count": 9,
   "id": "7e272235",
   "metadata": {},
   "outputs": [
    {
     "name": "stdout",
     "output_type": "stream",
     "text": [
      "950\n"
     ]
    }
   ],
   "source": [
    "temp()"
   ]
  },
  {
   "cell_type": "code",
   "execution_count": 10,
   "id": "07426def",
   "metadata": {},
   "outputs": [],
   "source": [
    "t1 = add"
   ]
  },
  {
   "cell_type": "code",
   "execution_count": 11,
   "id": "f2c8ae48",
   "metadata": {},
   "outputs": [
    {
     "name": "stdout",
     "output_type": "stream",
     "text": [
      "950\n"
     ]
    }
   ],
   "source": [
    "t1()"
   ]
  },
  {
   "cell_type": "code",
   "execution_count": null,
   "id": "84136ec2",
   "metadata": {},
   "outputs": [],
   "source": [
    "add,s,t1,temp"
   ]
  },
  {
   "cell_type": "code",
   "execution_count": 12,
   "id": "9a643c09",
   "metadata": {},
   "outputs": [
    {
     "name": "stdout",
     "output_type": "stream",
     "text": [
      "950\n"
     ]
    }
   ],
   "source": [
    "temp()"
   ]
  },
  {
   "cell_type": "code",
   "execution_count": 13,
   "id": "02e1a7d3",
   "metadata": {},
   "outputs": [
    {
     "name": "stdout",
     "output_type": "stream",
     "text": [
      "950\n"
     ]
    }
   ],
   "source": [
    "s()"
   ]
  },
  {
   "cell_type": "code",
   "execution_count": 14,
   "id": "8679cb84",
   "metadata": {},
   "outputs": [
    {
     "name": "stdout",
     "output_type": "stream",
     "text": [
      "950\n"
     ]
    }
   ],
   "source": [
    "t1()"
   ]
  },
  {
   "cell_type": "code",
   "execution_count": 15,
   "id": "5aa69f4d",
   "metadata": {},
   "outputs": [
    {
     "name": "stdout",
     "output_type": "stream",
     "text": [
      "950\n"
     ]
    }
   ],
   "source": [
    "add()"
   ]
  },
  {
   "cell_type": "code",
   "execution_count": null,
   "id": "a86a0af4",
   "metadata": {},
   "outputs": [],
   "source": [
    "#how to call inner function(nested function)"
   ]
  },
  {
   "cell_type": "code",
   "execution_count": 21,
   "id": "f92b9ec0",
   "metadata": {},
   "outputs": [],
   "source": [
    "def m1():\n",
    "    print(\"Hello from m1\")\n",
    "    def m2():\n",
    "        print(\"Hello from m2\")\n",
    "    print(\"End\")"
   ]
  },
  {
   "cell_type": "code",
   "execution_count": 22,
   "id": "b7313e7b",
   "metadata": {},
   "outputs": [
    {
     "name": "stdout",
     "output_type": "stream",
     "text": [
      "Hello from m1\n",
      "End\n"
     ]
    }
   ],
   "source": [
    "m1()"
   ]
  },
  {
   "cell_type": "code",
   "execution_count": 23,
   "id": "a55f9eb7",
   "metadata": {},
   "outputs": [
    {
     "ename": "NameError",
     "evalue": "name 'm2' is not defined",
     "output_type": "error",
     "traceback": [
      "\u001b[1;31m---------------------------------------------------------------------------\u001b[0m",
      "\u001b[1;31mNameError\u001b[0m                                 Traceback (most recent call last)",
      "\u001b[1;32m<ipython-input-23-fcdb9eb32a28>\u001b[0m in \u001b[0;36m<module>\u001b[1;34m\u001b[0m\n\u001b[1;32m----> 1\u001b[1;33m \u001b[0mm2\u001b[0m\u001b[1;33m(\u001b[0m\u001b[1;33m)\u001b[0m\u001b[1;33m\u001b[0m\u001b[1;33m\u001b[0m\u001b[0m\n\u001b[0m",
      "\u001b[1;31mNameError\u001b[0m: name 'm2' is not defined"
     ]
    }
   ],
   "source": [
    "m2()   "
   ]
  },
  {
   "cell_type": "code",
   "execution_count": null,
   "id": "92246d51",
   "metadata": {},
   "outputs": [],
   "source": [
    "function --> data local --> scope within the function"
   ]
  }
 ],
 "metadata": {
  "kernelspec": {
   "display_name": "Python 3",
   "language": "python",
   "name": "python3"
  },
  "language_info": {
   "codemirror_mode": {
    "name": "ipython",
    "version": 3
   },
   "file_extension": ".py",
   "mimetype": "text/x-python",
   "name": "python",
   "nbconvert_exporter": "python",
   "pygments_lexer": "ipython3",
   "version": "3.8.8"
  }
 },
 "nbformat": 4,
 "nbformat_minor": 5
}
