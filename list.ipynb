{
 "cells": [
  {
   "cell_type": "code",
   "execution_count": null,
   "id": "4f91129f",
   "metadata": {},
   "outputs": [],
   "source": [
    "List:\n",
    "    insertion :\n",
    "        insert(index,element)\n",
    "        append(element)\n",
    "        extend([group of elements])\n",
    "    Deletion:\n",
    "        remove()\n",
    "        pop()\n",
    "        clear()\n",
    "    Other Operation:\n",
    "        count(element) : number of occurance \n",
    "        "
   ]
  },
  {
   "cell_type": "code",
   "execution_count": 11,
   "id": "ad89c033",
   "metadata": {},
   "outputs": [],
   "source": [
    "py_list = [454,8976,34,876,34,97,34,97,34,86]"
   ]
  },
  {
   "cell_type": "code",
   "execution_count": 2,
   "id": "c3e1870d",
   "metadata": {},
   "outputs": [
    {
     "data": {
      "text/plain": [
       "2"
      ]
     },
     "execution_count": 2,
     "metadata": {},
     "output_type": "execute_result"
    }
   ],
   "source": [
    "py_list.count(97)"
   ]
  },
  {
   "cell_type": "code",
   "execution_count": 3,
   "id": "23d2df98",
   "metadata": {},
   "outputs": [
    {
     "data": {
      "text/plain": [
       "0"
      ]
     },
     "execution_count": 3,
     "metadata": {},
     "output_type": "execute_result"
    }
   ],
   "source": [
    "py_list.count(100)"
   ]
  },
  {
   "cell_type": "code",
   "execution_count": 4,
   "id": "fe0c475d",
   "metadata": {},
   "outputs": [
    {
     "data": {
      "text/plain": [
       "[454, 8976, 34, 876, 34, 97, 34, 97, 34, 86]"
      ]
     },
     "execution_count": 4,
     "metadata": {},
     "output_type": "execute_result"
    }
   ],
   "source": [
    "py_list"
   ]
  },
  {
   "cell_type": "code",
   "execution_count": 5,
   "id": "5fbcee79",
   "metadata": {},
   "outputs": [
    {
     "data": {
      "text/plain": [
       "2"
      ]
     },
     "execution_count": 5,
     "metadata": {},
     "output_type": "execute_result"
    }
   ],
   "source": [
    "py_list.index(34)"
   ]
  },
  {
   "cell_type": "code",
   "execution_count": 26,
   "id": "f7f82edd",
   "metadata": {},
   "outputs": [],
   "source": [
    "py_courses = ['Python','ML','DL','DS','Hadoop','Pyspark']"
   ]
  },
  {
   "cell_type": "code",
   "execution_count": 7,
   "id": "7b1a5af1",
   "metadata": {},
   "outputs": [
    {
     "data": {
      "text/plain": [
       "3"
      ]
     },
     "execution_count": 7,
     "metadata": {},
     "output_type": "execute_result"
    }
   ],
   "source": [
    "py_courses.index('DS')"
   ]
  },
  {
   "cell_type": "code",
   "execution_count": null,
   "id": "414be8b0",
   "metadata": {},
   "outputs": [],
   "source": [
    "default -- +  index"
   ]
  },
  {
   "cell_type": "code",
   "execution_count": null,
   "id": "afa325e5",
   "metadata": {},
   "outputs": [],
   "source": [
    "py_courses."
   ]
  },
  {
   "cell_type": "code",
   "execution_count": 8,
   "id": "2a147e5d",
   "metadata": {},
   "outputs": [
    {
     "data": {
      "text/plain": [
       "[454, 8976, 34, 876, 34, 97, 34, 97, 34, 86]"
      ]
     },
     "execution_count": 8,
     "metadata": {},
     "output_type": "execute_result"
    }
   ],
   "source": [
    "py_list"
   ]
  },
  {
   "cell_type": "code",
   "execution_count": null,
   "id": "592fbf17",
   "metadata": {},
   "outputs": [],
   "source": [
    "asc -- \n",
    "desc"
   ]
  },
  {
   "cell_type": "code",
   "execution_count": 9,
   "id": "9abaaeaf",
   "metadata": {},
   "outputs": [],
   "source": [
    "py_list.sort()"
   ]
  },
  {
   "cell_type": "code",
   "execution_count": 10,
   "id": "303550fe",
   "metadata": {},
   "outputs": [
    {
     "data": {
      "text/plain": [
       "[34, 34, 34, 34, 86, 97, 97, 454, 876, 8976]"
      ]
     },
     "execution_count": 10,
     "metadata": {},
     "output_type": "execute_result"
    }
   ],
   "source": [
    "py_list"
   ]
  },
  {
   "cell_type": "code",
   "execution_count": 12,
   "id": "3cf4d850",
   "metadata": {},
   "outputs": [],
   "source": [
    "py_list.sort(reverse=True) # sorted --> reverse -- DESC"
   ]
  },
  {
   "cell_type": "code",
   "execution_count": 13,
   "id": "154facad",
   "metadata": {},
   "outputs": [
    {
     "data": {
      "text/plain": [
       "[8976, 876, 454, 97, 97, 86, 34, 34, 34, 34]"
      ]
     },
     "execution_count": 13,
     "metadata": {},
     "output_type": "execute_result"
    }
   ],
   "source": [
    "py_list"
   ]
  },
  {
   "cell_type": "code",
   "execution_count": null,
   "id": "710e03e9",
   "metadata": {},
   "outputs": [],
   "source": [
    "sort \n",
    "\n",
    "\n",
    "sort -- asc\n",
    "\n"
   ]
  },
  {
   "cell_type": "code",
   "execution_count": 14,
   "id": "ea1a77f9",
   "metadata": {},
   "outputs": [],
   "source": [
    "p = [34,76,348,34,'python','java',7656]"
   ]
  },
  {
   "cell_type": "code",
   "execution_count": 16,
   "id": "342c1a12",
   "metadata": {},
   "outputs": [
    {
     "ename": "TypeError",
     "evalue": "'<' not supported between instances of 'str' and 'int'",
     "output_type": "error",
     "traceback": [
      "\u001b[1;31m---------------------------------------------------------------------------\u001b[0m",
      "\u001b[1;31mTypeError\u001b[0m                                 Traceback (most recent call last)",
      "\u001b[1;32m<ipython-input-16-357f481f0589>\u001b[0m in \u001b[0;36m<module>\u001b[1;34m\u001b[0m\n\u001b[1;32m----> 1\u001b[1;33m \u001b[0mp\u001b[0m\u001b[1;33m.\u001b[0m\u001b[0msort\u001b[0m\u001b[1;33m(\u001b[0m\u001b[1;33m)\u001b[0m\u001b[1;33m\u001b[0m\u001b[1;33m\u001b[0m\u001b[0m\n\u001b[0m",
      "\u001b[1;31mTypeError\u001b[0m: '<' not supported between instances of 'str' and 'int'"
     ]
    }
   ],
   "source": [
    "p.sort()"
   ]
  },
  {
   "cell_type": "code",
   "execution_count": 15,
   "id": "f4f715ec",
   "metadata": {},
   "outputs": [
    {
     "ename": "TypeError",
     "evalue": "'>' not supported between instances of 'str' and 'int'",
     "output_type": "error",
     "traceback": [
      "\u001b[1;31m---------------------------------------------------------------------------\u001b[0m",
      "\u001b[1;31mTypeError\u001b[0m                                 Traceback (most recent call last)",
      "\u001b[1;32m<ipython-input-15-2e4c59dc5934>\u001b[0m in \u001b[0;36m<module>\u001b[1;34m\u001b[0m\n\u001b[1;32m----> 1\u001b[1;33m \u001b[1;34m'python'\u001b[0m \u001b[1;33m>\u001b[0m \u001b[1;36m25\u001b[0m\u001b[1;33m\u001b[0m\u001b[1;33m\u001b[0m\u001b[0m\n\u001b[0m",
      "\u001b[1;31mTypeError\u001b[0m: '>' not supported between instances of 'str' and 'int'"
     ]
    }
   ],
   "source": [
    "'python' > 25"
   ]
  },
  {
   "cell_type": "code",
   "execution_count": 17,
   "id": "86e212a5",
   "metadata": {},
   "outputs": [
    {
     "data": {
      "text/plain": [
       "[34, 34, 76, 348, 'python', 'java', 7656]"
      ]
     },
     "execution_count": 17,
     "metadata": {},
     "output_type": "execute_result"
    }
   ],
   "source": [
    "p"
   ]
  },
  {
   "cell_type": "code",
   "execution_count": 18,
   "id": "3ea0eeb1",
   "metadata": {},
   "outputs": [],
   "source": [
    "py_courses.sort()"
   ]
  },
  {
   "cell_type": "code",
   "execution_count": 19,
   "id": "65d9ade5",
   "metadata": {},
   "outputs": [
    {
     "data": {
      "text/plain": [
       "['DL', 'DS', 'Hadoop', 'ML', 'Pyspark', 'Python']"
      ]
     },
     "execution_count": 19,
     "metadata": {},
     "output_type": "execute_result"
    }
   ],
   "source": [
    "py_courses"
   ]
  },
  {
   "cell_type": "code",
   "execution_count": 20,
   "id": "16952a13",
   "metadata": {},
   "outputs": [
    {
     "data": {
      "text/plain": [
       "True"
      ]
     },
     "execution_count": 20,
     "metadata": {},
     "output_type": "execute_result"
    }
   ],
   "source": [
    "'a' > 'A'"
   ]
  },
  {
   "cell_type": "code",
   "execution_count": null,
   "id": "9abc8a4b",
   "metadata": {},
   "outputs": [],
   "source": [
    "ASCII  value :\n",
    "    "
   ]
  },
  {
   "cell_type": "code",
   "execution_count": 21,
   "id": "ae9e51bf",
   "metadata": {},
   "outputs": [
    {
     "data": {
      "text/plain": [
       "'Z'"
      ]
     },
     "execution_count": 21,
     "metadata": {},
     "output_type": "execute_result"
    }
   ],
   "source": [
    "chr(90)"
   ]
  },
  {
   "cell_type": "code",
   "execution_count": 22,
   "id": "f312fe51",
   "metadata": {},
   "outputs": [
    {
     "data": {
      "text/plain": [
       "65"
      ]
     },
     "execution_count": 22,
     "metadata": {},
     "output_type": "execute_result"
    }
   ],
   "source": [
    "ord('A')"
   ]
  },
  {
   "cell_type": "code",
   "execution_count": null,
   "id": "b32d8470",
   "metadata": {},
   "outputs": [],
   "source": [
    "sort(): homogenous"
   ]
  },
  {
   "cell_type": "code",
   "execution_count": 23,
   "id": "1e29e80c",
   "metadata": {},
   "outputs": [],
   "source": [
    "p = [34,765,324,765,56.876,45,86.76,67.45,76]"
   ]
  },
  {
   "cell_type": "code",
   "execution_count": 24,
   "id": "16c50ca4",
   "metadata": {},
   "outputs": [],
   "source": [
    "p.sort()"
   ]
  },
  {
   "cell_type": "code",
   "execution_count": 25,
   "id": "300e2e7d",
   "metadata": {},
   "outputs": [
    {
     "data": {
      "text/plain": [
       "[34, 45, 56.876, 67.45, 76, 86.76, 324, 765, 765]"
      ]
     },
     "execution_count": 25,
     "metadata": {},
     "output_type": "execute_result"
    }
   ],
   "source": [
    "p"
   ]
  },
  {
   "cell_type": "code",
   "execution_count": null,
   "id": "9a5a1889",
   "metadata": {},
   "outputs": [],
   "source": [
    "Data\n",
    "\n",
    "Numeric    Str"
   ]
  },
  {
   "cell_type": "code",
   "execution_count": null,
   "id": "8a2e58df",
   "metadata": {},
   "outputs": [],
   "source": []
  },
  {
   "cell_type": "code",
   "execution_count": null,
   "id": "89e0193f",
   "metadata": {},
   "outputs": [],
   "source": []
  },
  {
   "cell_type": "code",
   "execution_count": null,
   "id": "5a7e301b",
   "metadata": {},
   "outputs": [],
   "source": []
  },
  {
   "cell_type": "code",
   "execution_count": 27,
   "id": "9ff79786",
   "metadata": {},
   "outputs": [
    {
     "data": {
      "text/plain": [
       "['Python', 'ML', 'DL', 'DS', 'Hadoop', 'Pyspark']"
      ]
     },
     "execution_count": 27,
     "metadata": {},
     "output_type": "execute_result"
    }
   ],
   "source": [
    "py_courses"
   ]
  },
  {
   "cell_type": "code",
   "execution_count": 28,
   "id": "8ca94528",
   "metadata": {},
   "outputs": [],
   "source": [
    "p = ['Python', 'ML', 'DL', 'DS', 'Hadoop', 'Pyspark',151,15151,4893,84,1649,]"
   ]
  },
  {
   "cell_type": "code",
   "execution_count": 29,
   "id": "daca8fd9",
   "metadata": {},
   "outputs": [
    {
     "data": {
      "text/plain": [
       "['Python', 'ML', 'DL', 'DS', 'Hadoop', 'Pyspark', 151, 15151, 4893, 84, 1649]"
      ]
     },
     "execution_count": 29,
     "metadata": {},
     "output_type": "execute_result"
    }
   ],
   "source": [
    "p"
   ]
  },
  {
   "cell_type": "code",
   "execution_count": 30,
   "id": "61d8f998",
   "metadata": {},
   "outputs": [],
   "source": [
    "p.reverse()"
   ]
  },
  {
   "cell_type": "code",
   "execution_count": 31,
   "id": "e816d7f7",
   "metadata": {},
   "outputs": [
    {
     "data": {
      "text/plain": [
       "[1649, 84, 4893, 15151, 151, 'Pyspark', 'Hadoop', 'DS', 'DL', 'ML', 'Python']"
      ]
     },
     "execution_count": 31,
     "metadata": {},
     "output_type": "execute_result"
    }
   ],
   "source": [
    "p"
   ]
  },
  {
   "cell_type": "code",
   "execution_count": null,
   "id": "9ac6bd89",
   "metadata": {},
   "outputs": [],
   "source": [
    "insert(index,element)\n",
    "append(element)\n",
    "extend([group of elements])\n",
    "pop()\n",
    "remove()\n",
    "clear()\n",
    "sort()\n",
    "sort(reverse=True)\n",
    "count(elements)\n",
    "index(elements)\n",
    "reverse()\n",
    "copy() -- create a copy"
   ]
  },
  {
   "cell_type": "code",
   "execution_count": 33,
   "id": "b19c9643",
   "metadata": {},
   "outputs": [
    {
     "data": {
      "text/plain": [
       "[1649, 84, 4893, 15151, 151, 'Pyspark', 'Hadoop', 'DS', 'DL', 'ML', 'Python']"
      ]
     },
     "execution_count": 33,
     "metadata": {},
     "output_type": "execute_result"
    }
   ],
   "source": [
    "p"
   ]
  },
  {
   "cell_type": "code",
   "execution_count": 34,
   "id": "1de5a508",
   "metadata": {},
   "outputs": [],
   "source": [
    "temp  = p.copy()"
   ]
  },
  {
   "cell_type": "code",
   "execution_count": 35,
   "id": "7e3193fc",
   "metadata": {},
   "outputs": [
    {
     "data": {
      "text/plain": [
       "[1649, 84, 4893, 15151, 151, 'Pyspark', 'Hadoop', 'DS', 'DL', 'ML', 'Python']"
      ]
     },
     "execution_count": 35,
     "metadata": {},
     "output_type": "execute_result"
    }
   ],
   "source": [
    "temp"
   ]
  },
  {
   "cell_type": "code",
   "execution_count": 36,
   "id": "fbb53d9a",
   "metadata": {},
   "outputs": [
    {
     "data": {
      "text/plain": [
       "[1649, 84, 4893, 15151, 151, 'Pyspark', 'Hadoop', 'DS', 'DL', 'ML', 'Python']"
      ]
     },
     "execution_count": 36,
     "metadata": {},
     "output_type": "execute_result"
    }
   ],
   "source": [
    "p"
   ]
  },
  {
   "cell_type": "code",
   "execution_count": 37,
   "id": "5191f3db",
   "metadata": {},
   "outputs": [],
   "source": [
    "p = [54,78,34,75,34]"
   ]
  },
  {
   "cell_type": "code",
   "execution_count": 38,
   "id": "3cf1979c",
   "metadata": {},
   "outputs": [],
   "source": [
    "p.sort()"
   ]
  },
  {
   "cell_type": "code",
   "execution_count": 39,
   "id": "dbdd1303",
   "metadata": {},
   "outputs": [
    {
     "data": {
      "text/plain": [
       "[34, 34, 54, 75, 78]"
      ]
     },
     "execution_count": 39,
     "metadata": {},
     "output_type": "execute_result"
    }
   ],
   "source": [
    "p"
   ]
  },
  {
   "cell_type": "code",
   "execution_count": 40,
   "id": "2e43ec21",
   "metadata": {},
   "outputs": [],
   "source": [
    "p = [76,34,8,673,9,8,45,97,45,89754,]"
   ]
  },
  {
   "cell_type": "code",
   "execution_count": 41,
   "id": "dab6dcfb",
   "metadata": {},
   "outputs": [],
   "source": [
    "p.sort(reverse=True) #sort then reverse -- desc"
   ]
  },
  {
   "cell_type": "code",
   "execution_count": 42,
   "id": "7abb0a68",
   "metadata": {},
   "outputs": [
    {
     "data": {
      "text/plain": [
       "[89754, 673, 97, 76, 45, 45, 34, 9, 8, 8]"
      ]
     },
     "execution_count": 42,
     "metadata": {},
     "output_type": "execute_result"
    }
   ],
   "source": [
    "p"
   ]
  },
  {
   "cell_type": "code",
   "execution_count": 43,
   "id": "b9857ed5",
   "metadata": {},
   "outputs": [],
   "source": [
    "from sklearn.tree import ExtraTreeClassifier"
   ]
  },
  {
   "cell_type": "code",
   "execution_count": 44,
   "id": "175985ec",
   "metadata": {},
   "outputs": [],
   "source": [
    "model = ExtraTreeClassifier()"
   ]
  },
  {
   "cell_type": "code",
   "execution_count": 45,
   "id": "20eedd95",
   "metadata": {},
   "outputs": [
    {
     "ename": "NameError",
     "evalue": "name 'X' is not defined",
     "output_type": "error",
     "traceback": [
      "\u001b[1;31m---------------------------------------------------------------------------\u001b[0m",
      "\u001b[1;31mNameError\u001b[0m                                 Traceback (most recent call last)",
      "\u001b[1;32m<ipython-input-45-4c1a2828403e>\u001b[0m in \u001b[0;36m<module>\u001b[1;34m\u001b[0m\n\u001b[1;32m----> 1\u001b[1;33m \u001b[0mmodel\u001b[0m\u001b[1;33m.\u001b[0m\u001b[0mfit\u001b[0m\u001b[1;33m(\u001b[0m\u001b[0mX\u001b[0m\u001b[1;33m,\u001b[0m\u001b[0my\u001b[0m\u001b[1;33m)\u001b[0m\u001b[1;33m\u001b[0m\u001b[1;33m\u001b[0m\u001b[0m\n\u001b[0m",
      "\u001b[1;31mNameError\u001b[0m: name 'X' is not defined"
     ]
    }
   ],
   "source": [
    "model.fit(X,y)"
   ]
  },
  {
   "cell_type": "code",
   "execution_count": null,
   "id": "c5c0edff",
   "metadata": {},
   "outputs": [],
   "source": []
  }
 ],
 "metadata": {
  "kernelspec": {
   "display_name": "Python 3",
   "language": "python",
   "name": "python3"
  },
  "language_info": {
   "codemirror_mode": {
    "name": "ipython",
    "version": 3
   },
   "file_extension": ".py",
   "mimetype": "text/x-python",
   "name": "python",
   "nbconvert_exporter": "python",
   "pygments_lexer": "ipython3",
   "version": "3.8.8"
  }
 },
 "nbformat": 4,
 "nbformat_minor": 5
}
