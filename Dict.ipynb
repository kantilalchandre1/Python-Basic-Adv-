{
 "cells": [
  {
   "cell_type": "code",
   "execution_count": null,
   "id": "b6fde10f",
   "metadata": {},
   "outputs": [],
   "source": [
    "dict:\n",
    "    it is collection of items\n",
    "    \n",
    "    items --> key:value pair\n",
    "        \n",
    "    it is denoted by {}\n",
    "    \n",
    "    it is mutable type DS\n",
    "    \n",
    "    key:\n",
    "        always immuatable type \n",
    "        \n",
    "        str\n",
    "        tuple\n",
    "        frozenset\n",
    "        int\n",
    "        \n",
    "    value : mutable or imutable\n",
    "        \n",
    "    dupplicate key not allowed if we specity then it will consider latest value"
   ]
  },
  {
   "cell_type": "code",
   "execution_count": null,
   "id": "92b70cfc",
   "metadata": {},
   "outputs": [],
   "source": []
  },
  {
   "cell_type": "code",
   "execution_count": 19,
   "id": "1292f33c",
   "metadata": {},
   "outputs": [],
   "source": [
    "personal_Details= {'name':'Keshav','lname':'Patil','sal':75000,'city':'Pune'}"
   ]
  },
  {
   "cell_type": "code",
   "execution_count": 20,
   "id": "80e34cb7",
   "metadata": {},
   "outputs": [
    {
     "data": {
      "text/plain": [
       "{'name': 'Keshav', 'lname': 'Patil', 'sal': 75000, 'city': 'Pune'}"
      ]
     },
     "execution_count": 20,
     "metadata": {},
     "output_type": "execute_result"
    }
   ],
   "source": [
    "personal_Details"
   ]
  },
  {
   "cell_type": "code",
   "execution_count": null,
   "id": "da96ddba",
   "metadata": {},
   "outputs": [],
   "source": [
    "can we use tuple as key?\n",
    "yes we can ,but it is not recommnded"
   ]
  },
  {
   "cell_type": "code",
   "execution_count": 3,
   "id": "263a7c97",
   "metadata": {},
   "outputs": [],
   "source": [
    "t = {(1,2,3):'test'}"
   ]
  },
  {
   "cell_type": "code",
   "execution_count": 4,
   "id": "a5c5132a",
   "metadata": {},
   "outputs": [
    {
     "data": {
      "text/plain": [
       "{(1, 2, 3): 'test'}"
      ]
     },
     "execution_count": 4,
     "metadata": {},
     "output_type": "execute_result"
    }
   ],
   "source": [
    "t"
   ]
  },
  {
   "cell_type": "code",
   "execution_count": 5,
   "id": "130ea4a7",
   "metadata": {},
   "outputs": [
    {
     "ename": "TypeError",
     "evalue": "unhashable type: 'list'",
     "output_type": "error",
     "traceback": [
      "\u001b[1;31m---------------------------------------------------------------------------\u001b[0m",
      "\u001b[1;31mTypeError\u001b[0m                                 Traceback (most recent call last)",
      "\u001b[1;32m<ipython-input-5-8e372b65294c>\u001b[0m in \u001b[0;36m<module>\u001b[1;34m\u001b[0m\n\u001b[1;32m----> 1\u001b[1;33m \u001b[0mtb\u001b[0m \u001b[1;33m=\u001b[0m \u001b[1;33m{\u001b[0m\u001b[1;33m[\u001b[0m\u001b[1;36m1\u001b[0m\u001b[1;33m,\u001b[0m\u001b[1;36m2\u001b[0m\u001b[1;33m,\u001b[0m\u001b[1;36m3\u001b[0m\u001b[1;33m]\u001b[0m\u001b[1;33m:\u001b[0m\u001b[1;34m'test'\u001b[0m\u001b[1;33m}\u001b[0m\u001b[1;33m\u001b[0m\u001b[1;33m\u001b[0m\u001b[0m\n\u001b[0m",
      "\u001b[1;31mTypeError\u001b[0m: unhashable type: 'list'"
     ]
    }
   ],
   "source": [
    "tb = {[1,2,3]:'test'}"
   ]
  },
  {
   "cell_type": "code",
   "execution_count": null,
   "id": "4c78806c",
   "metadata": {},
   "outputs": [],
   "source": [
    "mutable/changable/unhashable\n",
    "\n",
    "immutable/unchangable/hashable"
   ]
  },
  {
   "cell_type": "code",
   "execution_count": null,
   "id": "034025c6",
   "metadata": {},
   "outputs": [],
   "source": []
  },
  {
   "cell_type": "code",
   "execution_count": 16,
   "id": "c97f178f",
   "metadata": {},
   "outputs": [],
   "source": [
    "emp = {\n",
    "    'name' :['jon','justin','jekky','perk'],\n",
    "    'age':[45,95,26,49],\n",
    "    'city':['Pune','Mumbai','Banglore','Chennai']\n",
    "}"
   ]
  },
  {
   "cell_type": "code",
   "execution_count": 17,
   "id": "01e0b108",
   "metadata": {},
   "outputs": [
    {
     "data": {
      "text/plain": [
       "{'name': ['jon', 'justin', 'jekky', 'perk'],\n",
       " 'age': [45, 95, 26, 49],\n",
       " 'city': ['Pune', 'Mumbai', 'Banglore', 'Chennai']}"
      ]
     },
     "execution_count": 17,
     "metadata": {},
     "output_type": "execute_result"
    }
   ],
   "source": [
    "emp"
   ]
  },
  {
   "cell_type": "code",
   "execution_count": 21,
   "id": "f03045fb",
   "metadata": {},
   "outputs": [
    {
     "data": {
      "text/plain": [
       "{'name': 'Keshav', 'lname': 'Patil', 'sal': 75000, 'city': 'Pune'}"
      ]
     },
     "execution_count": 21,
     "metadata": {},
     "output_type": "execute_result"
    }
   ],
   "source": [
    "personal_Details"
   ]
  },
  {
   "cell_type": "code",
   "execution_count": 24,
   "id": "70481912",
   "metadata": {},
   "outputs": [],
   "source": [
    "p = {'a':100,'b':250,'c':250,'d':950,'a':250,'a':350,'a':1000}"
   ]
  },
  {
   "cell_type": "code",
   "execution_count": 25,
   "id": "f48d56e5",
   "metadata": {},
   "outputs": [
    {
     "data": {
      "text/plain": [
       "{'a': 1000, 'b': 250, 'c': 250, 'd': 950}"
      ]
     },
     "execution_count": 25,
     "metadata": {},
     "output_type": "execute_result"
    }
   ],
   "source": [
    "p"
   ]
  },
  {
   "cell_type": "code",
   "execution_count": 26,
   "id": "d0ee93c0",
   "metadata": {},
   "outputs": [
    {
     "data": {
      "text/plain": [
       "{'a': 1000, 'b': 250, 'c': 250, 'd': 950}"
      ]
     },
     "execution_count": 26,
     "metadata": {},
     "output_type": "execute_result"
    }
   ],
   "source": [
    "p"
   ]
  },
  {
   "cell_type": "code",
   "execution_count": null,
   "id": "3dc11e32",
   "metadata": {},
   "outputs": [],
   "source": [
    "#how to access value from dict"
   ]
  },
  {
   "cell_type": "code",
   "execution_count": 27,
   "id": "a84d2486",
   "metadata": {},
   "outputs": [
    {
     "data": {
      "text/plain": [
       "{'a': 1000, 'b': 250, 'c': 250, 'd': 950}"
      ]
     },
     "execution_count": 27,
     "metadata": {},
     "output_type": "execute_result"
    }
   ],
   "source": [
    "p"
   ]
  },
  {
   "cell_type": "code",
   "execution_count": 28,
   "id": "66e1896b",
   "metadata": {},
   "outputs": [
    {
     "data": {
      "text/plain": [
       "{'name': 'Keshav', 'lname': 'Patil', 'sal': 75000, 'city': 'Pune'}"
      ]
     },
     "execution_count": 28,
     "metadata": {},
     "output_type": "execute_result"
    }
   ],
   "source": [
    "personal_Details"
   ]
  },
  {
   "cell_type": "code",
   "execution_count": 29,
   "id": "11fa84e5",
   "metadata": {},
   "outputs": [
    {
     "data": {
      "text/plain": [
       "75000"
      ]
     },
     "execution_count": 29,
     "metadata": {},
     "output_type": "execute_result"
    }
   ],
   "source": [
    "personal_Details['sal']"
   ]
  },
  {
   "cell_type": "code",
   "execution_count": 30,
   "id": "2bf570c1",
   "metadata": {},
   "outputs": [
    {
     "data": {
      "text/plain": [
       "'Pune'"
      ]
     },
     "execution_count": 30,
     "metadata": {},
     "output_type": "execute_result"
    }
   ],
   "source": [
    "personal_Details['city']"
   ]
  },
  {
   "cell_type": "code",
   "execution_count": 31,
   "id": "4027dcdc",
   "metadata": {},
   "outputs": [
    {
     "data": {
      "text/plain": [
       "'Pune'"
      ]
     },
     "execution_count": 31,
     "metadata": {},
     "output_type": "execute_result"
    }
   ],
   "source": [
    "personal_Details.get('city')"
   ]
  },
  {
   "cell_type": "code",
   "execution_count": 32,
   "id": "8f2fe37c",
   "metadata": {},
   "outputs": [
    {
     "ename": "KeyError",
     "evalue": "'sadfsdfsdfsdfa'",
     "output_type": "error",
     "traceback": [
      "\u001b[1;31m---------------------------------------------------------------------------\u001b[0m",
      "\u001b[1;31mKeyError\u001b[0m                                  Traceback (most recent call last)",
      "\u001b[1;32m<ipython-input-32-b807198966ac>\u001b[0m in \u001b[0;36m<module>\u001b[1;34m\u001b[0m\n\u001b[1;32m----> 1\u001b[1;33m \u001b[0mpersonal_Details\u001b[0m\u001b[1;33m[\u001b[0m\u001b[1;34m'sadfsdfsdfsdfa'\u001b[0m\u001b[1;33m]\u001b[0m\u001b[1;33m\u001b[0m\u001b[1;33m\u001b[0m\u001b[0m\n\u001b[0m",
      "\u001b[1;31mKeyError\u001b[0m: 'sadfsdfsdfsdfa'"
     ]
    }
   ],
   "source": [
    "personal_Details['sadfsdfsdfsdfa']"
   ]
  },
  {
   "cell_type": "code",
   "execution_count": 38,
   "id": "93da93ef",
   "metadata": {},
   "outputs": [
    {
     "data": {
      "text/plain": [
       "'no key present'"
      ]
     },
     "execution_count": 38,
     "metadata": {},
     "output_type": "execute_result"
    }
   ],
   "source": [
    "personal_Details.get('sadfsadfsadfsadfadfsdafasd','no key present')"
   ]
  },
  {
   "cell_type": "code",
   "execution_count": null,
   "id": "29afb309",
   "metadata": {},
   "outputs": [],
   "source": [
    "personal_Details."
   ]
  }
 ],
 "metadata": {
  "kernelspec": {
   "display_name": "Python 3",
   "language": "python",
   "name": "python3"
  },
  "language_info": {
   "codemirror_mode": {
    "name": "ipython",
    "version": 3
   },
   "file_extension": ".py",
   "mimetype": "text/x-python",
   "name": "python",
   "nbconvert_exporter": "python",
   "pygments_lexer": "ipython3",
   "version": "3.8.8"
  }
 },
 "nbformat": 4,
 "nbformat_minor": 5
}
