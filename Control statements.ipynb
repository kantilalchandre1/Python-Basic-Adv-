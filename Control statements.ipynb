{
 "cells": [
  {
   "cell_type": "code",
   "execution_count": null,
   "id": "adf85f42",
   "metadata": {},
   "outputs": [],
   "source": [
    "flow control statement."
   ]
  },
  {
   "cell_type": "code",
   "execution_count": 4,
   "id": "fa808701",
   "metadata": {},
   "outputs": [
    {
     "name": "stdout",
     "output_type": "stream",
     "text": [
      "1\n",
      "2\n",
      "3\n",
      "4\n"
     ]
    }
   ],
   "source": [
    "print(\"1\")\n",
    "print(\"2\")\n",
    "print(\"3\")\n",
    "print(\"4\")"
   ]
  },
  {
   "cell_type": "code",
   "execution_count": null,
   "id": "9e680a24",
   "metadata": {},
   "outputs": [],
   "source": [
    "by default flow of execution --> its sequential"
   ]
  },
  {
   "cell_type": "code",
   "execution_count": null,
   "id": "33cdc660",
   "metadata": {},
   "outputs": [],
   "source": [
    "flow control statement:\n",
    "    simple if \n",
    "    if-else\n",
    "    if-else ladder\n",
    "    nested if-else"
   ]
  },
  {
   "cell_type": "code",
   "execution_count": null,
   "id": "0f89f8d3",
   "metadata": {},
   "outputs": [],
   "source": [
    "simple if :\n",
    "    when we have single condition/one you can use simple if\n",
    "\n",
    "\n",
    "syntax:\n",
    "    \n",
    "    \n",
    "if condition:\n",
    "    block of statement/body"
   ]
  },
  {
   "cell_type": "code",
   "execution_count": null,
   "id": "7437f2f4",
   "metadata": {},
   "outputs": [],
   "source": [
    "if sdfsdfasdf:\n",
    "    sdfsdafsdafsadf\n",
    "    sdafasd\n",
    "    fsdaf\n",
    "    sdaf\n",
    "    sdfsad\n",
    "    fsda\n",
    "    fsdaf\n",
    "sdfsdafsadfsdaf\n",
    "asdfsadf\n",
    "sadfsd\n",
    "fsda\n",
    "fsda\n",
    "f\n",
    "    "
   ]
  },
  {
   "cell_type": "code",
   "execution_count": null,
   "id": "c8640f6a",
   "metadata": {},
   "outputs": [],
   "source": [
    "if condition: # True\n",
    "    block of statement/body"
   ]
  },
  {
   "cell_type": "code",
   "execution_count": 6,
   "id": "cc37026f",
   "metadata": {},
   "outputs": [
    {
     "name": "stdout",
     "output_type": "stream",
     "text": [
      "1\n",
      "4\n",
      "5\n"
     ]
    }
   ],
   "source": [
    "print(\"1\")\n",
    "a = 10\n",
    "if a<5:\n",
    "    print(\"2\")\n",
    "    print(\"3\")\n",
    "print(\"4\")\n",
    "print(\"5\")"
   ]
  },
  {
   "cell_type": "code",
   "execution_count": 16,
   "id": "12c55e53",
   "metadata": {},
   "outputs": [
    {
     "name": "stdout",
     "output_type": "stream",
     "text": [
      "welcome to voting program \n",
      "Enter the age:36\n",
      "You are eligible to vote\n",
      "Thanks for visting\n"
     ]
    }
   ],
   "source": [
    "print(\"welcome to voting program \")\n",
    "age = int(input(\"Enter the age:\"))\n",
    "if age>=18:\n",
    "    print(\"Your Age is : {}, You are eligible to vote\".format(age))\n",
    "print(\"Thanks for visting\")"
   ]
  },
  {
   "cell_type": "code",
   "execution_count": 19,
   "id": "3638ee45",
   "metadata": {},
   "outputs": [],
   "source": [
    "filename = 'PX_23232_24.11.2023_.pdf'"
   ]
  },
  {
   "cell_type": "code",
   "execution_count": 20,
   "id": "11ffadf0",
   "metadata": {},
   "outputs": [
    {
     "name": "stdout",
     "output_type": "stream",
     "text": [
      "end\n"
     ]
    }
   ],
   "source": [
    "if filename.startswith('PX') and filename.endswith('.csv'):\n",
    "    print(\"file processing...:\",filename)\n",
    "print(\"end\")"
   ]
  },
  {
   "cell_type": "code",
   "execution_count": null,
   "id": "bccd52dd",
   "metadata": {},
   "outputs": [],
   "source": [
    "if-else\n",
    "\n",
    "when we have two condition opposite to each other"
   ]
  },
  {
   "cell_type": "code",
   "execution_count": null,
   "id": "98966262",
   "metadata": {},
   "outputs": [],
   "source": [
    "if condition: #True/False\n",
    "    body/block of code\n",
    "else:\n",
    "    body/block of code\n",
    "statement"
   ]
  },
  {
   "cell_type": "code",
   "execution_count": null,
   "id": "8edabcce",
   "metadata": {},
   "outputs": [],
   "source": [
    "1.if\n",
    "2.else\n",
    "Note : else never have condition"
   ]
  },
  {
   "cell_type": "code",
   "execution_count": 22,
   "id": "638f8dda",
   "metadata": {},
   "outputs": [
    {
     "name": "stdout",
     "output_type": "stream",
     "text": [
      "Enter the number:12\n",
      "given number 12 is even number\n"
     ]
    }
   ],
   "source": [
    "no = int(input(\"Enter the number:\"))\n",
    "if no%2==0:\n",
    "    print(\"given number {} is even number\".format(no))\n",
    "else:\n",
    "    print(\"given numner {} is odd number\".format(no))"
   ]
  },
  {
   "cell_type": "code",
   "execution_count": null,
   "id": "836f3b86",
   "metadata": {},
   "outputs": [],
   "source": []
  },
  {
   "cell_type": "code",
   "execution_count": 24,
   "id": "6ae6a780",
   "metadata": {},
   "outputs": [
    {
     "name": "stdout",
     "output_type": "stream",
     "text": [
      "enter the email of gmail domain:sample@yahoo.com\n",
      "Given email ----> sample@yahoo.com is invalid email.\n"
     ]
    }
   ],
   "source": [
    "email = input(\"enter the email of gmail domain:\")\n",
    "if email.endswith('@gmail.com'):\n",
    "    print(\"Given email ----> {} is valid email.\".format(email))\n",
    "else:\n",
    "    print(\"Given email ----> {} is invalid email.\".format(email))"
   ]
  },
  {
   "cell_type": "code",
   "execution_count": 28,
   "id": "08ada40d",
   "metadata": {},
   "outputs": [
    {
     "name": "stdout",
     "output_type": "stream",
     "text": [
      "Enter today's sabji name:Shepu\n",
      "I am having Dinner at Home\n",
      "Thanks for update\n"
     ]
    }
   ],
   "source": [
    "Sabji = [\"Methi\",\"Shepu\",\"Chana-Masala\",\"Usal\"]\n",
    "Sabji_Menu = input((\"Enter today's sabji name:\"))\n",
    "if Sabji_Menu in Sabji:\n",
    "    print(\"I am having Dinner at Home\")\n",
    "else:\n",
    "    print(\"No, I will order from Zomato instead of having dinner at Home\")\n",
    "print(\"Thanks for update\")"
   ]
  },
  {
   "cell_type": "code",
   "execution_count": 29,
   "id": "499e9974",
   "metadata": {},
   "outputs": [
    {
     "ename": "SyntaxError",
     "evalue": "invalid syntax (<ipython-input-29-9bafe559e317>, line 1)",
     "output_type": "error",
     "traceback": [
      "\u001b[1;36m  File \u001b[1;32m\"<ipython-input-29-9bafe559e317>\"\u001b[1;36m, line \u001b[1;32m1\u001b[0m\n\u001b[1;33m    more than two condition\u001b[0m\n\u001b[1;37m         ^\u001b[0m\n\u001b[1;31mSyntaxError\u001b[0m\u001b[1;31m:\u001b[0m invalid syntax\n"
     ]
    }
   ],
   "source": [
    "more than two condition\n",
    "\n",
    "if condition1:\n",
    "    block1\n",
    "elif condition2:\n",
    "    block2\n",
    "elif condition3:\n",
    "    block3\n",
    "elif condition4:\n",
    "    block4\n",
    "    |\n",
    "    |\n",
    "elif condition n:\n",
    "    block n\n",
    "else:\n",
    "    default block\n",
    "\n",
    "statement"
   ]
  },
  {
   "cell_type": "code",
   "execution_count": 31,
   "id": "472e1060",
   "metadata": {},
   "outputs": [
    {
     "name": "stdout",
     "output_type": "stream",
     "text": [
      "3\n",
      "end\n"
     ]
    }
   ],
   "source": [
    "a = 10\n",
    "\n",
    "if a<5:\n",
    "    print(\"1\")\n",
    "elif a<3:\n",
    "    print(\"2\")\n",
    "elif a>9:\n",
    "    print(\"3\")\n",
    "elif a>8:\n",
    "    print(\"4\")\n",
    "else:\n",
    "    print(\"else\")\n",
    "    \n",
    "print(\"end\")"
   ]
  },
  {
   "cell_type": "code",
   "execution_count": null,
   "id": "63951ab9",
   "metadata": {},
   "outputs": [],
   "source": [
    "csv\n",
    "pdf\n",
    "excel\n",
    "txt"
   ]
  },
  {
   "cell_type": "code",
   "execution_count": 34,
   "id": "ee9c4083",
   "metadata": {},
   "outputs": [
    {
     "name": "stdout",
     "output_type": "stream",
     "text": [
      "Enter the filename:sample.txt\n",
      "Processing text file\n",
      "end\n"
     ]
    }
   ],
   "source": [
    "filename = input(\"Enter the filename:\")\n",
    "\n",
    "if filename.endswith(\".csv\"):\n",
    "    print(\"Processsing csv file --logic\")\n",
    "elif filename.endswith(\".pdf\"):\n",
    "    print(\"Processing pdf file -- logic\")\n",
    "elif filename.endswith('.xlsx'):\n",
    "    print(\"Processing excel file\")\n",
    "elif filename.endswith(\".txt\"):\n",
    "    print(\"Processing text file\")\n",
    "else:\n",
    "    print(\"invalid filename\")\n",
    "print(\"end\")"
   ]
  },
  {
   "cell_type": "code",
   "execution_count": null,
   "id": "6c6de07c",
   "metadata": {},
   "outputs": [],
   "source": [
    "simple if\n",
    "if -else\n",
    "if-else-ladder"
   ]
  },
  {
   "cell_type": "code",
   "execution_count": null,
   "id": "612f63b4",
   "metadata": {},
   "outputs": [],
   "source": []
  },
  {
   "cell_type": "code",
   "execution_count": null,
   "id": "5ece64a6",
   "metadata": {},
   "outputs": [],
   "source": []
  }
 ],
 "metadata": {
  "kernelspec": {
   "display_name": "Python 3",
   "language": "python",
   "name": "python3"
  },
  "language_info": {
   "codemirror_mode": {
    "name": "ipython",
    "version": 3
   },
   "file_extension": ".py",
   "mimetype": "text/x-python",
   "name": "python",
   "nbconvert_exporter": "python",
   "pygments_lexer": "ipython3",
   "version": "3.8.8"
  }
 },
 "nbformat": 4,
 "nbformat_minor": 5
}
