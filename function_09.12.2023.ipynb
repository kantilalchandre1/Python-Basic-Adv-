{
 "cells": [
  {
   "cell_type": "code",
   "execution_count": null,
   "id": "e5fe6aca",
   "metadata": {},
   "outputs": [],
   "source": [
    "2.default arguments:"
   ]
  },
  {
   "cell_type": "code",
   "execution_count": 15,
   "id": "291ea5c7",
   "metadata": {},
   "outputs": [],
   "source": [
    "def product_details(prdid,prdname,prdprice,prddim=None):\n",
    "    print(\"PRDID:\",prdid)\n",
    "    print(\"PRDNAME:\",prdname)\n",
    "    print(\"PRDPRICE:\",prdprice)\n",
    "    print(\"PRDDIM:\",prddim)\n",
    "    if prddim:\n",
    "        print(\"prd dimension is given:\",prddim)\n",
    "    else:\n",
    "        print(\"is missing\")"
   ]
  },
  {
   "cell_type": "code",
   "execution_count": 17,
   "id": "c22ca5cf",
   "metadata": {},
   "outputs": [
    {
     "name": "stdout",
     "output_type": "stream",
     "text": [
      "PRDID: 45\n",
      "PRDNAME: copper\n",
      "PRDPRICE: 94949\n",
      "PRDDIM: None\n",
      "is missing\n"
     ]
    }
   ],
   "source": [
    "product_details(45,'copper',94949)"
   ]
  },
  {
   "cell_type": "code",
   "execution_count": null,
   "id": "1ea12d3e",
   "metadata": {},
   "outputs": [],
   "source": [
    "calculate dim  --> Product :\n",
    "    dim --> calculate\n",
    "    \n",
    "    Assigment:\n",
    "    \n",
    "    dim --> L,W,H --> dim\n",
    "    dim --> take it as it is ,L,W,H,-None\n",
    "    dim --= None ---> L,W,H --> L*W*H"
   ]
  },
  {
   "cell_type": "code",
   "execution_count": null,
   "id": "c1758f35",
   "metadata": {},
   "outputs": [],
   "source": [
    "3.variable length arguments:"
   ]
  },
  {
   "cell_type": "code",
   "execution_count": 18,
   "id": "955495a6",
   "metadata": {},
   "outputs": [],
   "source": [
    "def add(x,y):\n",
    "    c =x+y\n",
    "    print(c)"
   ]
  },
  {
   "cell_type": "code",
   "execution_count": 19,
   "id": "e21d0e07",
   "metadata": {},
   "outputs": [
    {
     "ename": "TypeError",
     "evalue": "add() takes 2 positional arguments but 3 were given",
     "output_type": "error",
     "traceback": [
      "\u001b[1;31m---------------------------------------------------------------------------\u001b[0m",
      "\u001b[1;31mTypeError\u001b[0m                                 Traceback (most recent call last)",
      "\u001b[1;32m<ipython-input-19-4bd1618c4157>\u001b[0m in \u001b[0;36m<module>\u001b[1;34m\u001b[0m\n\u001b[1;32m----> 1\u001b[1;33m \u001b[0madd\u001b[0m\u001b[1;33m(\u001b[0m\u001b[1;36m10\u001b[0m\u001b[1;33m,\u001b[0m\u001b[1;36m50\u001b[0m\u001b[1;33m,\u001b[0m\u001b[1;36m90\u001b[0m\u001b[1;33m)\u001b[0m\u001b[1;33m\u001b[0m\u001b[1;33m\u001b[0m\u001b[0m\n\u001b[0m",
      "\u001b[1;31mTypeError\u001b[0m: add() takes 2 positional arguments but 3 were given"
     ]
    }
   ],
   "source": [
    "add(10,50,90)"
   ]
  },
  {
   "cell_type": "code",
   "execution_count": 23,
   "id": "d3e7f267",
   "metadata": {},
   "outputs": [],
   "source": [
    "def add(*args):\n",
    "    total = 0\n",
    "    for i in args:\n",
    "        total=total+i\n",
    "    print(\"Total:\",total)"
   ]
  },
  {
   "cell_type": "code",
   "execution_count": 30,
   "id": "d05d593b",
   "metadata": {},
   "outputs": [
    {
     "name": "stdout",
     "output_type": "stream",
     "text": [
      "Total: 245\n"
     ]
    }
   ],
   "source": [
    "add(7,15,15,1,58,148,1)"
   ]
  },
  {
   "cell_type": "code",
   "execution_count": null,
   "id": "273e1447",
   "metadata": {},
   "outputs": [],
   "source": [
    "*var -- > "
   ]
  },
  {
   "cell_type": "code",
   "execution_count": 38,
   "id": "978e060e",
   "metadata": {},
   "outputs": [],
   "source": [
    "def details(*test):\n",
    "    print(\"*\"*20)\n",
    "    print(test)\n",
    "    print(\"*\"*20)"
   ]
  },
  {
   "cell_type": "code",
   "execution_count": 41,
   "id": "1cbd47b0",
   "metadata": {},
   "outputs": [
    {
     "name": "stdout",
     "output_type": "stream",
     "text": [
      "********************\n",
      "('keshav',)\n",
      "********************\n"
     ]
    }
   ],
   "source": [
    "details('keshav')"
   ]
  },
  {
   "cell_type": "code",
   "execution_count": 44,
   "id": "c73724f0",
   "metadata": {},
   "outputs": [],
   "source": [
    "def per_details(id,name,sal,city,pan,aadhar,deptid,deptname):\n",
    "    print(\"id:\",id)\n",
    "    print(\"Name:\",name)\n",
    "    print(\"sal:\",sal)\n",
    "    print(\"city:\",city)\n",
    "    print(\"pan:\",pan)\n",
    "    print(\"aadhar:\",aadhar)\n",
    "    print(\"deptid:\",deptid)\n",
    "    print(\"deptname:\",deptname)       "
   ]
  },
  {
   "cell_type": "code",
   "execution_count": 47,
   "id": "0c4d887c",
   "metadata": {},
   "outputs": [
    {
     "name": "stdout",
     "output_type": "stream",
     "text": [
      "id: 101\n",
      "Name: Rahul\n",
      "sal: 7984194\n",
      "city: Mumbai\n",
      "pan: SDFGSDFG53454\n",
      "aadhar: 454354534\n",
      "deptid: 950\n",
      "deptname: Admin\n"
     ]
    }
   ],
   "source": [
    "per_details(pan='SDFGSDFG53454',deptid=950,id=101,city='Mumbai',sal=7984194,name='Rahul',deptname='Admin',aadhar=454354534)"
   ]
  },
  {
   "cell_type": "code",
   "execution_count": 49,
   "id": "5d85c68b",
   "metadata": {},
   "outputs": [],
   "source": [
    "# 1.positional vs keyword\n",
    "\n",
    "# positional --> less arguments\n",
    "# Keyword arguments --> more arguments"
   ]
  },
  {
   "cell_type": "code",
   "execution_count": null,
   "id": "2df3dca4",
   "metadata": {},
   "outputs": [],
   "source": [
    "4.keyword arguments:"
   ]
  },
  {
   "cell_type": "code",
   "execution_count": 45,
   "id": "50359e7e",
   "metadata": {},
   "outputs": [
    {
     "name": "stdout",
     "output_type": "stream",
     "text": [
      "id: 101\n",
      "Name: Pranit\n",
      "sal: 75000\n",
      "city: Pune\n",
      "pan: ASDF54534\n",
      "aadhar: 6546546546546\n",
      "deptid: 450\n",
      "deptname: IT\n"
     ]
    }
   ],
   "source": [
    "per_details(101,'Pranit',75000,'Pune','ASDF54534',6546546546546,450,'IT')"
   ]
  },
  {
   "cell_type": "code",
   "execution_count": null,
   "id": "b76d26f0",
   "metadata": {},
   "outputs": [],
   "source": [
    "5.variable length keyword arguments:"
   ]
  },
  {
   "cell_type": "code",
   "execution_count": 50,
   "id": "ba27caa7",
   "metadata": {},
   "outputs": [],
   "source": [
    "def emp_details(**kwargs):\n",
    "    print(kwargs)"
   ]
  },
  {
   "cell_type": "code",
   "execution_count": 51,
   "id": "5638ac3e",
   "metadata": {},
   "outputs": [],
   "source": [
    "#what is PEP8?"
   ]
  },
  {
   "cell_type": "code",
   "execution_count": 52,
   "id": "c0fbe3dc",
   "metadata": {},
   "outputs": [],
   "source": [
    "def emp_details(**kwargs):\n",
    "    print(kwargs)"
   ]
  },
  {
   "cell_type": "code",
   "execution_count": 54,
   "id": "6a6a93f6",
   "metadata": {},
   "outputs": [
    {
     "name": "stdout",
     "output_type": "stream",
     "text": [
      "{'dept': 'IT', 'deptname': 'HR', 'deptloc': 'Pune', 'deptid': 4580}\n"
     ]
    }
   ],
   "source": [
    "emp_details(dept='IT',deptname='HR',deptloc='Pune',deptid=4580)"
   ]
  },
  {
   "cell_type": "code",
   "execution_count": null,
   "id": "6c6d46af",
   "metadata": {},
   "outputs": [],
   "source": [
    "*args vs **kwargs:\n",
    "------------------\n",
    "*args --> tuple\n",
    "\n",
    "**kwargs --> dict"
   ]
  },
  {
   "cell_type": "code",
   "execution_count": null,
   "id": "c27125e3",
   "metadata": {},
   "outputs": [],
   "source": [
    "positional\n",
    "default\n",
    "keyword "
   ]
  },
  {
   "cell_type": "code",
   "execution_count": null,
   "id": "1df72361",
   "metadata": {},
   "outputs": [],
   "source": [
    "Types of Variables:\n",
    "-------------------\n",
    "1.Global variable\n",
    "2.local variable\n",
    "\n",
    "global keyword \n",
    "globals\n",
    "\n",
    "Docker / Python 46 ="
   ]
  }
 ],
 "metadata": {
  "kernelspec": {
   "display_name": "Python 3",
   "language": "python",
   "name": "python3"
  },
  "language_info": {
   "codemirror_mode": {
    "name": "ipython",
    "version": 3
   },
   "file_extension": ".py",
   "mimetype": "text/x-python",
   "name": "python",
   "nbconvert_exporter": "python",
   "pygments_lexer": "ipython3",
   "version": "3.8.8"
  }
 },
 "nbformat": 4,
 "nbformat_minor": 5
}
