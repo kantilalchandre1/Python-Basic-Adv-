{
 "cells": [
  {
   "cell_type": "code",
   "execution_count": null,
   "id": "a1e86cd1",
   "metadata": {},
   "outputs": [],
   "source": [
    "function alicing:\n",
    "    function --> name denote"
   ]
  },
  {
   "cell_type": "code",
   "execution_count": 1,
   "id": "d301dce7",
   "metadata": {},
   "outputs": [],
   "source": [
    "def m1():\n",
    "    print(\"in m1\")"
   ]
  },
  {
   "cell_type": "code",
   "execution_count": 2,
   "id": "4fa62177",
   "metadata": {},
   "outputs": [
    {
     "name": "stdout",
     "output_type": "stream",
     "text": [
      "in m1\n"
     ]
    }
   ],
   "source": [
    "m1()"
   ]
  },
  {
   "cell_type": "code",
   "execution_count": 3,
   "id": "42a15b2d",
   "metadata": {},
   "outputs": [],
   "source": [
    "t1 = m1"
   ]
  },
  {
   "cell_type": "code",
   "execution_count": 4,
   "id": "6023a28a",
   "metadata": {},
   "outputs": [
    {
     "name": "stdout",
     "output_type": "stream",
     "text": [
      "in m1\n"
     ]
    }
   ],
   "source": [
    "t1()"
   ]
  },
  {
   "cell_type": "code",
   "execution_count": 5,
   "id": "68947a9f",
   "metadata": {},
   "outputs": [],
   "source": [
    "#nested function"
   ]
  },
  {
   "cell_type": "code",
   "execution_count": 6,
   "id": "6050e149",
   "metadata": {},
   "outputs": [],
   "source": [
    "def m1():\n",
    "    print(\"in m1\")\n",
    "    def m2():\n",
    "        print(\"in m2\")        "
   ]
  },
  {
   "cell_type": "code",
   "execution_count": 7,
   "id": "2f9b8e7a",
   "metadata": {},
   "outputs": [
    {
     "name": "stdout",
     "output_type": "stream",
     "text": [
      "in m1\n"
     ]
    }
   ],
   "source": [
    "m1()"
   ]
  },
  {
   "cell_type": "code",
   "execution_count": 8,
   "id": "af692f9b",
   "metadata": {},
   "outputs": [
    {
     "ename": "NameError",
     "evalue": "name 'm2' is not defined",
     "output_type": "error",
     "traceback": [
      "\u001b[1;31m---------------------------------------------------------------------------\u001b[0m",
      "\u001b[1;31mNameError\u001b[0m                                 Traceback (most recent call last)",
      "\u001b[1;32m<ipython-input-8-a2b9525b1bd6>\u001b[0m in \u001b[0;36m<module>\u001b[1;34m\u001b[0m\n\u001b[1;32m----> 1\u001b[1;33m \u001b[0mm2\u001b[0m\u001b[1;33m(\u001b[0m\u001b[1;33m)\u001b[0m\u001b[1;33m\u001b[0m\u001b[1;33m\u001b[0m\u001b[0m\n\u001b[0m",
      "\u001b[1;31mNameError\u001b[0m: name 'm2' is not defined"
     ]
    }
   ],
   "source": [
    "m2()"
   ]
  },
  {
   "cell_type": "code",
   "execution_count": 9,
   "id": "c5d89729",
   "metadata": {},
   "outputs": [],
   "source": [
    "def t1():\n",
    "    a = 450\n",
    "    return a"
   ]
  },
  {
   "cell_type": "code",
   "execution_count": 10,
   "id": "08f62bef",
   "metadata": {},
   "outputs": [],
   "source": [
    "y = t1()"
   ]
  },
  {
   "cell_type": "code",
   "execution_count": 11,
   "id": "f5324957",
   "metadata": {},
   "outputs": [
    {
     "data": {
      "text/plain": [
       "450"
      ]
     },
     "execution_count": 11,
     "metadata": {},
     "output_type": "execute_result"
    }
   ],
   "source": [
    "y"
   ]
  },
  {
   "cell_type": "code",
   "execution_count": 12,
   "id": "0e3848fc",
   "metadata": {},
   "outputs": [],
   "source": [
    "def m1():\n",
    "    print(\"in m1\")\n",
    "    def m2():\n",
    "        print(\"in m2\")\n",
    "    return m2"
   ]
  },
  {
   "cell_type": "code",
   "execution_count": 13,
   "id": "17bd892a",
   "metadata": {},
   "outputs": [
    {
     "name": "stdout",
     "output_type": "stream",
     "text": [
      "in m1\n"
     ]
    }
   ],
   "source": [
    "test = m1() # test = m2 function alising "
   ]
  },
  {
   "cell_type": "code",
   "execution_count": 14,
   "id": "fe321d79",
   "metadata": {},
   "outputs": [
    {
     "name": "stdout",
     "output_type": "stream",
     "text": [
      "in m2\n"
     ]
    }
   ],
   "source": [
    "test()"
   ]
  },
  {
   "cell_type": "code",
   "execution_count": 17,
   "id": "9cfdf5f5",
   "metadata": {},
   "outputs": [],
   "source": [
    "def t1():\n",
    "    def m5():\n",
    "        print(\"in m5\")\n",
    "    return m5"
   ]
  },
  {
   "cell_type": "code",
   "execution_count": 18,
   "id": "874690e9",
   "metadata": {},
   "outputs": [],
   "source": [
    "temp = t1()"
   ]
  },
  {
   "cell_type": "code",
   "execution_count": 22,
   "id": "bba5651e",
   "metadata": {},
   "outputs": [
    {
     "name": "stdout",
     "output_type": "stream",
     "text": [
      "in m5\n"
     ]
    }
   ],
   "source": [
    "temp()"
   ]
  },
  {
   "cell_type": "code",
   "execution_count": null,
   "id": "fa4426bd",
   "metadata": {},
   "outputs": [],
   "source": [
    "1.function alicing\n",
    "2.nested function access from outside"
   ]
  },
  {
   "cell_type": "code",
   "execution_count": null,
   "id": "22e9f293",
   "metadata": {},
   "outputs": [],
   "source": [
    "Decorators: # interview\n",
    "    decorator is function which enhanced functionality of other function \n",
    "    without changing its original structure"
   ]
  },
  {
   "cell_type": "code",
   "execution_count": null,
   "id": "2cfcce96",
   "metadata": {},
   "outputs": [],
   "source": [
    "function \n",
    "types of function\n",
    "types of arguments/parameters\n",
    "types of variables\n",
    "decorator : "
   ]
  },
  {
   "cell_type": "code",
   "execution_count": null,
   "id": "b291d184",
   "metadata": {},
   "outputs": [],
   "source": []
  },
  {
   "cell_type": "code",
   "execution_count": 44,
   "id": "c4a14469",
   "metadata": {},
   "outputs": [],
   "source": [
    "def decor(fun):  # fun == welcome\n",
    "    def inner():\n",
    "        print(\"*\"*50)\n",
    "        fun()\n",
    "        print(\"*\"*50)\n",
    "    return inner\n",
    "\n",
    "def welcome():\n",
    "    print(\"Welcome to Data Science Program\")"
   ]
  },
  {
   "cell_type": "code",
   "execution_count": 45,
   "id": "a8e7b6ea",
   "metadata": {},
   "outputs": [],
   "source": [
    "r = decor(welcome)"
   ]
  },
  {
   "cell_type": "code",
   "execution_count": 46,
   "id": "a82d4b64",
   "metadata": {},
   "outputs": [
    {
     "name": "stdout",
     "output_type": "stream",
     "text": [
      "**************************************************\n",
      "Welcome to Data Science Program\n",
      "**************************************************\n"
     ]
    }
   ],
   "source": [
    "r()"
   ]
  },
  {
   "cell_type": "code",
   "execution_count": null,
   "id": "626b032c",
   "metadata": {},
   "outputs": [],
   "source": [
    "*********************************************\n",
    "Welcome to Data Science Program\n",
    "*********************************************"
   ]
  },
  {
   "cell_type": "code",
   "execution_count": 40,
   "id": "3b31aee4",
   "metadata": {},
   "outputs": [],
   "source": [
    "@decor\n",
    "def show():\n",
    "    print(\"Python is most popular lang for AI\".center(50))"
   ]
  },
  {
   "cell_type": "code",
   "execution_count": 41,
   "id": "2413c3d5",
   "metadata": {},
   "outputs": [
    {
     "name": "stdout",
     "output_type": "stream",
     "text": [
      "**************************************************\n",
      "        Python is most popular lang for AI        \n",
      "**************************************************\n"
     ]
    }
   ],
   "source": [
    "show()"
   ]
  },
  {
   "cell_type": "code",
   "execution_count": null,
   "id": "79449282",
   "metadata": {},
   "outputs": [],
   "source": []
  },
  {
   "cell_type": "code",
   "execution_count": 38,
   "id": "ec9f2d42",
   "metadata": {},
   "outputs": [],
   "source": [
    "@decor\n",
    "def add():\n",
    "    a = 75\n",
    "    b = 100\n",
    "    print(str(a+b).center(50))"
   ]
  },
  {
   "cell_type": "code",
   "execution_count": 39,
   "id": "9b9ffeea",
   "metadata": {},
   "outputs": [
    {
     "name": "stdout",
     "output_type": "stream",
     "text": [
      "**************************************************\n",
      "                       175                        \n",
      "**************************************************\n"
     ]
    }
   ],
   "source": [
    "add()"
   ]
  },
  {
   "cell_type": "code",
   "execution_count": null,
   "id": "d27c1ea1",
   "metadata": {},
   "outputs": [],
   "source": []
  }
 ],
 "metadata": {
  "kernelspec": {
   "display_name": "Python 3",
   "language": "python",
   "name": "python3"
  },
  "language_info": {
   "codemirror_mode": {
    "name": "ipython",
    "version": 3
   },
   "file_extension": ".py",
   "mimetype": "text/x-python",
   "name": "python",
   "nbconvert_exporter": "python",
   "pygments_lexer": "ipython3",
   "version": "3.8.8"
  }
 },
 "nbformat": 4,
 "nbformat_minor": 5
}
