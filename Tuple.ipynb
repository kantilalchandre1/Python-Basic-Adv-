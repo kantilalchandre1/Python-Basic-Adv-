{
 "cells": [
  {
   "cell_type": "code",
   "execution_count": null,
   "id": "5f1e8ffe",
   "metadata": {},
   "outputs": [],
   "source": [
    "Tuple:\n",
    "    it is collection of data type /elements\n",
    "    it is denoted by ()\n",
    "    it is immutable type --- >\n",
    "    once create we cannt change its originla structure:\n",
    "        \n",
    "    zero based index -->index start= 0\n",
    "    indexing:\n",
    "        forward/positive\n",
    "        start = 0 \n",
    "        \n",
    "        reverse/negative \n",
    "        start =-1\n",
    "    \n",
    "    duplicate values are allowed\n",
    "    ordered type DS\n",
    "    "
   ]
  },
  {
   "cell_type": "code",
   "execution_count": null,
   "id": "98670a1d",
   "metadata": {},
   "outputs": [],
   "source": [
    "some data "
   ]
  },
  {
   "cell_type": "code",
   "execution_count": null,
   "id": "1436b193",
   "metadata": {},
   "outputs": [],
   "source": [
    "Product details\n",
    "\n",
    "prdid prdname prdprice prdsales prdqnty\n",
    "\n",
    "\n",
    "immutable type"
   ]
  },
  {
   "cell_type": "code",
   "execution_count": 1,
   "id": "9eabf381",
   "metadata": {},
   "outputs": [],
   "source": [
    "cred = ('admin','admin@123')"
   ]
  },
  {
   "cell_type": "code",
   "execution_count": null,
   "id": "6ec19d35",
   "metadata": {},
   "outputs": [],
   "source": [
    "read only mode"
   ]
  },
  {
   "cell_type": "code",
   "execution_count": 5,
   "id": "ca64a2f5",
   "metadata": {},
   "outputs": [],
   "source": [
    "py_tuple = (45,756,34,786,34,7567,'Python') # create ordered type DS"
   ]
  },
  {
   "cell_type": "code",
   "execution_count": 6,
   "id": "9b2282a1",
   "metadata": {},
   "outputs": [
    {
     "data": {
      "text/plain": [
       "(45, 756, 34, 786, 34, 7567, 'Python')"
      ]
     },
     "execution_count": 6,
     "metadata": {},
     "output_type": "execute_result"
    }
   ],
   "source": [
    "py_tuple"
   ]
  },
  {
   "cell_type": "code",
   "execution_count": 7,
   "id": "2379309e",
   "metadata": {},
   "outputs": [
    {
     "ename": "AttributeError",
     "evalue": "'tuple' object has no attribute 'insert'",
     "output_type": "error",
     "traceback": [
      "\u001b[1;31m---------------------------------------------------------------------------\u001b[0m",
      "\u001b[1;31mAttributeError\u001b[0m                            Traceback (most recent call last)",
      "\u001b[1;32m<ipython-input-7-627ab9f57da1>\u001b[0m in \u001b[0;36m<module>\u001b[1;34m\u001b[0m\n\u001b[1;32m----> 1\u001b[1;33m \u001b[0mpy_tuple\u001b[0m\u001b[1;33m.\u001b[0m\u001b[0minsert\u001b[0m\u001b[1;33m(\u001b[0m\u001b[1;36m1\u001b[0m\u001b[1;33m,\u001b[0m\u001b[1;36m100\u001b[0m\u001b[1;33m)\u001b[0m\u001b[1;33m\u001b[0m\u001b[1;33m\u001b[0m\u001b[0m\n\u001b[0m",
      "\u001b[1;31mAttributeError\u001b[0m: 'tuple' object has no attribute 'insert'"
     ]
    }
   ],
   "source": [
    "py_tuple.insert(1,100)"
   ]
  },
  {
   "cell_type": "code",
   "execution_count": 8,
   "id": "76dc4f68",
   "metadata": {},
   "outputs": [
    {
     "data": {
      "text/plain": [
       "tuple"
      ]
     },
     "execution_count": 8,
     "metadata": {},
     "output_type": "execute_result"
    }
   ],
   "source": [
    "type(py_tuple)"
   ]
  },
  {
   "cell_type": "code",
   "execution_count": null,
   "id": "6fcce2ba",
   "metadata": {},
   "outputs": [],
   "source": [
    "insert()  --> method is not available in Tuple --> AttributeError"
   ]
  },
  {
   "cell_type": "code",
   "execution_count": 9,
   "id": "18309b94",
   "metadata": {},
   "outputs": [
    {
     "data": {
      "text/plain": [
       "2"
      ]
     },
     "execution_count": 9,
     "metadata": {},
     "output_type": "execute_result"
    }
   ],
   "source": [
    "py_tuple.count(34)"
   ]
  },
  {
   "cell_type": "code",
   "execution_count": 10,
   "id": "b10b60cb",
   "metadata": {},
   "outputs": [
    {
     "data": {
      "text/plain": [
       "6"
      ]
     },
     "execution_count": 10,
     "metadata": {},
     "output_type": "execute_result"
    }
   ],
   "source": [
    "py_tuple.index('Python')"
   ]
  },
  {
   "cell_type": "code",
   "execution_count": null,
   "id": "924821e4",
   "metadata": {},
   "outputs": [],
   "source": [
    "Interview?\n",
    "\n",
    "1.can we define tuple inside list and vice versa?\n",
    "Ans : Yes,we can define.but property remains same\n",
    "\n",
    "2.can we insert new element into tuple?\n",
    "Ans: No,but we can insert using typeCasting -- str --> concept\n"
   ]
  },
  {
   "cell_type": "code",
   "execution_count": 11,
   "id": "fa0e3116",
   "metadata": {},
   "outputs": [],
   "source": [
    "p = [23,75,23,756,34,(100,400,500),'python','machine learning']"
   ]
  },
  {
   "cell_type": "code",
   "execution_count": 15,
   "id": "74ddf14c",
   "metadata": {},
   "outputs": [
    {
     "ename": "AttributeError",
     "evalue": "'tuple' object has no attribute 'append'",
     "output_type": "error",
     "traceback": [
      "\u001b[1;31m---------------------------------------------------------------------------\u001b[0m",
      "\u001b[1;31mAttributeError\u001b[0m                            Traceback (most recent call last)",
      "\u001b[1;32m<ipython-input-15-a799537f52d5>\u001b[0m in \u001b[0;36m<module>\u001b[1;34m\u001b[0m\n\u001b[1;32m----> 1\u001b[1;33m \u001b[0mp\u001b[0m\u001b[1;33m[\u001b[0m\u001b[1;36m5\u001b[0m\u001b[1;33m]\u001b[0m\u001b[1;33m.\u001b[0m\u001b[0mappend\u001b[0m\u001b[1;33m(\u001b[0m\u001b[1;36m420\u001b[0m\u001b[1;33m)\u001b[0m\u001b[1;33m\u001b[0m\u001b[1;33m\u001b[0m\u001b[0m\n\u001b[0m",
      "\u001b[1;31mAttributeError\u001b[0m: 'tuple' object has no attribute 'append'"
     ]
    }
   ],
   "source": [
    "p[5].append(420)"
   ]
  },
  {
   "cell_type": "code",
   "execution_count": 19,
   "id": "f6da088a",
   "metadata": {},
   "outputs": [
    {
     "data": {
      "text/plain": [
       "0"
      ]
     },
     "execution_count": 19,
     "metadata": {},
     "output_type": "execute_result"
    }
   ],
   "source": [
    "p[5].index(100)"
   ]
  },
  {
   "cell_type": "code",
   "execution_count": 20,
   "id": "9cdb2e15",
   "metadata": {},
   "outputs": [],
   "source": [
    "py_list = (23,786,34,8,345,7,34,75,[100,300,500,600],76,34,86,34)"
   ]
  },
  {
   "cell_type": "code",
   "execution_count": 21,
   "id": "aa977689",
   "metadata": {},
   "outputs": [
    {
     "data": {
      "text/plain": [
       "(23, 786, 34, 8, 345, 7, 34, 75, [100, 300, 500, 600], 76, 34, 86, 34)"
      ]
     },
     "execution_count": 21,
     "metadata": {},
     "output_type": "execute_result"
    }
   ],
   "source": [
    "py_list"
   ]
  },
  {
   "cell_type": "code",
   "execution_count": 23,
   "id": "d4a2fa12",
   "metadata": {},
   "outputs": [],
   "source": [
    "py_list[8].append(14616)"
   ]
  },
  {
   "cell_type": "code",
   "execution_count": 24,
   "id": "b0d0c96d",
   "metadata": {},
   "outputs": [
    {
     "data": {
      "text/plain": [
       "(23, 786, 34, 8, 345, 7, 34, 75, [100, 300, 500, 600, 14616], 76, 34, 86, 34)"
      ]
     },
     "execution_count": 24,
     "metadata": {},
     "output_type": "execute_result"
    }
   ],
   "source": [
    "py_list"
   ]
  },
  {
   "cell_type": "code",
   "execution_count": null,
   "id": "242c8903",
   "metadata": {},
   "outputs": [],
   "source": [
    "Certification.\n",
    "\n",
    "1500 Microsoft Python Certification"
   ]
  },
  {
   "cell_type": "code",
   "execution_count": 25,
   "id": "b7474a77",
   "metadata": {},
   "outputs": [],
   "source": [
    "p = (12,564,23,765)"
   ]
  },
  {
   "cell_type": "code",
   "execution_count": null,
   "id": "49b5b3e9",
   "metadata": {},
   "outputs": [],
   "source": [
    "#multiplcation on Tuple"
   ]
  },
  {
   "cell_type": "code",
   "execution_count": 28,
   "id": "db9fb6a1",
   "metadata": {},
   "outputs": [],
   "source": [
    "temp = p*4"
   ]
  },
  {
   "cell_type": "code",
   "execution_count": 27,
   "id": "8a6b9a5d",
   "metadata": {},
   "outputs": [
    {
     "data": {
      "text/plain": [
       "(12, 564, 23, 765)"
      ]
     },
     "execution_count": 27,
     "metadata": {},
     "output_type": "execute_result"
    }
   ],
   "source": [
    "p"
   ]
  },
  {
   "cell_type": "code",
   "execution_count": 29,
   "id": "d5641b3a",
   "metadata": {},
   "outputs": [
    {
     "data": {
      "text/plain": [
       "(12, 564, 23, 765, 12, 564, 23, 765, 12, 564, 23, 765, 12, 564, 23, 765)"
      ]
     },
     "execution_count": 29,
     "metadata": {},
     "output_type": "execute_result"
    }
   ],
   "source": [
    "temp"
   ]
  },
  {
   "cell_type": "code",
   "execution_count": 30,
   "id": "1ea5beb5",
   "metadata": {},
   "outputs": [],
   "source": [
    "t1 = (1,2,3)"
   ]
  },
  {
   "cell_type": "code",
   "execution_count": 31,
   "id": "8c878b90",
   "metadata": {},
   "outputs": [],
   "source": [
    "t2 = (100,200,300)"
   ]
  },
  {
   "cell_type": "code",
   "execution_count": 32,
   "id": "67511aff",
   "metadata": {},
   "outputs": [
    {
     "data": {
      "text/plain": [
       "(1, 2, 3, 100, 200, 300)"
      ]
     },
     "execution_count": 32,
     "metadata": {},
     "output_type": "execute_result"
    }
   ],
   "source": [
    "t1+t2"
   ]
  },
  {
   "cell_type": "code",
   "execution_count": 33,
   "id": "b1993603",
   "metadata": {},
   "outputs": [
    {
     "ename": "TypeError",
     "evalue": "can't multiply sequence by non-int of type 'tuple'",
     "output_type": "error",
     "traceback": [
      "\u001b[1;31m---------------------------------------------------------------------------\u001b[0m",
      "\u001b[1;31mTypeError\u001b[0m                                 Traceback (most recent call last)",
      "\u001b[1;32m<ipython-input-33-1b4b44ba1da1>\u001b[0m in \u001b[0;36m<module>\u001b[1;34m\u001b[0m\n\u001b[1;32m----> 1\u001b[1;33m \u001b[0mt1\u001b[0m\u001b[1;33m*\u001b[0m\u001b[0mt2\u001b[0m\u001b[1;33m\u001b[0m\u001b[1;33m\u001b[0m\u001b[0m\n\u001b[0m",
      "\u001b[1;31mTypeError\u001b[0m: can't multiply sequence by non-int of type 'tuple'"
     ]
    }
   ],
   "source": [
    "t1*t2"
   ]
  },
  {
   "cell_type": "code",
   "execution_count": 36,
   "id": "aa9367c7",
   "metadata": {},
   "outputs": [],
   "source": [
    "t3 = (23,)"
   ]
  },
  {
   "cell_type": "code",
   "execution_count": 37,
   "id": "e3fdc52c",
   "metadata": {},
   "outputs": [
    {
     "data": {
      "text/plain": [
       "tuple"
      ]
     },
     "execution_count": 37,
     "metadata": {},
     "output_type": "execute_result"
    }
   ],
   "source": [
    "type(t3)"
   ]
  },
  {
   "cell_type": "code",
   "execution_count": 38,
   "id": "11c363d5",
   "metadata": {},
   "outputs": [],
   "source": [
    "t5 = (56)"
   ]
  },
  {
   "cell_type": "code",
   "execution_count": 39,
   "id": "108a7fbc",
   "metadata": {},
   "outputs": [
    {
     "data": {
      "text/plain": [
       "int"
      ]
     },
     "execution_count": 39,
     "metadata": {},
     "output_type": "execute_result"
    }
   ],
   "source": [
    "type(t5)"
   ]
  },
  {
   "cell_type": "code",
   "execution_count": 40,
   "id": "b7c57728",
   "metadata": {},
   "outputs": [],
   "source": [
    "t = (1,2,3,4)"
   ]
  },
  {
   "cell_type": "code",
   "execution_count": 42,
   "id": "b4505df5",
   "metadata": {},
   "outputs": [],
   "source": [
    "p = t*3"
   ]
  },
  {
   "cell_type": "code",
   "execution_count": 43,
   "id": "7d72c150",
   "metadata": {},
   "outputs": [
    {
     "data": {
      "text/plain": [
       "(1, 2, 3, 4, 1, 2, 3, 4, 1, 2, 3, 4)"
      ]
     },
     "execution_count": 43,
     "metadata": {},
     "output_type": "execute_result"
    }
   ],
   "source": [
    "p"
   ]
  },
  {
   "cell_type": "code",
   "execution_count": 44,
   "id": "c871531d",
   "metadata": {},
   "outputs": [
    {
     "data": {
      "text/plain": [
       "(1, 2, 3, 4)"
      ]
     },
     "execution_count": 44,
     "metadata": {},
     "output_type": "execute_result"
    }
   ],
   "source": [
    "t"
   ]
  },
  {
   "cell_type": "code",
   "execution_count": null,
   "id": "e3d6c7d0",
   "metadata": {},
   "outputs": [],
   "source": [
    "Packing and unpacking?"
   ]
  },
  {
   "cell_type": "code",
   "execution_count": 45,
   "id": "6cbdd095",
   "metadata": {},
   "outputs": [],
   "source": [
    "a = 10,20,3,98,26578,23,26"
   ]
  },
  {
   "cell_type": "code",
   "execution_count": 46,
   "id": "f8271b77",
   "metadata": {},
   "outputs": [
    {
     "data": {
      "text/plain": [
       "tuple"
      ]
     },
     "execution_count": 46,
     "metadata": {},
     "output_type": "execute_result"
    }
   ],
   "source": [
    "type(a)"
   ]
  },
  {
   "cell_type": "code",
   "execution_count": 47,
   "id": "ad319b17",
   "metadata": {},
   "outputs": [
    {
     "data": {
      "text/plain": [
       "(10, 20, 3, 98, 26578, 23, 26)"
      ]
     },
     "execution_count": 47,
     "metadata": {},
     "output_type": "execute_result"
    }
   ],
   "source": [
    "a"
   ]
  },
  {
   "cell_type": "code",
   "execution_count": 48,
   "id": "0033a0f9",
   "metadata": {},
   "outputs": [],
   "source": [
    "courses = 'ML','Python','DS'"
   ]
  },
  {
   "cell_type": "code",
   "execution_count": 49,
   "id": "b6255558",
   "metadata": {},
   "outputs": [
    {
     "data": {
      "text/plain": [
       "('ML', 'Python', 'DS')"
      ]
     },
     "execution_count": 49,
     "metadata": {},
     "output_type": "execute_result"
    }
   ],
   "source": [
    "courses"
   ]
  },
  {
   "cell_type": "code",
   "execution_count": 50,
   "id": "88d302b2",
   "metadata": {},
   "outputs": [
    {
     "data": {
      "text/plain": [
       "('ML', 'Python', 'DS')"
      ]
     },
     "execution_count": 50,
     "metadata": {},
     "output_type": "execute_result"
    }
   ],
   "source": [
    "courses"
   ]
  },
  {
   "cell_type": "code",
   "execution_count": 56,
   "id": "083a965d",
   "metadata": {},
   "outputs": [],
   "source": [
    "x,y,z =courses"
   ]
  },
  {
   "cell_type": "code",
   "execution_count": 57,
   "id": "bbe462dd",
   "metadata": {},
   "outputs": [
    {
     "data": {
      "text/plain": [
       "'ML'"
      ]
     },
     "execution_count": 57,
     "metadata": {},
     "output_type": "execute_result"
    }
   ],
   "source": [
    "x"
   ]
  },
  {
   "cell_type": "code",
   "execution_count": 58,
   "id": "df406c70",
   "metadata": {},
   "outputs": [
    {
     "data": {
      "text/plain": [
       "'Python'"
      ]
     },
     "execution_count": 58,
     "metadata": {},
     "output_type": "execute_result"
    }
   ],
   "source": [
    "y"
   ]
  },
  {
   "cell_type": "code",
   "execution_count": 59,
   "id": "b7e0aa2d",
   "metadata": {},
   "outputs": [
    {
     "data": {
      "text/plain": [
       "'DS'"
      ]
     },
     "execution_count": 59,
     "metadata": {},
     "output_type": "execute_result"
    }
   ],
   "source": [
    "z"
   ]
  },
  {
   "cell_type": "code",
   "execution_count": 60,
   "id": "cffeaa35",
   "metadata": {},
   "outputs": [],
   "source": [
    "p = [100,200,300]"
   ]
  },
  {
   "cell_type": "code",
   "execution_count": 61,
   "id": "f6ca02ef",
   "metadata": {},
   "outputs": [],
   "source": [
    "p1,p2,p3 = p"
   ]
  },
  {
   "cell_type": "code",
   "execution_count": 62,
   "id": "9ede0bab",
   "metadata": {},
   "outputs": [
    {
     "data": {
      "text/plain": [
       "100"
      ]
     },
     "execution_count": 62,
     "metadata": {},
     "output_type": "execute_result"
    }
   ],
   "source": [
    "p1"
   ]
  },
  {
   "cell_type": "code",
   "execution_count": 63,
   "id": "4c3ed4ef",
   "metadata": {},
   "outputs": [
    {
     "data": {
      "text/plain": [
       "200"
      ]
     },
     "execution_count": 63,
     "metadata": {},
     "output_type": "execute_result"
    }
   ],
   "source": [
    "p2"
   ]
  },
  {
   "cell_type": "code",
   "execution_count": 64,
   "id": "34c9dcc1",
   "metadata": {},
   "outputs": [
    {
     "data": {
      "text/plain": [
       "300"
      ]
     },
     "execution_count": 64,
     "metadata": {},
     "output_type": "execute_result"
    }
   ],
   "source": [
    "p3"
   ]
  },
  {
   "cell_type": "code",
   "execution_count": 76,
   "id": "5c7c6b75",
   "metadata": {},
   "outputs": [],
   "source": [
    "a,b,c,d,e = (10,20,30,40,50)"
   ]
  },
  {
   "cell_type": "code",
   "execution_count": 77,
   "id": "de2ce916",
   "metadata": {},
   "outputs": [
    {
     "data": {
      "text/plain": [
       "10"
      ]
     },
     "execution_count": 77,
     "metadata": {},
     "output_type": "execute_result"
    }
   ],
   "source": [
    "a"
   ]
  },
  {
   "cell_type": "code",
   "execution_count": 78,
   "id": "30d6d6cf",
   "metadata": {},
   "outputs": [
    {
     "data": {
      "text/plain": [
       "20"
      ]
     },
     "execution_count": 78,
     "metadata": {},
     "output_type": "execute_result"
    }
   ],
   "source": [
    "b"
   ]
  },
  {
   "cell_type": "code",
   "execution_count": 79,
   "id": "269d8dc6",
   "metadata": {},
   "outputs": [
    {
     "data": {
      "text/plain": [
       "30"
      ]
     },
     "execution_count": 79,
     "metadata": {},
     "output_type": "execute_result"
    }
   ],
   "source": [
    "c"
   ]
  },
  {
   "cell_type": "code",
   "execution_count": 80,
   "id": "0c5ebd3c",
   "metadata": {},
   "outputs": [
    {
     "data": {
      "text/plain": [
       "40"
      ]
     },
     "execution_count": 80,
     "metadata": {},
     "output_type": "execute_result"
    }
   ],
   "source": [
    "d"
   ]
  },
  {
   "cell_type": "code",
   "execution_count": 81,
   "id": "19575abb",
   "metadata": {},
   "outputs": [
    {
     "data": {
      "text/plain": [
       "50"
      ]
     },
     "execution_count": 81,
     "metadata": {},
     "output_type": "execute_result"
    }
   ],
   "source": [
    "e"
   ]
  },
  {
   "cell_type": "code",
   "execution_count": 82,
   "id": "568cb38e",
   "metadata": {},
   "outputs": [],
   "source": [
    "x,y,z = [10,50,4]"
   ]
  },
  {
   "cell_type": "code",
   "execution_count": 83,
   "id": "cfe2cedd",
   "metadata": {},
   "outputs": [
    {
     "data": {
      "text/plain": [
       "10"
      ]
     },
     "execution_count": 83,
     "metadata": {},
     "output_type": "execute_result"
    }
   ],
   "source": [
    "x"
   ]
  },
  {
   "cell_type": "code",
   "execution_count": 84,
   "id": "724bed25",
   "metadata": {},
   "outputs": [
    {
     "data": {
      "text/plain": [
       "50"
      ]
     },
     "execution_count": 84,
     "metadata": {},
     "output_type": "execute_result"
    }
   ],
   "source": [
    "y"
   ]
  },
  {
   "cell_type": "code",
   "execution_count": 85,
   "id": "807dce5f",
   "metadata": {},
   "outputs": [
    {
     "data": {
      "text/plain": [
       "4"
      ]
     },
     "execution_count": 85,
     "metadata": {},
     "output_type": "execute_result"
    }
   ],
   "source": [
    "z"
   ]
  },
  {
   "cell_type": "code",
   "execution_count": null,
   "id": "d68c47e7",
   "metadata": {},
   "outputs": [],
   "source": []
  }
 ],
 "metadata": {
  "kernelspec": {
   "display_name": "Python 3",
   "language": "python",
   "name": "python3"
  },
  "language_info": {
   "codemirror_mode": {
    "name": "ipython",
    "version": 3
   },
   "file_extension": ".py",
   "mimetype": "text/x-python",
   "name": "python",
   "nbconvert_exporter": "python",
   "pygments_lexer": "ipython3",
   "version": "3.8.8"
  }
 },
 "nbformat": 4,
 "nbformat_minor": 5
}
