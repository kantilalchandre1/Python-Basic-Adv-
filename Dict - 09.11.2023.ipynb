{
 "cells": [
  {
   "cell_type": "code",
   "execution_count": null,
   "id": "9b2ff445",
   "metadata": {},
   "outputs": [],
   "source": [
    "dict:\n",
    "    it is collection --Key:Value Pair"
   ]
  },
  {
   "cell_type": "code",
   "execution_count": null,
   "id": "f3465873",
   "metadata": {},
   "outputs": [],
   "source": [
    "key : \n",
    "    immutable DS\n",
    "    str,int,tuple,frozenset\n",
    "    \n",
    "value : mutable /immutable type"
   ]
  },
  {
   "cell_type": "code",
   "execution_count": 1,
   "id": "806c0102",
   "metadata": {},
   "outputs": [],
   "source": [
    "p = {23,8,3487,34}"
   ]
  },
  {
   "cell_type": "code",
   "execution_count": null,
   "id": "6e6f3541",
   "metadata": {},
   "outputs": [],
   "source": [
    "inbuilt -- method -perform "
   ]
  },
  {
   "cell_type": "code",
   "execution_count": null,
   "id": "32ef6344",
   "metadata": {},
   "outputs": [],
   "source": [
    "10 + 20  # addition"
   ]
  },
  {
   "cell_type": "code",
   "execution_count": 3,
   "id": "29dee2bc",
   "metadata": {},
   "outputs": [
    {
     "ename": "TypeError",
     "evalue": "'int' object is not iterable",
     "output_type": "error",
     "traceback": [
      "\u001b[1;31m---------------------------------------------------------------------------\u001b[0m",
      "\u001b[1;31mTypeError\u001b[0m                                 Traceback (most recent call last)",
      "\u001b[1;32m<ipython-input-3-bd25b8c7b8f0>\u001b[0m in \u001b[0;36m<module>\u001b[1;34m\u001b[0m\n\u001b[1;32m----> 1\u001b[1;33m \u001b[0msum\u001b[0m\u001b[1;33m(\u001b[0m\u001b[1;36m10\u001b[0m\u001b[1;33m+\u001b[0m\u001b[1;36m20\u001b[0m\u001b[1;33m)\u001b[0m\u001b[1;33m\u001b[0m\u001b[1;33m\u001b[0m\u001b[0m\n\u001b[0m",
      "\u001b[1;31mTypeError\u001b[0m: 'int' object is not iterable"
     ]
    }
   ],
   "source": [
    "sum(10+20) # addition"
   ]
  },
  {
   "cell_type": "code",
   "execution_count": 4,
   "id": "07fe6e2a",
   "metadata": {},
   "outputs": [],
   "source": [
    "p = {1,2,4,64,4}"
   ]
  },
  {
   "cell_type": "code",
   "execution_count": 5,
   "id": "fe15be12",
   "metadata": {},
   "outputs": [],
   "source": [
    "p1 = {1,2,76,34,7}"
   ]
  },
  {
   "cell_type": "code",
   "execution_count": null,
   "id": "48c7695e",
   "metadata": {},
   "outputs": [],
   "source": [
    "p.intersection_update(p1)  # less time"
   ]
  },
  {
   "cell_type": "code",
   "execution_count": null,
   "id": "074c13f6",
   "metadata": {},
   "outputs": [],
   "source": [
    "p = p.intersection(p1) # more time "
   ]
  },
  {
   "cell_type": "code",
   "execution_count": null,
   "id": "e3b9b9f5",
   "metadata": {},
   "outputs": [],
   "source": [
    "inbuilt --> "
   ]
  },
  {
   "cell_type": "code",
   "execution_count": null,
   "id": "6974bb0e",
   "metadata": {},
   "outputs": [],
   "source": [
    "1 real time\n",
    "\n",
    "\n",
    "data --> 1 micro  --> minutes/hr\n",
    "\n",
    "server --> costly --AWS /Azure"
   ]
  },
  {
   "cell_type": "code",
   "execution_count": 11,
   "id": "76139a21",
   "metadata": {},
   "outputs": [],
   "source": [
    "def str_concat(s1,s2):\n",
    "    c =s1+s2\n",
    "    return c"
   ]
  },
  {
   "cell_type": "code",
   "execution_count": 12,
   "id": "0b689822",
   "metadata": {},
   "outputs": [
    {
     "data": {
      "text/plain": [
       "'Python ML'"
      ]
     },
     "execution_count": 12,
     "metadata": {},
     "output_type": "execute_result"
    }
   ],
   "source": [
    "str_concat('Python ','ML')"
   ]
  },
  {
   "cell_type": "code",
   "execution_count": 10,
   "id": "febf33f8",
   "metadata": {},
   "outputs": [
    {
     "data": {
      "text/plain": [
       "'Python ML'"
      ]
     },
     "execution_count": 10,
     "metadata": {},
     "output_type": "execute_result"
    }
   ],
   "source": [
    "'Python '+'ML'"
   ]
  },
  {
   "cell_type": "code",
   "execution_count": null,
   "id": "2adec291",
   "metadata": {},
   "outputs": [],
   "source": [
    "program\n",
    "\n",
    "line by line \n",
    "\n",
    "\n",
    "print(\"\")  -- - compile --> execute\n",
    "\n",
    "optimize\n"
   ]
  },
  {
   "cell_type": "code",
   "execution_count": null,
   "id": "83a6d7d7",
   "metadata": {},
   "outputs": [],
   "source": []
  },
  {
   "cell_type": "code",
   "execution_count": 30,
   "id": "99baeab8",
   "metadata": {},
   "outputs": [],
   "source": [
    "emp_details = {\n",
    "    'id':101,'name':'jon','city':'Pune','sal':6912616\n",
    "}"
   ]
  },
  {
   "cell_type": "code",
   "execution_count": 16,
   "id": "0c7c2887",
   "metadata": {},
   "outputs": [
    {
     "data": {
      "text/plain": [
       "{'id': 101, 'name': 'jon', 'city': 'Pune', 'sal': 6912616}"
      ]
     },
     "execution_count": 16,
     "metadata": {},
     "output_type": "execute_result"
    }
   ],
   "source": [
    "emp_details"
   ]
  },
  {
   "cell_type": "code",
   "execution_count": null,
   "id": "7010d201",
   "metadata": {},
   "outputs": [],
   "source": [
    "mutable type\n",
    "\n",
    "key are unique"
   ]
  },
  {
   "cell_type": "code",
   "execution_count": null,
   "id": "d30e0de0",
   "metadata": {},
   "outputs": [],
   "source": [
    "Access value from dict:\n",
    "    "
   ]
  },
  {
   "cell_type": "code",
   "execution_count": 18,
   "id": "7a86d2ed",
   "metadata": {},
   "outputs": [
    {
     "data": {
      "text/plain": [
       "'Pune'"
      ]
     },
     "execution_count": 18,
     "metadata": {},
     "output_type": "execute_result"
    }
   ],
   "source": [
    "emp_details['city']"
   ]
  },
  {
   "cell_type": "code",
   "execution_count": 19,
   "id": "a1113903",
   "metadata": {},
   "outputs": [
    {
     "ename": "KeyError",
     "evalue": "0",
     "output_type": "error",
     "traceback": [
      "\u001b[1;31m---------------------------------------------------------------------------\u001b[0m",
      "\u001b[1;31mKeyError\u001b[0m                                  Traceback (most recent call last)",
      "\u001b[1;32m<ipython-input-19-7729bf9784bc>\u001b[0m in \u001b[0;36m<module>\u001b[1;34m\u001b[0m\n\u001b[1;32m----> 1\u001b[1;33m \u001b[0memp_details\u001b[0m\u001b[1;33m[\u001b[0m\u001b[1;36m0\u001b[0m\u001b[1;33m]\u001b[0m\u001b[1;33m\u001b[0m\u001b[1;33m\u001b[0m\u001b[0m\n\u001b[0m",
      "\u001b[1;31mKeyError\u001b[0m: 0"
     ]
    }
   ],
   "source": [
    "emp_details[0]"
   ]
  },
  {
   "cell_type": "code",
   "execution_count": 20,
   "id": "a0525e2b",
   "metadata": {},
   "outputs": [
    {
     "data": {
      "text/plain": [
       "{'id': 101, 'name': 'jon', 'city': 'Pune', 'sal': 6912616}"
      ]
     },
     "execution_count": 20,
     "metadata": {},
     "output_type": "execute_result"
    }
   ],
   "source": [
    "emp_details"
   ]
  },
  {
   "cell_type": "code",
   "execution_count": 21,
   "id": "09a4ff77",
   "metadata": {},
   "outputs": [],
   "source": [
    "emp = {\n",
    "    'name' :['jon','justin','jekky','perk'],\n",
    "    'age':[45,95,26,49],\n",
    "    'city':['Pune','Mumbai','Banglore','Chennai']\n",
    "}"
   ]
  },
  {
   "cell_type": "code",
   "execution_count": 23,
   "id": "b5e4b629",
   "metadata": {},
   "outputs": [
    {
     "data": {
      "text/plain": [
       "'Banglore'"
      ]
     },
     "execution_count": 23,
     "metadata": {},
     "output_type": "execute_result"
    }
   ],
   "source": [
    "emp['city'][2]"
   ]
  },
  {
   "cell_type": "code",
   "execution_count": 24,
   "id": "8a49ef7b",
   "metadata": {},
   "outputs": [],
   "source": [
    "event = {  \n",
    "   \"Records\":[  \n",
    "      {  \n",
    "         \"eventVersion\":\"2.2\",\n",
    "         \"eventSource\":\"aws:s3\",\n",
    "         \"awsRegion\":\"us-west-2\",\n",
    "         \"eventTime\":\"The time, in ISO-8601 format, for example, 1970-01-01T00:00:00.000Z, when Amazon S3 finished processing the request\",\n",
    "         \"eventName\":\"event-type\",\n",
    "         \"userIdentity\":{  \n",
    "            \"principalId\":\"Amazon-customer-ID-of-the-user-who-caused-the-event\"\n",
    "         },\n",
    "         \"requestParameters\":{  \n",
    "            \"sourceIPAddress\":\"ip-address-where-request-came-from\"\n",
    "         },\n",
    "         \"responseElements\":{  \n",
    "            \"x-amz-request-id\":\"Amazon S3 generated request ID\",\n",
    "            \"x-amz-id-2\":\"Amazon S3 host that processed the request\"\n",
    "         },\n",
    "         \"s3\":{  \n",
    "            \"s3SchemaVersion\":\"1.0\",\n",
    "            \"configurationId\":\"ID found in the bucket notification configuration\",\n",
    "            \"bucket\":{  \n",
    "               \"name\":\"bucket-name\",\n",
    "               \"ownerIdentity\":{  \n",
    "                  \"principalId\":\"Amazon-customer-ID-of-the-bucket-owner\"\n",
    "               },\n",
    "               \"arn\":\"bucket-ARN\"\n",
    "            },\n",
    "            \"object\":{  \n",
    "               \"key\":\"object-key\",\n",
    "               \"size\":\"object-size in bytes\",\n",
    "               \"eTag\":\"object eTag\",\n",
    "               \"versionId\":\"object version if bucket is versioning-enabled, otherwise null\",\n",
    "               \"sequencer\": \"a string representation of a hexadecimal value used to determine event sequence, only used with PUTs and DELETEs\"\n",
    "            }\n",
    "         },\n",
    "         \"glacierEventData\": {\n",
    "            \"restoreEventData\": {\n",
    "               \"lifecycleRestorationExpiryTime\": \"The time, in ISO-8601 format, for example, 1970-01-01T00:00:00.000Z, of Restore Expiry\",\n",
    "               \"lifecycleRestoreStorageClass\": \"Source storage class for restore\"\n",
    "            }\n",
    "         }\n",
    "      }\n",
    "   ]\n",
    "}"
   ]
  },
  {
   "cell_type": "code",
   "execution_count": 26,
   "id": "96d33c1c",
   "metadata": {},
   "outputs": [
    {
     "data": {
      "text/plain": [
       "dict"
      ]
     },
     "execution_count": 26,
     "metadata": {},
     "output_type": "execute_result"
    }
   ],
   "source": [
    "type(event)"
   ]
  },
  {
   "cell_type": "code",
   "execution_count": 27,
   "id": "af5a94c2",
   "metadata": {},
   "outputs": [
    {
     "data": {
      "text/plain": [
       "{'Records': [{'eventVersion': '2.2',\n",
       "   'eventSource': 'aws:s3',\n",
       "   'awsRegion': 'us-west-2',\n",
       "   'eventTime': 'The time, in ISO-8601 format, for example, 1970-01-01T00:00:00.000Z, when Amazon S3 finished processing the request',\n",
       "   'eventName': 'event-type',\n",
       "   'userIdentity': {'principalId': 'Amazon-customer-ID-of-the-user-who-caused-the-event'},\n",
       "   'requestParameters': {'sourceIPAddress': 'ip-address-where-request-came-from'},\n",
       "   'responseElements': {'x-amz-request-id': 'Amazon S3 generated request ID',\n",
       "    'x-amz-id-2': 'Amazon S3 host that processed the request'},\n",
       "   's3': {'s3SchemaVersion': '1.0',\n",
       "    'configurationId': 'ID found in the bucket notification configuration',\n",
       "    'bucket': {'name': 'bucket-name',\n",
       "     'ownerIdentity': {'principalId': 'Amazon-customer-ID-of-the-bucket-owner'},\n",
       "     'arn': 'bucket-ARN'},\n",
       "    'object': {'key': 'object-key',\n",
       "     'size': 'object-size in bytes',\n",
       "     'eTag': 'object eTag',\n",
       "     'versionId': 'object version if bucket is versioning-enabled, otherwise null',\n",
       "     'sequencer': 'a string representation of a hexadecimal value used to determine event sequence, only used with PUTs and DELETEs'}},\n",
       "   'glacierEventData': {'restoreEventData': {'lifecycleRestorationExpiryTime': 'The time, in ISO-8601 format, for example, 1970-01-01T00:00:00.000Z, of Restore Expiry',\n",
       "     'lifecycleRestoreStorageClass': 'Source storage class for restore'}}}]}"
      ]
     },
     "execution_count": 27,
     "metadata": {},
     "output_type": "execute_result"
    }
   ],
   "source": [
    "event"
   ]
  },
  {
   "cell_type": "code",
   "execution_count": 29,
   "id": "e8d359c4",
   "metadata": {},
   "outputs": [
    {
     "data": {
      "text/plain": [
       "{'name': ['jon', 'justin', 'jekky', 'perk'],\n",
       " 'age': [45, 95, 26, 49],\n",
       " 'city': ['Pune', 'Mumbai', 'Banglore', 'Chennai']}"
      ]
     },
     "execution_count": 29,
     "metadata": {},
     "output_type": "execute_result"
    }
   ],
   "source": [
    "emp"
   ]
  },
  {
   "cell_type": "code",
   "execution_count": 31,
   "id": "5188cfc1",
   "metadata": {},
   "outputs": [
    {
     "data": {
      "text/plain": [
       "{'id': 101, 'name': 'jon', 'city': 'Pune', 'sal': 6912616}"
      ]
     },
     "execution_count": 31,
     "metadata": {},
     "output_type": "execute_result"
    }
   ],
   "source": [
    "emp_details"
   ]
  },
  {
   "cell_type": "code",
   "execution_count": 32,
   "id": "f74ca28a",
   "metadata": {},
   "outputs": [],
   "source": [
    "emp_details = {\n",
    "    'id':101,'name':'jon','sal':6912616, \"address\" :{'city':'Pune',\"code\":{'pincode':411046,'area_code':4646}}\n",
    "}"
   ]
  },
  {
   "cell_type": "code",
   "execution_count": 34,
   "id": "772e41b2",
   "metadata": {},
   "outputs": [
    {
     "data": {
      "text/plain": [
       "{'id': 101,\n",
       " 'name': 'jon',\n",
       " 'sal': 6912616,\n",
       " 'address': {'city': 'Pune', 'code': {'pincode': 411046, 'area_code': 4646}}}"
      ]
     },
     "execution_count": 34,
     "metadata": {},
     "output_type": "execute_result"
    }
   ],
   "source": [
    "emp_details"
   ]
  },
  {
   "cell_type": "code",
   "execution_count": 37,
   "id": "e61fa010",
   "metadata": {},
   "outputs": [
    {
     "data": {
      "text/plain": [
       "4646"
      ]
     },
     "execution_count": 37,
     "metadata": {},
     "output_type": "execute_result"
    }
   ],
   "source": [
    "emp_details['address']['code']['area_code']"
   ]
  },
  {
   "cell_type": "code",
   "execution_count": null,
   "id": "7a569508",
   "metadata": {},
   "outputs": [],
   "source": [
    "() -- method call/function\n",
    "\n",
    "[] -- "
   ]
  },
  {
   "cell_type": "code",
   "execution_count": null,
   "id": "a359be9b",
   "metadata": {},
   "outputs": [],
   "source": [
    "element access --> list,tuple,dict -- []"
   ]
  },
  {
   "cell_type": "code",
   "execution_count": 41,
   "id": "665f29ab",
   "metadata": {},
   "outputs": [
    {
     "data": {
      "text/plain": [
       "4646"
      ]
     },
     "execution_count": 41,
     "metadata": {},
     "output_type": "execute_result"
    }
   ],
   "source": [
    "emp_details.get('address').get('code').get('area_code')"
   ]
  },
  {
   "cell_type": "code",
   "execution_count": 50,
   "id": "2f30223c",
   "metadata": {},
   "outputs": [
    {
     "data": {
      "text/plain": [
       "'Amazon-customer-ID-of-the-bucket-owner'"
      ]
     },
     "execution_count": 50,
     "metadata": {},
     "output_type": "execute_result"
    }
   ],
   "source": [
    "event['Records'][0]['s3']['bucket']['ownerIdentity']['principalId']"
   ]
  },
  {
   "cell_type": "code",
   "execution_count": 56,
   "id": "18d2e5d2",
   "metadata": {},
   "outputs": [
    {
     "data": {
      "text/plain": [
       "'Amazon-customer-ID-of-the-bucket-owner'"
      ]
     },
     "execution_count": 56,
     "metadata": {},
     "output_type": "execute_result"
    }
   ],
   "source": [
    "event.get('Records')[0].get('s3').get('bucket').get('ownerIdentity').get('principalId')"
   ]
  },
  {
   "cell_type": "code",
   "execution_count": 60,
   "id": "10904eee",
   "metadata": {},
   "outputs": [],
   "source": [
    "p = {'records' : [{'temp':100}]}"
   ]
  },
  {
   "cell_type": "code",
   "execution_count": 61,
   "id": "f7dfab3c",
   "metadata": {},
   "outputs": [
    {
     "data": {
      "text/plain": [
       "{'records': [{'temp': 100}]}"
      ]
     },
     "execution_count": 61,
     "metadata": {},
     "output_type": "execute_result"
    }
   ],
   "source": [
    "p"
   ]
  },
  {
   "cell_type": "code",
   "execution_count": 64,
   "id": "1a1e2ce5",
   "metadata": {},
   "outputs": [
    {
     "data": {
      "text/plain": [
       "100"
      ]
     },
     "execution_count": 64,
     "metadata": {},
     "output_type": "execute_result"
    }
   ],
   "source": [
    "p['records'][0]['temp']"
   ]
  },
  {
   "cell_type": "code",
   "execution_count": 65,
   "id": "d4c9cd65",
   "metadata": {},
   "outputs": [
    {
     "data": {
      "text/plain": [
       "{'name': ['jon', 'justin', 'jekky', 'perk'],\n",
       " 'age': [45, 95, 26, 49],\n",
       " 'city': ['Pune', 'Mumbai', 'Banglore', 'Chennai']}"
      ]
     },
     "execution_count": 65,
     "metadata": {},
     "output_type": "execute_result"
    }
   ],
   "source": [
    "emp"
   ]
  },
  {
   "cell_type": "code",
   "execution_count": 66,
   "id": "167abc56",
   "metadata": {},
   "outputs": [],
   "source": [
    "emp_details = {\n",
    "    'id':101,'name':'jon','city':'Pune','sal':6912616\n",
    "}"
   ]
  },
  {
   "cell_type": "code",
   "execution_count": 67,
   "id": "99b7bd97",
   "metadata": {},
   "outputs": [
    {
     "data": {
      "text/plain": [
       "{'id': 101, 'name': 'jon', 'city': 'Pune', 'sal': 6912616}"
      ]
     },
     "execution_count": 67,
     "metadata": {},
     "output_type": "execute_result"
    }
   ],
   "source": [
    "emp_details"
   ]
  },
  {
   "cell_type": "code",
   "execution_count": null,
   "id": "92e0671d",
   "metadata": {},
   "outputs": [],
   "source": [
    "How to add new item into dict?"
   ]
  },
  {
   "cell_type": "code",
   "execution_count": null,
   "id": "e7caedd4",
   "metadata": {},
   "outputs": [],
   "source": [
    "1.[new] = value\n",
    "2.update"
   ]
  },
  {
   "cell_type": "code",
   "execution_count": 68,
   "id": "d8ebe254",
   "metadata": {},
   "outputs": [],
   "source": [
    "emp_details['dept_id'] = 5012"
   ]
  },
  {
   "cell_type": "code",
   "execution_count": 69,
   "id": "4bc09125",
   "metadata": {},
   "outputs": [
    {
     "data": {
      "text/plain": [
       "{'id': 101, 'name': 'jon', 'city': 'Pune', 'sal': 6912616, 'dept_id': 5012}"
      ]
     },
     "execution_count": 69,
     "metadata": {},
     "output_type": "execute_result"
    }
   ],
   "source": [
    "emp_details"
   ]
  },
  {
   "cell_type": "code",
   "execution_count": 70,
   "id": "13b424d2",
   "metadata": {},
   "outputs": [],
   "source": [
    "emp_details['department_name'] = 'IT'"
   ]
  },
  {
   "cell_type": "code",
   "execution_count": 71,
   "id": "b0381f33",
   "metadata": {},
   "outputs": [
    {
     "data": {
      "text/plain": [
       "{'id': 101,\n",
       " 'name': 'jon',\n",
       " 'city': 'Pune',\n",
       " 'sal': 6912616,\n",
       " 'dept_id': 5012,\n",
       " 'department_name': 'IT'}"
      ]
     },
     "execution_count": 71,
     "metadata": {},
     "output_type": "execute_result"
    }
   ],
   "source": [
    "emp_details"
   ]
  },
  {
   "cell_type": "code",
   "execution_count": 73,
   "id": "0da5e30e",
   "metadata": {},
   "outputs": [],
   "source": [
    "emp_details.update({'a':100,'b':200,'c':300})"
   ]
  },
  {
   "cell_type": "code",
   "execution_count": 74,
   "id": "e42dfb1e",
   "metadata": {},
   "outputs": [
    {
     "data": {
      "text/plain": [
       "{'id': 101,\n",
       " 'name': 'jon',\n",
       " 'city': 'Pune',\n",
       " 'sal': 6912616,\n",
       " 'dept_id': 5012,\n",
       " 'department_name': 'IT',\n",
       " 'a': 100,\n",
       " 'b': 200,\n",
       " 'c': 300}"
      ]
     },
     "execution_count": 74,
     "metadata": {},
     "output_type": "execute_result"
    }
   ],
   "source": [
    "emp_details"
   ]
  },
  {
   "cell_type": "code",
   "execution_count": 75,
   "id": "49692021",
   "metadata": {},
   "outputs": [
    {
     "data": {
      "text/plain": [
       "{'name': ['jon', 'justin', 'jekky', 'perk'],\n",
       " 'age': [45, 95, 26, 49],\n",
       " 'city': ['Pune', 'Mumbai', 'Banglore', 'Chennai']}"
      ]
     },
     "execution_count": 75,
     "metadata": {},
     "output_type": "execute_result"
    }
   ],
   "source": [
    "emp"
   ]
  },
  {
   "cell_type": "code",
   "execution_count": null,
   "id": "5fa17530",
   "metadata": {},
   "outputs": [],
   "source": []
  },
  {
   "cell_type": "code",
   "execution_count": null,
   "id": "d113d123",
   "metadata": {},
   "outputs": [],
   "source": []
  },
  {
   "cell_type": "code",
   "execution_count": 77,
   "id": "7f5b07bf",
   "metadata": {},
   "outputs": [
    {
     "data": {
      "text/plain": [
       "{'id': 101,\n",
       " 'name': 'jon',\n",
       " 'city': 'Pune',\n",
       " 'sal': 6912616,\n",
       " 'dept_id': 5012,\n",
       " 'department_name': 'IT',\n",
       " 'a': 100,\n",
       " 'b': 200,\n",
       " 'c': 300}"
      ]
     },
     "execution_count": 77,
     "metadata": {},
     "output_type": "execute_result"
    }
   ],
   "source": [
    "emp_details"
   ]
  },
  {
   "cell_type": "code",
   "execution_count": null,
   "id": "0502cccb",
   "metadata": {},
   "outputs": [],
   "source": []
  },
  {
   "cell_type": "code",
   "execution_count": 80,
   "id": "a52ddbea",
   "metadata": {},
   "outputs": [],
   "source": [
    "emp_details['name'] = 'justin'"
   ]
  },
  {
   "cell_type": "code",
   "execution_count": 81,
   "id": "ed570331",
   "metadata": {},
   "outputs": [
    {
     "data": {
      "text/plain": [
       "{'id': 101,\n",
       " 'name': 'justin',\n",
       " 'city': 'Pune',\n",
       " 'sal': 6912616,\n",
       " 'dept_id': 5012,\n",
       " 'department_name': 'IT',\n",
       " 'a': 100,\n",
       " 'b': 200,\n",
       " 'c': 300}"
      ]
     },
     "execution_count": 81,
     "metadata": {},
     "output_type": "execute_result"
    }
   ],
   "source": [
    "emp_details"
   ]
  },
  {
   "cell_type": "code",
   "execution_count": 82,
   "id": "a00c4f50",
   "metadata": {},
   "outputs": [],
   "source": [
    "emp_details.update({'id':500,'city':\"mumbai\",'dept_id':950})"
   ]
  },
  {
   "cell_type": "code",
   "execution_count": 83,
   "id": "9f3b494d",
   "metadata": {},
   "outputs": [
    {
     "data": {
      "text/plain": [
       "{'id': 500,\n",
       " 'name': 'justin',\n",
       " 'city': 'mumbai',\n",
       " 'sal': 6912616,\n",
       " 'dept_id': 950,\n",
       " 'department_name': 'IT',\n",
       " 'a': 100,\n",
       " 'b': 200,\n",
       " 'c': 300}"
      ]
     },
     "execution_count": 83,
     "metadata": {},
     "output_type": "execute_result"
    }
   ],
   "source": [
    "emp_details"
   ]
  },
  {
   "cell_type": "code",
   "execution_count": 1,
   "id": "414b296c",
   "metadata": {},
   "outputs": [],
   "source": [
    "emp = {\n",
    " 'id': 101,\n",
    " 'name': 'jon',\n",
    " 'city': 'Pune',\n",
    " 'sal': 6912616,\n",
    "}"
   ]
  },
  {
   "cell_type": "code",
   "execution_count": 2,
   "id": "728a1996",
   "metadata": {},
   "outputs": [
    {
     "data": {
      "text/plain": [
       "{'id': 101, 'name': 'jon', 'city': 'Pune', 'sal': 6912616}"
      ]
     },
     "execution_count": 2,
     "metadata": {},
     "output_type": "execute_result"
    }
   ],
   "source": [
    "emp"
   ]
  },
  {
   "cell_type": "code",
   "execution_count": 3,
   "id": "843d478e",
   "metadata": {},
   "outputs": [],
   "source": [
    "emp['dept'] = 'IT'"
   ]
  },
  {
   "cell_type": "code",
   "execution_count": 4,
   "id": "e7c4e12e",
   "metadata": {},
   "outputs": [
    {
     "data": {
      "text/plain": [
       "{'id': 101, 'name': 'jon', 'city': 'Pune', 'sal': 6912616, 'dept': 'IT'}"
      ]
     },
     "execution_count": 4,
     "metadata": {},
     "output_type": "execute_result"
    }
   ],
   "source": [
    "emp"
   ]
  },
  {
   "cell_type": "code",
   "execution_count": 5,
   "id": "7b2ee58c",
   "metadata": {},
   "outputs": [],
   "source": [
    "emp.update({'deptid':4515,'deptloc':'Pune'})"
   ]
  },
  {
   "cell_type": "code",
   "execution_count": 6,
   "id": "6eaf44fb",
   "metadata": {},
   "outputs": [
    {
     "data": {
      "text/plain": [
       "{'id': 101,\n",
       " 'name': 'jon',\n",
       " 'city': 'Pune',\n",
       " 'sal': 6912616,\n",
       " 'dept': 'IT',\n",
       " 'deptid': 4515,\n",
       " 'deptloc': 'Pune'}"
      ]
     },
     "execution_count": 6,
     "metadata": {},
     "output_type": "execute_result"
    }
   ],
   "source": [
    "emp"
   ]
  },
  {
   "cell_type": "code",
   "execution_count": null,
   "id": "7b6fab10",
   "metadata": {},
   "outputs": [],
   "source": [
    "#delete item from dict"
   ]
  },
  {
   "cell_type": "code",
   "execution_count": null,
   "id": "d459f732",
   "metadata": {},
   "outputs": [],
   "source": [
    "1.pop\n",
    "2.popitem\n",
    "3.clear"
   ]
  },
  {
   "cell_type": "code",
   "execution_count": null,
   "id": "aacc5fde",
   "metadata": {},
   "outputs": [],
   "source": [
    "pop --> delete item by using key"
   ]
  },
  {
   "cell_type": "code",
   "execution_count": 7,
   "id": "f7b4c553",
   "metadata": {},
   "outputs": [
    {
     "data": {
      "text/plain": [
       "{'id': 101,\n",
       " 'name': 'jon',\n",
       " 'city': 'Pune',\n",
       " 'sal': 6912616,\n",
       " 'dept': 'IT',\n",
       " 'deptid': 4515,\n",
       " 'deptloc': 'Pune'}"
      ]
     },
     "execution_count": 7,
     "metadata": {},
     "output_type": "execute_result"
    }
   ],
   "source": [
    "emp"
   ]
  },
  {
   "cell_type": "code",
   "execution_count": 8,
   "id": "f65b6fb5",
   "metadata": {},
   "outputs": [
    {
     "data": {
      "text/plain": [
       "'Pune'"
      ]
     },
     "execution_count": 8,
     "metadata": {},
     "output_type": "execute_result"
    }
   ],
   "source": [
    "emp.pop('city')"
   ]
  },
  {
   "cell_type": "code",
   "execution_count": 9,
   "id": "ef9bc5e4",
   "metadata": {},
   "outputs": [
    {
     "data": {
      "text/plain": [
       "{'id': 101,\n",
       " 'name': 'jon',\n",
       " 'sal': 6912616,\n",
       " 'dept': 'IT',\n",
       " 'deptid': 4515,\n",
       " 'deptloc': 'Pune'}"
      ]
     },
     "execution_count": 9,
     "metadata": {},
     "output_type": "execute_result"
    }
   ],
   "source": [
    "emp"
   ]
  },
  {
   "cell_type": "code",
   "execution_count": 10,
   "id": "866e41ed",
   "metadata": {},
   "outputs": [
    {
     "ename": "KeyError",
     "evalue": "'temp'",
     "output_type": "error",
     "traceback": [
      "\u001b[1;31m---------------------------------------------------------------------------\u001b[0m",
      "\u001b[1;31mKeyError\u001b[0m                                  Traceback (most recent call last)",
      "\u001b[1;32m<ipython-input-10-04c4f6007935>\u001b[0m in \u001b[0;36m<module>\u001b[1;34m\u001b[0m\n\u001b[1;32m----> 1\u001b[1;33m \u001b[0memp\u001b[0m\u001b[1;33m.\u001b[0m\u001b[0mpop\u001b[0m\u001b[1;33m(\u001b[0m\u001b[1;34m'temp'\u001b[0m\u001b[1;33m)\u001b[0m\u001b[1;33m\u001b[0m\u001b[1;33m\u001b[0m\u001b[0m\n\u001b[0m",
      "\u001b[1;31mKeyError\u001b[0m: 'temp'"
     ]
    }
   ],
   "source": [
    "emp.pop('temp')"
   ]
  },
  {
   "cell_type": "code",
   "execution_count": 11,
   "id": "7c1c3344",
   "metadata": {},
   "outputs": [
    {
     "data": {
      "text/plain": [
       "{'id': 101,\n",
       " 'name': 'jon',\n",
       " 'sal': 6912616,\n",
       " 'dept': 'IT',\n",
       " 'deptid': 4515,\n",
       " 'deptloc': 'Pune'}"
      ]
     },
     "execution_count": 11,
     "metadata": {},
     "output_type": "execute_result"
    }
   ],
   "source": [
    "emp"
   ]
  },
  {
   "cell_type": "code",
   "execution_count": 12,
   "id": "c4b7ac37",
   "metadata": {},
   "outputs": [],
   "source": [
    "#popitem --> LIFO /FILO"
   ]
  },
  {
   "cell_type": "code",
   "execution_count": 13,
   "id": "74371ac3",
   "metadata": {},
   "outputs": [
    {
     "data": {
      "text/plain": [
       "('deptloc', 'Pune')"
      ]
     },
     "execution_count": 13,
     "metadata": {},
     "output_type": "execute_result"
    }
   ],
   "source": [
    "emp.popitem()"
   ]
  },
  {
   "cell_type": "code",
   "execution_count": 14,
   "id": "d9f7c725",
   "metadata": {},
   "outputs": [
    {
     "data": {
      "text/plain": [
       "{'id': 101, 'name': 'jon', 'sal': 6912616, 'dept': 'IT', 'deptid': 4515}"
      ]
     },
     "execution_count": 14,
     "metadata": {},
     "output_type": "execute_result"
    }
   ],
   "source": [
    "emp"
   ]
  },
  {
   "cell_type": "code",
   "execution_count": null,
   "id": "b772d868",
   "metadata": {},
   "outputs": [],
   "source": [
    "real time:\n",
    "    "
   ]
  },
  {
   "cell_type": "code",
   "execution_count": 15,
   "id": "7f4c716c",
   "metadata": {},
   "outputs": [],
   "source": [
    "t = (101,949494,'keshav')"
   ]
  },
  {
   "cell_type": "code",
   "execution_count": 16,
   "id": "6e0a0636",
   "metadata": {},
   "outputs": [
    {
     "ename": "IndexError",
     "evalue": "tuple index out of range",
     "output_type": "error",
     "traceback": [
      "\u001b[1;31m---------------------------------------------------------------------------\u001b[0m",
      "\u001b[1;31mIndexError\u001b[0m                                Traceback (most recent call last)",
      "\u001b[1;32m<ipython-input-16-ffabd0b4a246>\u001b[0m in \u001b[0;36m<module>\u001b[1;34m\u001b[0m\n\u001b[1;32m----> 1\u001b[1;33m \u001b[0mt\u001b[0m\u001b[1;33m[\u001b[0m\u001b[1;36m3\u001b[0m\u001b[1;33m]\u001b[0m\u001b[1;33m\u001b[0m\u001b[1;33m\u001b[0m\u001b[0m\n\u001b[0m",
      "\u001b[1;31mIndexError\u001b[0m: tuple index out of range"
     ]
    }
   ],
   "source": [
    "t[3]"
   ]
  },
  {
   "cell_type": "code",
   "execution_count": 17,
   "id": "3c9a6ca7",
   "metadata": {},
   "outputs": [
    {
     "data": {
      "text/plain": [
       "('deptid', 4515)"
      ]
     },
     "execution_count": 17,
     "metadata": {},
     "output_type": "execute_result"
    }
   ],
   "source": [
    "emp.popitem()"
   ]
  },
  {
   "cell_type": "code",
   "execution_count": 18,
   "id": "0e22aed3",
   "metadata": {},
   "outputs": [],
   "source": [
    "emails = {'keshav':'test@gmail.com','pravin':'sample@gmail.com','subhash':'test@gmail.com'}"
   ]
  },
  {
   "cell_type": "code",
   "execution_count": 19,
   "id": "bc91ae7f",
   "metadata": {},
   "outputs": [],
   "source": [
    "email_sent = []"
   ]
  },
  {
   "cell_type": "code",
   "execution_count": 20,
   "id": "d8652674",
   "metadata": {},
   "outputs": [],
   "source": [
    "email_sent.append(emails.popitem())"
   ]
  },
  {
   "cell_type": "code",
   "execution_count": 21,
   "id": "d1e44df6",
   "metadata": {},
   "outputs": [
    {
     "data": {
      "text/plain": [
       "{'keshav': 'test@gmail.com', 'pravin': 'sample@gmail.com'}"
      ]
     },
     "execution_count": 21,
     "metadata": {},
     "output_type": "execute_result"
    }
   ],
   "source": [
    "emails"
   ]
  },
  {
   "cell_type": "code",
   "execution_count": 22,
   "id": "03400b2e",
   "metadata": {},
   "outputs": [
    {
     "data": {
      "text/plain": [
       "[('subhash', 'test@gmail.com')]"
      ]
     },
     "execution_count": 22,
     "metadata": {},
     "output_type": "execute_result"
    }
   ],
   "source": [
    "email_sent"
   ]
  },
  {
   "cell_type": "code",
   "execution_count": null,
   "id": "05c3dd0c",
   "metadata": {},
   "outputs": [],
   "source": [
    "preserv -- email"
   ]
  },
  {
   "cell_type": "code",
   "execution_count": 23,
   "id": "401f813f",
   "metadata": {},
   "outputs": [],
   "source": [
    "token = {'101':'ASFSDFSADFSDFSDFSDAFFSDAFSADF',}"
   ]
  },
  {
   "cell_type": "code",
   "execution_count": null,
   "id": "85d6f656",
   "metadata": {},
   "outputs": [],
   "source": [
    "'102':'sadfasdfasdfasdfsdafasdfsdf'"
   ]
  },
  {
   "cell_type": "code",
   "execution_count": 24,
   "id": "a481c98a",
   "metadata": {},
   "outputs": [
    {
     "data": {
      "text/plain": [
       "{'id': 101, 'name': 'jon', 'sal': 6912616, 'dept': 'IT'}"
      ]
     },
     "execution_count": 24,
     "metadata": {},
     "output_type": "execute_result"
    }
   ],
   "source": [
    "emp"
   ]
  },
  {
   "cell_type": "code",
   "execution_count": 25,
   "id": "143412d5",
   "metadata": {},
   "outputs": [
    {
     "data": {
      "text/plain": [
       "{'101': 'ASFSDFSADFSDFSDFSDAFFSDAFSADF', '102': 'sadfasdfasdfasdfsdafasdfsdf'}"
      ]
     },
     "execution_count": 25,
     "metadata": {},
     "output_type": "execute_result"
    }
   ],
   "source": [
    "token\n"
   ]
  },
  {
   "cell_type": "code",
   "execution_count": 27,
   "id": "4c825c4d",
   "metadata": {},
   "outputs": [
    {
     "data": {
      "text/plain": [
       "('102', 'sadfasdfasdfasdfsdafasdfsdf')"
      ]
     },
     "execution_count": 27,
     "metadata": {},
     "output_type": "execute_result"
    }
   ],
   "source": [
    "token.popitem()"
   ]
  },
  {
   "cell_type": "code",
   "execution_count": 29,
   "id": "dffb7b69",
   "metadata": {},
   "outputs": [
    {
     "data": {
      "text/plain": [
       "('101', 'ASFSDFSADFSDFSDFSDAFFSDAFSADF')"
      ]
     },
     "execution_count": 29,
     "metadata": {},
     "output_type": "execute_result"
    }
   ],
   "source": [
    "token.popitem()\n"
   ]
  },
  {
   "cell_type": "code",
   "execution_count": 31,
   "id": "6b9c068e",
   "metadata": {},
   "outputs": [
    {
     "ename": "KeyError",
     "evalue": "'popitem(): dictionary is empty'",
     "output_type": "error",
     "traceback": [
      "\u001b[1;31m---------------------------------------------------------------------------\u001b[0m",
      "\u001b[1;31mKeyError\u001b[0m                                  Traceback (most recent call last)",
      "\u001b[1;32m<ipython-input-31-4e6d837cb189>\u001b[0m in \u001b[0;36m<module>\u001b[1;34m\u001b[0m\n\u001b[1;32m----> 1\u001b[1;33m \u001b[0mtoken\u001b[0m\u001b[1;33m.\u001b[0m\u001b[0mpopitem\u001b[0m\u001b[1;33m(\u001b[0m\u001b[1;33m)\u001b[0m\u001b[1;33m\u001b[0m\u001b[1;33m\u001b[0m\u001b[0m\n\u001b[0m",
      "\u001b[1;31mKeyError\u001b[0m: 'popitem(): dictionary is empty'"
     ]
    }
   ],
   "source": [
    "token.popitem()"
   ]
  },
  {
   "cell_type": "code",
   "execution_count": 32,
   "id": "2f9aa302",
   "metadata": {},
   "outputs": [
    {
     "data": {
      "text/plain": [
       "{'id': 101, 'name': 'jon', 'sal': 6912616, 'dept': 'IT'}"
      ]
     },
     "execution_count": 32,
     "metadata": {},
     "output_type": "execute_result"
    }
   ],
   "source": [
    "emp"
   ]
  },
  {
   "cell_type": "code",
   "execution_count": null,
   "id": "1263af1a",
   "metadata": {},
   "outputs": [],
   "source": [
    "del \n",
    "\n",
    "pop\n",
    "popitem\n",
    "clear"
   ]
  },
  {
   "cell_type": "code",
   "execution_count": null,
   "id": "9889f69f",
   "metadata": {},
   "outputs": [],
   "source": [
    "del :\n",
    "    variable\n",
    "    "
   ]
  },
  {
   "cell_type": "code",
   "execution_count": 33,
   "id": "c5f8f0e6",
   "metadata": {},
   "outputs": [
    {
     "data": {
      "text/plain": [
       "{'id': 101, 'name': 'jon', 'sal': 6912616, 'dept': 'IT'}"
      ]
     },
     "execution_count": 33,
     "metadata": {},
     "output_type": "execute_result"
    }
   ],
   "source": [
    "emp"
   ]
  },
  {
   "cell_type": "code",
   "execution_count": null,
   "id": "a91c2efb",
   "metadata": {},
   "outputs": [],
   "source": [
    "emp.clear()"
   ]
  },
  {
   "cell_type": "code",
   "execution_count": 34,
   "id": "17445ed3",
   "metadata": {},
   "outputs": [],
   "source": [
    "del emp"
   ]
  },
  {
   "cell_type": "code",
   "execution_count": 35,
   "id": "087c8702",
   "metadata": {},
   "outputs": [
    {
     "ename": "NameError",
     "evalue": "name 'emp' is not defined",
     "output_type": "error",
     "traceback": [
      "\u001b[1;31m---------------------------------------------------------------------------\u001b[0m",
      "\u001b[1;31mNameError\u001b[0m                                 Traceback (most recent call last)",
      "\u001b[1;32m<ipython-input-35-94640616605f>\u001b[0m in \u001b[0;36m<module>\u001b[1;34m\u001b[0m\n\u001b[1;32m----> 1\u001b[1;33m \u001b[0memp\u001b[0m\u001b[1;33m\u001b[0m\u001b[1;33m\u001b[0m\u001b[0m\n\u001b[0m",
      "\u001b[1;31mNameError\u001b[0m: name 'emp' is not defined"
     ]
    }
   ],
   "source": [
    "emp"
   ]
  },
  {
   "cell_type": "code",
   "execution_count": null,
   "id": "26ef757f",
   "metadata": {},
   "outputs": [],
   "source": [
    "beginner\n",
    "\n",
    "intermediate\n",
    "\n",
    "expert\n",
    "\n",
    "memory -- performance --> Apple 2 GB \n",
    "\n",
    "\n",
    "Samsung 8GB"
   ]
  },
  {
   "cell_type": "code",
   "execution_count": null,
   "id": "308145a0",
   "metadata": {},
   "outputs": [],
   "source": [
    "variable define\n",
    "\n",
    "work \n",
    "\n",
    "clean up code"
   ]
  },
  {
   "cell_type": "code",
   "execution_count": 41,
   "id": "fa8baf6f",
   "metadata": {},
   "outputs": [],
   "source": [
    "emp = {'id': 101, 'name': 'jon', 'sal': 6912616, 'dept': 'IT', 'deptid': 4515}"
   ]
  },
  {
   "cell_type": "code",
   "execution_count": 42,
   "id": "f0ecea71",
   "metadata": {},
   "outputs": [
    {
     "data": {
      "text/plain": [
       "{'id': 101, 'name': 'jon', 'sal': 6912616, 'dept': 'IT', 'deptid': 4515}"
      ]
     },
     "execution_count": 42,
     "metadata": {},
     "output_type": "execute_result"
    }
   ],
   "source": [
    "emp"
   ]
  },
  {
   "cell_type": "code",
   "execution_count": 45,
   "id": "5a92abe5",
   "metadata": {},
   "outputs": [
    {
     "data": {
      "text/plain": [
       "dict_keys(['id', 'name', 'sal', 'dept', 'deptid'])"
      ]
     },
     "execution_count": 45,
     "metadata": {},
     "output_type": "execute_result"
    }
   ],
   "source": [
    "emp.keys()"
   ]
  },
  {
   "cell_type": "code",
   "execution_count": 46,
   "id": "4857925c",
   "metadata": {},
   "outputs": [
    {
     "data": {
      "text/plain": [
       "dict_values([101, 'jon', 6912616, 'IT', 4515])"
      ]
     },
     "execution_count": 46,
     "metadata": {},
     "output_type": "execute_result"
    }
   ],
   "source": [
    "emp.values()"
   ]
  },
  {
   "cell_type": "code",
   "execution_count": 49,
   "id": "b81d048a",
   "metadata": {},
   "outputs": [
    {
     "data": {
      "text/plain": [
       "[('id', 101),\n",
       " ('name', 'jon'),\n",
       " ('sal', 6912616),\n",
       " ('dept', 'IT'),\n",
       " ('deptid', 4515)]"
      ]
     },
     "execution_count": 49,
     "metadata": {},
     "output_type": "execute_result"
    }
   ],
   "source": [
    "list(emp.items())"
   ]
  },
  {
   "cell_type": "code",
   "execution_count": null,
   "id": "46e50271",
   "metadata": {},
   "outputs": [],
   "source": [
    "fromkeys b: it is use to create dict from only keys \n",
    "setdefault :"
   ]
  },
  {
   "cell_type": "code",
   "execution_count": 58,
   "id": "f5f5ee5b",
   "metadata": {},
   "outputs": [],
   "source": [
    "k = ('name','city','sal')"
   ]
  },
  {
   "cell_type": "code",
   "execution_count": 59,
   "id": "eedb71ee",
   "metadata": {},
   "outputs": [],
   "source": [
    "p = {}"
   ]
  },
  {
   "cell_type": "code",
   "execution_count": 61,
   "id": "371c0078",
   "metadata": {},
   "outputs": [
    {
     "data": {
      "text/plain": [
       "{'name': 0, 'city': 0, 'sal': 0}"
      ]
     },
     "execution_count": 61,
     "metadata": {},
     "output_type": "execute_result"
    }
   ],
   "source": [
    "p.fromkeys(k,0)"
   ]
  },
  {
   "cell_type": "code",
   "execution_count": 62,
   "id": "65761d4e",
   "metadata": {},
   "outputs": [
    {
     "data": {
      "text/plain": [
       "{'id': 101, 'name': 'jon', 'sal': 6912616, 'dept': 'IT', 'deptid': 4515}"
      ]
     },
     "execution_count": 62,
     "metadata": {},
     "output_type": "execute_result"
    }
   ],
   "source": [
    "emp"
   ]
  },
  {
   "cell_type": "code",
   "execution_count": null,
   "id": "2d975735",
   "metadata": {},
   "outputs": [],
   "source": [
    "key already present --> if we try to insert same key with different value"
   ]
  },
  {
   "cell_type": "code",
   "execution_count": null,
   "id": "08d3ca4c",
   "metadata": {},
   "outputs": [],
   "source": [
    "if key present then do nothing\n",
    "if not then  insert new item --> key:value pair"
   ]
  },
  {
   "cell_type": "code",
   "execution_count": 63,
   "id": "cc306d3f",
   "metadata": {},
   "outputs": [
    {
     "data": {
      "text/plain": [
       "{'id': 101, 'name': 'jon', 'sal': 6912616, 'dept': 'IT', 'deptid': 4515}"
      ]
     },
     "execution_count": 63,
     "metadata": {},
     "output_type": "execute_result"
    }
   ],
   "source": [
    "emp"
   ]
  },
  {
   "cell_type": "code",
   "execution_count": 64,
   "id": "8bd05ccb",
   "metadata": {},
   "outputs": [
    {
     "data": {
      "text/plain": [
       "'jon'"
      ]
     },
     "execution_count": 64,
     "metadata": {},
     "output_type": "execute_result"
    }
   ],
   "source": [
    "emp.setdefault('name','pravin')"
   ]
  },
  {
   "cell_type": "code",
   "execution_count": 65,
   "id": "0e386764",
   "metadata": {},
   "outputs": [
    {
     "data": {
      "text/plain": [
       "{'id': 101, 'name': 'jon', 'sal': 6912616, 'dept': 'IT', 'deptid': 4515}"
      ]
     },
     "execution_count": 65,
     "metadata": {},
     "output_type": "execute_result"
    }
   ],
   "source": [
    "emp"
   ]
  },
  {
   "cell_type": "code",
   "execution_count": 68,
   "id": "464e4970",
   "metadata": {},
   "outputs": [
    {
     "data": {
      "text/plain": [
       "123"
      ]
     },
     "execution_count": 68,
     "metadata": {},
     "output_type": "execute_result"
    }
   ],
   "source": [
    "emp.setdefault('test')"
   ]
  },
  {
   "cell_type": "code",
   "execution_count": 69,
   "id": "f1bf5300",
   "metadata": {},
   "outputs": [
    {
     "data": {
      "text/plain": [
       "{'id': 101,\n",
       " 'name': 'jon',\n",
       " 'sal': 6912616,\n",
       " 'dept': 'IT',\n",
       " 'deptid': 4515,\n",
       " 'test': 123}"
      ]
     },
     "execution_count": 69,
     "metadata": {},
     "output_type": "execute_result"
    }
   ],
   "source": [
    "emp"
   ]
  },
  {
   "cell_type": "code",
   "execution_count": 72,
   "id": "4f52492e",
   "metadata": {},
   "outputs": [
    {
     "ename": "TypeError",
     "evalue": "setdefault expected at most 2 arguments, got 3",
     "output_type": "error",
     "traceback": [
      "\u001b[1;31m---------------------------------------------------------------------------\u001b[0m",
      "\u001b[1;31mTypeError\u001b[0m                                 Traceback (most recent call last)",
      "\u001b[1;32m<ipython-input-72-19c1f1f1436d>\u001b[0m in \u001b[0;36m<module>\u001b[1;34m\u001b[0m\n\u001b[1;32m----> 1\u001b[1;33m \u001b[0memp\u001b[0m\u001b[1;33m.\u001b[0m\u001b[0msetdefault\u001b[0m\u001b[1;33m(\u001b[0m\u001b[1;34m'asdfsdf'\u001b[0m\u001b[1;33m,\u001b[0m\u001b[1;34m'sadfsd'\u001b[0m\u001b[1;33m,\u001b[0m\u001b[1;34m'sdfsdfsa'\u001b[0m\u001b[1;33m)\u001b[0m\u001b[1;33m\u001b[0m\u001b[1;33m\u001b[0m\u001b[0m\n\u001b[0m",
      "\u001b[1;31mTypeError\u001b[0m: setdefault expected at most 2 arguments, got 3"
     ]
    }
   ],
   "source": [
    "emp.setdefault('asdfsdf','sadfsd','sdfsdfsa')"
   ]
  },
  {
   "cell_type": "code",
   "execution_count": 71,
   "id": "32708e87",
   "metadata": {},
   "outputs": [
    {
     "data": {
      "text/plain": [
       "{'id': 101,\n",
       " 'name': 'jon',\n",
       " 'sal': 6912616,\n",
       " 'dept': 'IT',\n",
       " 'deptid': 4515,\n",
       " 'test': 123,\n",
       " 'asdfsdf': None}"
      ]
     },
     "execution_count": 71,
     "metadata": {},
     "output_type": "execute_result"
    }
   ],
   "source": [
    "emp"
   ]
  },
  {
   "cell_type": "code",
   "execution_count": 73,
   "id": "0986bef5",
   "metadata": {},
   "outputs": [
    {
     "ename": "TypeError",
     "evalue": "setdefault expected at least 1 argument, got 0",
     "output_type": "error",
     "traceback": [
      "\u001b[1;31m---------------------------------------------------------------------------\u001b[0m",
      "\u001b[1;31mTypeError\u001b[0m                                 Traceback (most recent call last)",
      "\u001b[1;32m<ipython-input-73-3eafc3f4a52e>\u001b[0m in \u001b[0;36m<module>\u001b[1;34m\u001b[0m\n\u001b[1;32m----> 1\u001b[1;33m \u001b[0memp\u001b[0m\u001b[1;33m.\u001b[0m\u001b[0msetdefault\u001b[0m\u001b[1;33m(\u001b[0m\u001b[1;33m)\u001b[0m\u001b[1;33m\u001b[0m\u001b[1;33m\u001b[0m\u001b[0m\n\u001b[0m",
      "\u001b[1;31mTypeError\u001b[0m: setdefault expected at least 1 argument, got 0"
     ]
    }
   ],
   "source": [
    "emp.setdefault()"
   ]
  },
  {
   "cell_type": "code",
   "execution_count": null,
   "id": "8c3d47b3",
   "metadata": {},
   "outputs": [],
   "source": [
    "dict:\n",
    "    get\n",
    "    pop\n",
    "    popitem\n",
    "    dict[key] = newvalue\n",
    "    update\n",
    "    keys\n",
    "    values\n",
    "    items\n",
    "    clear\n",
    "    fromkeys\n",
    "    setdefault\n",
    "    copy --> copy module /deep copy/shallow copy"
   ]
  },
  {
   "cell_type": "code",
   "execution_count": null,
   "id": "a525acf6",
   "metadata": {},
   "outputs": [],
   "source": [
    "list\n",
    "tuple\n",
    "set\n",
    "dict\n",
    "str\n",
    "typecasting\n",
    "operators\n",
    "control statement\n",
    "loop statement \n",
    "loop control statements\n",
    "<--- revision session ---->\n",
    "Function:"
   ]
  }
 ],
 "metadata": {
  "kernelspec": {
   "display_name": "Python 3",
   "language": "python",
   "name": "python3"
  },
  "language_info": {
   "codemirror_mode": {
    "name": "ipython",
    "version": 3
   },
   "file_extension": ".py",
   "mimetype": "text/x-python",
   "name": "python",
   "nbconvert_exporter": "python",
   "pygments_lexer": "ipython3",
   "version": "3.8.8"
  }
 },
 "nbformat": 4,
 "nbformat_minor": 5
}
