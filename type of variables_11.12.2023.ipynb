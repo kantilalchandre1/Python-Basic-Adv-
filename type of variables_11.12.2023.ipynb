{
 "cells": [
  {
   "cell_type": "code",
   "execution_count": null,
   "id": "48c9bed5",
   "metadata": {},
   "outputs": [],
   "source": [
    "Types of variable in function:\n",
    "    global variable \n",
    "    \n",
    "    local variable : within the function\n",
    "    "
   ]
  },
  {
   "cell_type": "code",
   "execution_count": null,
   "id": "d61f5ff7",
   "metadata": {},
   "outputs": [],
   "source": [
    "global :\n",
    "    scope of global varibale is througout program"
   ]
  },
  {
   "cell_type": "code",
   "execution_count": 1,
   "id": "a4bee964",
   "metadata": {},
   "outputs": [],
   "source": [
    "x = 'python' # program\n",
    "\n",
    "def test():\n",
    "    x = 500 # local -- within the function"
   ]
  },
  {
   "cell_type": "code",
   "execution_count": 2,
   "id": "c71dfc2d",
   "metadata": {},
   "outputs": [
    {
     "data": {
      "text/plain": [
       "'python'"
      ]
     },
     "execution_count": 2,
     "metadata": {},
     "output_type": "execute_result"
    }
   ],
   "source": [
    "x"
   ]
  },
  {
   "cell_type": "code",
   "execution_count": null,
   "id": "8f17b89d",
   "metadata": {},
   "outputs": [],
   "source": [
    "url = 'dsfdsfsdf'"
   ]
  },
  {
   "cell_type": "code",
   "execution_count": 3,
   "id": "53a76706",
   "metadata": {},
   "outputs": [],
   "source": [
    "course_name = 'Data Science'\n",
    "\n",
    "def show():\n",
    "    subject = 'ML'"
   ]
  },
  {
   "cell_type": "code",
   "execution_count": 4,
   "id": "b03a02ae",
   "metadata": {},
   "outputs": [
    {
     "data": {
      "text/plain": [
       "'Data Science'"
      ]
     },
     "execution_count": 4,
     "metadata": {},
     "output_type": "execute_result"
    }
   ],
   "source": [
    "course_name"
   ]
  },
  {
   "cell_type": "code",
   "execution_count": 6,
   "id": "c121befd",
   "metadata": {},
   "outputs": [],
   "source": [
    "show()"
   ]
  },
  {
   "cell_type": "code",
   "execution_count": 7,
   "id": "a06edc56",
   "metadata": {},
   "outputs": [
    {
     "ename": "NameError",
     "evalue": "name 'subject' is not defined",
     "output_type": "error",
     "traceback": [
      "\u001b[1;31m---------------------------------------------------------------------------\u001b[0m",
      "\u001b[1;31mNameError\u001b[0m                                 Traceback (most recent call last)",
      "\u001b[1;32m<ipython-input-7-a15370b3e6a0>\u001b[0m in \u001b[0;36m<module>\u001b[1;34m\u001b[0m\n\u001b[1;32m----> 1\u001b[1;33m \u001b[0msubject\u001b[0m\u001b[1;33m\u001b[0m\u001b[1;33m\u001b[0m\u001b[0m\n\u001b[0m",
      "\u001b[1;31mNameError\u001b[0m: name 'subject' is not defined"
     ]
    }
   ],
   "source": [
    "subject"
   ]
  },
  {
   "cell_type": "code",
   "execution_count": 15,
   "id": "5a29f0d3",
   "metadata": {},
   "outputs": [],
   "source": [
    "a = 100\n",
    "\n",
    "def test():   \n",
    "    \n",
    "    print(a)"
   ]
  },
  {
   "cell_type": "code",
   "execution_count": 16,
   "id": "48382a3c",
   "metadata": {},
   "outputs": [
    {
     "name": "stdout",
     "output_type": "stream",
     "text": [
      "100\n"
     ]
    }
   ],
   "source": [
    "test()"
   ]
  },
  {
   "cell_type": "code",
   "execution_count": null,
   "id": "3fa68bd4",
   "metadata": {},
   "outputs": [],
   "source": [
    "what is the use of global keyword?\n",
    "global : keyword\n",
    "    \n",
    "    global : \n",
    "        1.to modify value of global varibale using funcion\n",
    "        2.To make local variable as Global variable            "
   ]
  },
  {
   "cell_type": "code",
   "execution_count": 64,
   "id": "7178907f",
   "metadata": {},
   "outputs": [],
   "source": [
    "course = 'Java'\n",
    "def m1():\n",
    "    print(course)\n",
    "def m2():\n",
    "    course = 'Python'\n",
    "    print(course)\n",
    "def m4():\n",
    "    print(course)    \n",
    "def m3():\n",
    "    global course\n",
    "    course = 'Machine learning'    \n",
    "def m5():\n",
    "    global course\n",
    "    course = 'Data Science'"
   ]
  },
  {
   "cell_type": "code",
   "execution_count": 37,
   "id": "e929fe0c",
   "metadata": {},
   "outputs": [
    {
     "name": "stdout",
     "output_type": "stream",
     "text": [
      "Machine learning\n",
      "Python\n",
      "Machine learning\n"
     ]
    }
   ],
   "source": [
    "m3()\n",
    "m1()\n",
    "m2()\n",
    "m4()"
   ]
  },
  {
   "cell_type": "code",
   "execution_count": null,
   "id": "9b8566ed",
   "metadata": {},
   "outputs": [],
   "source": []
  },
  {
   "cell_type": "code",
   "execution_count": 38,
   "id": "fafef65c",
   "metadata": {},
   "outputs": [
    {
     "data": {
      "text/plain": [
       "'Machine learning'"
      ]
     },
     "execution_count": 38,
     "metadata": {},
     "output_type": "execute_result"
    }
   ],
   "source": [
    "course"
   ]
  },
  {
   "cell_type": "code",
   "execution_count": 39,
   "id": "0d873626",
   "metadata": {},
   "outputs": [],
   "source": [
    "m5()"
   ]
  },
  {
   "cell_type": "code",
   "execution_count": 40,
   "id": "2787b127",
   "metadata": {},
   "outputs": [
    {
     "name": "stdout",
     "output_type": "stream",
     "text": [
      "Data Science\n"
     ]
    }
   ],
   "source": [
    "m1()"
   ]
  },
  {
   "cell_type": "code",
   "execution_count": 41,
   "id": "af0c238c",
   "metadata": {},
   "outputs": [
    {
     "name": "stdout",
     "output_type": "stream",
     "text": [
      "Python\n"
     ]
    }
   ],
   "source": [
    "m2()"
   ]
  },
  {
   "cell_type": "code",
   "execution_count": 42,
   "id": "59aa2910",
   "metadata": {},
   "outputs": [
    {
     "name": "stdout",
     "output_type": "stream",
     "text": [
      "Data Science\n"
     ]
    }
   ],
   "source": [
    "m4()"
   ]
  },
  {
   "cell_type": "code",
   "execution_count": 43,
   "id": "fc400867",
   "metadata": {},
   "outputs": [],
   "source": [
    "m3()"
   ]
  },
  {
   "cell_type": "code",
   "execution_count": 44,
   "id": "b3b2565f",
   "metadata": {},
   "outputs": [
    {
     "name": "stdout",
     "output_type": "stream",
     "text": [
      "Machine learning\n"
     ]
    }
   ],
   "source": [
    "m1()"
   ]
  },
  {
   "cell_type": "code",
   "execution_count": 45,
   "id": "46c2222e",
   "metadata": {},
   "outputs": [],
   "source": [
    "m5()"
   ]
  },
  {
   "cell_type": "code",
   "execution_count": 46,
   "id": "815086a9",
   "metadata": {},
   "outputs": [
    {
     "data": {
      "text/plain": [
       "'Data Science'"
      ]
     },
     "execution_count": 46,
     "metadata": {},
     "output_type": "execute_result"
    }
   ],
   "source": [
    "course"
   ]
  },
  {
   "cell_type": "code",
   "execution_count": 58,
   "id": "4293b4e0",
   "metadata": {},
   "outputs": [],
   "source": [
    "def test():\n",
    "    global i,j,k\n",
    "    i = 100\n",
    "    j = 200\n",
    "    k = 300\n",
    "    \n",
    "def test1():\n",
    "    print(i,j,k)\n",
    "    "
   ]
  },
  {
   "cell_type": "code",
   "execution_count": 59,
   "id": "14456539",
   "metadata": {},
   "outputs": [],
   "source": [
    "test()"
   ]
  },
  {
   "cell_type": "code",
   "execution_count": 60,
   "id": "48c6d589",
   "metadata": {},
   "outputs": [
    {
     "name": "stdout",
     "output_type": "stream",
     "text": [
      "100 200 300\n"
     ]
    }
   ],
   "source": [
    "test1()"
   ]
  },
  {
   "cell_type": "code",
   "execution_count": 61,
   "id": "a8490ef6",
   "metadata": {},
   "outputs": [
    {
     "data": {
      "text/plain": [
       "100"
      ]
     },
     "execution_count": 61,
     "metadata": {},
     "output_type": "execute_result"
    }
   ],
   "source": [
    "i"
   ]
  },
  {
   "cell_type": "code",
   "execution_count": 62,
   "id": "8f66c380",
   "metadata": {},
   "outputs": [
    {
     "data": {
      "text/plain": [
       "200"
      ]
     },
     "execution_count": 62,
     "metadata": {},
     "output_type": "execute_result"
    }
   ],
   "source": [
    "j"
   ]
  },
  {
   "cell_type": "code",
   "execution_count": 63,
   "id": "8580a9c8",
   "metadata": {},
   "outputs": [
    {
     "data": {
      "text/plain": [
       "300"
      ]
     },
     "execution_count": 63,
     "metadata": {},
     "output_type": "execute_result"
    }
   ],
   "source": [
    "k"
   ]
  },
  {
   "cell_type": "code",
   "execution_count": 65,
   "id": "b7affc6f",
   "metadata": {},
   "outputs": [
    {
     "data": {
      "text/plain": [
       "'Java'"
      ]
     },
     "execution_count": 65,
     "metadata": {},
     "output_type": "execute_result"
    }
   ],
   "source": [
    "course"
   ]
  },
  {
   "cell_type": "code",
   "execution_count": 80,
   "id": "4eacbd63",
   "metadata": {},
   "outputs": [],
   "source": [
    "a = 10\n",
    "b= 450\n",
    "def test():\n",
    "    a = 100\n",
    "    print(globals()['a'])\n",
    "    print(a)"
   ]
  },
  {
   "cell_type": "code",
   "execution_count": 81,
   "id": "47087fb4",
   "metadata": {},
   "outputs": [
    {
     "name": "stdout",
     "output_type": "stream",
     "text": [
      "10\n",
      "100\n"
     ]
    }
   ],
   "source": [
    "test()"
   ]
  },
  {
   "cell_type": "code",
   "execution_count": null,
   "id": "669c4d75",
   "metadata": {},
   "outputs": [],
   "source": []
  }
 ],
 "metadata": {
  "kernelspec": {
   "display_name": "Python 3",
   "language": "python",
   "name": "python3"
  },
  "language_info": {
   "codemirror_mode": {
    "name": "ipython",
    "version": 3
   },
   "file_extension": ".py",
   "mimetype": "text/x-python",
   "name": "python",
   "nbconvert_exporter": "python",
   "pygments_lexer": "ipython3",
   "version": "3.8.8"
  }
 },
 "nbformat": 4,
 "nbformat_minor": 5
}
