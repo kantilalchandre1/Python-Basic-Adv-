{
 "cells": [
  {
   "cell_type": "code",
   "execution_count": null,
   "id": "92124921",
   "metadata": {},
   "outputs": [],
   "source": [
    "str:\n",
    "    collection of chars\n",
    "    it is immutable type\n",
    "    it is zero based index\n",
    "    having highest priority  -- most of data in Str DT"
   ]
  },
  {
   "cell_type": "code",
   "execution_count": 1,
   "id": "c86c9b96",
   "metadata": {},
   "outputs": [
    {
     "name": "stdout",
     "output_type": "stream",
     "text": [
      "Enter the age:25\n"
     ]
    }
   ],
   "source": [
    "age  = input(\"Enter the age:\")"
   ]
  },
  {
   "cell_type": "code",
   "execution_count": 2,
   "id": "06494003",
   "metadata": {},
   "outputs": [
    {
     "data": {
      "text/plain": [
       "'25'"
      ]
     },
     "execution_count": 2,
     "metadata": {},
     "output_type": "execute_result"
    }
   ],
   "source": [
    "age"
   ]
  },
  {
   "cell_type": "code",
   "execution_count": null,
   "id": "3adc7cb5",
   "metadata": {},
   "outputs": [],
   "source": [
    "Methods:\n",
    "    upper()\n",
    "    lower()\n",
    "    capitlize()\n",
    "    swapcase()\n",
    "    title()\n",
    "    startswith()\n",
    "    endswith()"
   ]
  },
  {
   "cell_type": "code",
   "execution_count": 3,
   "id": "b11f8708",
   "metadata": {},
   "outputs": [],
   "source": [
    "py_str = 'sureshpatil@gmail.com'"
   ]
  },
  {
   "cell_type": "code",
   "execution_count": 5,
   "id": "a8f54307",
   "metadata": {},
   "outputs": [
    {
     "data": {
      "text/plain": [
       "'sureshpatil'"
      ]
     },
     "execution_count": 5,
     "metadata": {},
     "output_type": "execute_result"
    }
   ],
   "source": [
    "py_str.split('@')[0] # result --> list"
   ]
  },
  {
   "cell_type": "code",
   "execution_count": 6,
   "id": "af1afd57",
   "metadata": {},
   "outputs": [],
   "source": [
    "test = 'Python#Java#Hadoop'"
   ]
  },
  {
   "cell_type": "code",
   "execution_count": 8,
   "id": "b5f2ff36",
   "metadata": {},
   "outputs": [
    {
     "data": {
      "text/plain": [
       "'Java'"
      ]
     },
     "execution_count": 8,
     "metadata": {},
     "output_type": "execute_result"
    }
   ],
   "source": [
    "test.split('#')[1]"
   ]
  },
  {
   "cell_type": "code",
   "execution_count": 37,
   "id": "c9261a5a",
   "metadata": {},
   "outputs": [],
   "source": [
    "t1 = 'Python and DS is the future'"
   ]
  },
  {
   "cell_type": "code",
   "execution_count": 11,
   "id": "39196d8e",
   "metadata": {},
   "outputs": [
    {
     "data": {
      "text/plain": [
       "'DS'"
      ]
     },
     "execution_count": 11,
     "metadata": {},
     "output_type": "execute_result"
    }
   ],
   "source": [
    "t1.split()[2]"
   ]
  },
  {
   "cell_type": "code",
   "execution_count": 13,
   "id": "d52698a7",
   "metadata": {},
   "outputs": [
    {
     "data": {
      "text/plain": [
       "['Python and DS ', ' the future']"
      ]
     },
     "execution_count": 13,
     "metadata": {},
     "output_type": "execute_result"
    }
   ],
   "source": [
    "t1.split('is')"
   ]
  },
  {
   "cell_type": "code",
   "execution_count": 14,
   "id": "61b77497",
   "metadata": {},
   "outputs": [],
   "source": [
    "prdid = 'PX_15468'"
   ]
  },
  {
   "cell_type": "code",
   "execution_count": 16,
   "id": "cbf778df",
   "metadata": {},
   "outputs": [
    {
     "data": {
      "text/plain": [
       "'15468'"
      ]
     },
     "execution_count": 16,
     "metadata": {},
     "output_type": "execute_result"
    }
   ],
   "source": [
    "prdid.split('_')[-1]"
   ]
  },
  {
   "cell_type": "code",
   "execution_count": 17,
   "id": "c9776d21",
   "metadata": {},
   "outputs": [],
   "source": [
    "filename = 'test.pdf'"
   ]
  },
  {
   "cell_type": "code",
   "execution_count": 18,
   "id": "787901e8",
   "metadata": {},
   "outputs": [
    {
     "data": {
      "text/plain": [
       "'pdf'"
      ]
     },
     "execution_count": 18,
     "metadata": {},
     "output_type": "execute_result"
    }
   ],
   "source": [
    "filename.split('.')[-1]"
   ]
  },
  {
   "cell_type": "code",
   "execution_count": null,
   "id": "cd3cb1f1",
   "metadata": {},
   "outputs": [],
   "source": [
    "strip()"
   ]
  },
  {
   "cell_type": "code",
   "execution_count": 19,
   "id": "b4fb8c51",
   "metadata": {},
   "outputs": [],
   "source": [
    "username = 'admin'"
   ]
  },
  {
   "cell_type": "code",
   "execution_count": 20,
   "id": "0d8d00ef",
   "metadata": {},
   "outputs": [
    {
     "name": "stdout",
     "output_type": "stream",
     "text": [
      "Enter the username:admin  \n"
     ]
    }
   ],
   "source": [
    "u = input(\"Enter the username:\")"
   ]
  },
  {
   "cell_type": "code",
   "execution_count": 21,
   "id": "55fb5c42",
   "metadata": {},
   "outputs": [
    {
     "data": {
      "text/plain": [
       "'admin  '"
      ]
     },
     "execution_count": 21,
     "metadata": {},
     "output_type": "execute_result"
    }
   ],
   "source": [
    "u"
   ]
  },
  {
   "cell_type": "code",
   "execution_count": 22,
   "id": "ed208931",
   "metadata": {},
   "outputs": [
    {
     "data": {
      "text/plain": [
       "False"
      ]
     },
     "execution_count": 22,
     "metadata": {},
     "output_type": "execute_result"
    }
   ],
   "source": [
    "username==u"
   ]
  },
  {
   "cell_type": "code",
   "execution_count": null,
   "id": "2bb27ae0",
   "metadata": {},
   "outputs": [],
   "source": [
    "whitespaces at the end of the \n",
    "\n",
    "strip method"
   ]
  },
  {
   "cell_type": "code",
   "execution_count": 23,
   "id": "1b142450",
   "metadata": {},
   "outputs": [],
   "source": [
    "a = '  admin  '"
   ]
  },
  {
   "cell_type": "code",
   "execution_count": 24,
   "id": "ba028410",
   "metadata": {},
   "outputs": [
    {
     "data": {
      "text/plain": [
       "'  admin  '"
      ]
     },
     "execution_count": 24,
     "metadata": {},
     "output_type": "execute_result"
    }
   ],
   "source": [
    "a"
   ]
  },
  {
   "cell_type": "code",
   "execution_count": 25,
   "id": "af350b0e",
   "metadata": {},
   "outputs": [
    {
     "data": {
      "text/plain": [
       "'admin'"
      ]
     },
     "execution_count": 25,
     "metadata": {},
     "output_type": "execute_result"
    }
   ],
   "source": [
    "a.strip()"
   ]
  },
  {
   "cell_type": "code",
   "execution_count": 26,
   "id": "a9029598",
   "metadata": {},
   "outputs": [
    {
     "data": {
      "text/plain": [
       "'admin  '"
      ]
     },
     "execution_count": 26,
     "metadata": {},
     "output_type": "execute_result"
    }
   ],
   "source": [
    "a.lstrip()"
   ]
  },
  {
   "cell_type": "code",
   "execution_count": 27,
   "id": "91511b2a",
   "metadata": {},
   "outputs": [
    {
     "data": {
      "text/plain": [
       "'  admin'"
      ]
     },
     "execution_count": 27,
     "metadata": {},
     "output_type": "execute_result"
    }
   ],
   "source": [
    "a.rstrip()"
   ]
  },
  {
   "cell_type": "code",
   "execution_count": 28,
   "id": "fc29ea64",
   "metadata": {},
   "outputs": [],
   "source": [
    "a = '@python@'"
   ]
  },
  {
   "cell_type": "code",
   "execution_count": 33,
   "id": "65de0d1d",
   "metadata": {},
   "outputs": [
    {
     "data": {
      "text/plain": [
       "'@python'"
      ]
     },
     "execution_count": 33,
     "metadata": {},
     "output_type": "execute_result"
    }
   ],
   "source": [
    "a.rstrip('@') # by default it will trim space"
   ]
  },
  {
   "cell_type": "code",
   "execution_count": null,
   "id": "7a652ef7",
   "metadata": {},
   "outputs": [],
   "source": [
    "office 365 --> outlook --> Q4 --> report mail \n",
    "\n",
    "citi --> mail\n",
    "\n",
    "FW:sdfsdafasdgadsgfadgfdgfdg"
   ]
  },
  {
   "cell_type": "code",
   "execution_count": 34,
   "id": "4a2cd4ed",
   "metadata": {},
   "outputs": [],
   "source": [
    "sub = 'FW:gdfgfdgfdgfsdgfdsgdfsg'"
   ]
  },
  {
   "cell_type": "code",
   "execution_count": 36,
   "id": "a3680f36",
   "metadata": {},
   "outputs": [
    {
     "data": {
      "text/plain": [
       "'gdfgfdgfdgfsdgfdsgdfsg'"
      ]
     },
     "execution_count": 36,
     "metadata": {},
     "output_type": "execute_result"
    }
   ],
   "source": [
    "sub.lstrip('FW:')"
   ]
  },
  {
   "cell_type": "code",
   "execution_count": 40,
   "id": "b015d009",
   "metadata": {},
   "outputs": [],
   "source": [
    "# find():\n",
    "#     if substring is present then it will return its starting index(positive)\n",
    "#     if not then it will return -1"
   ]
  },
  {
   "cell_type": "code",
   "execution_count": 38,
   "id": "3a1c0ebb",
   "metadata": {},
   "outputs": [
    {
     "data": {
      "text/plain": [
       "'Python and DS is the future'"
      ]
     },
     "execution_count": 38,
     "metadata": {},
     "output_type": "execute_result"
    }
   ],
   "source": [
    "t1"
   ]
  },
  {
   "cell_type": "code",
   "execution_count": 42,
   "id": "dc1a6ed7",
   "metadata": {},
   "outputs": [
    {
     "data": {
      "text/plain": [
       "-1"
      ]
     },
     "execution_count": 42,
     "metadata": {},
     "output_type": "execute_result"
    }
   ],
   "source": [
    "t1.find('Hadoop')"
   ]
  },
  {
   "cell_type": "code",
   "execution_count": 71,
   "id": "b3e9fb12",
   "metadata": {},
   "outputs": [
    {
     "name": "stdout",
     "output_type": "stream",
     "text": [
      "Enter the string that you want to search:sdfafsdfsdaf\n",
      "Given string --> sdfafsdfsdaf is Absent\n"
     ]
    }
   ],
   "source": [
    "u = input(\"Enter the string that you want to search:\")\n",
    "\n",
    "if t1.find(u)==-1:\n",
    "    print(\"Given string --> {} is Absent\".format(u))\n",
    "else:\n",
    "    print(f\"given string --> {u} is Present\")"
   ]
  },
  {
   "cell_type": "code",
   "execution_count": 47,
   "id": "20cd3406",
   "metadata": {},
   "outputs": [
    {
     "data": {
      "text/plain": [
       "6"
      ]
     },
     "execution_count": 47,
     "metadata": {},
     "output_type": "execute_result"
    }
   ],
   "source": [
    "t1.find(' ')"
   ]
  },
  {
   "cell_type": "code",
   "execution_count": null,
   "id": "225cb273",
   "metadata": {},
   "outputs": [],
   "source": [
    "#format\n",
    "f "
   ]
  },
  {
   "cell_type": "code",
   "execution_count": 58,
   "id": "d96ba516",
   "metadata": {},
   "outputs": [],
   "source": [
    "a = 750"
   ]
  },
  {
   "cell_type": "code",
   "execution_count": 59,
   "id": "d0dd41c2",
   "metadata": {},
   "outputs": [],
   "source": [
    "b = 590"
   ]
  },
  {
   "cell_type": "code",
   "execution_count": 60,
   "id": "0c4857c7",
   "metadata": {},
   "outputs": [],
   "source": [
    "c  =a+b"
   ]
  },
  {
   "cell_type": "code",
   "execution_count": 61,
   "id": "479fba63",
   "metadata": {},
   "outputs": [
    {
     "data": {
      "text/plain": [
       "'Addition of 10 and 20 is 30'"
      ]
     },
     "execution_count": 61,
     "metadata": {},
     "output_type": "execute_result"
    }
   ],
   "source": [
    "\"Addition of 10 and 20 is 30\""
   ]
  },
  {
   "cell_type": "code",
   "execution_count": 63,
   "id": "6d3dc820",
   "metadata": {},
   "outputs": [
    {
     "data": {
      "text/plain": [
       "'Addition of 45 and 60 is 105'"
      ]
     },
     "execution_count": 63,
     "metadata": {},
     "output_type": "execute_result"
    }
   ],
   "source": [
    "\"Addition of {} and {} is {}\".format(45,60,45+60)"
   ]
  },
  {
   "cell_type": "code",
   "execution_count": 69,
   "id": "cc910e5f",
   "metadata": {},
   "outputs": [
    {
     "data": {
      "text/plain": [
       "'Addition of 750 and 590 is 1340'"
      ]
     },
     "execution_count": 69,
     "metadata": {},
     "output_type": "execute_result"
    }
   ],
   "source": [
    "f\"Addition of {a} and {b} is {c}\""
   ]
  },
  {
   "cell_type": "code",
   "execution_count": 74,
   "id": "1b51c739",
   "metadata": {},
   "outputs": [],
   "source": [
    "p = 'PythonPPPPP'"
   ]
  },
  {
   "cell_type": "code",
   "execution_count": 83,
   "id": "f005b937",
   "metadata": {},
   "outputs": [
    {
     "data": {
      "text/plain": [
       "'PythonPPPPP'"
      ]
     },
     "execution_count": 83,
     "metadata": {},
     "output_type": "execute_result"
    }
   ],
   "source": [
    "p.replace('Z','J',4)"
   ]
  },
  {
   "cell_type": "code",
   "execution_count": 84,
   "id": "be08e1de",
   "metadata": {},
   "outputs": [
    {
     "data": {
      "text/plain": [
       "'PythonPPPPP'"
      ]
     },
     "execution_count": 84,
     "metadata": {},
     "output_type": "execute_result"
    }
   ],
   "source": [
    "p"
   ]
  },
  {
   "cell_type": "code",
   "execution_count": 86,
   "id": "ac0702d6",
   "metadata": {},
   "outputs": [],
   "source": [
    "temp = p[6:]"
   ]
  },
  {
   "cell_type": "code",
   "execution_count": 89,
   "id": "24e60f6f",
   "metadata": {},
   "outputs": [],
   "source": [
    "temp1 = p[8:]"
   ]
  },
  {
   "cell_type": "code",
   "execution_count": 91,
   "id": "1b742908",
   "metadata": {},
   "outputs": [
    {
     "data": {
      "text/plain": [
       "'PPPPP'"
      ]
     },
     "execution_count": 91,
     "metadata": {},
     "output_type": "execute_result"
    }
   ],
   "source": [
    "temp"
   ]
  },
  {
   "cell_type": "code",
   "execution_count": 93,
   "id": "8ec77c10",
   "metadata": {},
   "outputs": [
    {
     "data": {
      "text/plain": [
       "'PythonPKPPP'"
      ]
     },
     "execution_count": 93,
     "metadata": {},
     "output_type": "execute_result"
    }
   ],
   "source": [
    "p[:7]+'K'+temp1"
   ]
  },
  {
   "cell_type": "code",
   "execution_count": 94,
   "id": "bea2925f",
   "metadata": {},
   "outputs": [
    {
     "data": {
      "text/plain": [
       "'PPPPP'"
      ]
     },
     "execution_count": 94,
     "metadata": {},
     "output_type": "execute_result"
    }
   ],
   "source": [
    "temp"
   ]
  },
  {
   "cell_type": "code",
   "execution_count": 95,
   "id": "f4653571",
   "metadata": {},
   "outputs": [
    {
     "data": {
      "text/plain": [
       "5"
      ]
     },
     "execution_count": 95,
     "metadata": {},
     "output_type": "execute_result"
    }
   ],
   "source": [
    "temp.count('P')"
   ]
  },
  {
   "cell_type": "code",
   "execution_count": 96,
   "id": "cd2a1f70",
   "metadata": {},
   "outputs": [],
   "source": [
    "p = 'sdfsdfsdfghfdhfdhsdfhfsdhd'"
   ]
  },
  {
   "cell_type": "code",
   "execution_count": 98,
   "id": "878e5482",
   "metadata": {},
   "outputs": [
    {
     "data": {
      "text/plain": [
       "8"
      ]
     },
     "execution_count": 98,
     "metadata": {},
     "output_type": "execute_result"
    }
   ],
   "source": [
    "p.count('d')"
   ]
  },
  {
   "cell_type": "code",
   "execution_count": 99,
   "id": "5c4ddcd5",
   "metadata": {},
   "outputs": [],
   "source": [
    "t1 = 'Python and DS is the future DS DS and Python'"
   ]
  },
  {
   "cell_type": "code",
   "execution_count": 105,
   "id": "1c32e0e2",
   "metadata": {},
   "outputs": [
    {
     "data": {
      "text/plain": [
       "9"
      ]
     },
     "execution_count": 105,
     "metadata": {},
     "output_type": "execute_result"
    }
   ],
   "source": [
    "t1.count(' ')"
   ]
  },
  {
   "cell_type": "code",
   "execution_count": 106,
   "id": "46325f40",
   "metadata": {},
   "outputs": [],
   "source": [
    "p = ' P y t hon'"
   ]
  },
  {
   "cell_type": "code",
   "execution_count": 107,
   "id": "6b4adb69",
   "metadata": {},
   "outputs": [
    {
     "data": {
      "text/plain": [
       "'Python'"
      ]
     },
     "execution_count": 107,
     "metadata": {},
     "output_type": "execute_result"
    }
   ],
   "source": [
    "p.replace(' ','')"
   ]
  },
  {
   "cell_type": "code",
   "execution_count": 108,
   "id": "fcfb33e3",
   "metadata": {},
   "outputs": [],
   "source": [
    "p ='sdfsdagfsdg gdfgfs gdfg fd gdfs gdf sg fsdg fdsg fds j fsg hsfd hgfsd hf sdh'"
   ]
  },
  {
   "cell_type": "code",
   "execution_count": null,
   "id": "75b6cf50",
   "metadata": {},
   "outputs": [],
   "source": [
    "str content\n",
    "\n",
    "alpha -  a-z/A-Z\n",
    "\n",
    "number - 0-9\n",
    "\n",
    "alphanum - -a-zA-Z0-9"
   ]
  },
  {
   "cell_type": "code",
   "execution_count": 109,
   "id": "b75d7ed1",
   "metadata": {},
   "outputs": [],
   "source": [
    "p = 'Python'"
   ]
  },
  {
   "cell_type": "code",
   "execution_count": 110,
   "id": "ed555e55",
   "metadata": {},
   "outputs": [],
   "source": [
    "p1 = '53535'"
   ]
  },
  {
   "cell_type": "code",
   "execution_count": 111,
   "id": "58a9eaf9",
   "metadata": {},
   "outputs": [],
   "source": [
    "p2 = 'Pyuthon435345'"
   ]
  },
  {
   "cell_type": "code",
   "execution_count": 113,
   "id": "1468f2b1",
   "metadata": {},
   "outputs": [
    {
     "data": {
      "text/plain": [
       "True"
      ]
     },
     "execution_count": 113,
     "metadata": {},
     "output_type": "execute_result"
    }
   ],
   "source": [
    "p.isalpha()"
   ]
  },
  {
   "cell_type": "code",
   "execution_count": 115,
   "id": "04a938a7",
   "metadata": {},
   "outputs": [
    {
     "data": {
      "text/plain": [
       "True"
      ]
     },
     "execution_count": 115,
     "metadata": {},
     "output_type": "execute_result"
    }
   ],
   "source": [
    "p1.isnumeric()"
   ]
  },
  {
   "cell_type": "code",
   "execution_count": 116,
   "id": "643b8713",
   "metadata": {},
   "outputs": [
    {
     "data": {
      "text/plain": [
       "True"
      ]
     },
     "execution_count": 116,
     "metadata": {},
     "output_type": "execute_result"
    }
   ],
   "source": [
    "p2.isalnum()"
   ]
  },
  {
   "cell_type": "code",
   "execution_count": null,
   "id": "62703f18",
   "metadata": {},
   "outputs": [],
   "source": [
    "str-- content --> \n",
    "\n",
    "Assigment:\n",
    "    numeric\n",
    "    decimal --> binary to decimal or vice versa\n",
    "    digit"
   ]
  },
  {
   "cell_type": "code",
   "execution_count": 124,
   "id": "18b89dfd",
   "metadata": {},
   "outputs": [
    {
     "data": {
      "text/plain": [
       "28"
      ]
     },
     "execution_count": 124,
     "metadata": {},
     "output_type": "execute_result"
    }
   ],
   "source": [
    "t1.find(\"DS\",12,100)"
   ]
  },
  {
   "cell_type": "code",
   "execution_count": 121,
   "id": "c56a10d6",
   "metadata": {},
   "outputs": [
    {
     "data": {
      "text/plain": [
       "'Python and DS is the future DS DS and Python'"
      ]
     },
     "execution_count": 121,
     "metadata": {},
     "output_type": "execute_result"
    }
   ],
   "source": [
    "t1"
   ]
  },
  {
   "cell_type": "code",
   "execution_count": null,
   "id": "3b78439c",
   "metadata": {},
   "outputs": [],
   "source": []
  },
  {
   "cell_type": "code",
   "execution_count": null,
   "id": "18ad2940",
   "metadata": {},
   "outputs": [],
   "source": []
  },
  {
   "cell_type": "code",
   "execution_count": null,
   "id": "a171426c",
   "metadata": {},
   "outputs": [],
   "source": []
  },
  {
   "cell_type": "code",
   "execution_count": null,
   "id": "51e5926a",
   "metadata": {},
   "outputs": [],
   "source": []
  },
  {
   "cell_type": "code",
   "execution_count": null,
   "id": "ce6e41de",
   "metadata": {},
   "outputs": [],
   "source": []
  },
  {
   "cell_type": "code",
   "execution_count": null,
   "id": "5243b46c",
   "metadata": {},
   "outputs": [],
   "source": []
  },
  {
   "cell_type": "code",
   "execution_count": null,
   "id": "9ee10c99",
   "metadata": {},
   "outputs": [],
   "source": []
  },
  {
   "cell_type": "code",
   "execution_count": null,
   "id": "a5e5a509",
   "metadata": {},
   "outputs": [],
   "source": []
  },
  {
   "cell_type": "code",
   "execution_count": null,
   "id": "f96625bb",
   "metadata": {},
   "outputs": [],
   "source": []
  }
 ],
 "metadata": {
  "kernelspec": {
   "display_name": "Python 3",
   "language": "python",
   "name": "python3"
  },
  "language_info": {
   "codemirror_mode": {
    "name": "ipython",
    "version": 3
   },
   "file_extension": ".py",
   "mimetype": "text/x-python",
   "name": "python",
   "nbconvert_exporter": "python",
   "pygments_lexer": "ipython3",
   "version": "3.8.8"
  }
 },
 "nbformat": 4,
 "nbformat_minor": 5
}
