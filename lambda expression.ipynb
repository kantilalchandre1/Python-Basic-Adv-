{
 "cells": [
  {
   "cell_type": "code",
   "execution_count": null,
   "id": "9c0e6cea",
   "metadata": {},
   "outputs": [],
   "source": [
    "lambda expression:\n",
    "\n",
    "function ---- its no name function\n",
    "higher order function\n",
    "anonymous function --> no name\n",
    "one time use function\n",
    "temporary function\n",
    "inline function -- one line"
   ]
  },
  {
   "cell_type": "code",
   "execution_count": null,
   "id": "f42f6af0",
   "metadata": {},
   "outputs": [],
   "source": [
    "lambda inputs : output expression"
   ]
  },
  {
   "cell_type": "code",
   "execution_count": 1,
   "id": "fe5b23ba",
   "metadata": {},
   "outputs": [
    {
     "data": {
      "text/plain": [
       "60"
      ]
     },
     "execution_count": 1,
     "metadata": {},
     "output_type": "execute_result"
    }
   ],
   "source": [
    "(lambda x,y : x+y)(10,50)"
   ]
  },
  {
   "cell_type": "code",
   "execution_count": null,
   "id": "1e2574c8",
   "metadata": {},
   "outputs": [],
   "source": [
    "x2+2xy+y2"
   ]
  },
  {
   "cell_type": "code",
   "execution_count": 3,
   "id": "b49a765d",
   "metadata": {},
   "outputs": [],
   "source": [
    "var = (lambda x,y : x**2+2*x*y+y**2)(2,4)"
   ]
  },
  {
   "cell_type": "code",
   "execution_count": 4,
   "id": "9f11346e",
   "metadata": {},
   "outputs": [
    {
     "data": {
      "text/plain": [
       "36"
      ]
     },
     "execution_count": 4,
     "metadata": {},
     "output_type": "execute_result"
    }
   ],
   "source": [
    "var"
   ]
  },
  {
   "cell_type": "code",
   "execution_count": null,
   "id": "a1293501",
   "metadata": {},
   "outputs": [],
   "source": [
    "pandas ---> use"
   ]
  },
  {
   "cell_type": "code",
   "execution_count": 8,
   "id": "fa25edc1",
   "metadata": {},
   "outputs": [
    {
     "data": {
      "text/plain": [
       "100"
      ]
     },
     "execution_count": 8,
     "metadata": {},
     "output_type": "execute_result"
    }
   ],
   "source": [
    "(lambda a,b : a if a>b else b)(100,25)"
   ]
  },
  {
   "cell_type": "code",
   "execution_count": null,
   "id": "92e72654",
   "metadata": {},
   "outputs": [],
   "source": [
    "lambda use with\n",
    "----------------\n",
    "map\n",
    "filter\n",
    "\n",
    "reduce -- not used"
   ]
  },
  {
   "cell_type": "code",
   "execution_count": null,
   "id": "b0b971b4",
   "metadata": {},
   "outputs": [],
   "source": [
    "map:\n",
    "    it is function which takes function as argument"
   ]
  },
  {
   "cell_type": "code",
   "execution_count": 25,
   "id": "64ff583e",
   "metadata": {},
   "outputs": [],
   "source": [
    "p = [34,7,4,5,76,345,786,34,78,64,5]"
   ]
  },
  {
   "cell_type": "code",
   "execution_count": 10,
   "id": "5c168acb",
   "metadata": {},
   "outputs": [],
   "source": [
    "sqr = []\n",
    "\n",
    "for i in p:\n",
    "    sqr.append(i**2)"
   ]
  },
  {
   "cell_type": "code",
   "execution_count": 11,
   "id": "d64de07d",
   "metadata": {},
   "outputs": [
    {
     "data": {
      "text/plain": [
       "[1156, 49, 16, 25, 5776, 119025, 617796, 1156, 6084, 4096, 25]"
      ]
     },
     "execution_count": 11,
     "metadata": {},
     "output_type": "execute_result"
    }
   ],
   "source": [
    "sqr"
   ]
  },
  {
   "cell_type": "code",
   "execution_count": null,
   "id": "0b85065e",
   "metadata": {},
   "outputs": [],
   "source": [
    "list ,tuple,set,dict[keys,values] element by element --> operation -- loop\n",
    "\n",
    "time complexity "
   ]
  },
  {
   "cell_type": "code",
   "execution_count": 12,
   "id": "bfe8b576",
   "metadata": {},
   "outputs": [],
   "source": [
    "def sqr(e):\n",
    "    return e**2"
   ]
  },
  {
   "cell_type": "code",
   "execution_count": 15,
   "id": "bbaf1f8c",
   "metadata": {},
   "outputs": [
    {
     "data": {
      "text/plain": [
       "[1156, 49, 16, 25, 5776, 119025, 617796, 1156, 6084, 4096, 25]"
      ]
     },
     "execution_count": 15,
     "metadata": {},
     "output_type": "execute_result"
    }
   ],
   "source": [
    "list(map(sqr,p))"
   ]
  },
  {
   "cell_type": "code",
   "execution_count": 16,
   "id": "6e77faa5",
   "metadata": {},
   "outputs": [
    {
     "data": {
      "text/plain": [
       "[1156, 49, 16, 25, 5776, 119025, 617796, 1156, 6084, 4096, 25]"
      ]
     },
     "execution_count": 16,
     "metadata": {},
     "output_type": "execute_result"
    }
   ],
   "source": [
    "list(map(lambda x : x**2,p))"
   ]
  },
  {
   "cell_type": "code",
   "execution_count": 17,
   "id": "50d6c395",
   "metadata": {},
   "outputs": [],
   "source": [
    "email = ['test@gmail.com','python@yahoo.com','ml@rediffmail.com']"
   ]
  },
  {
   "cell_type": "code",
   "execution_count": 18,
   "id": "6b61b4ae",
   "metadata": {},
   "outputs": [],
   "source": [
    "def username(e):\n",
    "    u = e.split('@')[0]\n",
    "    return u"
   ]
  },
  {
   "cell_type": "code",
   "execution_count": 19,
   "id": "65751fa5",
   "metadata": {},
   "outputs": [
    {
     "data": {
      "text/plain": [
       "('test', 'python', 'ml')"
      ]
     },
     "execution_count": 19,
     "metadata": {},
     "output_type": "execute_result"
    }
   ],
   "source": [
    "tuple(map(username,email))"
   ]
  },
  {
   "cell_type": "code",
   "execution_count": 20,
   "id": "ab64df55",
   "metadata": {},
   "outputs": [
    {
     "data": {
      "text/plain": [
       "('test', 'python', 'ml')"
      ]
     },
     "execution_count": 20,
     "metadata": {},
     "output_type": "execute_result"
    }
   ],
   "source": [
    "tuple(map(lambda e : e.split('@')[0],email))"
   ]
  },
  {
   "cell_type": "code",
   "execution_count": null,
   "id": "c5166a44",
   "metadata": {},
   "outputs": [],
   "source": [
    "normal function --> complex logic\n",
    "\n",
    "lambda --> if else "
   ]
  },
  {
   "cell_type": "code",
   "execution_count": null,
   "id": "65a8c3f4",
   "metadata": {},
   "outputs": [],
   "source": [
    "list ---> with single condition"
   ]
  },
  {
   "cell_type": "code",
   "execution_count": null,
   "id": "5cfaca24",
   "metadata": {},
   "outputs": [],
   "source": []
  },
  {
   "cell_type": "code",
   "execution_count": null,
   "id": "e727c497",
   "metadata": {},
   "outputs": [],
   "source": [
    "'arun.patil@gmail.com'\n",
    "\n",
    "first name and last name"
   ]
  },
  {
   "cell_type": "code",
   "execution_count": 21,
   "id": "398d347b",
   "metadata": {},
   "outputs": [],
   "source": [
    "def first_last_name_sep(email):\n",
    "    name = email.split('@')[0]\n",
    "    f_name = name.split('.')[0]\n",
    "    l_name = name.split('.')[1]\n",
    "    return (f_name,l_name)\n",
    "    "
   ]
  },
  {
   "cell_type": "code",
   "execution_count": 22,
   "id": "41968ef9",
   "metadata": {},
   "outputs": [],
   "source": [
    "p = ['arun.patil@gmail.com','suresh.sharma@yahoo.com']"
   ]
  },
  {
   "cell_type": "code",
   "execution_count": 23,
   "id": "ddf0d376",
   "metadata": {},
   "outputs": [
    {
     "data": {
      "text/plain": [
       "[('arun', 'patil'), ('suresh', 'sharma')]"
      ]
     },
     "execution_count": 23,
     "metadata": {},
     "output_type": "execute_result"
    }
   ],
   "source": [
    "list(map(first_last_name_sep,p))"
   ]
  },
  {
   "cell_type": "code",
   "execution_count": null,
   "id": "33453f14",
   "metadata": {},
   "outputs": [],
   "source": [
    "filter:\n",
    "    filter(function,iterable/seq)\n",
    "    \n",
    "    elements gets filter based upon some condition"
   ]
  },
  {
   "cell_type": "code",
   "execution_count": 24,
   "id": "500b3320",
   "metadata": {},
   "outputs": [
    {
     "data": {
      "text/plain": [
       "['arun.patil@gmail.com', 'suresh.sharma@yahoo.com']"
      ]
     },
     "execution_count": 24,
     "metadata": {},
     "output_type": "execute_result"
    }
   ],
   "source": [
    "p"
   ]
  },
  {
   "cell_type": "code",
   "execution_count": 26,
   "id": "ee86f183",
   "metadata": {},
   "outputs": [
    {
     "data": {
      "text/plain": [
       "[34, 7, 4, 5, 76, 345, 786, 34, 78, 64, 5]"
      ]
     },
     "execution_count": 26,
     "metadata": {},
     "output_type": "execute_result"
    }
   ],
   "source": [
    "p"
   ]
  },
  {
   "cell_type": "code",
   "execution_count": 27,
   "id": "ab53e741",
   "metadata": {},
   "outputs": [],
   "source": [
    "#1.normal for loop and condition"
   ]
  },
  {
   "cell_type": "code",
   "execution_count": 28,
   "id": "db39fcf8",
   "metadata": {},
   "outputs": [],
   "source": [
    "even = []\n",
    "for i in p:\n",
    "    if i%2==0:\n",
    "        even.append(i)"
   ]
  },
  {
   "cell_type": "code",
   "execution_count": 29,
   "id": "9833c193",
   "metadata": {},
   "outputs": [
    {
     "data": {
      "text/plain": [
       "[34, 4, 76, 786, 34, 78, 64]"
      ]
     },
     "execution_count": 29,
     "metadata": {},
     "output_type": "execute_result"
    }
   ],
   "source": [
    "even"
   ]
  },
  {
   "cell_type": "code",
   "execution_count": 30,
   "id": "e2629ead",
   "metadata": {},
   "outputs": [],
   "source": [
    "#2.using list comprehesion"
   ]
  },
  {
   "cell_type": "code",
   "execution_count": 31,
   "id": "b777bd2d",
   "metadata": {},
   "outputs": [
    {
     "data": {
      "text/plain": [
       "[34, 4, 76, 786, 34, 78, 64]"
      ]
     },
     "execution_count": 31,
     "metadata": {},
     "output_type": "execute_result"
    }
   ],
   "source": [
    "[i for i in p if i%2==0]"
   ]
  },
  {
   "cell_type": "code",
   "execution_count": 32,
   "id": "55b3c040",
   "metadata": {},
   "outputs": [],
   "source": [
    "#3. by using filter "
   ]
  },
  {
   "cell_type": "code",
   "execution_count": 33,
   "id": "92411b16",
   "metadata": {},
   "outputs": [],
   "source": [
    "def even(e):\n",
    "    if e%2==0:\n",
    "        return True"
   ]
  },
  {
   "cell_type": "code",
   "execution_count": 34,
   "id": "eb7bd3e1",
   "metadata": {},
   "outputs": [
    {
     "data": {
      "text/plain": [
       "[34, 4, 76, 786, 34, 78, 64]"
      ]
     },
     "execution_count": 34,
     "metadata": {},
     "output_type": "execute_result"
    }
   ],
   "source": [
    "list(filter(even,p))"
   ]
  },
  {
   "cell_type": "code",
   "execution_count": 35,
   "id": "b8850354",
   "metadata": {},
   "outputs": [],
   "source": [
    "#4.by using filter with lambda"
   ]
  },
  {
   "cell_type": "code",
   "execution_count": 36,
   "id": "9da9034a",
   "metadata": {},
   "outputs": [
    {
     "data": {
      "text/plain": [
       "[34, 4, 76, 786, 34, 78, 64]"
      ]
     },
     "execution_count": 36,
     "metadata": {},
     "output_type": "execute_result"
    }
   ],
   "source": [
    "list(filter(lambda x: x%2==0,p))"
   ]
  },
  {
   "cell_type": "code",
   "execution_count": null,
   "id": "4bc83d22",
   "metadata": {},
   "outputs": [],
   "source": [
    "[34, 7, 4, 5, 76, 345, 786, 34, 78, 64, 5]"
   ]
  },
  {
   "cell_type": "code",
   "execution_count": 37,
   "id": "b4f4df98",
   "metadata": {},
   "outputs": [
    {
     "data": {
      "text/plain": [
       "[True, False, True, False, True, False, True, True, True, True, False]"
      ]
     },
     "execution_count": 37,
     "metadata": {},
     "output_type": "execute_result"
    }
   ],
   "source": [
    "list(map(lambda x: x%2==0,p))"
   ]
  },
  {
   "cell_type": "code",
   "execution_count": 38,
   "id": "334e85ea",
   "metadata": {},
   "outputs": [],
   "source": [
    "empids = ['sdfsdf',545,'sadfsd',654654,546,345,87,345,8,3456,'dfgd','sdgfdf']"
   ]
  },
  {
   "cell_type": "code",
   "execution_count": 44,
   "id": "f05696ad",
   "metadata": {},
   "outputs": [
    {
     "data": {
      "text/plain": [
       "[545, 654654, 546, 345, 87, 345, 8, 3456]"
      ]
     },
     "execution_count": 44,
     "metadata": {},
     "output_type": "execute_result"
    }
   ],
   "source": [
    "list(filter(lambda x: str(x).isnumeric(),empids))"
   ]
  },
  {
   "cell_type": "code",
   "execution_count": null,
   "id": "fef7210a",
   "metadata": {},
   "outputs": [],
   "source": [
    "list -- methods\n",
    "\n",
    "tuple -- methods\n",
    "\n",
    "set -- methods"
   ]
  },
  {
   "cell_type": "code",
   "execution_count": 41,
   "id": "e7286f5b",
   "metadata": {},
   "outputs": [],
   "source": [
    "a = 10"
   ]
  },
  {
   "cell_type": "code",
   "execution_count": 43,
   "id": "ad5f10a5",
   "metadata": {},
   "outputs": [
    {
     "data": {
      "text/plain": [
       "True"
      ]
     },
     "execution_count": 43,
     "metadata": {},
     "output_type": "execute_result"
    }
   ],
   "source": [
    "str(a).isnumeric()"
   ]
  },
  {
   "cell_type": "code",
   "execution_count": 45,
   "id": "8250ac98",
   "metadata": {},
   "outputs": [],
   "source": [
    "p = ['345','654','6354','325','7654','345','654','3456']"
   ]
  },
  {
   "cell_type": "code",
   "execution_count": null,
   "id": "a0b1a73d",
   "metadata": {},
   "outputs": [],
   "source": [
    "p = [345,654,6354] -- int\n",
    "\n",
    "map -- correct\n",
    "\n",
    "filter -- "
   ]
  },
  {
   "cell_type": "code",
   "execution_count": 48,
   "id": "eb99b3ac",
   "metadata": {},
   "outputs": [
    {
     "data": {
      "text/plain": [
       "[345, 654, 6354, 325, 7654, 345, 654, 3456]"
      ]
     },
     "execution_count": 48,
     "metadata": {},
     "output_type": "execute_result"
    }
   ],
   "source": [
    "list(map(lambda x: int(x),p))"
   ]
  },
  {
   "cell_type": "code",
   "execution_count": 49,
   "id": "26335bda",
   "metadata": {},
   "outputs": [],
   "source": [
    "p = ['test@gmail.com','sample@rediffmail.com','python@gmail.com','ml@gmail.com']"
   ]
  },
  {
   "cell_type": "code",
   "execution_count": 50,
   "id": "1ef18735",
   "metadata": {},
   "outputs": [
    {
     "data": {
      "text/plain": [
       "['sample@rediffmail.com']"
      ]
     },
     "execution_count": 50,
     "metadata": {},
     "output_type": "execute_result"
    }
   ],
   "source": [
    "list(filter(lambda x: x.endswith('@rediffmail.com'),p))"
   ]
  },
  {
   "cell_type": "code",
   "execution_count": null,
   "id": "ab085d28",
   "metadata": {},
   "outputs": [],
   "source": [
    "loop -- condition -- list compression'\n",
    "\n",
    "\n",
    "lambda with map\n",
    "lambda with filter"
   ]
  }
 ],
 "metadata": {
  "kernelspec": {
   "display_name": "Python 3",
   "language": "python",
   "name": "python3"
  },
  "language_info": {
   "codemirror_mode": {
    "name": "ipython",
    "version": 3
   },
   "file_extension": ".py",
   "mimetype": "text/x-python",
   "name": "python",
   "nbconvert_exporter": "python",
   "pygments_lexer": "ipython3",
   "version": "3.8.8"
  }
 },
 "nbformat": 4,
 "nbformat_minor": 5
}
