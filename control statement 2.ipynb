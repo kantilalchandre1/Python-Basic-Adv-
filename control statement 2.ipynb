{
 "cells": [
  {
   "cell_type": "code",
   "execution_count": null,
   "id": "f461d53a",
   "metadata": {},
   "outputs": [],
   "source": [
    "Control statement\n",
    "\n",
    "simple if  -- > when we have single condition\n",
    "if -else --> when we have two condition --> opposite\n",
    "if-else ladder --> whenwe have more than two condition"
   ]
  },
  {
   "cell_type": "code",
   "execution_count": null,
   "id": "9c0b93fd",
   "metadata": {},
   "outputs": [],
   "source": [
    "nested if else:\n",
    "    when we have dependent condition"
   ]
  },
  {
   "cell_type": "code",
   "execution_count": null,
   "id": "aea200cb",
   "metadata": {},
   "outputs": [],
   "source": [
    "if condition:\n",
    "    if condition:\n",
    "        body\n",
    "    else:\n",
    "        body\n",
    "elif condition:\n",
    "    if condition:\n",
    "        body\n",
    "    else:\n",
    "        body\n",
    "else:\n",
    "    default"
   ]
  },
  {
   "cell_type": "code",
   "execution_count": null,
   "id": "5789d1e9",
   "metadata": {},
   "outputs": [],
   "source": [
    "files \n",
    "\n",
    "copper_ csv --> len -- 21\n",
    "         pdf -- 45\n",
    "         xlsx -- 32\n",
    "silver - csv\n",
    "       pdf \n",
    "    \n",
    "      txt\n",
    "        xlsx\n",
    "gold    - pdf,csv,txt"
   ]
  },
  {
   "cell_type": "code",
   "execution_count": null,
   "id": "54803125",
   "metadata": {},
   "outputs": [],
   "source": [
    "India:\n",
    "    state\n",
    "       district"
   ]
  },
  {
   "cell_type": "code",
   "execution_count": null,
   "id": "e62b27e5",
   "metadata": {},
   "outputs": [],
   "source": [
    "country=='IN' :\n",
    "    state=='MH'\n",
    "       district==Pune\n",
    "        \n",
    "        distric==Mumbai\n",
    "        \n",
    "        \n",
    "    state==GOA\n",
    "    \n",
    "    state ==GJ\n",
    "    \n",
    "    state == AP\n",
    "        \n",
    "country=='US'"
   ]
  },
  {
   "cell_type": "code",
   "execution_count": 5,
   "id": "d82d287e",
   "metadata": {},
   "outputs": [
    {
     "name": "stdout",
     "output_type": "stream",
     "text": [
      "Enter the filename:silver.xlsx\n",
      "Processing silver excle file\n"
     ]
    }
   ],
   "source": [
    "filename = input(\"Enter the filename:\")\n",
    "\n",
    "if filename.startswith('copper'):\n",
    "    if filename.endswith('.csv'):\n",
    "        if len(filename)==10:\n",
    "            print(\"Process copper csv file\")\n",
    "        else:\n",
    "            print(\"invalid csv file\")\n",
    "    elif filename.endswith('.pdf'):\n",
    "        if len(filename)==15:\n",
    "            print(\"Processing copper pdf file\")\n",
    "        else:\n",
    "            print(\"invalid copper pdf file\")\n",
    "    elif filename.endswith('.xlsx'):\n",
    "        if len(filename)==8:\n",
    "            print(\"Processing copper excle file\")\n",
    "    else:\n",
    "        print(\"invalid copper file its not in csv,pdf,xlsx format\")\n",
    "elif filename.startswith('silver'):\n",
    "    if filename.endswith('.csv'):\n",
    "        if len(filename)==10:\n",
    "            print(\"Process silver csv file\")\n",
    "        else:\n",
    "            print(\"invalid silver file\")\n",
    "    elif filename.endswith('.pdf'):\n",
    "        if len(filename)==15:\n",
    "            print(\"Processing silver pdf file\")\n",
    "        else:\n",
    "            print(\"invalid silver pdf file\")\n",
    "    elif filename.endswith('.xlsx'):\n",
    "        if len(filename)==11:\n",
    "            print(\"Processing silver excle file\")\n",
    "    else:\n",
    "        print(\"invalid silver file its not in csv,pdf,xlsx format\")\n",
    "else:\n",
    "    print(\"invalid file\")\n",
    "\n"
   ]
  },
  {
   "cell_type": "code",
   "execution_count": null,
   "id": "e579accf",
   "metadata": {},
   "outputs": [],
   "source": [
    "loop statement:\n",
    "    for loop\n",
    "    while loop\n",
    "    break \n",
    "    continue\n",
    "    \n",
    "    lambda --> ternary"
   ]
  },
  {
   "cell_type": "code",
   "execution_count": 6,
   "id": "211a40da",
   "metadata": {},
   "outputs": [],
   "source": [
    "a = 10\n",
    "b = 20"
   ]
  },
  {
   "cell_type": "code",
   "execution_count": 7,
   "id": "53ece2d3",
   "metadata": {},
   "outputs": [],
   "source": [
    "c  = a if a>b else b"
   ]
  },
  {
   "cell_type": "code",
   "execution_count": 8,
   "id": "923b9f79",
   "metadata": {},
   "outputs": [
    {
     "data": {
      "text/plain": [
       "20"
      ]
     },
     "execution_count": 8,
     "metadata": {},
     "output_type": "execute_result"
    }
   ],
   "source": [
    "c"
   ]
  },
  {
   "cell_type": "code",
   "execution_count": null,
   "id": "263a9c1e",
   "metadata": {},
   "outputs": [],
   "source": []
  }
 ],
 "metadata": {
  "kernelspec": {
   "display_name": "Python 3",
   "language": "python",
   "name": "python3"
  },
  "language_info": {
   "codemirror_mode": {
    "name": "ipython",
    "version": 3
   },
   "file_extension": ".py",
   "mimetype": "text/x-python",
   "name": "python",
   "nbconvert_exporter": "python",
   "pygments_lexer": "ipython3",
   "version": "3.8.8"
  }
 },
 "nbformat": 4,
 "nbformat_minor": 5
}
