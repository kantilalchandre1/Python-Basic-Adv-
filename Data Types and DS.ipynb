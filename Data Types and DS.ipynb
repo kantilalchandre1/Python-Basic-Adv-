{
 "cells": [
  {
   "cell_type": "code",
   "execution_count": null,
   "id": "1c70a9cf",
   "metadata": {},
   "outputs": [],
   "source": [
    "Data Type:\n",
    "    Type of Data:\n",
    "        "
   ]
  },
  {
   "cell_type": "code",
   "execution_count": null,
   "id": "8427a9df",
   "metadata": {},
   "outputs": [],
   "source": [
    "Data :\n",
    "    \n",
    "    \n",
    "    \n",
    "    Python is use for ML Lang and its growth in 2023 is 98.22 per"
   ]
  },
  {
   "cell_type": "code",
   "execution_count": null,
   "id": "c438d85b",
   "metadata": {},
   "outputs": [],
   "source": [
    "Real Data:\n",
    "    1.Structure Data -- Table\n",
    "    2.Semi structure Data -- Json\n",
    "    3.Unstructured Data --Documents "
   ]
  },
  {
   "cell_type": "code",
   "execution_count": null,
   "id": "793246dd",
   "metadata": {},
   "outputs": [],
   "source": [
    "#inbuilt data types in python\n",
    "int   - complete number\n",
    "float  - incomplete number\n",
    "str   - collection of chars /char \n",
    "None  - empty \n",
    "bool  - True/False\n",
    "complex - real+imgconstant -\n",
    "\n",
    "Note :No \"char\" data type present in Python."
   ]
  },
  {
   "cell_type": "code",
   "execution_count": 3,
   "id": "30fc8039",
   "metadata": {},
   "outputs": [],
   "source": [
    "temp = None"
   ]
  },
  {
   "cell_type": "code",
   "execution_count": 4,
   "id": "8dd2eaa4",
   "metadata": {},
   "outputs": [
    {
     "name": "stdout",
     "output_type": "stream",
     "text": [
      "None\n"
     ]
    }
   ],
   "source": [
    "print(temp)"
   ]
  },
  {
   "cell_type": "code",
   "execution_count": 5,
   "id": "7dc36509",
   "metadata": {},
   "outputs": [],
   "source": [
    "temp"
   ]
  },
  {
   "cell_type": "code",
   "execution_count": null,
   "id": "03916fff",
   "metadata": {},
   "outputs": [],
   "source": [
    "bool ---> True/False"
   ]
  },
  {
   "cell_type": "code",
   "execution_count": 6,
   "id": "fac54397",
   "metadata": {},
   "outputs": [],
   "source": [
    "a = 450\n",
    "b = 100"
   ]
  },
  {
   "cell_type": "code",
   "execution_count": 7,
   "id": "20b4c1fd",
   "metadata": {},
   "outputs": [
    {
     "data": {
      "text/plain": [
       "True"
      ]
     },
     "execution_count": 7,
     "metadata": {},
     "output_type": "execute_result"
    }
   ],
   "source": [
    "a>b"
   ]
  },
  {
   "cell_type": "code",
   "execution_count": 8,
   "id": "725f8830",
   "metadata": {},
   "outputs": [
    {
     "data": {
      "text/plain": [
       "bool"
      ]
     },
     "execution_count": 8,
     "metadata": {},
     "output_type": "execute_result"
    }
   ],
   "source": [
    "type(True)"
   ]
  },
  {
   "cell_type": "code",
   "execution_count": 13,
   "id": "baad62e9",
   "metadata": {},
   "outputs": [],
   "source": [
    "t = 10+11j"
   ]
  },
  {
   "cell_type": "code",
   "execution_count": 14,
   "id": "d5bd3c06",
   "metadata": {},
   "outputs": [
    {
     "data": {
      "text/plain": [
       "complex"
      ]
     },
     "execution_count": 14,
     "metadata": {},
     "output_type": "execute_result"
    }
   ],
   "source": [
    "type(t)"
   ]
  },
  {
   "cell_type": "code",
   "execution_count": null,
   "id": "228be377",
   "metadata": {},
   "outputs": [],
   "source": [
    "Inbuilt Data Structure:\n",
    "    1.list\n",
    "    2.tuple\n",
    "    3.set\n",
    "    4.dict\n",
    "    5.str\n",
    "    6.frozenset"
   ]
  },
  {
   "cell_type": "code",
   "execution_count": null,
   "id": "4ae7d434",
   "metadata": {},
   "outputs": [],
   "source": [
    "raw materials -- perticular structure --> "
   ]
  },
  {
   "cell_type": "code",
   "execution_count": null,
   "id": "70f93e40",
   "metadata": {},
   "outputs": [],
   "source": [
    "raw data--> perticular structure --> data Strcture"
   ]
  },
  {
   "cell_type": "code",
   "execution_count": null,
   "id": "28216c32",
   "metadata": {},
   "outputs": [],
   "source": [
    "1.list:\n",
    "    it is collection data types/elements\n",
    "    similar -- homogeneous list\n",
    "    different - hetrogeneous list\n",
    "    it is denoted by -- []\n",
    "    it is mutable type /changable/unhashable\n",
    "    it is zero based index type DS\n",
    "    \n",
    "    indexing:\n",
    "        forward indexing:(positive index)\n",
    "            start=0 end =len-1\n",
    "            \n",
    "        reverse indexing:(negative index)\n",
    "            start=-1 end=-len\n",
    "            \n",
    "    Operation:\n",
    "        insertion :\n",
    "            "
   ]
  },
  {
   "cell_type": "code",
   "execution_count": 17,
   "id": "13de9257",
   "metadata": {},
   "outputs": [],
   "source": [
    "py_list = [34,7856,23,786,34,8,645,76]"
   ]
  },
  {
   "cell_type": "code",
   "execution_count": null,
   "id": "b6f301b8",
   "metadata": {},
   "outputs": [],
   "source": [
    "type() --to find type variable"
   ]
  },
  {
   "cell_type": "code",
   "execution_count": 18,
   "id": "761261b0",
   "metadata": {},
   "outputs": [
    {
     "data": {
      "text/plain": [
       "list"
      ]
     },
     "execution_count": 18,
     "metadata": {},
     "output_type": "execute_result"
    }
   ],
   "source": [
    "type(py_list)"
   ]
  },
  {
   "cell_type": "code",
   "execution_count": 19,
   "id": "bfca428a",
   "metadata": {},
   "outputs": [],
   "source": [
    "emp = [102,'keshav',75000,'pune',False,None]"
   ]
  },
  {
   "cell_type": "code",
   "execution_count": 20,
   "id": "de36fb5a",
   "metadata": {},
   "outputs": [
    {
     "data": {
      "text/plain": [
       "list"
      ]
     },
     "execution_count": 20,
     "metadata": {},
     "output_type": "execute_result"
    }
   ],
   "source": [
    "type(emp)"
   ]
  },
  {
   "cell_type": "code",
   "execution_count": null,
   "id": "48197d53",
   "metadata": {},
   "outputs": [],
   "source": [
    "inteview \n",
    "\n",
    "Can you Arrange DS in Python based on Mutable and immutable property?\n",
    "\n",
    "mutable:\n",
    "    list\n",
    "    set\n",
    "    dict\n",
    "\n",
    "immutable:\n",
    "    str\n",
    "    tuple\n",
    "    frozenset"
   ]
  },
  {
   "cell_type": "code",
   "execution_count": 21,
   "id": "68de054e",
   "metadata": {},
   "outputs": [
    {
     "data": {
      "text/plain": [
       "[102, 'keshav', 75000, 'pune', False, None]"
      ]
     },
     "execution_count": 21,
     "metadata": {},
     "output_type": "execute_result"
    }
   ],
   "source": [
    "emp"
   ]
  },
  {
   "cell_type": "code",
   "execution_count": 22,
   "id": "e3213898",
   "metadata": {},
   "outputs": [
    {
     "data": {
      "text/plain": [
       "75000"
      ]
     },
     "execution_count": 22,
     "metadata": {},
     "output_type": "execute_result"
    }
   ],
   "source": [
    "emp[2]"
   ]
  },
  {
   "cell_type": "code",
   "execution_count": 23,
   "id": "fab72a11",
   "metadata": {},
   "outputs": [
    {
     "data": {
      "text/plain": [
       "75000"
      ]
     },
     "execution_count": 23,
     "metadata": {},
     "output_type": "execute_result"
    }
   ],
   "source": [
    "emp[-4]"
   ]
  },
  {
   "cell_type": "code",
   "execution_count": 24,
   "id": "a19de8a5",
   "metadata": {},
   "outputs": [
    {
     "data": {
      "text/plain": [
       "[102, 'keshav', 75000, 'pune', False, None]"
      ]
     },
     "execution_count": 24,
     "metadata": {},
     "output_type": "execute_result"
    }
   ],
   "source": [
    "emp"
   ]
  },
  {
   "cell_type": "code",
   "execution_count": 26,
   "id": "744f9218",
   "metadata": {},
   "outputs": [
    {
     "data": {
      "text/plain": [
       "5"
      ]
     },
     "execution_count": 26,
     "metadata": {},
     "output_type": "execute_result"
    }
   ],
   "source": [
    "len(emp)-1"
   ]
  },
  {
   "cell_type": "code",
   "execution_count": null,
   "id": "b3a8a3a0",
   "metadata": {},
   "outputs": [],
   "source": [
    "type()\n",
    "len() :- to fine total element in DS /length"
   ]
  },
  {
   "cell_type": "code",
   "execution_count": 27,
   "id": "fd3a4186",
   "metadata": {},
   "outputs": [
    {
     "data": {
      "text/plain": [
       "[102, 'keshav', 75000, 'pune', False, None]"
      ]
     },
     "execution_count": 27,
     "metadata": {},
     "output_type": "execute_result"
    }
   ],
   "source": [
    "emp"
   ]
  },
  {
   "cell_type": "code",
   "execution_count": 30,
   "id": "ce370b34",
   "metadata": {},
   "outputs": [
    {
     "data": {
      "text/plain": [
       "5"
      ]
     },
     "execution_count": 30,
     "metadata": {},
     "output_type": "execute_result"
    }
   ],
   "source": [
    "len(emp)"
   ]
  },
  {
   "cell_type": "code",
   "execution_count": null,
   "id": "62dc4bd3",
   "metadata": {},
   "outputs": [],
   "source": [
    "Operation:\n",
    "    inseration:\n",
    "        1.insert()\n",
    "        2.append()\n",
    "        3.extend()"
   ]
  },
  {
   "cell_type": "code",
   "execution_count": 33,
   "id": "7f403667",
   "metadata": {},
   "outputs": [
    {
     "data": {
      "text/plain": [
       "[102, 'keshav', 75000, False, None]"
      ]
     },
     "execution_count": 33,
     "metadata": {},
     "output_type": "execute_result"
    }
   ],
   "source": [
    "emp"
   ]
  },
  {
   "cell_type": "code",
   "execution_count": null,
   "id": "b8ddc656",
   "metadata": {},
   "outputs": [],
   "source": [
    "insert(index,element): to insert single elemenet at given location"
   ]
  },
  {
   "cell_type": "code",
   "execution_count": 34,
   "id": "2e7d39e1",
   "metadata": {},
   "outputs": [],
   "source": [
    "emp.insert(1,'Pune')"
   ]
  },
  {
   "cell_type": "code",
   "execution_count": 35,
   "id": "9233a246",
   "metadata": {},
   "outputs": [
    {
     "data": {
      "text/plain": [
       "[102, 'Pune', 'keshav', 75000, False, None]"
      ]
     },
     "execution_count": 35,
     "metadata": {},
     "output_type": "execute_result"
    }
   ],
   "source": [
    "emp"
   ]
  },
  {
   "cell_type": "code",
   "execution_count": 36,
   "id": "6ffd6e8c",
   "metadata": {},
   "outputs": [],
   "source": [
    "emp.insert(3,1000)"
   ]
  },
  {
   "cell_type": "code",
   "execution_count": 37,
   "id": "f7212c4d",
   "metadata": {},
   "outputs": [
    {
     "data": {
      "text/plain": [
       "[102, 'Pune', 'keshav', 1000, 75000, False, None]"
      ]
     },
     "execution_count": 37,
     "metadata": {},
     "output_type": "execute_result"
    }
   ],
   "source": [
    "emp"
   ]
  },
  {
   "cell_type": "code",
   "execution_count": null,
   "id": "65734360",
   "metadata": {},
   "outputs": [],
   "source": [
    "append(element): to insert single element at the end --99%"
   ]
  },
  {
   "cell_type": "code",
   "execution_count": 38,
   "id": "198b9b5d",
   "metadata": {},
   "outputs": [],
   "source": [
    "emp.append(900)"
   ]
  },
  {
   "cell_type": "code",
   "execution_count": 39,
   "id": "e50ef247",
   "metadata": {},
   "outputs": [
    {
     "data": {
      "text/plain": [
       "[102, 'Pune', 'keshav', 1000, 75000, False, None, 900]"
      ]
     },
     "execution_count": 39,
     "metadata": {},
     "output_type": "execute_result"
    }
   ],
   "source": [
    "emp"
   ]
  },
  {
   "cell_type": "code",
   "execution_count": 40,
   "id": "36c15d99",
   "metadata": {},
   "outputs": [],
   "source": [
    "emp.append('java')"
   ]
  },
  {
   "cell_type": "code",
   "execution_count": 41,
   "id": "3a501479",
   "metadata": {},
   "outputs": [
    {
     "data": {
      "text/plain": [
       "[102, 'Pune', 'keshav', 1000, 75000, False, None, 900, 'java']"
      ]
     },
     "execution_count": 41,
     "metadata": {},
     "output_type": "execute_result"
    }
   ],
   "source": [
    "emp"
   ]
  },
  {
   "cell_type": "code",
   "execution_count": 42,
   "id": "f4aefda4",
   "metadata": {},
   "outputs": [],
   "source": [
    "p = [43,7,34,8,34,8,3,4,8934,5,9,45,896,7]"
   ]
  },
  {
   "cell_type": "code",
   "execution_count": 44,
   "id": "c7fd7b8e",
   "metadata": {},
   "outputs": [
    {
     "data": {
      "text/plain": [
       "[34, 8, 34, 8, 4, 8934, 896]"
      ]
     },
     "execution_count": 44,
     "metadata": {},
     "output_type": "execute_result"
    }
   ],
   "source": [
    "even"
   ]
  },
  {
   "cell_type": "code",
   "execution_count": 48,
   "id": "49ffcfec",
   "metadata": {},
   "outputs": [],
   "source": [
    "e1 = [1,2,3,4,5]\n",
    "\n",
    "e2 = [100,200,300,400]"
   ]
  },
  {
   "cell_type": "code",
   "execution_count": null,
   "id": "eb4c04e7",
   "metadata": {},
   "outputs": [],
   "source": [
    "extend([]) : to insert mutliple elements into list"
   ]
  },
  {
   "cell_type": "code",
   "execution_count": 46,
   "id": "70902d97",
   "metadata": {},
   "outputs": [],
   "source": [
    "e1.extend(e2)"
   ]
  },
  {
   "cell_type": "code",
   "execution_count": 47,
   "id": "da008bf7",
   "metadata": {},
   "outputs": [
    {
     "data": {
      "text/plain": [
       "[1, 2, 3, 4, 5, 100, 200, 300, 400]"
      ]
     },
     "execution_count": 47,
     "metadata": {},
     "output_type": "execute_result"
    }
   ],
   "source": [
    "e1"
   ]
  },
  {
   "cell_type": "code",
   "execution_count": 49,
   "id": "dbd2b0e4",
   "metadata": {},
   "outputs": [
    {
     "data": {
      "text/plain": [
       "[1, 2, 3, 4, 5]"
      ]
     },
     "execution_count": 49,
     "metadata": {},
     "output_type": "execute_result"
    }
   ],
   "source": [
    "e1"
   ]
  },
  {
   "cell_type": "code",
   "execution_count": 50,
   "id": "e5f43c01",
   "metadata": {},
   "outputs": [
    {
     "data": {
      "text/plain": [
       "[100, 200, 300, 400]"
      ]
     },
     "execution_count": 50,
     "metadata": {},
     "output_type": "execute_result"
    }
   ],
   "source": [
    "e2"
   ]
  },
  {
   "cell_type": "code",
   "execution_count": null,
   "id": "50868508",
   "metadata": {},
   "outputs": [],
   "source": [
    "range \n",
    "\n",
    "for "
   ]
  },
  {
   "cell_type": "code",
   "execution_count": 51,
   "id": "e918d9aa",
   "metadata": {},
   "outputs": [
    {
     "data": {
      "text/plain": [
       "[1, 2, 3, 4, 5]"
      ]
     },
     "execution_count": 51,
     "metadata": {},
     "output_type": "execute_result"
    }
   ],
   "source": [
    "e1"
   ]
  },
  {
   "cell_type": "code",
   "execution_count": 52,
   "id": "aa38700d",
   "metadata": {},
   "outputs": [
    {
     "data": {
      "text/plain": [
       "[100, 200, 300, 400]"
      ]
     },
     "execution_count": 52,
     "metadata": {},
     "output_type": "execute_result"
    }
   ],
   "source": [
    "e2"
   ]
  },
  {
   "cell_type": "code",
   "execution_count": 54,
   "id": "e6834b2f",
   "metadata": {},
   "outputs": [
    {
     "data": {
      "text/plain": [
       "[100, 200, 300, 400, 1, 2, 3, 4, 5]"
      ]
     },
     "execution_count": 54,
     "metadata": {},
     "output_type": "execute_result"
    }
   ],
   "source": [
    "[j for i in [e2,e1] for j in i]"
   ]
  },
  {
   "cell_type": "code",
   "execution_count": null,
   "id": "ffc84384",
   "metadata": {},
   "outputs": [],
   "source": []
  }
 ],
 "metadata": {
  "kernelspec": {
   "display_name": "Python 3",
   "language": "python",
   "name": "python3"
  },
  "language_info": {
   "codemirror_mode": {
    "name": "ipython",
    "version": 3
   },
   "file_extension": ".py",
   "mimetype": "text/x-python",
   "name": "python",
   "nbconvert_exporter": "python",
   "pygments_lexer": "ipython3",
   "version": "3.8.8"
  }
 },
 "nbformat": 4,
 "nbformat_minor": 5
}
