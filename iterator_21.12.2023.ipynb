{
 "cells": [
  {
   "cell_type": "code",
   "execution_count": 1,
   "id": "be6cd855",
   "metadata": {},
   "outputs": [],
   "source": [
    "p = ['python','java','hadoop','ML','DS']"
   ]
  },
  {
   "cell_type": "code",
   "execution_count": 2,
   "id": "5b435ac4",
   "metadata": {},
   "outputs": [
    {
     "name": "stdout",
     "output_type": "stream",
     "text": [
      "0 python\n",
      "1 java\n",
      "2 hadoop\n",
      "3 ML\n",
      "4 DS\n"
     ]
    }
   ],
   "source": [
    "for i,e in enumerate(p):\n",
    "    print(i,e)"
   ]
  },
  {
   "cell_type": "code",
   "execution_count": 3,
   "id": "589bcaff",
   "metadata": {},
   "outputs": [],
   "source": [
    "h = 'python'"
   ]
  },
  {
   "cell_type": "code",
   "execution_count": 14,
   "id": "7ec55f44",
   "metadata": {},
   "outputs": [
    {
     "name": "stdout",
     "output_type": "stream",
     "text": [
      "0 python\n",
      "1 java\n",
      "2 hadoop\n",
      "3 ML\n",
      "4 DS\n"
     ]
    }
   ],
   "source": [
    "for i,c in enumerate(p):\n",
    "    print(i,c)"
   ]
  },
  {
   "cell_type": "code",
   "execution_count": null,
   "id": "c3a96d5d",
   "metadata": {},
   "outputs": [],
   "source": []
  },
  {
   "cell_type": "code",
   "execution_count": null,
   "id": "75d59af5",
   "metadata": {},
   "outputs": [],
   "source": [
    "Generator:\n",
    "    to generate seq of number"
   ]
  },
  {
   "cell_type": "code",
   "execution_count": null,
   "id": "2f83337b",
   "metadata": {},
   "outputs": [],
   "source": [
    "iterator:\n",
    "    iterate elements of iterable"
   ]
  },
  {
   "cell_type": "code",
   "execution_count": 15,
   "id": "431ae05e",
   "metadata": {},
   "outputs": [
    {
     "data": {
      "text/plain": [
       "['python', 'java', 'hadoop', 'ML', 'DS']"
      ]
     },
     "execution_count": 15,
     "metadata": {},
     "output_type": "execute_result"
    }
   ],
   "source": [
    "p"
   ]
  },
  {
   "cell_type": "code",
   "execution_count": null,
   "id": "997646c8",
   "metadata": {},
   "outputs": [],
   "source": [
    "for loop\n",
    "\n",
    "iterator"
   ]
  },
  {
   "cell_type": "code",
   "execution_count": 17,
   "id": "8fce6f34",
   "metadata": {},
   "outputs": [],
   "source": [
    "obj = iter(p)"
   ]
  },
  {
   "cell_type": "code",
   "execution_count": 19,
   "id": "6977cdf3",
   "metadata": {},
   "outputs": [
    {
     "data": {
      "text/plain": [
       "'python'"
      ]
     },
     "execution_count": 19,
     "metadata": {},
     "output_type": "execute_result"
    }
   ],
   "source": [
    "next(obj)"
   ]
  },
  {
   "cell_type": "code",
   "execution_count": 20,
   "id": "2f84f711",
   "metadata": {},
   "outputs": [
    {
     "data": {
      "text/plain": [
       "'java'"
      ]
     },
     "execution_count": 20,
     "metadata": {},
     "output_type": "execute_result"
    }
   ],
   "source": [
    "next(obj)"
   ]
  },
  {
   "cell_type": "code",
   "execution_count": 21,
   "id": "4ce2de94",
   "metadata": {},
   "outputs": [
    {
     "data": {
      "text/plain": [
       "'hadoop'"
      ]
     },
     "execution_count": 21,
     "metadata": {},
     "output_type": "execute_result"
    }
   ],
   "source": [
    "next(obj)"
   ]
  },
  {
   "cell_type": "code",
   "execution_count": 22,
   "id": "35ea06f8",
   "metadata": {},
   "outputs": [
    {
     "data": {
      "text/plain": [
       "'ML'"
      ]
     },
     "execution_count": 22,
     "metadata": {},
     "output_type": "execute_result"
    }
   ],
   "source": [
    "next(obj)"
   ]
  },
  {
   "cell_type": "code",
   "execution_count": 23,
   "id": "5b2daf99",
   "metadata": {},
   "outputs": [
    {
     "data": {
      "text/plain": [
       "'DS'"
      ]
     },
     "execution_count": 23,
     "metadata": {},
     "output_type": "execute_result"
    }
   ],
   "source": [
    "next(obj)"
   ]
  },
  {
   "cell_type": "code",
   "execution_count": 24,
   "id": "9a7cacda",
   "metadata": {},
   "outputs": [
    {
     "ename": "StopIteration",
     "evalue": "",
     "output_type": "error",
     "traceback": [
      "\u001b[1;31m---------------------------------------------------------------------------\u001b[0m",
      "\u001b[1;31mStopIteration\u001b[0m                             Traceback (most recent call last)",
      "\u001b[1;32m<ipython-input-24-2e36627a780e>\u001b[0m in \u001b[0;36m<module>\u001b[1;34m\u001b[0m\n\u001b[1;32m----> 1\u001b[1;33m \u001b[0mnext\u001b[0m\u001b[1;33m(\u001b[0m\u001b[0mobj\u001b[0m\u001b[1;33m)\u001b[0m\u001b[1;33m\u001b[0m\u001b[1;33m\u001b[0m\u001b[0m\n\u001b[0m",
      "\u001b[1;31mStopIteration\u001b[0m: "
     ]
    }
   ],
   "source": [
    "next(obj)"
   ]
  },
  {
   "cell_type": "code",
   "execution_count": null,
   "id": "60738c76",
   "metadata": {},
   "outputs": [],
   "source": [
    "Generator vs iterator\n",
    "=====================\n",
    "generator is more memory optimized than iterator [because it already applied on DS]"
   ]
  },
  {
   "cell_type": "code",
   "execution_count": 25,
   "id": "365d9ec5",
   "metadata": {},
   "outputs": [],
   "source": [
    "t = (3,76,3,476,)"
   ]
  },
  {
   "cell_type": "code",
   "execution_count": 33,
   "id": "a39435e1",
   "metadata": {},
   "outputs": [],
   "source": [
    "p = iter(t)"
   ]
  },
  {
   "cell_type": "code",
   "execution_count": 34,
   "id": "2cf36529",
   "metadata": {},
   "outputs": [
    {
     "data": {
      "text/plain": [
       "3"
      ]
     },
     "execution_count": 34,
     "metadata": {},
     "output_type": "execute_result"
    }
   ],
   "source": [
    "next(p)"
   ]
  },
  {
   "cell_type": "code",
   "execution_count": 35,
   "id": "14f35525",
   "metadata": {},
   "outputs": [],
   "source": [
    "p = {34,86,34,587,4,5876,45}"
   ]
  },
  {
   "cell_type": "code",
   "execution_count": 43,
   "id": "44f415c4",
   "metadata": {},
   "outputs": [],
   "source": [
    "x = iter(p)"
   ]
  },
  {
   "cell_type": "code",
   "execution_count": 45,
   "id": "fe2b04a2",
   "metadata": {},
   "outputs": [
    {
     "data": {
      "text/plain": [
       "4"
      ]
     },
     "execution_count": 45,
     "metadata": {},
     "output_type": "execute_result"
    }
   ],
   "source": [
    "next(x)"
   ]
  },
  {
   "cell_type": "code",
   "execution_count": null,
   "id": "a2622bd7",
   "metadata": {},
   "outputs": [],
   "source": []
  }
 ],
 "metadata": {
  "kernelspec": {
   "display_name": "Python 3",
   "language": "python",
   "name": "python3"
  },
  "language_info": {
   "codemirror_mode": {
    "name": "ipython",
    "version": 3
   },
   "file_extension": ".py",
   "mimetype": "text/x-python",
   "name": "python",
   "nbconvert_exporter": "python",
   "pygments_lexer": "ipython3",
   "version": "3.8.8"
  }
 },
 "nbformat": 4,
 "nbformat_minor": 5
}
