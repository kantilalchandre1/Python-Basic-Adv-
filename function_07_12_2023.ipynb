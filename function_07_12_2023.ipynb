{
 "cells": [
  {
   "cell_type": "code",
   "execution_count": null,
   "id": "ee318ece",
   "metadata": {},
   "outputs": [],
   "source": [
    "reading file from given location\n",
    "code 1\n",
    "code 2\n"
   ]
  },
  {
   "cell_type": "code",
   "execution_count": null,
   "id": "b752543c",
   "metadata": {},
   "outputs": [],
   "source": [
    "without function\n",
    "1.code duplication\n",
    "2.space complexity and time complexity\n",
    "3.debugging is difficult \n",
    "4.code management is very difficult"
   ]
  },
  {
   "cell_type": "code",
   "execution_count": null,
   "id": "a3f8a9fc",
   "metadata": {},
   "outputs": [],
   "source": [
    "#addition logic\n",
    "a = 10\n",
    "b = 75\n",
    "c = a+b\n",
    "print(c)\n",
    "sdfdfsgfdhgdfsgfdsgdfsgfdsg\n",
    "dfsg\n",
    "df\n",
    "gdf\n",
    "sgfd\n",
    "gfd\n",
    "gd\n",
    "fsg\n",
    "fg\n",
    "a = 10\n",
    "b = 75\n",
    "c = a+b\n",
    "print(c)\n",
    "sadfasdfsdafsdfsdfsdafsdafsdfsdf\n",
    "sdf\n",
    "sdf\n",
    "sdfa\n",
    "sdafsdf\n",
    "sd\n",
    "f\n",
    "daffsdf\n",
    "a = 10\n",
    "b = 75\n",
    "c = a+b\n",
    "print(c)\n",
    "awerwerwerwerwerwerwerwerwererhgffgfdgd\n",
    "a = 10\n",
    "b = 75\n",
    "c = a+b\n",
    "print(c)"
   ]
  },
  {
   "cell_type": "code",
   "execution_count": null,
   "id": "fd87451a",
   "metadata": {},
   "outputs": [],
   "source": [
    "#How to Define function"
   ]
  },
  {
   "cell_type": "code",
   "execution_count": null,
   "id": "100c5218",
   "metadata": {},
   "outputs": [],
   "source": [
    "def function_name(arguments/parameters): #formal arugments/parameters\n",
    "    block of code\n",
    "    return value"
   ]
  },
  {
   "cell_type": "code",
   "execution_count": null,
   "id": "03a5c919",
   "metadata": {},
   "outputs": [],
   "source": [
    "function_name(arguments/parameters) #actual arguements/parameters"
   ]
  },
  {
   "cell_type": "code",
   "execution_count": null,
   "id": "9e331f70",
   "metadata": {},
   "outputs": [],
   "source": []
  },
  {
   "cell_type": "code",
   "execution_count": 5,
   "id": "5306c8db",
   "metadata": {},
   "outputs": [],
   "source": [
    "def add():\n",
    "    a = int(input(\"Enter the number1:\"))\n",
    "    b = int(input(\"Enter the number2\"))\n",
    "    c=a+b\n",
    "    print(c)"
   ]
  },
  {
   "cell_type": "code",
   "execution_count": 6,
   "id": "66e6f5a9",
   "metadata": {},
   "outputs": [
    {
     "name": "stdout",
     "output_type": "stream",
     "text": [
      "Enter the number1:78\n",
      "Enter the number26\n",
      "84\n"
     ]
    }
   ],
   "source": [
    "add()"
   ]
  },
  {
   "cell_type": "code",
   "execution_count": 7,
   "id": "f9905098",
   "metadata": {},
   "outputs": [
    {
     "name": "stdout",
     "output_type": "stream",
     "text": [
      "Enter the number1:10\n",
      "Enter the number220\n",
      "30\n"
     ]
    }
   ],
   "source": [
    "add()"
   ]
  },
  {
   "cell_type": "code",
   "execution_count": 8,
   "id": "71356b27",
   "metadata": {},
   "outputs": [],
   "source": [
    "def add(x,y): #x,y formal\n",
    "    z  =x+y\n",
    "    print(z)"
   ]
  },
  {
   "cell_type": "code",
   "execution_count": 9,
   "id": "c8c2aff9",
   "metadata": {},
   "outputs": [
    {
     "name": "stdout",
     "output_type": "stream",
     "text": [
      "98\n"
     ]
    }
   ],
   "source": [
    "add(78,20)"
   ]
  },
  {
   "cell_type": "code",
   "execution_count": 10,
   "id": "d488fc70",
   "metadata": {},
   "outputs": [
    {
     "name": "stdout",
     "output_type": "stream",
     "text": [
      "5\n"
     ]
    }
   ],
   "source": [
    "add(1,4)"
   ]
  },
  {
   "cell_type": "code",
   "execution_count": 11,
   "id": "cc0bb030",
   "metadata": {},
   "outputs": [
    {
     "name": "stdout",
     "output_type": "stream",
     "text": [
      "700\n"
     ]
    }
   ],
   "source": [
    "add(400,300)"
   ]
  },
  {
   "cell_type": "code",
   "execution_count": 12,
   "id": "9c26d50f",
   "metadata": {},
   "outputs": [
    {
     "name": "stdout",
     "output_type": "stream",
     "text": [
      "90\n"
     ]
    }
   ],
   "source": [
    "add(45,45)"
   ]
  },
  {
   "cell_type": "code",
   "execution_count": null,
   "id": "8190b569",
   "metadata": {},
   "outputs": [],
   "source": [
    "return vs print"
   ]
  },
  {
   "cell_type": "code",
   "execution_count": 21,
   "id": "163a12cd",
   "metadata": {},
   "outputs": [],
   "source": [
    "def add(x,y): #x,y formal\n",
    "    z  =x+y\n",
    "    print(z)"
   ]
  },
  {
   "cell_type": "code",
   "execution_count": 22,
   "id": "d8763b95",
   "metadata": {},
   "outputs": [
    {
     "name": "stdout",
     "output_type": "stream",
     "text": [
      "900\n"
     ]
    }
   ],
   "source": [
    "result  = add(400,500)\n"
   ]
  },
  {
   "cell_type": "code",
   "execution_count": 24,
   "id": "23dff45c",
   "metadata": {},
   "outputs": [
    {
     "name": "stdout",
     "output_type": "stream",
     "text": [
      "None\n"
     ]
    }
   ],
   "source": [
    "print(result)"
   ]
  },
  {
   "cell_type": "code",
   "execution_count": null,
   "id": "717e2bea",
   "metadata": {},
   "outputs": [],
   "source": [
    "return --> value retunrn from function for further use\n",
    "\n",
    "print --> it will only access within funcion we cann access from outside of function"
   ]
  },
  {
   "cell_type": "code",
   "execution_count": null,
   "id": "cd60258a",
   "metadata": {},
   "outputs": [],
   "source": []
  },
  {
   "cell_type": "code",
   "execution_count": null,
   "id": "4c3ff1c0",
   "metadata": {},
   "outputs": [],
   "source": [
    "Assigment:\n",
    "    per --> function --> logic per > 75 -- First \n",
    "    \n",
    "    "
   ]
  },
  {
   "cell_type": "code",
   "execution_count": 25,
   "id": "ba401ee8",
   "metadata": {},
   "outputs": [],
   "source": [
    "p = [345,75,34,76,3,5]"
   ]
  },
  {
   "cell_type": "code",
   "execution_count": 27,
   "id": "c4b302aa",
   "metadata": {},
   "outputs": [],
   "source": [
    "def total_cal(e):\n",
    "    total =0\n",
    "    for i in e:\n",
    "        total =total+i\n",
    "    return total\n",
    "    "
   ]
  },
  {
   "cell_type": "code",
   "execution_count": 28,
   "id": "2f40182e",
   "metadata": {},
   "outputs": [],
   "source": [
    "sum_of_all_elements = total_cal(p)"
   ]
  },
  {
   "cell_type": "code",
   "execution_count": 29,
   "id": "d3916a1b",
   "metadata": {
    "scrolled": true
   },
   "outputs": [
    {
     "data": {
      "text/plain": [
       "538"
      ]
     },
     "execution_count": 29,
     "metadata": {},
     "output_type": "execute_result"
    }
   ],
   "source": [
    "sum_of_all_elements"
   ]
  },
  {
   "cell_type": "code",
   "execution_count": null,
   "id": "e28aa5b5",
   "metadata": {},
   "outputs": [],
   "source": []
  },
  {
   "cell_type": "code",
   "execution_count": null,
   "id": "80d78236",
   "metadata": {},
   "outputs": [],
   "source": []
  },
  {
   "cell_type": "code",
   "execution_count": null,
   "id": "9d99d9ba",
   "metadata": {},
   "outputs": [],
   "source": []
  },
  {
   "cell_type": "code",
   "execution_count": null,
   "id": "3259582e",
   "metadata": {},
   "outputs": [],
   "source": []
  },
  {
   "cell_type": "code",
   "execution_count": null,
   "id": "37d7afa5",
   "metadata": {},
   "outputs": [],
   "source": []
  },
  {
   "cell_type": "code",
   "execution_count": null,
   "id": "fa1359b8",
   "metadata": {},
   "outputs": [],
   "source": [
    "firstname_lastname"
   ]
  },
  {
   "cell_type": "code",
   "execution_count": 30,
   "id": "90ac74db",
   "metadata": {},
   "outputs": [],
   "source": [
    "def full_name(first,last):\n",
    "    return first+'_'+last"
   ]
  },
  {
   "cell_type": "code",
   "execution_count": 32,
   "id": "7782c0d9",
   "metadata": {},
   "outputs": [],
   "source": [
    "test = full_name('keshav','patil')"
   ]
  },
  {
   "cell_type": "code",
   "execution_count": 33,
   "id": "604ea7eb",
   "metadata": {},
   "outputs": [
    {
     "data": {
      "text/plain": [
       "'keshav_patil'"
      ]
     },
     "execution_count": 33,
     "metadata": {},
     "output_type": "execute_result"
    }
   ],
   "source": [
    "test"
   ]
  },
  {
   "cell_type": "code",
   "execution_count": null,
   "id": "1dec073b",
   "metadata": {},
   "outputs": [],
   "source": [
    "print vs return"
   ]
  },
  {
   "cell_type": "code",
   "execution_count": null,
   "id": "d9a09dfa",
   "metadata": {},
   "outputs": [],
   "source": []
  },
  {
   "cell_type": "code",
   "execution_count": 37,
   "id": "ae5f9c1f",
   "metadata": {},
   "outputs": [],
   "source": [
    "def total_cal(e):\n",
    "    total =0\n",
    "    for i in e:\n",
    "        total =total+i\n",
    "    return total"
   ]
  },
  {
   "cell_type": "code",
   "execution_count": 38,
   "id": "8cceffdd",
   "metadata": {},
   "outputs": [],
   "source": [
    "r = total_cal([45,75,34,75])"
   ]
  },
  {
   "cell_type": "code",
   "execution_count": 39,
   "id": "994f8d11",
   "metadata": {},
   "outputs": [
    {
     "data": {
      "text/plain": [
       "229"
      ]
     },
     "execution_count": 39,
     "metadata": {},
     "output_type": "execute_result"
    }
   ],
   "source": [
    "r"
   ]
  },
  {
   "cell_type": "code",
   "execution_count": null,
   "id": "a6ebc5b3",
   "metadata": {},
   "outputs": [],
   "source": [
    "Types of function:\n",
    "    No arguments and No return values\n",
    "    With arguments and No return values\n",
    "    With arguments and with return values --***\n",
    "    No arguments and with return values"
   ]
  },
  {
   "cell_type": "code",
   "execution_count": 40,
   "id": "7c0cfb5e",
   "metadata": {},
   "outputs": [],
   "source": [
    "#No arguments and No return values"
   ]
  },
  {
   "cell_type": "code",
   "execution_count": 42,
   "id": "79012f64",
   "metadata": {},
   "outputs": [],
   "source": [
    "def add():\n",
    "    a = 45\n",
    "    b = 51\n",
    "    c=a+b\n",
    "    print(c)"
   ]
  },
  {
   "cell_type": "code",
   "execution_count": 43,
   "id": "8338e4bc",
   "metadata": {},
   "outputs": [
    {
     "name": "stdout",
     "output_type": "stream",
     "text": [
      "96\n"
     ]
    }
   ],
   "source": [
    "add()"
   ]
  },
  {
   "cell_type": "code",
   "execution_count": 44,
   "id": "2cfee466",
   "metadata": {},
   "outputs": [],
   "source": [
    "#With arguments and No return values"
   ]
  },
  {
   "cell_type": "code",
   "execution_count": 45,
   "id": "9d5fe84e",
   "metadata": {},
   "outputs": [],
   "source": [
    "def add(x,y):\n",
    "    z = x+y\n",
    "    print(z)"
   ]
  },
  {
   "cell_type": "code",
   "execution_count": 46,
   "id": "1d3da395",
   "metadata": {},
   "outputs": [
    {
     "name": "stdout",
     "output_type": "stream",
     "text": [
      "131\n"
     ]
    }
   ],
   "source": [
    "add(45,86)"
   ]
  },
  {
   "cell_type": "code",
   "execution_count": 47,
   "id": "13871ec0",
   "metadata": {},
   "outputs": [],
   "source": [
    "#with argument with return value\n",
    "def add(x,y):\n",
    "    z = x+y\n",
    "    return z"
   ]
  },
  {
   "cell_type": "code",
   "execution_count": 49,
   "id": "6abb192d",
   "metadata": {},
   "outputs": [],
   "source": [
    "v = add(54,863)"
   ]
  },
  {
   "cell_type": "code",
   "execution_count": 50,
   "id": "a1f58b43",
   "metadata": {},
   "outputs": [
    {
     "data": {
      "text/plain": [
       "917"
      ]
     },
     "execution_count": 50,
     "metadata": {},
     "output_type": "execute_result"
    }
   ],
   "source": [
    "v"
   ]
  },
  {
   "cell_type": "code",
   "execution_count": 51,
   "id": "03dead8b",
   "metadata": {},
   "outputs": [],
   "source": [
    "def add():\n",
    "    a = 45\n",
    "    b = 51\n",
    "    c=a+b\n",
    "    return c"
   ]
  },
  {
   "cell_type": "code",
   "execution_count": 52,
   "id": "4e763eb9",
   "metadata": {},
   "outputs": [],
   "source": [
    "t = add()"
   ]
  },
  {
   "cell_type": "code",
   "execution_count": 53,
   "id": "93f1b637",
   "metadata": {},
   "outputs": [
    {
     "data": {
      "text/plain": [
       "96"
      ]
     },
     "execution_count": 53,
     "metadata": {},
     "output_type": "execute_result"
    }
   ],
   "source": [
    "t"
   ]
  },
  {
   "cell_type": "code",
   "execution_count": null,
   "id": "b352908b",
   "metadata": {},
   "outputs": [],
   "source": [
    "IMP:\n",
    "    Types of Arguments:\n",
    "        1.positional arguments\n",
    "        2.default arguments\n",
    "        3.variable length arguments\n",
    "        4.keyword arguments\n",
    "        5.varible length keyword arguments"
   ]
  },
  {
   "cell_type": "code",
   "execution_count": null,
   "id": "cebfb3be",
   "metadata": {},
   "outputs": [],
   "source": [
    "1.positional Arugments:\n",
    "    1.no of arguments should be equal--> formal == actual\n",
    "    2.seq of arugments should be match"
   ]
  },
  {
   "cell_type": "code",
   "execution_count": 54,
   "id": "9c1a6c2f",
   "metadata": {},
   "outputs": [],
   "source": [
    "def emp_details(id,name,age,sal,city):\n",
    "    print(\"ID:\",id)\n",
    "    print(\"Name:\",name)\n",
    "    print(\"Age:\",age)\n",
    "    print(\"Sal:\",sal)\n",
    "    print(\"City:\",city)"
   ]
  },
  {
   "cell_type": "code",
   "execution_count": 60,
   "id": "4de47620",
   "metadata": {},
   "outputs": [
    {
     "name": "stdout",
     "output_type": "stream",
     "text": [
      "ID: sadfsdfa\n",
      "Name: 450\n",
      "Age: 25\n",
      "Sal: 95000\n",
      "City: city\n"
     ]
    }
   ],
   "source": [
    "emp_details('sadfsdfa',450,25,95000,'city')"
   ]
  },
  {
   "cell_type": "code",
   "execution_count": 58,
   "id": "c4b3c43a",
   "metadata": {},
   "outputs": [
    {
     "name": "stdout",
     "output_type": "stream",
     "text": [
      "ID: mumbai\n",
      "Name: 8498498\n",
      "Age: keshav\n",
      "Sal: 25\n",
      "City: 9794949\n"
     ]
    }
   ],
   "source": [
    "emp_details('mumbai',8498498,'keshav',25,9794949)"
   ]
  },
  {
   "cell_type": "code",
   "execution_count": 68,
   "id": "10092c4f",
   "metadata": {},
   "outputs": [],
   "source": [
    "def emp_details(id,name,age,sal,city,PAN=0):\n",
    "    print(\"ID:\",id)\n",
    "    print(\"Name:\",name)\n",
    "    print(\"Age:\",age)\n",
    "    print(\"Sal:\",sal)\n",
    "    print(\"City:\",city)\n",
    "    print(\"PAN:\",PAN)"
   ]
  },
  {
   "cell_type": "code",
   "execution_count": 69,
   "id": "d77e9d69",
   "metadata": {},
   "outputs": [
    {
     "name": "stdout",
     "output_type": "stream",
     "text": [
      "ID: 200\n",
      "Name: kirti\n",
      "Age: 35\n",
      "Sal: 94949\n",
      "City: mumbai\n",
      "PAN: 0\n"
     ]
    }
   ],
   "source": [
    "emp_details(200,'kirti',35,94949,'mumbai',)"
   ]
  },
  {
   "cell_type": "code",
   "execution_count": null,
   "id": "0f5841a6",
   "metadata": {},
   "outputs": [],
   "source": [
    "real time exmple:\n",
    "    HDFC/ICICI/AXIS/SBI\n",
    "    \n",
    "    statement :\n",
    "        "
   ]
  },
  {
   "cell_type": "code",
   "execution_count": 71,
   "id": "2e0f7168",
   "metadata": {},
   "outputs": [],
   "source": [
    "def statement(startdate='01.04.2022',enddate='31.03.2023'):\n",
    "    print(\"Statement downloded from {} to {} \".format(startdate,enddate))"
   ]
  },
  {
   "cell_type": "code",
   "execution_count": 73,
   "id": "49fe49c1",
   "metadata": {},
   "outputs": [
    {
     "name": "stdout",
     "output_type": "stream",
     "text": [
      "Statement downloded from 25.06.2022 to 30.06.2022 \n"
     ]
    }
   ],
   "source": [
    "statement('25.06.2022','30.06.2022')"
   ]
  },
  {
   "cell_type": "code",
   "execution_count": null,
   "id": "8e407412",
   "metadata": {},
   "outputs": [],
   "source": [
    "BA - documents :\n",
    "    positional \n",
    "    default --> any doubt"
   ]
  }
 ],
 "metadata": {
  "kernelspec": {
   "display_name": "Python 3",
   "language": "python",
   "name": "python3"
  },
  "language_info": {
   "codemirror_mode": {
    "name": "ipython",
    "version": 3
   },
   "file_extension": ".py",
   "mimetype": "text/x-python",
   "name": "python",
   "nbconvert_exporter": "python",
   "pygments_lexer": "ipython3",
   "version": "3.8.8"
  }
 },
 "nbformat": 4,
 "nbformat_minor": 5
}
