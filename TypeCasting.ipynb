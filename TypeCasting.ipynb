{
 "cells": [
  {
   "cell_type": "code",
   "execution_count": null,
   "id": "00880cc8",
   "metadata": {},
   "outputs": [],
   "source": [
    "TypeCasting:\n",
    "    change data type/DS of variable into another data type/DS"
   ]
  },
  {
   "cell_type": "code",
   "execution_count": 1,
   "id": "005201ea",
   "metadata": {},
   "outputs": [],
   "source": [
    "py = '25'"
   ]
  },
  {
   "cell_type": "code",
   "execution_count": 2,
   "id": "376c1f77",
   "metadata": {},
   "outputs": [
    {
     "data": {
      "text/plain": [
       "str"
      ]
     },
     "execution_count": 2,
     "metadata": {},
     "output_type": "execute_result"
    }
   ],
   "source": [
    "type(py)"
   ]
  },
  {
   "cell_type": "code",
   "execution_count": 4,
   "id": "c635a4d3",
   "metadata": {},
   "outputs": [],
   "source": [
    "p = int(py)"
   ]
  },
  {
   "cell_type": "code",
   "execution_count": 5,
   "id": "15b8444e",
   "metadata": {},
   "outputs": [
    {
     "data": {
      "text/plain": [
       "25"
      ]
     },
     "execution_count": 5,
     "metadata": {},
     "output_type": "execute_result"
    }
   ],
   "source": [
    "p"
   ]
  },
  {
   "cell_type": "code",
   "execution_count": 6,
   "id": "78ecc261",
   "metadata": {},
   "outputs": [
    {
     "data": {
      "text/plain": [
       "int"
      ]
     },
     "execution_count": 6,
     "metadata": {},
     "output_type": "execute_result"
    }
   ],
   "source": [
    "type(p)"
   ]
  },
  {
   "cell_type": "code",
   "execution_count": null,
   "id": "9bae70fe",
   "metadata": {},
   "outputs": [],
   "source": [
    "int --> float\n",
    "float --> int\n",
    "\n",
    "str(int) --> int\n",
    "str(float)"
   ]
  },
  {
   "cell_type": "code",
   "execution_count": 7,
   "id": "4a1736ad",
   "metadata": {},
   "outputs": [],
   "source": [
    "a = '45.745'"
   ]
  },
  {
   "cell_type": "code",
   "execution_count": 8,
   "id": "440073c2",
   "metadata": {},
   "outputs": [
    {
     "data": {
      "text/plain": [
       "str"
      ]
     },
     "execution_count": 8,
     "metadata": {},
     "output_type": "execute_result"
    }
   ],
   "source": [
    "type(a)"
   ]
  },
  {
   "cell_type": "code",
   "execution_count": 9,
   "id": "9b2fc92f",
   "metadata": {},
   "outputs": [
    {
     "ename": "ValueError",
     "evalue": "invalid literal for int() with base 10: '45.745'",
     "output_type": "error",
     "traceback": [
      "\u001b[1;31m---------------------------------------------------------------------------\u001b[0m",
      "\u001b[1;31mValueError\u001b[0m                                Traceback (most recent call last)",
      "\u001b[1;32m<ipython-input-9-8b2ab3991dae>\u001b[0m in \u001b[0;36m<module>\u001b[1;34m\u001b[0m\n\u001b[1;32m----> 1\u001b[1;33m \u001b[0mint\u001b[0m\u001b[1;33m(\u001b[0m\u001b[0ma\u001b[0m\u001b[1;33m)\u001b[0m\u001b[1;33m\u001b[0m\u001b[1;33m\u001b[0m\u001b[0m\n\u001b[0m",
      "\u001b[1;31mValueError\u001b[0m: invalid literal for int() with base 10: '45.745'"
     ]
    }
   ],
   "source": [
    "int(a)"
   ]
  },
  {
   "cell_type": "code",
   "execution_count": null,
   "id": "951c88cd",
   "metadata": {},
   "outputs": [],
   "source": [
    "str --> float ---> int"
   ]
  },
  {
   "cell_type": "code",
   "execution_count": 12,
   "id": "8e9e2905",
   "metadata": {},
   "outputs": [
    {
     "data": {
      "text/plain": [
       "45"
      ]
     },
     "execution_count": 12,
     "metadata": {},
     "output_type": "execute_result"
    }
   ],
   "source": [
    "int(float(a))"
   ]
  },
  {
   "cell_type": "code",
   "execution_count": 14,
   "id": "722929b1",
   "metadata": {},
   "outputs": [
    {
     "name": "stdout",
     "output_type": "stream",
     "text": [
      "Enter the number:10\n",
      "Enter the second number:20\n",
      "30\n"
     ]
    }
   ],
   "source": [
    "a = int(input(\"Enter the number:\"))\n",
    "b = int(input(\"Enter the second number:\"))\n",
    "c =a+b\n",
    "print(c)"
   ]
  },
  {
   "cell_type": "code",
   "execution_count": 20,
   "id": "5e155619",
   "metadata": {},
   "outputs": [
    {
     "name": "stdout",
     "output_type": "stream",
     "text": [
      "Please give input:::::::::450\n"
     ]
    }
   ],
   "source": [
    "a = input(\"Please give input:::::::::\")"
   ]
  },
  {
   "cell_type": "code",
   "execution_count": 21,
   "id": "a1f95172",
   "metadata": {},
   "outputs": [
    {
     "data": {
      "text/plain": [
       "'450'"
      ]
     },
     "execution_count": 21,
     "metadata": {},
     "output_type": "execute_result"
    }
   ],
   "source": [
    "a"
   ]
  },
  {
   "cell_type": "code",
   "execution_count": 23,
   "id": "fef1c7a5",
   "metadata": {},
   "outputs": [
    {
     "data": {
      "text/plain": [
       "30"
      ]
     },
     "execution_count": 23,
     "metadata": {},
     "output_type": "execute_result"
    }
   ],
   "source": [
    "int('10') + int('20')"
   ]
  },
  {
   "cell_type": "code",
   "execution_count": 24,
   "id": "03da4d51",
   "metadata": {},
   "outputs": [
    {
     "data": {
      "text/plain": [
       "'PythonJava'"
      ]
     },
     "execution_count": 24,
     "metadata": {},
     "output_type": "execute_result"
    }
   ],
   "source": [
    "'Python'+'Java'"
   ]
  },
  {
   "cell_type": "code",
   "execution_count": null,
   "id": "164a559b",
   "metadata": {},
   "outputs": [],
   "source": [
    "Type Casting in DS"
   ]
  },
  {
   "cell_type": "code",
   "execution_count": 25,
   "id": "39874fc2",
   "metadata": {},
   "outputs": [],
   "source": [
    "p= [34,86,34,86,378,656,9,45]"
   ]
  },
  {
   "cell_type": "code",
   "execution_count": 27,
   "id": "7ec6c14f",
   "metadata": {},
   "outputs": [],
   "source": [
    "p = tuple(p)"
   ]
  },
  {
   "cell_type": "code",
   "execution_count": 28,
   "id": "8e4886e1",
   "metadata": {},
   "outputs": [
    {
     "data": {
      "text/plain": [
       "(34, 86, 34, 86, 378, 656, 9, 45)"
      ]
     },
     "execution_count": 28,
     "metadata": {},
     "output_type": "execute_result"
    }
   ],
   "source": [
    "p"
   ]
  },
  {
   "cell_type": "code",
   "execution_count": 29,
   "id": "b9596cf2",
   "metadata": {},
   "outputs": [],
   "source": [
    "t1 = (12,86,23,76,34,86)"
   ]
  },
  {
   "cell_type": "code",
   "execution_count": 31,
   "id": "284568e3",
   "metadata": {},
   "outputs": [],
   "source": [
    "t1 = list(t1)"
   ]
  },
  {
   "cell_type": "code",
   "execution_count": 33,
   "id": "c11b3857",
   "metadata": {},
   "outputs": [],
   "source": [
    "t1.append(100)"
   ]
  },
  {
   "cell_type": "code",
   "execution_count": 34,
   "id": "1be827b0",
   "metadata": {},
   "outputs": [
    {
     "data": {
      "text/plain": [
       "[12, 86, 23, 76, 34, 86, 100]"
      ]
     },
     "execution_count": 34,
     "metadata": {},
     "output_type": "execute_result"
    }
   ],
   "source": [
    "t1"
   ]
  },
  {
   "cell_type": "code",
   "execution_count": 36,
   "id": "1e8963b9",
   "metadata": {},
   "outputs": [],
   "source": [
    "t1 = tuple(t1)"
   ]
  },
  {
   "cell_type": "code",
   "execution_count": 37,
   "id": "5f4684d7",
   "metadata": {},
   "outputs": [
    {
     "data": {
      "text/plain": [
       "(12, 86, 23, 76, 34, 86, 100)"
      ]
     },
     "execution_count": 37,
     "metadata": {},
     "output_type": "execute_result"
    }
   ],
   "source": [
    "t1"
   ]
  },
  {
   "cell_type": "code",
   "execution_count": 38,
   "id": "ba66aeed",
   "metadata": {},
   "outputs": [],
   "source": [
    "p = {'a':100,'b':200,'c':300}"
   ]
  },
  {
   "cell_type": "code",
   "execution_count": 39,
   "id": "24e4d56a",
   "metadata": {},
   "outputs": [
    {
     "data": {
      "text/plain": [
       "{'a': 100, 'b': 200, 'c': 300}"
      ]
     },
     "execution_count": 39,
     "metadata": {},
     "output_type": "execute_result"
    }
   ],
   "source": [
    "p"
   ]
  },
  {
   "cell_type": "code",
   "execution_count": 41,
   "id": "f774639c",
   "metadata": {},
   "outputs": [
    {
     "data": {
      "text/plain": [
       "[100, 200, 300]"
      ]
     },
     "execution_count": 41,
     "metadata": {},
     "output_type": "execute_result"
    }
   ],
   "source": [
    "list(p.values())"
   ]
  },
  {
   "cell_type": "code",
   "execution_count": 42,
   "id": "8ab14605",
   "metadata": {},
   "outputs": [
    {
     "data": {
      "text/plain": [
       "[('a', 100), ('b', 200), ('c', 300)]"
      ]
     },
     "execution_count": 42,
     "metadata": {},
     "output_type": "execute_result"
    }
   ],
   "source": [
    "list(p.items())"
   ]
  },
  {
   "cell_type": "code",
   "execution_count": 46,
   "id": "6aa2b098",
   "metadata": {},
   "outputs": [
    {
     "data": {
      "text/plain": [
       "[('a', 100), ('b', 200), ('c', 300)]"
      ]
     },
     "execution_count": 46,
     "metadata": {},
     "output_type": "execute_result"
    }
   ],
   "source": [
    "list(p.items())"
   ]
  },
  {
   "cell_type": "code",
   "execution_count": null,
   "id": "bbdfdb62",
   "metadata": {},
   "outputs": [],
   "source": [
    "Q.interview\n",
    "\n",
    "how to remove duplicate value from list or tuple?\n",
    "\n",
    "1.we will write custom code to remove duplicate element\n",
    "\n",
    "2.by using typeCasting"
   ]
  },
  {
   "cell_type": "code",
   "execution_count": 53,
   "id": "e985f33f",
   "metadata": {},
   "outputs": [],
   "source": [
    "p = [1,1,1,756,3,86,3,76,34,75,'Python']"
   ]
  },
  {
   "cell_type": "code",
   "execution_count": 54,
   "id": "c9886dd7",
   "metadata": {},
   "outputs": [
    {
     "data": {
      "text/plain": [
       "[1, 1, 1, 756, 3, 86, 3, 76, 34, 75, 'Python']"
      ]
     },
     "execution_count": 54,
     "metadata": {},
     "output_type": "execute_result"
    }
   ],
   "source": [
    "p"
   ]
  },
  {
   "cell_type": "code",
   "execution_count": 55,
   "id": "2a4aad4e",
   "metadata": {},
   "outputs": [],
   "source": [
    "p = list(set(p))"
   ]
  },
  {
   "cell_type": "code",
   "execution_count": 56,
   "id": "0524ac50",
   "metadata": {},
   "outputs": [
    {
     "data": {
      "text/plain": [
       "[1, 34, 3, 75, 76, 'Python', 756, 86]"
      ]
     },
     "execution_count": 56,
     "metadata": {},
     "output_type": "execute_result"
    }
   ],
   "source": [
    "p"
   ]
  },
  {
   "cell_type": "code",
   "execution_count": null,
   "id": "1f8d687f",
   "metadata": {},
   "outputs": [],
   "source": [
    "Data :\n",
    "    insert/update/delete -- list\n",
    "    labeling dict\n",
    "    tuple \n",
    "    set\n",
    "    \n",
    "    "
   ]
  }
 ],
 "metadata": {
  "kernelspec": {
   "display_name": "Python 3",
   "language": "python",
   "name": "python3"
  },
  "language_info": {
   "codemirror_mode": {
    "name": "ipython",
    "version": 3
   },
   "file_extension": ".py",
   "mimetype": "text/x-python",
   "name": "python",
   "nbconvert_exporter": "python",
   "pygments_lexer": "ipython3",
   "version": "3.8.8"
  }
 },
 "nbformat": 4,
 "nbformat_minor": 5
}
