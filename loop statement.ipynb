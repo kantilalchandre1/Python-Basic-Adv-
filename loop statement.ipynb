{
 "cells": [
  {
   "cell_type": "code",
   "execution_count": 1,
   "id": "e6b063e4",
   "metadata": {},
   "outputs": [
    {
     "name": "stdout",
     "output_type": "stream",
     "text": [
      "Hello\n",
      "welcome to Python DataScience\n",
      "Best of luck\n",
      "Hello\n",
      "welcome to Python DataScience\n",
      "Best of luck\n",
      "Hello\n",
      "welcome to Python DataScience\n",
      "Best of luck\n",
      "Hello\n",
      "welcome to Python DataScience\n",
      "Best of luck\n",
      "Hello\n",
      "welcome to Python DataScience\n",
      "Best of luck\n",
      "Hello\n",
      "welcome to Python DataScience\n",
      "Best of luck\n",
      "Hello\n",
      "welcome to Python DataScience\n",
      "Best of luck\n"
     ]
    }
   ],
   "source": [
    "print(\"Hello\")\n",
    "print(\"welcome to Python DataScience\")\n",
    "print(\"Best of luck\")\n",
    "print(\"Hello\")\n",
    "print(\"welcome to Python DataScience\")\n",
    "print(\"Best of luck\")\n",
    "print(\"Hello\")\n",
    "print(\"welcome to Python DataScience\")\n",
    "print(\"Best of luck\")\n",
    "print(\"Hello\")\n",
    "print(\"welcome to Python DataScience\")\n",
    "print(\"Best of luck\")\n",
    "print(\"Hello\")\n",
    "print(\"welcome to Python DataScience\")\n",
    "print(\"Best of luck\")\n",
    "print(\"Hello\")\n",
    "print(\"welcome to Python DataScience\")\n",
    "print(\"Best of luck\")\n",
    "print(\"Hello\")\n",
    "print(\"welcome to Python DataScience\")\n",
    "print(\"Best of luck\")"
   ]
  },
  {
   "cell_type": "code",
   "execution_count": null,
   "id": "8dac9df1",
   "metadata": {},
   "outputs": [],
   "source": [
    "code --> duplicate code\n",
    "lines of code\n",
    "space increases\n",
    "time compexity"
   ]
  },
  {
   "cell_type": "code",
   "execution_count": null,
   "id": "a4e76ed6",
   "metadata": {},
   "outputs": [],
   "source": [
    "loop statement\n",
    "for loop\n",
    "while loop\n",
    "\n",
    "note : do-while is not present in Python"
   ]
  },
  {
   "cell_type": "code",
   "execution_count": null,
   "id": "73a2b478",
   "metadata": {},
   "outputs": [],
   "source": [
    "for loop_var in seq/DS/groupofvalues:\n",
    "    body\n",
    "    statements"
   ]
  },
  {
   "cell_type": "code",
   "execution_count": 5,
   "id": "974b8526",
   "metadata": {},
   "outputs": [],
   "source": [
    "py_list = ['python','DS','ML','Hadoop','Pyspark']"
   ]
  },
  {
   "cell_type": "code",
   "execution_count": 8,
   "id": "45eedb40",
   "metadata": {},
   "outputs": [
    {
     "name": "stdout",
     "output_type": "stream",
     "text": [
      "python --> 6\n",
      "DS --> 2\n",
      "ML --> 2\n",
      "Hadoop --> 6\n",
      "Pyspark --> 7\n",
      "loop executed\n"
     ]
    }
   ],
   "source": [
    "for item in py_list:\n",
    "    print(item,\"-->\",len(item))\n",
    "print(\"loop executed\")"
   ]
  },
  {
   "cell_type": "code",
   "execution_count": 18,
   "id": "135bfc11",
   "metadata": {},
   "outputs": [
    {
     "data": {
      "text/plain": [
       "['test@gmail.com',\n",
       " 'sample@yahoo.com',\n",
       " 'python@rediffmail.com',\n",
       " 'hadoop@hotmail.com']"
      ]
     },
     "execution_count": 18,
     "metadata": {},
     "output_type": "execute_result"
    }
   ],
   "source": [
    "emails"
   ]
  },
  {
   "cell_type": "code",
   "execution_count": 19,
   "id": "0d44bf72",
   "metadata": {},
   "outputs": [
    {
     "name": "stdout",
     "output_type": "stream",
     "text": [
      "test@gmail.com\n",
      "sample@yahoo.com\n",
      "python@rediffmail.com\n",
      "hadoop@hotmail.com\n"
     ]
    }
   ],
   "source": [
    "for email in emails:\n",
    "    print(email)"
   ]
  },
  {
   "cell_type": "code",
   "execution_count": null,
   "id": "f6ff5586",
   "metadata": {},
   "outputs": [],
   "source": [
    "print() --> end=\\n  --> \\t "
   ]
  },
  {
   "cell_type": "code",
   "execution_count": 16,
   "id": "c527b12e",
   "metadata": {},
   "outputs": [
    {
     "name": "stdout",
     "output_type": "stream",
     "text": [
      "Hi\tML Hadoop\n"
     ]
    }
   ],
   "source": [
    "print(\"Hi\",end='\\t')\n",
    "print(\"ML\",end =' ')\n",
    "print(\"Hadoop\")"
   ]
  },
  {
   "cell_type": "code",
   "execution_count": null,
   "id": "a67ed97d",
   "metadata": {},
   "outputs": [],
   "source": [
    "\\t\\n\\d unicode cha"
   ]
  },
  {
   "cell_type": "code",
   "execution_count": 20,
   "id": "401bd286",
   "metadata": {},
   "outputs": [],
   "source": [
    "emp_details = {\n",
    "    'id':101,'name':'jon','city':'Pune','sal':6912616\n",
    "}"
   ]
  },
  {
   "cell_type": "code",
   "execution_count": 24,
   "id": "26c9ee80",
   "metadata": {},
   "outputs": [
    {
     "name": "stdout",
     "output_type": "stream",
     "text": [
      "id 101\n",
      "name jon\n",
      "city Pune\n",
      "sal 6912616\n"
     ]
    }
   ],
   "source": [
    "for key,value in emp_details.items():\n",
    "    print(key,value)"
   ]
  },
  {
   "cell_type": "code",
   "execution_count": 25,
   "id": "616b8a32",
   "metadata": {},
   "outputs": [
    {
     "data": {
      "text/plain": [
       "['test@gmail.com',\n",
       " 'sample@yahoo.com',\n",
       " 'python@rediffmail.com',\n",
       " 'hadoop@hotmail.com']"
      ]
     },
     "execution_count": 25,
     "metadata": {},
     "output_type": "execute_result"
    }
   ],
   "source": [
    "emails"
   ]
  },
  {
   "cell_type": "code",
   "execution_count": 27,
   "id": "b5fafe01",
   "metadata": {},
   "outputs": [],
   "source": [
    "username = []\n",
    "domain = []\n",
    "for email in emails:\n",
    "    u  = email.split('@')[0]\n",
    "    d = email.split('@')[1]\n",
    "    username.append(u)\n",
    "    domain.append(d)"
   ]
  },
  {
   "cell_type": "code",
   "execution_count": 28,
   "id": "b428d604",
   "metadata": {},
   "outputs": [
    {
     "data": {
      "text/plain": [
       "['test', 'sample', 'python', 'hadoop']"
      ]
     },
     "execution_count": 28,
     "metadata": {},
     "output_type": "execute_result"
    }
   ],
   "source": [
    "username"
   ]
  },
  {
   "cell_type": "code",
   "execution_count": 29,
   "id": "0571847d",
   "metadata": {},
   "outputs": [
    {
     "data": {
      "text/plain": [
       "['gmail.com', 'yahoo.com', 'rediffmail.com', 'hotmail.com']"
      ]
     },
     "execution_count": 29,
     "metadata": {},
     "output_type": "execute_result"
    }
   ],
   "source": [
    "domain"
   ]
  },
  {
   "cell_type": "code",
   "execution_count": 30,
   "id": "0f00bbde",
   "metadata": {},
   "outputs": [],
   "source": [
    "username = []\n",
    "domain = []\n",
    "for email in emails:\n",
    "    username.append(email.split('@')[0])\n",
    "    domain.append(email.split('@')[1])"
   ]
  },
  {
   "cell_type": "code",
   "execution_count": 31,
   "id": "ac51bfd8",
   "metadata": {},
   "outputs": [
    {
     "data": {
      "text/plain": [
       "['test', 'sample', 'python', 'hadoop']"
      ]
     },
     "execution_count": 31,
     "metadata": {},
     "output_type": "execute_result"
    }
   ],
   "source": [
    "username"
   ]
  },
  {
   "cell_type": "code",
   "execution_count": 32,
   "id": "7afc4d06",
   "metadata": {},
   "outputs": [
    {
     "data": {
      "text/plain": [
       "['gmail.com', 'yahoo.com', 'rediffmail.com', 'hotmail.com']"
      ]
     },
     "execution_count": 32,
     "metadata": {},
     "output_type": "execute_result"
    }
   ],
   "source": [
    "domain"
   ]
  },
  {
   "cell_type": "code",
   "execution_count": null,
   "id": "0615d0a7",
   "metadata": {},
   "outputs": [],
   "source": [
    "for loop with condition"
   ]
  },
  {
   "cell_type": "code",
   "execution_count": 33,
   "id": "c0012a70",
   "metadata": {},
   "outputs": [
    {
     "data": {
      "text/plain": [
       "['test@gmail.com',\n",
       " 'sample@yahoo.com',\n",
       " 'python@rediffmail.com',\n",
       " 'hadoop@hotmail.com']"
      ]
     },
     "execution_count": 33,
     "metadata": {},
     "output_type": "execute_result"
    }
   ],
   "source": [
    "emails"
   ]
  },
  {
   "cell_type": "code",
   "execution_count": 34,
   "id": "3bd4f7e6",
   "metadata": {},
   "outputs": [],
   "source": [
    "emails = ['test@gmail.com',\n",
    " 'sample@yahoo.com',\n",
    " 'python@rediffmail.com',\n",
    " 'hadoop@hotmail.com','sctest@gmail.com','prod@gmail.com']"
   ]
  },
  {
   "cell_type": "code",
   "execution_count": 35,
   "id": "5afd5417",
   "metadata": {},
   "outputs": [
    {
     "data": {
      "text/plain": [
       "['test@gmail.com',\n",
       " 'sample@yahoo.com',\n",
       " 'python@rediffmail.com',\n",
       " 'hadoop@hotmail.com',\n",
       " 'sctest@gmail.com',\n",
       " 'prod@gmail.com']"
      ]
     },
     "execution_count": 35,
     "metadata": {},
     "output_type": "execute_result"
    }
   ],
   "source": [
    "emails"
   ]
  },
  {
   "cell_type": "code",
   "execution_count": 36,
   "id": "4395751d",
   "metadata": {},
   "outputs": [
    {
     "name": "stdout",
     "output_type": "stream",
     "text": [
      "['test@gmail.com', 'sctest@gmail.com', 'prod@gmail.com']\n"
     ]
    }
   ],
   "source": [
    "gmail_emails = []\n",
    "for email in emails:\n",
    "    if email.endswith('@gmail.com'):\n",
    "        gmail_emails.append(email)\n",
    "print(gmail_emails)"
   ]
  },
  {
   "cell_type": "code",
   "execution_count": 37,
   "id": "813c7054",
   "metadata": {},
   "outputs": [
    {
     "name": "stdout",
     "output_type": "stream",
     "text": [
      "test@gmail.com\n",
      "sctest@gmail.com\n",
      "prod@gmail.com\n"
     ]
    }
   ],
   "source": [
    "for email in emails:\n",
    "    if email.endswith('@gmail.com'):\n",
    "        print(email)\n"
   ]
  },
  {
   "cell_type": "code",
   "execution_count": 48,
   "id": "d0efec84",
   "metadata": {},
   "outputs": [],
   "source": [
    "files = ['test.csv','python.pdf','asdfsadfsdf','hadoop.csv','ml.pdf','dl.csv','copper.xlsx','test.pdf','sample.xlsx','sdfaasdfasdfsdsdf']"
   ]
  },
  {
   "cell_type": "code",
   "execution_count": 49,
   "id": "7010e7a9",
   "metadata": {},
   "outputs": [
    {
     "data": {
      "text/plain": [
       "['test.csv',\n",
       " 'python.pdf',\n",
       " 'asdfsadfsdf',\n",
       " 'hadoop.csv',\n",
       " 'ml.pdf',\n",
       " 'dl.csv',\n",
       " 'copper.xlsx',\n",
       " 'test.pdf',\n",
       " 'sample.xlsx',\n",
       " 'sdfaasdfasdfsdsdf']"
      ]
     },
     "execution_count": 49,
     "metadata": {},
     "output_type": "execute_result"
    }
   ],
   "source": [
    "files"
   ]
  },
  {
   "cell_type": "code",
   "execution_count": 50,
   "id": "bbf94f0e",
   "metadata": {},
   "outputs": [],
   "source": [
    "xlsx = []\n",
    "csv = []\n",
    "pdf = []\n",
    "invalid_file = []\n",
    "\n",
    "for file in files:\n",
    "    if file.endswith('.csv'):\n",
    "        csv.append(file)\n",
    "    elif file.endswith('.pdf'):\n",
    "        pdf.append(file)\n",
    "    elif file.endswith('.xlsx'):\n",
    "        xlsx.append(file)\n",
    "    else:\n",
    "        invalid_file.append(file)"
   ]
  },
  {
   "cell_type": "code",
   "execution_count": 51,
   "id": "0d09d1d9",
   "metadata": {},
   "outputs": [
    {
     "data": {
      "text/plain": [
       "['copper.xlsx', 'sample.xlsx']"
      ]
     },
     "execution_count": 51,
     "metadata": {},
     "output_type": "execute_result"
    }
   ],
   "source": [
    "xlsx"
   ]
  },
  {
   "cell_type": "code",
   "execution_count": 52,
   "id": "a84765af",
   "metadata": {},
   "outputs": [
    {
     "data": {
      "text/plain": [
       "['test.csv', 'hadoop.csv', 'dl.csv']"
      ]
     },
     "execution_count": 52,
     "metadata": {},
     "output_type": "execute_result"
    }
   ],
   "source": [
    "csv"
   ]
  },
  {
   "cell_type": "code",
   "execution_count": 53,
   "id": "51072755",
   "metadata": {},
   "outputs": [
    {
     "data": {
      "text/plain": [
       "['python.pdf', 'ml.pdf', 'test.pdf']"
      ]
     },
     "execution_count": 53,
     "metadata": {},
     "output_type": "execute_result"
    }
   ],
   "source": [
    "pdf"
   ]
  },
  {
   "cell_type": "code",
   "execution_count": 47,
   "id": "50264fff",
   "metadata": {},
   "outputs": [
    {
     "data": {
      "text/plain": [
       "['asdfsadfsdf', 'sdfaasdfasdfsdsdf']"
      ]
     },
     "execution_count": 47,
     "metadata": {},
     "output_type": "execute_result"
    }
   ],
   "source": [
    "invalid_file"
   ]
  },
  {
   "cell_type": "code",
   "execution_count": 54,
   "id": "f3a52b98",
   "metadata": {},
   "outputs": [],
   "source": [
    "prdids = ['PX5435','SX6456546','PX5345345',54645654,'PX6346346','PX4534543',5346346,645654645]"
   ]
  },
  {
   "cell_type": "code",
   "execution_count": 57,
   "id": "d03e2c27",
   "metadata": {},
   "outputs": [
    {
     "name": "stdout",
     "output_type": "stream",
     "text": [
      "PX5435\n",
      "SX6456546\n",
      "PX5345345\n",
      "PX6346346\n",
      "PX4534543\n"
     ]
    }
   ],
   "source": [
    "for i in prdids:\n",
    "    if not str(i).isnumeric():\n",
    "        print(i)\n",
    "        "
   ]
  },
  {
   "cell_type": "code",
   "execution_count": 58,
   "id": "035a210b",
   "metadata": {},
   "outputs": [
    {
     "name": "stdout",
     "output_type": "stream",
     "text": [
      "PX5435\n",
      "SX6456546\n",
      "PX5345345\n",
      "PX6346346\n",
      "PX4534543\n"
     ]
    }
   ],
   "source": [
    "for i in prdids:\n",
    "    if type(i)==str:\n",
    "        print(i)"
   ]
  },
  {
   "cell_type": "code",
   "execution_count": null,
   "id": "6e1f173d",
   "metadata": {},
   "outputs": [],
   "source": [
    "#range()\n",
    "\n",
    "it is use to generate seq of number"
   ]
  },
  {
   "cell_type": "code",
   "execution_count": null,
   "id": "bb91779b",
   "metadata": {},
   "outputs": [],
   "source": [
    "1 - 10\n",
    "\n",
    "50 - 450 - "
   ]
  },
  {
   "cell_type": "code",
   "execution_count": null,
   "id": "931c4522",
   "metadata": {},
   "outputs": [],
   "source": [
    "range(start,stop-1,step)"
   ]
  },
  {
   "cell_type": "code",
   "execution_count": null,
   "id": "e4d85d37",
   "metadata": {},
   "outputs": [],
   "source": [
    "range(1,11,1)\n",
    "\n",
    "1 2 3 4 5 6 7 8 9 10"
   ]
  },
  {
   "cell_type": "code",
   "execution_count": null,
   "id": "a6e7b5d0",
   "metadata": {},
   "outputs": [],
   "source": [
    "range(0,10,1)\n",
    "0-9"
   ]
  },
  {
   "cell_type": "code",
   "execution_count": null,
   "id": "79886994",
   "metadata": {},
   "outputs": [],
   "source": [
    "range()\n",
    "\n",
    "start = 0\n",
    "step = 1"
   ]
  },
  {
   "cell_type": "code",
   "execution_count": null,
   "id": "4fa4ff31",
   "metadata": {},
   "outputs": [],
   "source": [
    "range(10)\n",
    "star = 0 end =9"
   ]
  },
  {
   "cell_type": "code",
   "execution_count": null,
   "id": "aeb0153b",
   "metadata": {},
   "outputs": [],
   "source": [
    "range(100,5)\n",
    "\n",
    "1  6 11 16 "
   ]
  },
  {
   "cell_type": "code",
   "execution_count": null,
   "id": "2a0f8ada",
   "metadata": {},
   "outputs": [],
   "source": [
    "-1 -2 -3"
   ]
  },
  {
   "cell_type": "code",
   "execution_count": 59,
   "id": "404ff117",
   "metadata": {},
   "outputs": [
    {
     "data": {
      "text/plain": [
       "range(-5, -1, -1)"
      ]
     },
     "execution_count": 59,
     "metadata": {},
     "output_type": "execute_result"
    }
   ],
   "source": [
    "range(-5,-1,1)\n",
    "\n",
    "-5 to -2"
   ]
  },
  {
   "cell_type": "code",
   "execution_count": 61,
   "id": "548f13bc",
   "metadata": {},
   "outputs": [
    {
     "name": "stdout",
     "output_type": "stream",
     "text": [
      "1\n",
      "2\n",
      "3\n",
      "4\n",
      "5\n",
      "6\n",
      "7\n",
      "8\n",
      "9\n",
      "10\n"
     ]
    }
   ],
   "source": [
    "for i in range(1,11):\n",
    "    print(i)"
   ]
  },
  {
   "cell_type": "code",
   "execution_count": 62,
   "id": "ab5a96e7",
   "metadata": {},
   "outputs": [
    {
     "name": "stdout",
     "output_type": "stream",
     "text": [
      "0\n",
      "1\n",
      "2\n",
      "3\n",
      "4\n",
      "5\n",
      "6\n",
      "7\n",
      "8\n",
      "9\n",
      "10\n",
      "11\n",
      "12\n",
      "13\n",
      "14\n",
      "15\n",
      "16\n",
      "17\n",
      "18\n",
      "19\n",
      "20\n",
      "21\n",
      "22\n",
      "23\n",
      "24\n",
      "25\n",
      "26\n",
      "27\n",
      "28\n",
      "29\n",
      "30\n",
      "31\n",
      "32\n",
      "33\n",
      "34\n",
      "35\n",
      "36\n",
      "37\n",
      "38\n",
      "39\n",
      "40\n",
      "41\n",
      "42\n",
      "43\n",
      "44\n",
      "45\n",
      "46\n",
      "47\n",
      "48\n",
      "49\n"
     ]
    }
   ],
   "source": [
    "for i in range(50): # 0-49\n",
    "    print(i)"
   ]
  },
  {
   "cell_type": "code",
   "execution_count": null,
   "id": "2ab1c7a2",
   "metadata": {},
   "outputs": [],
   "source": [
    "10-1"
   ]
  },
  {
   "cell_type": "code",
   "execution_count": 63,
   "id": "ef4ef4bb",
   "metadata": {},
   "outputs": [
    {
     "name": "stdout",
     "output_type": "stream",
     "text": [
      "10\n",
      "9\n",
      "8\n",
      "7\n",
      "6\n",
      "5\n",
      "4\n",
      "3\n",
      "2\n",
      "1\n"
     ]
    }
   ],
   "source": [
    "for i in range(10,0,-1):\n",
    "    print(i)"
   ]
  },
  {
   "cell_type": "code",
   "execution_count": 64,
   "id": "dd0d6f02",
   "metadata": {},
   "outputs": [],
   "source": [
    "#Interview?\n",
    "\n",
    "p = 'Python'"
   ]
  },
  {
   "cell_type": "code",
   "execution_count": null,
   "id": "8a3457e1",
   "metadata": {},
   "outputs": [],
   "source": [
    "output : nohtyP"
   ]
  },
  {
   "cell_type": "code",
   "execution_count": null,
   "id": "0bfffc8b",
   "metadata": {},
   "outputs": [],
   "source": [
    "-6 -5 -4 -3 -2 -1\n",
    " P  y  t  h  o  n\n",
    " 0  1  2  3  4  5   - Assigment "
   ]
  },
  {
   "cell_type": "code",
   "execution_count": null,
   "id": "1fb6bf06",
   "metadata": {},
   "outputs": [],
   "source": [
    "-1\n",
    "-2\n",
    "-3\n",
    "-4\n",
    "-5\n",
    "-6"
   ]
  },
  {
   "cell_type": "code",
   "execution_count": 67,
   "id": "63148688",
   "metadata": {},
   "outputs": [
    {
     "name": "stdout",
     "output_type": "stream",
     "text": [
      "nohtyP"
     ]
    }
   ],
   "source": [
    "for i in range(-1,-7,-1):\n",
    "    print(p[i],end='')"
   ]
  },
  {
   "cell_type": "code",
   "execution_count": 69,
   "id": "0ca50f95",
   "metadata": {},
   "outputs": [
    {
     "data": {
      "text/plain": [
       "'nohtyP'"
      ]
     },
     "execution_count": 69,
     "metadata": {},
     "output_type": "execute_result"
    }
   ],
   "source": [
    "p[::-1]"
   ]
  },
  {
   "cell_type": "code",
   "execution_count": null,
   "id": "d5db6f41",
   "metadata": {},
   "outputs": [],
   "source": [
    "1-10"
   ]
  },
  {
   "cell_type": "code",
   "execution_count": 70,
   "id": "b8e44725",
   "metadata": {},
   "outputs": [
    {
     "name": "stdout",
     "output_type": "stream",
     "text": [
      "2\n",
      "4\n",
      "6\n",
      "8\n",
      "10\n"
     ]
    }
   ],
   "source": [
    "for i in range(1,11):\n",
    "    if i%2==0:\n",
    "        print(i)"
   ]
  },
  {
   "cell_type": "code",
   "execution_count": null,
   "id": "5733b26b",
   "metadata": {},
   "outputs": [],
   "source": [
    "table 2"
   ]
  },
  {
   "cell_type": "code",
   "execution_count": 71,
   "id": "0251619f",
   "metadata": {},
   "outputs": [
    {
     "name": "stdout",
     "output_type": "stream",
     "text": [
      "2\n",
      "4\n",
      "6\n",
      "8\n",
      "10\n",
      "12\n",
      "14\n",
      "16\n",
      "18\n",
      "20\n"
     ]
    }
   ],
   "source": [
    "for i in range(2,21,2):\n",
    "    print(i)"
   ]
  },
  {
   "cell_type": "code",
   "execution_count": 74,
   "id": "ce327aea",
   "metadata": {},
   "outputs": [
    {
     "name": "stdout",
     "output_type": "stream",
     "text": [
      "4\n",
      "8\n",
      "12\n",
      "16\n",
      "20\n",
      "24\n",
      "28\n",
      "32\n",
      "36\n",
      "40\n"
     ]
    }
   ],
   "source": [
    "for i in range(1,11):\n",
    "    print(i*4)"
   ]
  },
  {
   "cell_type": "code",
   "execution_count": 75,
   "id": "ca511bbb",
   "metadata": {},
   "outputs": [
    {
     "data": {
      "text/plain": [
       "{'id': 101, 'name': 'jon', 'city': 'Pune', 'sal': 6912616}"
      ]
     },
     "execution_count": 75,
     "metadata": {},
     "output_type": "execute_result"
    }
   ],
   "source": [
    "emp_details"
   ]
  },
  {
   "cell_type": "code",
   "execution_count": 76,
   "id": "e2124c0e",
   "metadata": {},
   "outputs": [
    {
     "name": "stdout",
     "output_type": "stream",
     "text": [
      "jon\n",
      "6912616\n"
     ]
    }
   ],
   "source": [
    "for i in emp_details:\n",
    "    if i in ['name','sal']:\n",
    "        print(emp_details[i])"
   ]
  },
  {
   "cell_type": "code",
   "execution_count": null,
   "id": "1e7c57f7",
   "metadata": {},
   "outputs": [],
   "source": [
    "DS --> loop"
   ]
  },
  {
   "cell_type": "code",
   "execution_count": null,
   "id": "d61568d9",
   "metadata": {},
   "outputs": [],
   "source": [
    "if-else\n",
    "for-else\n",
    "try-else"
   ]
  }
 ],
 "metadata": {
  "kernelspec": {
   "display_name": "Python 3",
   "language": "python",
   "name": "python3"
  },
  "language_info": {
   "codemirror_mode": {
    "name": "ipython",
    "version": 3
   },
   "file_extension": ".py",
   "mimetype": "text/x-python",
   "name": "python",
   "nbconvert_exporter": "python",
   "pygments_lexer": "ipython3",
   "version": "3.8.8"
  }
 },
 "nbformat": 4,
 "nbformat_minor": 5
}
