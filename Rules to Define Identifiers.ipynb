{
 "cells": [
  {
   "cell_type": "code",
   "execution_count": 8,
   "id": "46c741f5",
   "metadata": {},
   "outputs": [],
   "source": [
    "py = 1000"
   ]
  },
  {
   "cell_type": "code",
   "execution_count": 9,
   "id": "cef23f47",
   "metadata": {
    "scrolled": true
   },
   "outputs": [
    {
     "data": {
      "text/plain": [
       "1000"
      ]
     },
     "execution_count": 9,
     "metadata": {},
     "output_type": "execute_result"
    }
   ],
   "source": [
    "py"
   ]
  },
  {
   "cell_type": "code",
   "execution_count": 10,
   "id": "7d3e53eb",
   "metadata": {},
   "outputs": [
    {
     "name": "stdout",
     "output_type": "stream",
     "text": [
      "1000\n"
     ]
    }
   ],
   "source": [
    "print(py)"
   ]
  },
  {
   "cell_type": "code",
   "execution_count": 11,
   "id": "45170fa5",
   "metadata": {},
   "outputs": [
    {
     "name": "stdout",
     "output_type": "stream",
     "text": [
      "hello\n"
     ]
    }
   ],
   "source": [
    "print(\"hello\")"
   ]
  },
  {
   "cell_type": "code",
   "execution_count": 12,
   "id": "eab5e9d3",
   "metadata": {},
   "outputs": [],
   "source": [
    "# shift+enter for execute cell"
   ]
  },
  {
   "cell_type": "code",
   "execution_count": 13,
   "id": "f5ff3ef9",
   "metadata": {},
   "outputs": [],
   "source": [
    "#click on Run buttom or shift +enter"
   ]
  },
  {
   "cell_type": "code",
   "execution_count": null,
   "id": "3ac16e8c",
   "metadata": {},
   "outputs": [],
   "source": [
    "Real IT\n",
    "\n",
    "Requirement "
   ]
  },
  {
   "cell_type": "code",
   "execution_count": null,
   "id": "2824a506",
   "metadata": {},
   "outputs": [],
   "source": [
    "Rules to Define Identifiers (name--> variable,function,class)\n",
    "===========================\n",
    "\n",
    "1.allowed chars are ---> a-z/A-Z/0-9/_"
   ]
  },
  {
   "cell_type": "code",
   "execution_count": 14,
   "id": "407b40dd",
   "metadata": {},
   "outputs": [],
   "source": [
    "product = 'copper'"
   ]
  },
  {
   "cell_type": "code",
   "execution_count": 15,
   "id": "27824a81",
   "metadata": {},
   "outputs": [
    {
     "data": {
      "text/plain": [
       "'copper'"
      ]
     },
     "execution_count": 15,
     "metadata": {},
     "output_type": "execute_result"
    }
   ],
   "source": [
    "product"
   ]
  },
  {
   "cell_type": "code",
   "execution_count": 16,
   "id": "adea6947",
   "metadata": {},
   "outputs": [],
   "source": [
    "EmpName = 'Jon'"
   ]
  },
  {
   "cell_type": "code",
   "execution_count": 17,
   "id": "581113ac",
   "metadata": {},
   "outputs": [
    {
     "data": {
      "text/plain": [
       "'Jon'"
      ]
     },
     "execution_count": 17,
     "metadata": {},
     "output_type": "execute_result"
    }
   ],
   "source": [
    "EmpName"
   ]
  },
  {
   "cell_type": "code",
   "execution_count": 18,
   "id": "3fea5e8a",
   "metadata": {},
   "outputs": [],
   "source": [
    "EmpSAL = 75000"
   ]
  },
  {
   "cell_type": "code",
   "execution_count": 20,
   "id": "fea10f02",
   "metadata": {},
   "outputs": [],
   "source": [
    "emp_pune = 4545"
   ]
  },
  {
   "cell_type": "code",
   "execution_count": 21,
   "id": "5abc69c1",
   "metadata": {},
   "outputs": [
    {
     "data": {
      "text/plain": [
       "4545"
      ]
     },
     "execution_count": 21,
     "metadata": {},
     "output_type": "execute_result"
    }
   ],
   "source": [
    "emp_pune"
   ]
  },
  {
   "cell_type": "code",
   "execution_count": 22,
   "id": "12923370",
   "metadata": {},
   "outputs": [
    {
     "data": {
      "text/plain": [
       "4545"
      ]
     },
     "execution_count": 22,
     "metadata": {},
     "output_type": "execute_result"
    }
   ],
   "source": [
    "emp_pune"
   ]
  },
  {
   "cell_type": "code",
   "execution_count": 23,
   "id": "e57a8425",
   "metadata": {},
   "outputs": [
    {
     "data": {
      "text/plain": [
       "'Jon'"
      ]
     },
     "execution_count": 23,
     "metadata": {},
     "output_type": "execute_result"
    }
   ],
   "source": [
    "EmpName"
   ]
  },
  {
   "cell_type": "code",
   "execution_count": null,
   "id": "3e8a9a9c",
   "metadata": {},
   "outputs": [],
   "source": [
    "2.Identifiers never startswith number"
   ]
  },
  {
   "cell_type": "code",
   "execution_count": 24,
   "id": "00084379",
   "metadata": {},
   "outputs": [],
   "source": [
    "emp1 = 750"
   ]
  },
  {
   "cell_type": "code",
   "execution_count": 25,
   "id": "c1e07478",
   "metadata": {},
   "outputs": [
    {
     "ename": "SyntaxError",
     "evalue": "invalid syntax (<ipython-input-25-7384f870f536>, line 1)",
     "output_type": "error",
     "traceback": [
      "\u001b[1;36m  File \u001b[1;32m\"<ipython-input-25-7384f870f536>\"\u001b[1;36m, line \u001b[1;32m1\u001b[0m\n\u001b[1;33m    1emp = 750\u001b[0m\n\u001b[1;37m     ^\u001b[0m\n\u001b[1;31mSyntaxError\u001b[0m\u001b[1;31m:\u001b[0m invalid syntax\n"
     ]
    }
   ],
   "source": [
    "1emp = 750"
   ]
  },
  {
   "cell_type": "code",
   "execution_count": null,
   "id": "e30da9ee",
   "metadata": {},
   "outputs": [],
   "source": [
    "3.no limitation on indentifiers name length"
   ]
  },
  {
   "cell_type": "code",
   "execution_count": 26,
   "id": "7a450557",
   "metadata": {},
   "outputs": [],
   "source": [
    "aaaaaaaaaaaaaaaaaaaaaaaaaaaaaaaaaaaaaaaaaaaaaaaaaaaaaaaaaaaaaaaaaaaaaaaaa = 750"
   ]
  },
  {
   "cell_type": "code",
   "execution_count": 27,
   "id": "b1c757d3",
   "metadata": {},
   "outputs": [
    {
     "data": {
      "text/plain": [
       "750"
      ]
     },
     "execution_count": 27,
     "metadata": {},
     "output_type": "execute_result"
    }
   ],
   "source": [
    "aaaaaaaaaaaaaaaaaaaaaaaaaaaaaaaaaaaaaaaaaaaaaaaaaaaaaaaaaaaaaaaaaaaaaaaaa"
   ]
  },
  {
   "cell_type": "code",
   "execution_count": null,
   "id": "7004abde",
   "metadata": {},
   "outputs": [],
   "source": [
    "in real time coding :\n",
    "    it is not recommended to use this type of variable\n",
    "    \n",
    "    always use meaning variable name and try to follow naming case rule"
   ]
  },
  {
   "cell_type": "code",
   "execution_count": null,
   "id": "552b73bd",
   "metadata": {},
   "outputs": [],
   "source": [
    "Case Rule:\n",
    "    1.PascalCase\n",
    "    2.camelCase\n",
    "    3.snake_case"
   ]
  },
  {
   "cell_type": "code",
   "execution_count": null,
   "id": "6cf37029",
   "metadata": {},
   "outputs": [],
   "source": [
    "EmpName\n",
    "ProductPrice\n",
    "ValueByLocationInGivenRange\n",
    "\n",
    "GooglePay\n",
    "YouTube\n",
    "PhonePay\n",
    "WhatsApp\n",
    "AmazonPay\n",
    "PayPal\n",
    "PayTm\n",
    "\n"
   ]
  },
  {
   "cell_type": "code",
   "execution_count": 28,
   "id": "0b201747",
   "metadata": {},
   "outputs": [
    {
     "ename": "NameError",
     "evalue": "name 'sdafasdf' is not defined",
     "output_type": "error",
     "traceback": [
      "\u001b[1;31m---------------------------------------------------------------------------\u001b[0m",
      "\u001b[1;31mNameError\u001b[0m                                 Traceback (most recent call last)",
      "\u001b[1;32m<ipython-input-28-aaf8a06fb76b>\u001b[0m in \u001b[0;36m<module>\u001b[1;34m\u001b[0m\n\u001b[1;32m----> 1\u001b[1;33m \u001b[0msdafasdf\u001b[0m\u001b[1;33m\u001b[0m\u001b[1;33m\u001b[0m\u001b[0m\n\u001b[0m",
      "\u001b[1;31mNameError\u001b[0m: name 'sdafasdf' is not defined"
     ]
    }
   ],
   "source": [
    "sdafasdf"
   ]
  },
  {
   "cell_type": "code",
   "execution_count": 29,
   "id": "4cba84af",
   "metadata": {},
   "outputs": [],
   "source": [
    "p = [34]"
   ]
  },
  {
   "cell_type": "code",
   "execution_count": 30,
   "id": "c5d95717",
   "metadata": {},
   "outputs": [
    {
     "ename": "AttributeError",
     "evalue": "'list' object has no attribute 'add'",
     "output_type": "error",
     "traceback": [
      "\u001b[1;31m---------------------------------------------------------------------------\u001b[0m",
      "\u001b[1;31mAttributeError\u001b[0m                            Traceback (most recent call last)",
      "\u001b[1;32m<ipython-input-30-4f2d7727c32e>\u001b[0m in \u001b[0;36m<module>\u001b[1;34m\u001b[0m\n\u001b[1;32m----> 1\u001b[1;33m \u001b[0mp\u001b[0m\u001b[1;33m.\u001b[0m\u001b[0madd\u001b[0m\u001b[1;33m(\u001b[0m\u001b[1;36m45\u001b[0m\u001b[1;33m)\u001b[0m\u001b[1;33m\u001b[0m\u001b[1;33m\u001b[0m\u001b[0m\n\u001b[0m",
      "\u001b[1;31mAttributeError\u001b[0m: 'list' object has no attribute 'add'"
     ]
    }
   ],
   "source": [
    "p.add(45)"
   ]
  },
  {
   "cell_type": "code",
   "execution_count": 31,
   "id": "94a51f2f",
   "metadata": {},
   "outputs": [],
   "source": [
    "prd_qnty = 100\n",
    "\n",
    "ProdQnty = 100\n"
   ]
  },
  {
   "cell_type": "code",
   "execution_count": null,
   "id": "d22b00cd",
   "metadata": {},
   "outputs": [],
   "source": [
    "productPriceByLocation\n",
    "\n",
    "empName \n",
    "empSal\n",
    "eBay\n",
    "iBall\n",
    "iPhone\n"
   ]
  },
  {
   "cell_type": "code",
   "execution_count": null,
   "id": "10cebfa8",
   "metadata": {},
   "outputs": [],
   "source": [
    "product_price_by_location\n",
    "\n",
    "product_qnty\n",
    "\n",
    "PRODUCT_NAME\n"
   ]
  },
  {
   "cell_type": "code",
   "execution_count": null,
   "id": "0bf58de4",
   "metadata": {},
   "outputs": [],
   "source": [
    "4.we cannt use Keyword as Identifiers"
   ]
  },
  {
   "cell_type": "code",
   "execution_count": null,
   "id": "54763080",
   "metadata": {},
   "outputs": [],
   "source": [
    "Python --> internal / words reserved -- special purpose"
   ]
  },
  {
   "cell_type": "code",
   "execution_count": 37,
   "id": "a18fe316",
   "metadata": {},
   "outputs": [],
   "source": [
    "import keyword\n"
   ]
  },
  {
   "cell_type": "code",
   "execution_count": 41,
   "id": "1dcbe632",
   "metadata": {},
   "outputs": [
    {
     "data": {
      "text/plain": [
       "35"
      ]
     },
     "execution_count": 41,
     "metadata": {},
     "output_type": "execute_result"
    }
   ],
   "source": [
    "len(keyword.kwlist)"
   ]
  },
  {
   "cell_type": "code",
   "execution_count": 45,
   "id": "030aae0f",
   "metadata": {},
   "outputs": [
    {
     "data": {
      "text/plain": [
       "['False',\n",
       " 'None',\n",
       " 'True',\n",
       " 'and',\n",
       " 'as',\n",
       " 'assert',\n",
       " 'async',\n",
       " 'await',\n",
       " 'break',\n",
       " 'class',\n",
       " 'continue',\n",
       " 'def',\n",
       " 'del',\n",
       " 'elif',\n",
       " 'else',\n",
       " 'except',\n",
       " 'finally',\n",
       " 'for',\n",
       " 'from',\n",
       " 'global',\n",
       " 'if',\n",
       " 'import',\n",
       " 'in',\n",
       " 'is',\n",
       " 'lambda',\n",
       " 'nonlocal',\n",
       " 'not',\n",
       " 'or',\n",
       " 'pass',\n",
       " 'raise',\n",
       " 'return',\n",
       " 'try',\n",
       " 'while',\n",
       " 'with',\n",
       " 'yield']"
      ]
     },
     "execution_count": 45,
     "metadata": {},
     "output_type": "execute_result"
    }
   ],
   "source": [
    "keyword.kwlist"
   ]
  },
  {
   "cell_type": "code",
   "execution_count": 39,
   "id": "0f95eb6c",
   "metadata": {},
   "outputs": [
    {
     "ename": "SyntaxError",
     "evalue": "invalid syntax (<ipython-input-39-586d1f29dcb9>, line 1)",
     "output_type": "error",
     "traceback": [
      "\u001b[1;36m  File \u001b[1;32m\"<ipython-input-39-586d1f29dcb9>\"\u001b[1;36m, line \u001b[1;32m1\u001b[0m\n\u001b[1;33m    with = 100\u001b[0m\n\u001b[1;37m         ^\u001b[0m\n\u001b[1;31mSyntaxError\u001b[0m\u001b[1;31m:\u001b[0m invalid syntax\n"
     ]
    }
   ],
   "source": [
    "with = 100\n"
   ]
  },
  {
   "cell_type": "code",
   "execution_count": 40,
   "id": "04e105a9",
   "metadata": {},
   "outputs": [
    {
     "ename": "SyntaxError",
     "evalue": "invalid syntax (<ipython-input-40-6e51f4a8ab02>, line 1)",
     "output_type": "error",
     "traceback": [
      "\u001b[1;36m  File \u001b[1;32m\"<ipython-input-40-6e51f4a8ab02>\"\u001b[1;36m, line \u001b[1;32m1\u001b[0m\n\u001b[1;33m    for = 900\u001b[0m\n\u001b[1;37m        ^\u001b[0m\n\u001b[1;31mSyntaxError\u001b[0m\u001b[1;31m:\u001b[0m invalid syntax\n"
     ]
    }
   ],
   "source": [
    "for = 900"
   ]
  },
  {
   "cell_type": "code",
   "execution_count": null,
   "id": "0c894a88",
   "metadata": {},
   "outputs": [],
   "source": [
    "How many keyword are present in Python?\n",
    "\n",
    "ans : 35 [Oct - 2023]"
   ]
  },
  {
   "cell_type": "code",
   "execution_count": 42,
   "id": "abfc8dd4",
   "metadata": {},
   "outputs": [],
   "source": [
    "elsewith = 100\n"
   ]
  },
  {
   "cell_type": "code",
   "execution_count": 43,
   "id": "b650a874",
   "metadata": {},
   "outputs": [],
   "source": [
    "for1 = 702"
   ]
  },
  {
   "cell_type": "code",
   "execution_count": 44,
   "id": "3ae045ce",
   "metadata": {},
   "outputs": [
    {
     "data": {
      "text/plain": [
       "702"
      ]
     },
     "execution_count": 44,
     "metadata": {},
     "output_type": "execute_result"
    }
   ],
   "source": [
    "for1"
   ]
  },
  {
   "cell_type": "code",
   "execution_count": null,
   "id": "ecf77c39",
   "metadata": {},
   "outputs": [],
   "source": [
    "5.Python is Case Sensetive Lang\n",
    "\n",
    "\n",
    "A\n",
    "\n",
    "a "
   ]
  },
  {
   "cell_type": "code",
   "execution_count": 46,
   "id": "cff94f39",
   "metadata": {},
   "outputs": [],
   "source": [
    "TEST = 100"
   ]
  },
  {
   "cell_type": "code",
   "execution_count": 47,
   "id": "49ed60d1",
   "metadata": {},
   "outputs": [],
   "source": [
    "test = 500"
   ]
  },
  {
   "cell_type": "code",
   "execution_count": 48,
   "id": "86329bbf",
   "metadata": {},
   "outputs": [
    {
     "data": {
      "text/plain": [
       "100"
      ]
     },
     "execution_count": 48,
     "metadata": {},
     "output_type": "execute_result"
    }
   ],
   "source": [
    "TEST"
   ]
  },
  {
   "cell_type": "code",
   "execution_count": 49,
   "id": "c37e1a3e",
   "metadata": {},
   "outputs": [
    {
     "data": {
      "text/plain": [
       "500"
      ]
     },
     "execution_count": 49,
     "metadata": {},
     "output_type": "execute_result"
    }
   ],
   "source": [
    "test"
   ]
  },
  {
   "cell_type": "code",
   "execution_count": null,
   "id": "1ee5be8d",
   "metadata": {},
   "outputs": [],
   "source": [
    "1.allowed char\n",
    "2.never startswith number\n",
    "3.no length limit\n",
    "4.we cannt use keyword as identifiers\n",
    "5.case Sensetive Lang"
   ]
  }
 ],
 "metadata": {
  "kernelspec": {
   "display_name": "Python 3",
   "language": "python",
   "name": "python3"
  },
  "language_info": {
   "codemirror_mode": {
    "name": "ipython",
    "version": 3
   },
   "file_extension": ".py",
   "mimetype": "text/x-python",
   "name": "python",
   "nbconvert_exporter": "python",
   "pygments_lexer": "ipython3",
   "version": "3.8.8"
  }
 },
 "nbformat": 4,
 "nbformat_minor": 5
}
