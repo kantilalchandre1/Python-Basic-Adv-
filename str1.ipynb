{
 "cells": [
  {
   "cell_type": "code",
   "execution_count": null,
   "id": "498415a7",
   "metadata": {},
   "outputs": [],
   "source": [
    "Str:\n",
    "    str is having highest priority among all DS\n",
    "    \n",
    "    it is collection of chars arranged in some meaningfull order\n",
    "    it is immutable type\n",
    "    its zero based index --> \n",
    "    \n",
    "    How to define str?\n",
    "    \n"
   ]
  },
  {
   "cell_type": "code",
   "execution_count": 1,
   "id": "edfc2cce",
   "metadata": {},
   "outputs": [],
   "source": [
    "a = 10\n",
    "b = 20\n",
    "c  =a+b"
   ]
  },
  {
   "cell_type": "code",
   "execution_count": 2,
   "id": "6169b6d1",
   "metadata": {},
   "outputs": [
    {
     "data": {
      "text/plain": [
       "30"
      ]
     },
     "execution_count": 2,
     "metadata": {},
     "output_type": "execute_result"
    }
   ],
   "source": [
    "c"
   ]
  },
  {
   "cell_type": "code",
   "execution_count": null,
   "id": "b2af9c8e",
   "metadata": {},
   "outputs": [],
   "source": [
    "real"
   ]
  },
  {
   "cell_type": "code",
   "execution_count": 3,
   "id": "a561b32c",
   "metadata": {},
   "outputs": [
    {
     "name": "stdout",
     "output_type": "stream",
     "text": [
      "sdfsd\n"
     ]
    },
    {
     "data": {
      "text/plain": [
       "'sdfsd'"
      ]
     },
     "execution_count": 3,
     "metadata": {},
     "output_type": "execute_result"
    }
   ],
   "source": [
    "input()"
   ]
  },
  {
   "cell_type": "code",
   "execution_count": 4,
   "id": "99135d09",
   "metadata": {},
   "outputs": [
    {
     "name": "stdout",
     "output_type": "stream",
     "text": [
      "Enter the number:45\n"
     ]
    }
   ],
   "source": [
    "a = input(\"Enter the number:\")"
   ]
  },
  {
   "cell_type": "code",
   "execution_count": 5,
   "id": "0be506f9",
   "metadata": {},
   "outputs": [
    {
     "data": {
      "text/plain": [
       "'45'"
      ]
     },
     "execution_count": 5,
     "metadata": {},
     "output_type": "execute_result"
    }
   ],
   "source": [
    "a"
   ]
  },
  {
   "cell_type": "code",
   "execution_count": 6,
   "id": "cc2fa181",
   "metadata": {},
   "outputs": [
    {
     "data": {
      "text/plain": [
       "str"
      ]
     },
     "execution_count": 6,
     "metadata": {},
     "output_type": "execute_result"
    }
   ],
   "source": [
    "type(a)"
   ]
  },
  {
   "cell_type": "code",
   "execution_count": 7,
   "id": "c228d96b",
   "metadata": {},
   "outputs": [],
   "source": [
    "a = 'z'"
   ]
  },
  {
   "cell_type": "code",
   "execution_count": 8,
   "id": "80996fcc",
   "metadata": {},
   "outputs": [
    {
     "data": {
      "text/plain": [
       "str"
      ]
     },
     "execution_count": 8,
     "metadata": {},
     "output_type": "execute_result"
    }
   ],
   "source": [
    "type(a)"
   ]
  },
  {
   "cell_type": "code",
   "execution_count": null,
   "id": "4ccdec13",
   "metadata": {},
   "outputs": [],
   "source": [
    "define\n",
    "\n",
    "\n",
    "' '\n",
    "\n",
    "\"  \"\n",
    "\n",
    "'''    '''\n",
    "\n",
    "\"\"\"    \"\"\""
   ]
  },
  {
   "cell_type": "code",
   "execution_count": 9,
   "id": "e63c5c3b",
   "metadata": {},
   "outputs": [],
   "source": [
    "a = 'Python'"
   ]
  },
  {
   "cell_type": "code",
   "execution_count": 10,
   "id": "224cd18b",
   "metadata": {},
   "outputs": [
    {
     "data": {
      "text/plain": [
       "str"
      ]
     },
     "execution_count": 10,
     "metadata": {},
     "output_type": "execute_result"
    }
   ],
   "source": [
    "type(a)"
   ]
  },
  {
   "cell_type": "code",
   "execution_count": 11,
   "id": "3e0d9616",
   "metadata": {},
   "outputs": [],
   "source": [
    "a = \"Python\""
   ]
  },
  {
   "cell_type": "code",
   "execution_count": 12,
   "id": "ce1943c8",
   "metadata": {},
   "outputs": [
    {
     "data": {
      "text/plain": [
       "str"
      ]
     },
     "execution_count": 12,
     "metadata": {},
     "output_type": "execute_result"
    }
   ],
   "source": [
    "type(a)"
   ]
  },
  {
   "cell_type": "code",
   "execution_count": 13,
   "id": "846ed544",
   "metadata": {},
   "outputs": [
    {
     "ename": "SyntaxError",
     "evalue": "invalid syntax (<ipython-input-13-3bc8e2f43240>, line 1)",
     "output_type": "error",
     "traceback": [
      "\u001b[1;36m  File \u001b[1;32m\"<ipython-input-13-3bc8e2f43240>\"\u001b[1;36m, line \u001b[1;32m1\u001b[0m\n\u001b[1;33m    st = 'AI is trending in the market it's also used to testing,stocks even in other domain'\u001b[0m\n\u001b[1;37m                                          ^\u001b[0m\n\u001b[1;31mSyntaxError\u001b[0m\u001b[1;31m:\u001b[0m invalid syntax\n"
     ]
    }
   ],
   "source": [
    "st = 'AI is trending in the market it's also used to testing,stocks even in other domain'"
   ]
  },
  {
   "cell_type": "code",
   "execution_count": 30,
   "id": "6887a90e",
   "metadata": {},
   "outputs": [],
   "source": [
    "#st = \"AI is trending in the market it's also used to testing,stocks even in other domain\""
   ]
  },
  {
   "cell_type": "code",
   "execution_count": 15,
   "id": "036cc4f4",
   "metadata": {},
   "outputs": [
    {
     "data": {
      "text/plain": [
       "\"AI is trending in the market it's also used to testing,stocks even in other domain\""
      ]
     },
     "execution_count": 15,
     "metadata": {},
     "output_type": "execute_result"
    }
   ],
   "source": [
    "st"
   ]
  },
  {
   "cell_type": "code",
   "execution_count": 16,
   "id": "c1d95cd4",
   "metadata": {},
   "outputs": [
    {
     "ename": "SyntaxError",
     "evalue": "invalid syntax (<ipython-input-16-54f05f3a5c5c>, line 1)",
     "output_type": "error",
     "traceback": [
      "\u001b[1;36m  File \u001b[1;32m\"<ipython-input-16-54f05f3a5c5c>\"\u001b[1;36m, line \u001b[1;32m1\u001b[0m\n\u001b[1;33m    st = \"AI is trending in the market \"its\" also used to testing,stocks even in other domain\"\u001b[0m\n\u001b[1;37m                                        ^\u001b[0m\n\u001b[1;31mSyntaxError\u001b[0m\u001b[1;31m:\u001b[0m invalid syntax\n"
     ]
    }
   ],
   "source": [
    "st = \"AI is trending in the market \"its\" also used to testing,stocks even in other domain\""
   ]
  },
  {
   "cell_type": "code",
   "execution_count": 17,
   "id": "84d59fcc",
   "metadata": {},
   "outputs": [],
   "source": [
    "st = 'AI is trending in the market \"its\" also used to testing,stocks even in other domain'"
   ]
  },
  {
   "cell_type": "code",
   "execution_count": 18,
   "id": "97068335",
   "metadata": {},
   "outputs": [
    {
     "data": {
      "text/plain": [
       "'AI is trending in the market \"its\" also used to testing,stocks even in other domain'"
      ]
     },
     "execution_count": 18,
     "metadata": {},
     "output_type": "execute_result"
    }
   ],
   "source": [
    "st"
   ]
  },
  {
   "cell_type": "code",
   "execution_count": 20,
   "id": "8e59fa3e",
   "metadata": {},
   "outputs": [
    {
     "ename": "SyntaxError",
     "evalue": "EOL while scanning string literal (<ipython-input-20-7bef764ea216>, line 1)",
     "output_type": "error",
     "traceback": [
      "\u001b[1;36m  File \u001b[1;32m\"<ipython-input-20-7bef764ea216>\"\u001b[1;36m, line \u001b[1;32m1\u001b[0m\n\u001b[1;33m    py_str = \"You must have seen connecting csv and excel files with pandas to convert them to dataframes.\u001b[0m\n\u001b[1;37m                                                                                                           ^\u001b[0m\n\u001b[1;31mSyntaxError\u001b[0m\u001b[1;31m:\u001b[0m EOL while scanning string literal\n"
     ]
    }
   ],
   "source": [
    "py_str = \"You must have seen connecting csv and excel files with pandas to convert them to dataframes. \n",
    "Here we are going to see how can we connect databases with pandas and convert them to dataframes.\n",
    "We are going to use various types of SQL like SQLite, MySQL, Microsoft SQL Server, Oracle and PostgreSQL.\""
   ]
  },
  {
   "cell_type": "code",
   "execution_count": null,
   "id": "e56f6d8e",
   "metadata": {},
   "outputs": [],
   "source": [
    "' ' and \" \" --  use for single line string"
   ]
  },
  {
   "cell_type": "code",
   "execution_count": 26,
   "id": "5b88f299",
   "metadata": {},
   "outputs": [],
   "source": [
    "py_str = \"\"\"You must have seen connecting csv and excel files with pandas to convert them to dataframes. \n",
    "Here we are going to see how can we connect 'databases' 'with pandas and \"convert \"them to dataframes.\n",
    "We are going to use various types of SQL like SQLite, MySQL, Microsoft SQL Server, Oracle and PostgreSQL.\"\"\""
   ]
  },
  {
   "cell_type": "code",
   "execution_count": 27,
   "id": "c1b5ed98",
   "metadata": {},
   "outputs": [
    {
     "name": "stdout",
     "output_type": "stream",
     "text": [
      "You must have seen connecting csv and excel files with pandas to convert them to dataframes. \n",
      "Here we are going to see how can we connect 'databases' 'with pandas and \"convert \"them to dataframes.\n",
      "We are going to use various types of SQL like SQLite, MySQL, Microsoft SQL Server, Oracle and PostgreSQL.\n"
     ]
    }
   ],
   "source": [
    "print(py_str)"
   ]
  },
  {
   "cell_type": "code",
   "execution_count": 24,
   "id": "c1649842",
   "metadata": {},
   "outputs": [],
   "source": [
    "py_str = '''You must have seen connecting csv and excel files with pandas to convert them to dataframes. \n",
    "Here we are going to see how can we connect databases with pandas and convert them to dataframes.\n",
    "We are going to use various types of SQL like SQLite, MySQL, Microsoft SQL Server, Oracle and PostgreSQL.'''"
   ]
  },
  {
   "cell_type": "code",
   "execution_count": 25,
   "id": "a145be47",
   "metadata": {},
   "outputs": [
    {
     "name": "stdout",
     "output_type": "stream",
     "text": [
      "You must have seen connecting csv and excel files with pandas to convert them to dataframes. \n",
      "Here we are going to see how can we connect databases with pandas and convert them to dataframes.\n",
      "We are going to use various types of SQL like SQLite, MySQL, Microsoft SQL Server, Oracle and PostgreSQL.\n"
     ]
    }
   ],
   "source": [
    "print(py_str)"
   ]
  },
  {
   "cell_type": "code",
   "execution_count": null,
   "id": "ef45a3a7",
   "metadata": {},
   "outputs": [],
   "source": [
    "' ' and \" \" --  use for single line string\n",
    "\"\"\"  \"\"\" and '''  ''' use"
   ]
  },
  {
   "cell_type": "code",
   "execution_count": null,
   "id": "02b421b4",
   "metadata": {},
   "outputs": [],
   "source": [
    "\n",
    "'''\n",
    "this srcipt use data from xyz source\n",
    "process data and dump into database\n",
    "\n",
    "'''\n",
    "\n",
    "#dfasdf"
   ]
  },
  {
   "cell_type": "code",
   "execution_count": null,
   "id": "86eebaca",
   "metadata": {},
   "outputs": [],
   "source": [
    "# use for single line"
   ]
  },
  {
   "cell_type": "code",
   "execution_count": null,
   "id": "814b8af4",
   "metadata": {},
   "outputs": [],
   "source": [
    "\"\"\"\n",
    "sdafsdafsadfsdafsda\n",
    "fsad\n",
    "fs\n",
    "adg\n",
    "sadg\n",
    "asdfg\n",
    "afsd\n",
    "gfasd\n",
    "fasdg\n",
    "fasd\n",
    "\"\"\"\n"
   ]
  },
  {
   "cell_type": "code",
   "execution_count": null,
   "id": "52c4137d",
   "metadata": {},
   "outputs": [],
   "source": [
    "Operation on str:"
   ]
  },
  {
   "cell_type": "code",
   "execution_count": 31,
   "id": "6d71a333",
   "metadata": {},
   "outputs": [],
   "source": [
    "p = 'Python'"
   ]
  },
  {
   "cell_type": "code",
   "execution_count": 32,
   "id": "1c3404af",
   "metadata": {},
   "outputs": [
    {
     "data": {
      "text/plain": [
       "'PYTHON'"
      ]
     },
     "execution_count": 32,
     "metadata": {},
     "output_type": "execute_result"
    }
   ],
   "source": [
    "p.upper()"
   ]
  },
  {
   "cell_type": "code",
   "execution_count": 33,
   "id": "3b17f2ac",
   "metadata": {},
   "outputs": [],
   "source": [
    "p = 'HADOOP'"
   ]
  },
  {
   "cell_type": "code",
   "execution_count": 34,
   "id": "3d34a867",
   "metadata": {},
   "outputs": [
    {
     "data": {
      "text/plain": [
       "'hadoop'"
      ]
     },
     "execution_count": 34,
     "metadata": {},
     "output_type": "execute_result"
    }
   ],
   "source": [
    "p.lower()"
   ]
  },
  {
   "cell_type": "code",
   "execution_count": 35,
   "id": "30a2bc56",
   "metadata": {},
   "outputs": [
    {
     "data": {
      "text/plain": [
       "'HADOOP'"
      ]
     },
     "execution_count": 35,
     "metadata": {},
     "output_type": "execute_result"
    }
   ],
   "source": [
    "p"
   ]
  },
  {
   "cell_type": "code",
   "execution_count": 47,
   "id": "b35c7789",
   "metadata": {},
   "outputs": [
    {
     "name": "stdout",
     "output_type": "stream",
     "text": [
      "Enter the username:Admin\n",
      "Logged in.....\n"
     ]
    }
   ],
   "source": [
    "username = 'Admin'\n",
    "u = input(\"Enter the username:\")\n",
    "\n",
    "if username==u.capitalize():\n",
    "    print(\"Logged in.....\")\n",
    "else:\n",
    "    print(\"Please check username\")"
   ]
  },
  {
   "cell_type": "code",
   "execution_count": 48,
   "id": "7d47b18a",
   "metadata": {},
   "outputs": [
    {
     "data": {
      "text/plain": [
       "'Admin'"
      ]
     },
     "execution_count": 48,
     "metadata": {},
     "output_type": "execute_result"
    }
   ],
   "source": [
    "username"
   ]
  },
  {
   "cell_type": "code",
   "execution_count": 49,
   "id": "5d825e38",
   "metadata": {},
   "outputs": [],
   "source": [
    "a = 'python'"
   ]
  },
  {
   "cell_type": "code",
   "execution_count": 50,
   "id": "1eff3f5a",
   "metadata": {},
   "outputs": [
    {
     "data": {
      "text/plain": [
       "'Python'"
      ]
     },
     "execution_count": 50,
     "metadata": {},
     "output_type": "execute_result"
    }
   ],
   "source": [
    "a.capitalize()"
   ]
  },
  {
   "cell_type": "code",
   "execution_count": 51,
   "id": "699aa826",
   "metadata": {},
   "outputs": [],
   "source": [
    "p = 'PythOn'"
   ]
  },
  {
   "cell_type": "code",
   "execution_count": 52,
   "id": "b9bb81ac",
   "metadata": {},
   "outputs": [
    {
     "data": {
      "text/plain": [
       "'pYTHoN'"
      ]
     },
     "execution_count": 52,
     "metadata": {},
     "output_type": "execute_result"
    }
   ],
   "source": [
    "p.swapcase()"
   ]
  },
  {
   "cell_type": "code",
   "execution_count": 53,
   "id": "3c17d02e",
   "metadata": {},
   "outputs": [
    {
     "data": {
      "text/plain": [
       "'PythOn'"
      ]
     },
     "execution_count": 53,
     "metadata": {},
     "output_type": "execute_result"
    }
   ],
   "source": [
    "p"
   ]
  },
  {
   "cell_type": "code",
   "execution_count": 54,
   "id": "918e5530",
   "metadata": {},
   "outputs": [
    {
     "data": {
      "text/plain": [
       "'PYTHON'"
      ]
     },
     "execution_count": 54,
     "metadata": {},
     "output_type": "execute_result"
    }
   ],
   "source": [
    "p.upper()"
   ]
  },
  {
   "cell_type": "code",
   "execution_count": 57,
   "id": "5d4dfe9b",
   "metadata": {},
   "outputs": [
    {
     "data": {
      "text/plain": [
       "'python'"
      ]
     },
     "execution_count": 57,
     "metadata": {},
     "output_type": "execute_result"
    }
   ],
   "source": [
    "p.lower()"
   ]
  },
  {
   "cell_type": "code",
   "execution_count": 58,
   "id": "ba88f1d6",
   "metadata": {},
   "outputs": [
    {
     "data": {
      "text/plain": [
       "'PythOn'"
      ]
     },
     "execution_count": 58,
     "metadata": {},
     "output_type": "execute_result"
    }
   ],
   "source": [
    "p"
   ]
  },
  {
   "cell_type": "code",
   "execution_count": 59,
   "id": "6f6c48e6",
   "metadata": {},
   "outputs": [
    {
     "data": {
      "text/plain": [
       "'Python'"
      ]
     },
     "execution_count": 59,
     "metadata": {},
     "output_type": "execute_result"
    }
   ],
   "source": [
    "p.capitalize()"
   ]
  },
  {
   "cell_type": "code",
   "execution_count": 61,
   "id": "1f6814b5",
   "metadata": {},
   "outputs": [],
   "source": [
    "p = 'the ml model'"
   ]
  },
  {
   "cell_type": "code",
   "execution_count": 62,
   "id": "41d6c940",
   "metadata": {},
   "outputs": [
    {
     "data": {
      "text/plain": [
       "'The ml model'"
      ]
     },
     "execution_count": 62,
     "metadata": {},
     "output_type": "execute_result"
    }
   ],
   "source": [
    "p.capitalize()"
   ]
  },
  {
   "cell_type": "code",
   "execution_count": 63,
   "id": "bbbfa818",
   "metadata": {},
   "outputs": [
    {
     "data": {
      "text/plain": [
       "'The Ml Model'"
      ]
     },
     "execution_count": 63,
     "metadata": {},
     "output_type": "execute_result"
    }
   ],
   "source": [
    "p.title()"
   ]
  },
  {
   "cell_type": "code",
   "execution_count": null,
   "id": "a2cfc62e",
   "metadata": {},
   "outputs": [],
   "source": [
    "startswith \n",
    "endswith"
   ]
  },
  {
   "cell_type": "code",
   "execution_count": null,
   "id": "52f40004",
   "metadata": {},
   "outputs": [],
   "source": [
    "startswith(\"sdf\")"
   ]
  },
  {
   "cell_type": "code",
   "execution_count": 64,
   "id": "6c3f05ed",
   "metadata": {},
   "outputs": [],
   "source": [
    "p = 'copper meterial'"
   ]
  },
  {
   "cell_type": "code",
   "execution_count": 66,
   "id": "9754b052",
   "metadata": {},
   "outputs": [
    {
     "data": {
      "text/plain": [
       "True"
      ]
     },
     "execution_count": 66,
     "metadata": {},
     "output_type": "execute_result"
    }
   ],
   "source": [
    "p.startswith('copper')"
   ]
  },
  {
   "cell_type": "code",
   "execution_count": 67,
   "id": "6513c284",
   "metadata": {},
   "outputs": [],
   "source": [
    "filename = 'gold.pdf'"
   ]
  },
  {
   "cell_type": "code",
   "execution_count": 69,
   "id": "572ae4a8",
   "metadata": {},
   "outputs": [
    {
     "data": {
      "text/plain": [
       "False"
      ]
     },
     "execution_count": 69,
     "metadata": {},
     "output_type": "execute_result"
    }
   ],
   "source": [
    "filename.startswith('Gold')"
   ]
  },
  {
   "cell_type": "code",
   "execution_count": 70,
   "id": "bae00835",
   "metadata": {},
   "outputs": [],
   "source": [
    "email = 'test@gmail.com'"
   ]
  },
  {
   "cell_type": "code",
   "execution_count": 71,
   "id": "7b44544c",
   "metadata": {},
   "outputs": [],
   "source": [
    "product = ['C54654654','P456546','C7567567']"
   ]
  },
  {
   "cell_type": "code",
   "execution_count": 72,
   "id": "700692c7",
   "metadata": {},
   "outputs": [
    {
     "data": {
      "text/plain": [
       "'test@gmail.com'"
      ]
     },
     "execution_count": 72,
     "metadata": {},
     "output_type": "execute_result"
    }
   ],
   "source": [
    "email\n"
   ]
  },
  {
   "cell_type": "code",
   "execution_count": 75,
   "id": "ac7a192d",
   "metadata": {},
   "outputs": [
    {
     "data": {
      "text/plain": [
       "True"
      ]
     },
     "execution_count": 75,
     "metadata": {},
     "output_type": "execute_result"
    }
   ],
   "source": [
    "email.endswith('com')"
   ]
  },
  {
   "cell_type": "code",
   "execution_count": 76,
   "id": "f1d9b5ae",
   "metadata": {},
   "outputs": [],
   "source": [
    "p = ['gold sdalfknsadlfknsd','sadfsdf gold sadfsdf','dfasdf gold']"
   ]
  },
  {
   "cell_type": "code",
   "execution_count": 78,
   "id": "e07f546a",
   "metadata": {},
   "outputs": [],
   "source": [
    "s1 = 'gold sdalfknsadlfknsd'"
   ]
  },
  {
   "cell_type": "code",
   "execution_count": 79,
   "id": "cd1375ce",
   "metadata": {},
   "outputs": [
    {
     "data": {
      "text/plain": [
       "True"
      ]
     },
     "execution_count": 79,
     "metadata": {},
     "output_type": "execute_result"
    }
   ],
   "source": [
    "'gold' in s1"
   ]
  },
  {
   "cell_type": "code",
   "execution_count": 80,
   "id": "4a380b47",
   "metadata": {},
   "outputs": [
    {
     "data": {
      "text/plain": [
       "True"
      ]
     },
     "execution_count": 80,
     "metadata": {},
     "output_type": "execute_result"
    }
   ],
   "source": [
    "'gold' in 'sadfsdf gold sadfsdf' "
   ]
  },
  {
   "cell_type": "code",
   "execution_count": null,
   "id": "cd3f757a",
   "metadata": {},
   "outputs": [],
   "source": [
    "file read gold --> \n",
    "\n",
    "file contact \n",
    "email\n",
    "\n",
    "pincode\n",
    "\n",
    "file --> contact --> file "
   ]
  },
  {
   "cell_type": "code",
   "execution_count": 81,
   "id": "d8ac80e4",
   "metadata": {},
   "outputs": [],
   "source": [
    "p = 'Jon janny  janardhan'"
   ]
  },
  {
   "cell_type": "code",
   "execution_count": 83,
   "id": "21b2546b",
   "metadata": {},
   "outputs": [
    {
     "data": {
      "text/plain": [
       "True"
      ]
     },
     "execution_count": 83,
     "metadata": {},
     "output_type": "execute_result"
    }
   ],
   "source": [
    "p.startswith('Jon')"
   ]
  },
  {
   "cell_type": "code",
   "execution_count": null,
   "id": "0a33a44c",
   "metadata": {},
   "outputs": [],
   "source": []
  },
  {
   "cell_type": "code",
   "execution_count": null,
   "id": "40aa4569",
   "metadata": {},
   "outputs": [],
   "source": []
  },
  {
   "cell_type": "code",
   "execution_count": null,
   "id": "e281b125",
   "metadata": {},
   "outputs": [],
   "source": []
  },
  {
   "cell_type": "code",
   "execution_count": null,
   "id": "11c4803e",
   "metadata": {},
   "outputs": [],
   "source": []
  },
  {
   "cell_type": "code",
   "execution_count": null,
   "id": "3ad1d3d4",
   "metadata": {},
   "outputs": [],
   "source": []
  },
  {
   "cell_type": "code",
   "execution_count": null,
   "id": "41754f8a",
   "metadata": {},
   "outputs": [],
   "source": []
  },
  {
   "cell_type": "code",
   "execution_count": null,
   "id": "a4e15620",
   "metadata": {},
   "outputs": [],
   "source": []
  },
  {
   "cell_type": "code",
   "execution_count": null,
   "id": "7c88b024",
   "metadata": {},
   "outputs": [],
   "source": []
  }
 ],
 "metadata": {
  "kernelspec": {
   "display_name": "Python 3",
   "language": "python",
   "name": "python3"
  },
  "language_info": {
   "codemirror_mode": {
    "name": "ipython",
    "version": 3
   },
   "file_extension": ".py",
   "mimetype": "text/x-python",
   "name": "python",
   "nbconvert_exporter": "python",
   "pygments_lexer": "ipython3",
   "version": "3.8.8"
  }
 },
 "nbformat": 4,
 "nbformat_minor": 5
}
