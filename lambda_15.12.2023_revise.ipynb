{
 "cells": [
  {
   "cell_type": "code",
   "execution_count": 1,
   "id": "8bb38240",
   "metadata": {},
   "outputs": [],
   "source": [
    "gen = ['m','f','f','f','m','m','dsfsdf','m','f']"
   ]
  },
  {
   "cell_type": "code",
   "execution_count": null,
   "id": "f2ec9320",
   "metadata": {},
   "outputs": [],
   "source": [
    "ML - data  - encode with number \n",
    "\n",
    "m - 1\n",
    "\n",
    "f  - 0 \n",
    "\n",
    "other -  2"
   ]
  },
  {
   "cell_type": "code",
   "execution_count": 7,
   "id": "a2059b93",
   "metadata": {},
   "outputs": [],
   "source": [
    "def encode(v):\n",
    "    if v=='m':\n",
    "        return 1\n",
    "    elif v=='f':\n",
    "        return 0\n",
    "    else:\n",
    "        return 2"
   ]
  },
  {
   "cell_type": "code",
   "execution_count": 4,
   "id": "f243b7f1",
   "metadata": {},
   "outputs": [
    {
     "data": {
      "text/plain": [
       "0"
      ]
     },
     "execution_count": 4,
     "metadata": {},
     "output_type": "execute_result"
    }
   ],
   "source": [
    "encode('f')"
   ]
  },
  {
   "cell_type": "code",
   "execution_count": 5,
   "id": "d6a331dd",
   "metadata": {},
   "outputs": [],
   "source": [
    "gen = ['m','f','f','f','m','m','dsfsdf','m','f']\n",
    "\n",
    "encode = []\n",
    "\n",
    "for i in gen:\n",
    "    if i=='m':\n",
    "        encode.append(1)\n",
    "    elif i=='f':\n",
    "        encode.append(0)\n",
    "    else:\n",
    "        encode.append(2)"
   ]
  },
  {
   "cell_type": "code",
   "execution_count": 6,
   "id": "a7c2945e",
   "metadata": {},
   "outputs": [
    {
     "data": {
      "text/plain": [
       "[1, 0, 0, 0, 1, 1, 2, 1, 0]"
      ]
     },
     "execution_count": 6,
     "metadata": {},
     "output_type": "execute_result"
    }
   ],
   "source": [
    "encode"
   ]
  },
  {
   "cell_type": "code",
   "execution_count": 8,
   "id": "a101f9b8",
   "metadata": {},
   "outputs": [
    {
     "data": {
      "text/plain": [
       "[1, 0, 0, 0, 1, 1, 2, 1, 0]"
      ]
     },
     "execution_count": 8,
     "metadata": {},
     "output_type": "execute_result"
    }
   ],
   "source": [
    "list(map(encode,gen))"
   ]
  },
  {
   "cell_type": "code",
   "execution_count": 11,
   "id": "e546692a",
   "metadata": {},
   "outputs": [
    {
     "data": {
      "text/plain": [
       "[1, 0, 0, 0, 1, 1, 2, 1, 0]"
      ]
     },
     "execution_count": 11,
     "metadata": {},
     "output_type": "execute_result"
    }
   ],
   "source": [
    "list(map(lambda x : 1 if x=='m' else 0 if x=='f' else 2,gen))"
   ]
  },
  {
   "cell_type": "code",
   "execution_count": null,
   "id": "0c5f89e8",
   "metadata": {},
   "outputs": [],
   "source": [
    "if x=='m':\n",
    "     1\n",
    "else :    \n",
    "     if x=='f':\n",
    "        0\n",
    "        \n",
    "    else:\n",
    "        2"
   ]
  },
  {
   "cell_type": "code",
   "execution_count": 13,
   "id": "28de0e81",
   "metadata": {},
   "outputs": [
    {
     "data": {
      "text/plain": [
       "[1, 0, 0, 0, 1, 1, 2, 1, 0]"
      ]
     },
     "execution_count": 13,
     "metadata": {},
     "output_type": "execute_result"
    }
   ],
   "source": [
    "list(map(encode,gen))"
   ]
  },
  {
   "cell_type": "code",
   "execution_count": 22,
   "id": "3eb757fc",
   "metadata": {},
   "outputs": [],
   "source": [
    "gen = ['asdfsdfsadfsdafsadf','m','Female','female','f','male','MALE','dsfsdf','m','F','asdfsdaf','asdfsadf']"
   ]
  },
  {
   "cell_type": "code",
   "execution_count": 23,
   "id": "855b0a9f",
   "metadata": {},
   "outputs": [
    {
     "data": {
      "text/plain": [
       "[2, 1, 0, 0, 0, 1, 1, 2, 1, 0, 2, 2]"
      ]
     },
     "execution_count": 23,
     "metadata": {},
     "output_type": "execute_result"
    }
   ],
   "source": [
    "list(map(lambda x : 1 if x.lower()=='m' or x.lower()=='male' else 0 if x.lower()=='f' or x.lower()=='female' else 2,gen))"
   ]
  },
  {
   "cell_type": "code",
   "execution_count": null,
   "id": "1dcbd84a",
   "metadata": {},
   "outputs": [],
   "source": [
    "filter :\n",
    "    condition --> elements get filter\n",
    "    \n",
    "    input list/tuple/set  != output list "
   ]
  },
  {
   "cell_type": "code",
   "execution_count": 25,
   "id": "2325a41c",
   "metadata": {},
   "outputs": [],
   "source": [
    "files = ['test.csv','python.pdf','java.xlsx','hadoop.pdf']"
   ]
  },
  {
   "cell_type": "code",
   "execution_count": 26,
   "id": "9c386973",
   "metadata": {},
   "outputs": [
    {
     "data": {
      "text/plain": [
       "['python.pdf', 'hadoop.pdf']"
      ]
     },
     "execution_count": 26,
     "metadata": {},
     "output_type": "execute_result"
    }
   ],
   "source": [
    "list(filter(lambda x: x.endswith('.pdf'),files))"
   ]
  },
  {
   "cell_type": "code",
   "execution_count": 27,
   "id": "a73c5a60",
   "metadata": {},
   "outputs": [],
   "source": [
    "import os"
   ]
  },
  {
   "cell_type": "code",
   "execution_count": 40,
   "id": "f414bca9",
   "metadata": {},
   "outputs": [
    {
     "data": {
      "text/plain": [
       "['pandas-db connection.pdf',\n",
       " 'passskey.pem',\n",
       " 'private ip range.png',\n",
       " 'python 46.txt',\n",
       " 'pythonProject']"
      ]
     },
     "execution_count": 40,
     "metadata": {},
     "output_type": "execute_result"
    }
   ],
   "source": [
    "list(filter(lambda x : x.startswith('p'),os.listdir(r'C:\\Users\\A I\\Desktop')))"
   ]
  },
  {
   "cell_type": "code",
   "execution_count": null,
   "id": "71bbce8e",
   "metadata": {},
   "outputs": [],
   "source": [
    "reduce -- > sum\n",
    "count"
   ]
  },
  {
   "cell_type": "code",
   "execution_count": 51,
   "id": "12c01e34",
   "metadata": {},
   "outputs": [],
   "source": [
    "p = [45,8,4,5,866,587]"
   ]
  },
  {
   "cell_type": "code",
   "execution_count": 52,
   "id": "e9983c37",
   "metadata": {},
   "outputs": [
    {
     "data": {
      "text/plain": [
       "866"
      ]
     },
     "execution_count": 52,
     "metadata": {},
     "output_type": "execute_result"
    }
   ],
   "source": [
    "max(p)"
   ]
  },
  {
   "cell_type": "code",
   "execution_count": 53,
   "id": "f29405b9",
   "metadata": {},
   "outputs": [
    {
     "data": {
      "text/plain": [
       "4"
      ]
     },
     "execution_count": 53,
     "metadata": {},
     "output_type": "execute_result"
    }
   ],
   "source": [
    "min(p)"
   ]
  },
  {
   "cell_type": "code",
   "execution_count": 54,
   "id": "122c2231",
   "metadata": {},
   "outputs": [
    {
     "data": {
      "text/plain": [
       "1515"
      ]
     },
     "execution_count": 54,
     "metadata": {},
     "output_type": "execute_result"
    }
   ],
   "source": [
    "sum(p)"
   ]
  },
  {
   "cell_type": "code",
   "execution_count": null,
   "id": "a50648a8",
   "metadata": {},
   "outputs": [],
   "source": []
  }
 ],
 "metadata": {
  "kernelspec": {
   "display_name": "Python 3",
   "language": "python",
   "name": "python3"
  },
  "language_info": {
   "codemirror_mode": {
    "name": "ipython",
    "version": 3
   },
   "file_extension": ".py",
   "mimetype": "text/x-python",
   "name": "python",
   "nbconvert_exporter": "python",
   "pygments_lexer": "ipython3",
   "version": "3.8.8"
  }
 },
 "nbformat": 4,
 "nbformat_minor": 5
}
